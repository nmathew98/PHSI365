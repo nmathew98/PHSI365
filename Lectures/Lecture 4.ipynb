{
 "cells": [
  {
   "cell_type": "markdown",
   "metadata": {},
   "source": [
    "<img src=\"resources/physicsOtago.png\" width=\"600\">\n",
    "\n",
    "$$\n",
    "\\def\\julia{\\texttt{julia}}\n",
    "\\def\\dashint{{\\int\\!\\!\\!\\!\\!\\!-\\,}}\n",
    "\\def\\infdashint{\\dashint_{\\!\\!\\!-\\infty}^{\\,\\infty}}\n",
    "\\def\\D{\\,{\\rm d}}\n",
    "\\def\\E{{\\rm e}}\n",
    "\\def\\dx{\\D x}\n",
    "\\def\\dt{\\D t}\n",
    "\\def\\dz{\\D z}\n",
    "\\def\\C{{\\mathbb C}}\n",
    "\\def\\R{{\\mathbb R}}\n",
    "\\def\\CC{{\\cal C}}\n",
    "\\def\\HH{{\\cal H}}\n",
    "\\def\\I{{\\rm i}}\n",
    "\\def\\Res_#1{\\underset{#1}{\\rm Res}}\\,\n",
    "\\def\\sech{{\\rm sech}\\,}\n",
    "\\def\\vc#1{{\\mathbf #1}}\n",
    "\\def\\qq{\\qquad\\qquad}\n",
    "\\def\\qfor{\\qquad\\hbox{for}\\qquad}\n",
    "\\def\\qwhere{\\qquad\\hbox{where}\\qquad}\n",
    "\\def\\ale#1{\\begin{align}#1\\end{align}}\n",
    "\\def\\em{\\epsilon_m}\n",
    "\\def\\unit#1{{\\rm #1}}\n",
    "$$\n",
    "\n",
    "# PHSI 365: Computational Physics <img align=\"right\" src=\"resources/tmp.gif\" width=\"400\" height=\"400\">\n",
    "\n",
    "University of Otago, 2020\n",
    "\n",
    "Dr. Ashton Bradley (Coordinator)\n",
    "<br>\n",
    "ashton.bradley@otago.ac.nz\n",
    "<br>\n",
    "\n",
    "_Image made with_ [Plots.jl](http://docs.juliaplots.org/latest/)"
   ]
  },
  {
   "cell_type": "markdown",
   "metadata": {
    "toc-hr-collapsed": true
   },
   "source": [
    "# Sources of numerical error\n",
    "It is important to understand the difference between **numerical precision**, and the **accuracy** of a calculation. The first concept we require is the notion of floating point arithmetic. \n",
    "\n",
    "We have three primary classes of error:\n",
    "\n",
    "<div class=\"alert alert-block alert-warning\">\n",
    "<font color=blue>\n",
    "    \n",
    "- Representation error $\\longleftrightarrow$ round off\n",
    "\n",
    "- Truncation error $\\longleftrightarrow$ accuracy\n",
    "    \n",
    "- Range error \n",
    "    </div>\n",
    "</font>\n",
    "\n",
    "The first is intrinsic to doing calculations with computers. \n",
    "\n",
    "The second comes from lazy (by which I mean we need a finite answer in a finite time!) humans writing code. \n",
    "\n",
    "The third comes from ambitious humans with writing code on computers. It might be helpful to think of range error as a special case of representation error."
   ]
  },
  {
   "cell_type": "markdown",
   "metadata": {
    "toc-hr-collapsed": true
   },
   "source": [
    "## Representation error (round off)"
   ]
  },
  {
   "cell_type": "markdown",
   "metadata": {},
   "source": [
    "### Floating point\n",
    "To represent numbers on a computer, there has to be a tradeoff between precision (an infinite sequence of digits), and speed: a greater numerical precision for a number then means that calculations take longer. The floating point number system provides means to make these tradeoffs.\n",
    "\n",
    "**Floating point number**\n",
    "\n",
    "A general floating point number has the form\n",
    "<div class=\"alert alert-block alert-warning\">\n",
    "<font color=blue>\n",
    "$$\n",
    "\\ale{\n",
    "s\\times M\\times B^{e-E}\n",
    "}\n",
    "$$\n",
    "</div>\n",
    "</font>\n",
    "where \n",
    "- $s$: sign\n",
    "- $M$: mantissa\n",
    "- $B$: base\n",
    "- $e$: exponent\n",
    "- $E$: bias\n",
    "\n",
    "and $M, B, e$ are all exact integers.\n",
    "\n",
    "E.g.: representation of the number 3 as a 32-bit float:\n",
    "\n",
    "$$\\ale{\n",
    "3 = \\underbrace{\\{0\\}}_\\textrm{sign}\\underbrace{\\{10000000000000000000000\\}}_\\textrm{mantissa}\\underbrace{\\{10000000\\}}_\\textrm{base}\n",
    "}$$\n",
    "\n",
    "where the terms are the *sign* (1 bit), *mantissa* (23 bits), and *base* (8 bits), respectively. Check out the conversion on [binaryconvert](http://www.binaryconvert.com/)."
   ]
  },
  {
   "cell_type": "markdown",
   "metadata": {},
   "source": [
    "### Representation\n",
    "Clearly it is not possible to give precise and fast representations of all numbers. \n",
    "- Arithmetic, even between exactly represented numbers, is not exact.\n",
    "- E.g. addition $1+5\\times 10^{-6}$ \n",
    "    - change exponents until the are the same\n",
    "    \n",
    "    $$ 1000000\\times 10^{-6}+5\\times 10^{-6}$$\n",
    "    \n",
    "    - add mantissa\n",
    "    \n",
    "In `julia`, there are several distinct numerical representations available, and we have already seen examples of some of them. "
   ]
  },
  {
   "cell_type": "markdown",
   "metadata": {},
   "source": [
    "### Float32: single-precision\n",
    "Often used in less scientific applications - e.g. graphics. Many GPUs operate exclusively on `Float32` numbers. It's faster, but obviously also less precise. `Float32` is also known as __single precision__, the reason why `Float32` involves 32 bits.\n",
    "\n",
    "Single precision refers to the fact that a single \"word\" of the 32-bit file system is a 32-bit word, taking up 32/8 = 4 bytes (8 bits per byte!). "
   ]
  },
  {
   "cell_type": "code",
   "execution_count": 14,
   "metadata": {},
   "outputs": [
    {
     "data": {
      "text/plain": [
       "4"
      ]
     },
     "execution_count": 14,
     "metadata": {},
     "output_type": "execute_result"
    }
   ],
   "source": [
    "randn() |> Float32 |> sizeof # size of the memory usage in bytes"
   ]
  },
  {
   "cell_type": "markdown",
   "metadata": {},
   "source": [
    "### Float64: double-precision\n",
    "\n",
    "Since the move to 64-bit file systems, a \"word\" of data now uses 64 bits, or 8 bytes. Thus double precision refers to the size of a `Float64` in units of the `Float32` word size.\n",
    "\n",
    "The most common computer representation of floating point numbers for scientific use is the `Float64` number format, or __double precision__. \n",
    "\n",
    "For example, on a 64-bit machine a complex number in `Float64` (double) representation takes up $2\\times 64=128$ bits $ = 16$ bytes = (number of `Float64`)*8."
   ]
  },
  {
   "cell_type": "code",
   "execution_count": 15,
   "metadata": {},
   "outputs": [
    {
     "data": {
      "text/plain": [
       "2.1444893932334255"
      ]
     },
     "execution_count": 15,
     "metadata": {},
     "output_type": "execute_result"
    }
   ],
   "source": [
    "x=randn() "
   ]
  },
  {
   "cell_type": "code",
   "execution_count": 16,
   "metadata": {},
   "outputs": [
    {
     "data": {
      "text/plain": [
       "8"
      ]
     },
     "execution_count": 16,
     "metadata": {},
     "output_type": "execute_result"
    }
   ],
   "source": [
    "sizeof(x)"
   ]
  },
  {
   "cell_type": "markdown",
   "metadata": {},
   "source": [
    "How much memory does a $512\\times512$ complex Float64 array require?"
   ]
  },
  {
   "cell_type": "code",
   "execution_count": 17,
   "metadata": {},
   "outputs": [
    {
     "data": {
      "text/plain": [
       "1.3066082005966781 + 0.9817705523022342im"
      ]
     },
     "execution_count": 17,
     "metadata": {},
     "output_type": "execute_result"
    }
   ],
   "source": [
    "B=randn()+im*randn() # for one Complex{Float64}"
   ]
  },
  {
   "cell_type": "code",
   "execution_count": 18,
   "metadata": {},
   "outputs": [
    {
     "data": {
      "text/plain": [
       "16"
      ]
     },
     "execution_count": 18,
     "metadata": {},
     "output_type": "execute_result"
    }
   ],
   "source": [
    "sizeof(B)"
   ]
  },
  {
   "cell_type": "markdown",
   "metadata": {},
   "source": [
    "Let's assign somem memory for an empty array, and see how much it requires:"
   ]
  },
  {
   "cell_type": "code",
   "execution_count": 19,
   "metadata": {},
   "outputs": [
    {
     "data": {
      "text/plain": [
       "4194304"
      ]
     },
     "execution_count": 19,
     "metadata": {},
     "output_type": "execute_result"
    }
   ],
   "source": [
    "A=Array{Complex{Float64},2}(undef,512,512)\n",
    "sizeof(A)"
   ]
  },
  {
   "cell_type": "markdown",
   "metadata": {},
   "source": [
    "Check:"
   ]
  },
  {
   "cell_type": "code",
   "execution_count": 20,
   "metadata": {},
   "outputs": [
    {
     "data": {
      "text/plain": [
       "4194304"
      ]
     },
     "execution_count": 20,
     "metadata": {},
     "output_type": "execute_result"
    }
   ],
   "source": [
    "512^2*2*8"
   ]
  },
  {
   "cell_type": "markdown",
   "metadata": {},
   "source": [
    "Biggest 3D complex array that could fit into 1GB memory SIM? "
   ]
  },
  {
   "cell_type": "code",
   "execution_count": 21,
   "metadata": {},
   "outputs": [
    {
     "data": {
      "text/plain": [
       "1073741824"
      ]
     },
     "execution_count": 21,
     "metadata": {},
     "output_type": "execute_result"
    }
   ],
   "source": [
    "512*512*256*2*8 # not quite!"
   ]
  },
  {
   "cell_type": "code",
   "execution_count": 22,
   "metadata": {},
   "outputs": [
    {
     "data": {
      "text/plain": [
       "1073741824"
      ]
     },
     "execution_count": 22,
     "metadata": {},
     "output_type": "execute_result"
    }
   ],
   "source": [
    "A=Array{Complex{Float64},3}(undef,512,512,256)\n",
    "sizeof(A)"
   ]
  },
  {
   "cell_type": "markdown",
   "metadata": {},
   "source": [
    "In practice your computer would like to have some memory to work with, so this is an upper bound for such a machine."
   ]
  },
  {
   "cell_type": "markdown",
   "metadata": {},
   "source": [
    "### Machine precision $\\epsilon_m$\n",
    "- Smallest floating point number that may be added to 1.0 to give a result distinct from 1.0 (try it!)\n",
    "- `~1e-7` for 32 bit words (single precision).\n",
    "- `~2e-16` for 64 bit words (double precision).\n",
    "\n",
    "Roughly, machine precision $\\epsilon_m$ is the _relative accuracy_ with which floating point numbers can be represented. \n",
    "\n",
    "Any arithmetic operation on floating point numbers incurs additional fractional error of at least $\\epsilon_m$, called **round off error**."
   ]
  },
  {
   "cell_type": "code",
   "execution_count": 23,
   "metadata": {},
   "outputs": [
    {
     "data": {
      "text/plain": [
       "eps (generic function with 13 methods)"
      ]
     },
     "execution_count": 23,
     "metadata": {},
     "output_type": "execute_result"
    }
   ],
   "source": [
    "eps # unlike Matlab, eps is a function"
   ]
  },
  {
   "cell_type": "code",
   "execution_count": 24,
   "metadata": {},
   "outputs": [
    {
     "data": {
      "text/plain": [
       "2.220446049250313e-16"
      ]
     },
     "execution_count": 24,
     "metadata": {},
     "output_type": "execute_result"
    }
   ],
   "source": [
    "eps()"
   ]
  },
  {
   "cell_type": "code",
   "execution_count": 25,
   "metadata": {},
   "outputs": [
    {
     "data": {
      "text/plain": [
       "(1.1920929f-7, 2.220446049250313e-16)"
      ]
     },
     "execution_count": 25,
     "metadata": {},
     "output_type": "execute_result"
    }
   ],
   "source": [
    "eps(Float32),eps(Float64) # eps() = eps(Float64) is default"
   ]
  },
  {
   "cell_type": "markdown",
   "metadata": {},
   "source": [
    "### IEEE Arithmetic\n",
    "The international standard. Uses 64 bit words (Float64), and hence $\\epsilon_m=$ `2.220446049250313e-16`. 11 bits for exponent.\n",
    "\n",
    " What are the smallest and largest numbers that can be represented in double precision (Float64)? Let's use `Float32` as a comparison. Some useful methods\n",
    " \n",
    " - [typemax](https://docs.julialang.org/en/v1/base/base/#Base.typemax), [typemin](https://docs.julialang.org/en/v1/base/base/#Base.typemin)\n",
    " \n",
    " - [prevfloat](https://docs.julialang.org/en/v1/base/numbers/#Base.prevfloat), [nextfloat](https://docs.julialang.org/en/v1/base/numbers/#Base.nextfloat)"
   ]
  },
  {
   "cell_type": "code",
   "execution_count": 26,
   "metadata": {},
   "outputs": [
    {
     "data": {
      "text/plain": [
       "(Inf32, Inf)"
      ]
     },
     "execution_count": 26,
     "metadata": {},
     "output_type": "execute_result"
    }
   ],
   "source": [
    "typemax(Float32),typemax(Float64)"
   ]
  },
  {
   "cell_type": "code",
   "execution_count": 27,
   "metadata": {},
   "outputs": [
    {
     "name": "stdout",
     "output_type": "stream",
     "text": [
      "search: \u001b[0m\u001b[1mt\u001b[22m\u001b[0m\u001b[1my\u001b[22m\u001b[0m\u001b[1mp\u001b[22m\u001b[0m\u001b[1me\u001b[22m\u001b[0m\u001b[1mm\u001b[22m\u001b[0m\u001b[1ma\u001b[22m\u001b[0m\u001b[1mx\u001b[22m \u001b[0m\u001b[1mt\u001b[22m\u001b[0m\u001b[1my\u001b[22m\u001b[0m\u001b[1mp\u001b[22m\u001b[0m\u001b[1me\u001b[22m\u001b[0m\u001b[1mm\u001b[22min\n",
      "\n"
     ]
    },
    {
     "data": {
      "text/latex": [
       "\\begin{verbatim}\n",
       "typemax(T)\n",
       "\\end{verbatim}\n",
       "The highest value representable by the given (real) numeric \\texttt{DataType}.\n",
       "\n",
       "\\section{Examples}\n",
       "\\begin{verbatim}\n",
       "julia> typemax(Int8)\n",
       "127\n",
       "\n",
       "julia> typemax(UInt32)\n",
       "0xffffffff\n",
       "\\end{verbatim}\n"
      ],
      "text/markdown": [
       "```\n",
       "typemax(T)\n",
       "```\n",
       "\n",
       "The highest value representable by the given (real) numeric `DataType`.\n",
       "\n",
       "# Examples\n",
       "\n",
       "```jldoctest\n",
       "julia> typemax(Int8)\n",
       "127\n",
       "\n",
       "julia> typemax(UInt32)\n",
       "0xffffffff\n",
       "```\n"
      ],
      "text/plain": [
       "\u001b[36m  typemax(T)\u001b[39m\n",
       "\n",
       "  The highest value representable by the given (real) numeric \u001b[36mDataType\u001b[39m.\n",
       "\n",
       "\u001b[1m  Examples\u001b[22m\n",
       "\u001b[1m  ≡≡≡≡≡≡≡≡≡≡\u001b[22m\n",
       "\n",
       "\u001b[36m  julia> typemax(Int8)\u001b[39m\n",
       "\u001b[36m  127\u001b[39m\n",
       "\u001b[36m  \u001b[39m\n",
       "\u001b[36m  julia> typemax(UInt32)\u001b[39m\n",
       "\u001b[36m  0xffffffff\u001b[39m"
      ]
     },
     "execution_count": 27,
     "metadata": {},
     "output_type": "execute_result"
    }
   ],
   "source": [
    "?typemax"
   ]
  },
  {
   "cell_type": "markdown",
   "metadata": {},
   "source": [
    "We can now find the largest finite numbers expressible by these IEEE numerical representations:"
   ]
  },
  {
   "cell_type": "code",
   "execution_count": 28,
   "metadata": {},
   "outputs": [
    {
     "data": {
      "text/plain": [
       "1.7976931348623157e308"
      ]
     },
     "execution_count": 28,
     "metadata": {},
     "output_type": "execute_result"
    }
   ],
   "source": [
    "prevfloat(Inf) # Inf is Inf64 by default"
   ]
  },
  {
   "cell_type": "code",
   "execution_count": 29,
   "metadata": {},
   "outputs": [
    {
     "data": {
      "text/plain": [
       "3.4028235f38"
      ]
     },
     "execution_count": 29,
     "metadata": {},
     "output_type": "execute_result"
    }
   ],
   "source": [
    "prevfloat(Inf32)"
   ]
  },
  {
   "cell_type": "markdown",
   "metadata": {},
   "source": [
    "Two other often encountered, special \"numbers\": "
   ]
  },
  {
   "cell_type": "code",
   "execution_count": 30,
   "metadata": {},
   "outputs": [
    {
     "data": {
      "text/plain": [
       "Inf"
      ]
     },
     "execution_count": 30,
     "metadata": {},
     "output_type": "execute_result"
    }
   ],
   "source": [
    "1/0 # really quite enormously large (...way bigger than that (...that? no, thats teensy compared to this  (...)))"
   ]
  },
  {
   "cell_type": "code",
   "execution_count": 31,
   "metadata": {},
   "outputs": [
    {
     "data": {
      "text/plain": [
       "NaN"
      ]
     },
     "execution_count": 31,
     "metadata": {},
     "output_type": "execute_result"
    }
   ],
   "source": [
    "0/0 # not a number"
   ]
  },
  {
   "cell_type": "code",
   "execution_count": 32,
   "metadata": {},
   "outputs": [
    {
     "data": {
      "text/plain": [
       "NaN"
      ]
     },
     "execution_count": 32,
     "metadata": {},
     "output_type": "execute_result"
    }
   ],
   "source": [
    "nextfloat(NaN)"
   ]
  },
  {
   "cell_type": "markdown",
   "metadata": {},
   "source": [
    "### Accumulation of roundoff error\n",
    "Round off errors will accumulate! Generally, for $N$ operations with roundoff error $\\epsilon_m$, errors\n",
    "1. can increase like $N\\em$\n",
    "1. can increase much more rapidly, often due to subtracting two nearly equal numbers, e.g:\n",
    "$$\\ale{\n",
    "x&=\\frac{-b+\\sqrt{b^2-4ac}}{2a}\n",
    "}$$\n",
    "will give trouble if $ac\\ll b^2$. \n",
    "\n",
    "Another example:\n",
    "$$\\ale{\n",
    "\\frac{10^{-20}}{(3+10^{-20})-3}\n",
    "}$$\n",
    "\n",
    "is highly unstable, due to realities of hardware representations of real numbers."
   ]
  },
  {
   "cell_type": "code",
   "execution_count": 34,
   "metadata": {},
   "outputs": [
    {
     "data": {
      "text/plain": [
       "Inf"
      ]
     },
     "execution_count": 34,
     "metadata": {},
     "output_type": "execute_result"
    }
   ],
   "source": [
    "1e-20/((3+1e-20)-3)"
   ]
  },
  {
   "cell_type": "markdown",
   "metadata": {},
   "source": [
    "__Codequiz: how can we make this code run?__"
   ]
  },
  {
   "cell_type": "code",
   "execution_count": 35,
   "metadata": {},
   "outputs": [
    {
     "data": {
      "text/plain": [
       "1.0"
      ]
     },
     "execution_count": 35,
     "metadata": {},
     "output_type": "execute_result"
    }
   ],
   "source": [
    "1e-20/((big(3)+1e-20)-3) # why did I only have to promote one number to BigFloat here?"
   ]
  },
  {
   "cell_type": "code",
   "execution_count": 36,
   "metadata": {},
   "outputs": [
    {
     "data": {
      "text/plain": [
       "Inf"
      ]
     },
     "execution_count": 36,
     "metadata": {},
     "output_type": "execute_result"
    }
   ],
   "source": [
    "typemax(BigFloat)"
   ]
  },
  {
   "cell_type": "code",
   "execution_count": 37,
   "metadata": {},
   "outputs": [
    {
     "data": {
      "text/plain": [
       "5.875653789111587590936911998878442589938516392745498308333779606469323584389875e+1388255822130839282"
      ]
     },
     "execution_count": 37,
     "metadata": {},
     "output_type": "execute_result"
    }
   ],
   "source": [
    "prevfloat(typemax(BigFloat))"
   ]
  },
  {
   "cell_type": "code",
   "execution_count": 38,
   "metadata": {},
   "outputs": [
    {
     "ename": "OverflowError",
     "evalue": "OverflowError: 30 is too large to look up in the table; consider using `factorial(big(30))` instead",
     "output_type": "error",
     "traceback": [
      "OverflowError: 30 is too large to look up in the table; consider using `factorial(big(30))` instead",
      "",
      "Stacktrace:",
      " [1] factorial_lookup(::Int64, ::Array{Int64,1}, ::Int64) at ./combinatorics.jl:19",
      " [2] factorial(::Int64) at ./combinatorics.jl:27",
      " [3] top-level scope at In[38]:1"
     ]
    }
   ],
   "source": [
    "factorial(30) # Int64 has a pretty narrow range of values, roughly x < 10^308"
   ]
  },
  {
   "cell_type": "code",
   "execution_count": 39,
   "metadata": {},
   "outputs": [
    {
     "data": {
      "text/plain": [
       "265252859812191058636308480000000"
      ]
     },
     "execution_count": 39,
     "metadata": {},
     "output_type": "execute_result"
    }
   ],
   "source": [
    "factorial(BigInt(30)) # let's fix it with a bigger number system"
   ]
  },
  {
   "cell_type": "code",
   "execution_count": 40,
   "metadata": {},
   "outputs": [
    {
     "data": {
      "text/plain": [
       "771053011335386004144639397775028360595556401816010239163410994033970851827093069367090769795539033092647861224230677444659785152639745401480184653174909762504470638274259120173309701702610875092918816846985842150593623718603861642063078834117234098513725265045402523056575658860621238870412640219629971024686826624713383660963127048195572279707711688352620259869140994901287895747290410722496106151954257267396322405556727354786893725785838732404646243357335918597747405776328924775897564519583591354080898117023132762250714057271344110948164029940588827847780442314473200479525138318208302427727803133219305210952507605948994314345449325259594876385922128494560437296428386002940601874072732488897504223793518377180605441783116649708269946061380230531018291930510748665577803014523251797790388615033756544830374909440162270182952303329091720438210637097105616258387051884030288933650309756289188364568672104084185529365727646234588306683493594765274559497543759651733699820639731702116912963247441294200297800087061725868223880865243583365623482704395893652711840735418799773763054887588219943984673401051362280384187818611005035187862707840912942753454646054674870155072495767509778534059298038364204076299048072934501046255175378323008217670731649519955699084482330798811049166276249251326544312580289357812924825898217462848297648349400838815410152872456707653654424335818651136964880049831580548028614922852377435001511377656015730959254647171290930517340367287657007606177675483830521499707873449016844402390203746633086969747680671468541687265823637922007413849118593487710272883164905548707198762911703545119701275432473548172544699118836274377270607420652133092686282081777383674487881628800801928103015832821021286322120460874941697199487758769730544922012389694504960000000000000000000000000000000000000000000000000000000000000000000000000000000000000000000000000000000000000000000000000000000000000000000000000000000000000000000000000000000000000000000000000000000"
      ]
     },
     "execution_count": 40,
     "metadata": {},
     "output_type": "execute_result"
    }
   ],
   "source": [
    "factorial(BigInt(800))"
   ]
  },
  {
   "cell_type": "markdown",
   "metadata": {},
   "source": [
    "Let's see this in e notation:"
   ]
  },
  {
   "cell_type": "code",
   "execution_count": 41,
   "metadata": {},
   "outputs": [
    {
     "data": {
      "text/plain": [
       "7.710530113353860041446393977750283605955564018160102391634109940339708518270946e+1976"
      ]
     },
     "execution_count": 41,
     "metadata": {},
     "output_type": "execute_result"
    }
   ],
   "source": [
    "factorial(BigFloat(800))"
   ]
  },
  {
   "cell_type": "markdown",
   "metadata": {},
   "source": [
    "__Codequiz: What is the smallest number we can represent in as a BigFloat?__"
   ]
  },
  {
   "cell_type": "code",
   "execution_count": 11,
   "metadata": {},
   "outputs": [
    {
     "data": {
      "text/plain": [
       "8.50969131174083613912978790962048280567755996982969624908264897850135431080301e-1388255822130839284"
      ]
     },
     "execution_count": 11,
     "metadata": {},
     "output_type": "execute_result"
    }
   ],
   "source": [
    "nextfloat(BigFloat(0))"
   ]
  },
  {
   "cell_type": "markdown",
   "metadata": {},
   "source": [
    "How does it compare to `BigFloat` working precision?"
   ]
  },
  {
   "cell_type": "code",
   "execution_count": 13,
   "metadata": {},
   "outputs": [
    {
     "data": {
      "text/plain": [
       "1.727233711018888925077270372560079914223200072887256277004740694033718360632485e-77"
      ]
     },
     "execution_count": 13,
     "metadata": {},
     "output_type": "execute_result"
    }
   ],
   "source": [
    "eps(BigFloat)"
   ]
  },
  {
   "cell_type": "markdown",
   "metadata": {},
   "source": [
    "How does these quantities compare with `Float64`"
   ]
  },
  {
   "cell_type": "code",
   "execution_count": 22,
   "metadata": {},
   "outputs": [
    {
     "data": {
      "text/plain": [
       "(5.0e-324, 2.220446049250313e-16)"
      ]
     },
     "execution_count": 22,
     "metadata": {},
     "output_type": "execute_result"
    }
   ],
   "source": [
    "nextfloat(Float64(0)), eps(Float64)"
   ]
  },
  {
   "cell_type": "code",
   "execution_count": 23,
   "metadata": {},
   "outputs": [
    {
     "data": {
      "text/plain": [
       "2.2204460492503136e-16"
      ]
     },
     "execution_count": 23,
     "metadata": {},
     "output_type": "execute_result"
    }
   ],
   "source": [
    "nextfloat(eps())"
   ]
  },
  {
   "cell_type": "markdown",
   "metadata": {},
   "source": [
    "- To clarify the point made in the lecture: note carefully that in each representation there is a distinction between numbers they can represent, versus their working precision. (The latter being much larger). A larger working precision is not as bad as it sounds because this number determines the size of __relative errors__, which can be manageable even for numbers that are at the edge of the range that can be represented. \n",
    "\n",
    "- The unstable fraction considered above should still act as something of a cautionary tale: In any of these number systems it is possible to perform operations that are working so close to actual zero that the roundoff error dominates the result.  "
   ]
  },
  {
   "cell_type": "markdown",
   "metadata": {},
   "source": [
    "## Truncation error (accuracy)\n",
    "Conceptually, this source of error is streightforward and familiar. We have already met an example of this when evaluating the geometric series: we stopped adding terms to the partial sum at a finite number of terms, e.g.\n",
    "\n",
    "$$\\ale{\n",
    "\\sin x&=x-\\frac{x^3}{3!}+\\frac{x^5}{5!}-\\dots\n",
    "}$$\n",
    "\n",
    "and at some point we have to truncate the calculation. \n",
    "\n",
    "Another example, to compute an integral numerically:\n",
    "\n",
    "$$\\ale{\n",
    "\\int_3^7 x^2 dx\n",
    "}$$\n",
    "\n",
    "we have to approximate the area by vertical strips of small but __finite__ area. Truncation can be made small in principle, but at a cost of expensive computation. Accuracy is often constrained by working precision, which will eventually bring us to the notions of dimensional analysis."
   ]
  },
  {
   "cell_type": "markdown",
   "metadata": {},
   "source": [
    "## Range error\n",
    "An important source of error comes about in the situation where numbers fall outside of the range of numerically representable values. \n",
    "\n",
    "In Physics we are always trying to understand the very large, the very small, the very fast, etc. It is a common problem!\n",
    "\n",
    "To deal with this problem we need the concepts of dimensional analysis.\n",
    "\n",
    "For example, the Bohr radius, a number important in the quantum theory of atoms:\n",
    "\n",
    "$$\\ale{\n",
    "a_0&=\\frac{4\\pi\\epsilon_0\\hbar^2}{m_e e^2}\\simeq 5.3\\times 10^{-11}\n",
    "}$$\n",
    "\n",
    "The numerator is `1.24e-78` while the denominator is `~2.34e-68`. For 32 bit machines, this is a problem:"
   ]
  },
  {
   "cell_type": "code",
   "execution_count": 46,
   "metadata": {},
   "outputs": [
    {
     "data": {
      "text/plain": [
       "(-Inf32, Inf32)"
      ]
     },
     "execution_count": 46,
     "metadata": {},
     "output_type": "execute_result"
    }
   ],
   "source": [
    "typemin(Float32),typemax(Float32)"
   ]
  },
  {
   "cell_type": "code",
   "execution_count": 47,
   "metadata": {},
   "outputs": [
    {
     "data": {
      "text/plain": [
       "1.0f-45"
      ]
     },
     "execution_count": 47,
     "metadata": {},
     "output_type": "execute_result"
    }
   ],
   "source": [
    "nextfloat(Float32(0))"
   ]
  },
  {
   "cell_type": "code",
   "execution_count": 48,
   "metadata": {},
   "outputs": [
    {
     "data": {
      "text/plain": [
       "0.0f0"
      ]
     },
     "execution_count": 48,
     "metadata": {},
     "output_type": "execute_result"
    }
   ],
   "source": [
    "1e-78 |> Float32 # zero? really?"
   ]
  },
  {
   "cell_type": "code",
   "execution_count": 49,
   "metadata": {},
   "outputs": [
    {
     "data": {
      "text/plain": [
       "5.0e-324"
      ]
     },
     "execution_count": 49,
     "metadata": {},
     "output_type": "execute_result"
    }
   ],
   "source": [
    "nextfloat(Float64(0)) # plenty of room at the bottom here"
   ]
  },
  {
   "cell_type": "code",
   "execution_count": 50,
   "metadata": {},
   "outputs": [
    {
     "data": {
      "text/plain": [
       "1.0e-78"
      ]
     },
     "execution_count": 50,
     "metadata": {},
     "output_type": "execute_result"
    }
   ],
   "source": [
    "1e-78 |> Float64"
   ]
  },
  {
   "cell_type": "markdown",
   "metadata": {},
   "source": [
    "However, the problem will always come back eventually: as we just saw above"
   ]
  },
  {
   "cell_type": "code",
   "execution_count": 51,
   "metadata": {},
   "outputs": [
    {
     "data": {
      "text/plain": [
       "1.7976931348623157e308"
      ]
     },
     "execution_count": 51,
     "metadata": {},
     "output_type": "execute_result"
    }
   ],
   "source": [
    "prevfloat(Float64(Inf))"
   ]
  },
  {
   "cell_type": "markdown",
   "metadata": {},
   "source": [
    "so we shouldn't be surprised when"
   ]
  },
  {
   "cell_type": "code",
   "execution_count": 52,
   "metadata": {},
   "outputs": [
    {
     "ename": "LoadError",
     "evalue": "syntax: overflow in numeric constant \"1e309\"",
     "output_type": "error",
     "traceback": [
      "syntax: overflow in numeric constant \"1e309\"",
      ""
     ]
    }
   ],
   "source": [
    "1e309 |> Float64 "
   ]
  },
  {
   "cell_type": "markdown",
   "metadata": {},
   "source": [
    "we find the number is too large to represent, also called \"overflow\" (too small to represent is called \"underflow\")"
   ]
  },
  {
   "cell_type": "markdown",
   "metadata": {},
   "source": [
    "[Julia docs: arbitrary precision arithmetic](https://docs.julialang.org/en/v1/manual/integers-and-floating-point-numbers/index.html#Arbitrary-Precision-Arithmetic-1)"
   ]
  },
  {
   "cell_type": "markdown",
   "metadata": {
    "slideshow": {
     "slide_type": "slide"
    },
    "toc-hr-collapsed": true
   },
   "source": [
    "# Dimensionless formulation\n",
    "\n",
    "**The Challenge:** find a set of convenient units in which to formulate the model. In these units all quantities should be \"of order 1\". In practice this is often not possible and the problem may still involve many orders of magnitude, but all numbers should lie well inside the allowable range that may be safely manipulated by the computer.\n"
   ]
  },
  {
   "cell_type": "markdown",
   "metadata": {
    "slideshow": {
     "slide_type": "slide"
    }
   },
   "source": [
    "## Procedure\n",
    "- Make a suitable choice of length and time units, effectively a choice of rescaling:\n",
    "\n",
    "\\begin{align}\n",
    "x=\\bar x x_0 \\\\\n",
    "    t = \\bar t t_0\\notag\n",
    "\\end{align}\n",
    "    \n",
    "where the \"barred\" variables are the new variables used for compulation.\n",
    "- Reinstate physical units as required to relate the numerical results to physical data."
   ]
  },
  {
   "cell_type": "markdown",
   "metadata": {},
   "source": [
    "## Example: damped simple-harmonic oscillator\n",
    "Let's see how this works. We are given an equation of motion for a simple harmonic oscillator (mass on a spring). The energy of the oscillator is\n",
    "\n",
    "$$\\ale{\n",
    "E&=\\frac{m\\dot{x}^2}{2}+\\frac{m\\omega^2x^2}{2}\n",
    "}$$\n",
    "\n",
    "and with damping, $\\gamma$, the equation of motion is:\n",
    "\n",
    "$$\\ale{\n",
    "m\\frac{d^2x}{dt^2}&=-m\\omega^2 x-\\gamma  \\frac{dx}{dt}\n",
    "}$$\n",
    "\n",
    "- Suppose our spring-mass system happens to have a characteristic frequency of $\\omega=10^{-19}\\unit{s}^{-1}$ (it comes from the spring stiffness constant)\n",
    "- The mass is $m=10^{45}\\unit{kg}$. \n",
    "- We drop the system into a vat of ___very___ thick treacle, with damping $\\gamma=10^{20}\\unit{kg}\\unit{s}^{-1}$.\n",
    "\n",
    "### How do we choose suitable units for length and time?\n",
    "\n",
    "First, we set $x=\\bar{x}x_0, t=\\bar{t}t_0$, and plug into the equation, and cancel any common terms\n",
    "$$\\ale{\n",
    "\\frac{x_0}{t_0^2}\\frac{d^2\\bar{x}}{d\\bar{t}^2}&=-\\omega^2x_0 \\bar{x}-\\frac{\\gamma x_0}{mt_0} \\frac{d\\bar{x}}{d\\bar{t}}\n",
    "}$$\n",
    "\n",
    "becomes, in standard form\n",
    "\n",
    "$$\\ale{\n",
    "\\frac{d^2\\bar{x}}{d\\bar{t}^2}+\\underbrace{\\left(\\frac{\\gamma t_0}{m }\\right)}_{\\bar\\gamma} \\frac{d\\bar{x}}{d\\bar{t}}+\\underbrace{(\\omega t_0)^2}_{\\bar\\omega^2}\\bar{x}&=0.\n",
    "}$$\n",
    "\n",
    "**We can make any convenient choice**. Note that in this particular case the unit of length has dropped out because all terms in the equation are linear in $x$ and hence $x_0$ drops out of the equation of motion (it will come back in the initial conditions). \n",
    "\n",
    "For our remaining parameter let's choose the **unit of time** as $t_0\\equiv\\omega^{-1}$, the characteristic angular frequency of the oscillator (a pretty decent piece of physical motivation). We can then see that the dimensionless damping parameter is\n",
    "\n",
    "$$\n",
    "\\bar\\gamma\\equiv\\frac{\\gamma }{m\\omega }\n",
    "$$\n",
    "\n",
    "and our efforts yield the simple equation\n",
    "$$\\ale{\n",
    "\\frac{d^2\\bar{x}}{d\\bar{t}^2}+\\bar{\\gamma}\\frac{d\\bar{x}}{d\\bar{t}}+\\bar{x}&=0.\\tag{DSHO}\n",
    "}$$\n",
    "\n"
   ]
  },
  {
   "cell_type": "markdown",
   "metadata": {},
   "source": [
    "With a good choice of dimensionless units, the equation of motion should look \"the same\" as the original, i.e. without introducing any extra numerical coefficients (with great power comes great responsibility), yet we will find that we have reduced all quantities down to a manageable range."
   ]
  },
  {
   "cell_type": "markdown",
   "metadata": {},
   "source": [
    "What is the dimensionless damping rate $\\bar{\\gamma}$ for the particular parameters? Plugging in our parameters"
   ]
  },
  {
   "cell_type": "code",
   "execution_count": 53,
   "metadata": {},
   "outputs": [],
   "source": [
    "ω=1e-19; m=1e45; γ=1e20;"
   ]
  },
  {
   "cell_type": "code",
   "execution_count": 54,
   "metadata": {},
   "outputs": [
    {
     "data": {
      "text/plain": [
       "1.0000000000000002e-6"
      ]
     },
     "execution_count": 54,
     "metadata": {},
     "output_type": "execute_result"
    }
   ],
   "source": [
    "γbar = γ/m/ω"
   ]
  },
  {
   "cell_type": "markdown",
   "metadata": {},
   "source": [
    "and we learn something about the physics of the system: ___the motion is underdamped___ ( $\\bar\\gamma\\ll 1$ )."
   ]
  },
  {
   "cell_type": "markdown",
   "metadata": {},
   "source": [
    "The only remaining input to the solution process comes from the __initial conditions__ for both velocity and displacement (a second order differential equation):\n",
    "$$\\ale{\n",
    "x(0)&=\\ell\\\\\n",
    "\\frac{dx(0)}{dt}&=u\n",
    "}$$\n",
    "\n",
    "In this case, because our equation of motion is **linear in** $x(t)$ we can choose our **unit of length** to be $x_0\\equiv\\ell$. The initial velocity becomes, in dimensionless form\n",
    "$$\\ale{\n",
    "\\frac{d\\bar{x}(0)}{d\\bar t}&=\\frac{t_0}{x_0}u=\\frac{u}{\\omega\\ell}\n",
    "}$$"
   ]
  },
  {
   "cell_type": "markdown",
   "metadata": {},
   "source": [
    "## Dimensionless description of a class of systems \n",
    "This leads us to an important observation\n",
    "\n",
    "- We can now learn a lot more about our system than we may have initially thought! \n",
    "\n",
    "- Any simulation for a given choice of ___dimensionless___ parameters describes all physical systems with parameters having the same ratio of ___dimensional___ quantities. "
   ]
  },
  {
   "cell_type": "markdown",
   "metadata": {},
   "source": [
    "# Measurements"
   ]
  },
  {
   "cell_type": "markdown",
   "metadata": {},
   "source": [
    "Before we get into details of dimensional analysis, let us discuss a nice package of high relevance to physicists:\n",
    "\n",
    "[Measurements.jl](https://github.com/JuliaPhysics/Measurements.jl) allowing systematic propogation of errors through calculations, leveraging the julia type system.\n",
    "\n",
    "<img src=\"resources/error_bars_2x.png\" width=\"500\">\n",
    "\n",
    "Image credit [Error Bars](https://xkcd.com/2110/), [CC-BY-NC 2.5](https://creativecommons.org/licenses/by-nc/2.5/)\n",
    "\n",
    "For a nice motivation about julia in general that talks about deep learning and also this package, see the [SIAM Wilkinson Prize lecture](https://www.youtube.com/watch?v=OfMP5PTFQk0&feature=youtu.be) given recently by the julia creators. "
   ]
  },
  {
   "cell_type": "markdown",
   "metadata": {},
   "source": [
    "To add the packages for this section within the jupyter notebook, run\n",
    "```julia\n",
    "using Pkg\n",
    "pgk\"add Measurements UnitFul PhysicalConstants\"\n",
    "```"
   ]
  },
  {
   "cell_type": "code",
   "execution_count": 55,
   "metadata": {},
   "outputs": [],
   "source": [
    "using Measurements "
   ]
  },
  {
   "cell_type": "markdown",
   "metadata": {},
   "source": [
    "The module defines a new Measurement data type. Measurement objects can be created with the two following constructors:\n",
    "\n",
    "```julia\n",
    "measurement(value, uncertainty)\n",
    "value ± uncertainty\n",
    "```\n",
    "\n",
    "where \n",
    "\n",
    "- `value` is the nominal value of the measurement\n",
    "`uncertainty` is its uncertainty, assumed to be a standard deviation. \n",
    "\n",
    "- Since `measurements` defines quantities with their own specific type, it can hook into all of julia's extensibility, and \"just works\" across many packages in julia without any extra coding. "
   ]
  },
  {
   "cell_type": "code",
   "execution_count": 56,
   "metadata": {},
   "outputs": [
    {
     "data": {
      "text/latex": [
       "$1.0 \\pm 0.05$"
      ],
      "text/plain": [
       "1.0 ± 0.05"
      ]
     },
     "execution_count": 56,
     "metadata": {},
     "output_type": "execute_result"
    }
   ],
   "source": [
    "a = 3.75 ± 0.12 #you can input ± by typing \\pm<tab> (the first time you try tab completion, give it a second to compile)\n",
    "b = 1.0 ± 0.05"
   ]
  },
  {
   "cell_type": "code",
   "execution_count": 57,
   "metadata": {},
   "outputs": [
    {
     "data": {
      "text/latex": [
       "$15.06 \\pm 0.92$"
      ],
      "text/plain": [
       "15.06 ± 0.92"
      ]
     },
     "execution_count": 57,
     "metadata": {},
     "output_type": "execute_result"
    }
   ],
   "source": [
    "d = a^2 + b^4  "
   ]
  },
  {
   "cell_type": "markdown",
   "metadata": {},
   "source": [
    "Do any calculation and get errors for free! Errors are calculated using the theory of [linear error propagation](https://en.wikipedia.org/wiki/Propagation_of_uncertainty)."
   ]
  },
  {
   "cell_type": "markdown",
   "metadata": {},
   "source": [
    "We can use some constants from `PhysicalConstants`, and also read in their fundamental uncertainties. First we load a particular data set:"
   ]
  },
  {
   "cell_type": "code",
   "execution_count": 58,
   "metadata": {},
   "outputs": [],
   "source": [
    "using PhysicalConstants, Measurements"
   ]
  },
  {
   "cell_type": "code",
   "execution_count": 59,
   "metadata": {},
   "outputs": [],
   "source": [
    "import PhysicalConstants.CODATA2018: ħ, G, N_A, m_e, a_0, m_u"
   ]
  },
  {
   "cell_type": "markdown",
   "metadata": {},
   "source": [
    "You can find a full list of constats at [PhysicalConstants.jl](https://github.com/JuliaPhysics/PhysicalConstants.jl), and here are a couple"
   ]
  },
  {
   "cell_type": "code",
   "execution_count": 60,
   "metadata": {},
   "outputs": [
    {
     "data": {
      "text/plain": [
       "Reduced Planck constant (ħ)\n",
       "Value                         = 1.0545718176461565e-34 J s\n",
       "Standard uncertainty          = (exact)\n",
       "Relative standard uncertainty = (exact)\n",
       "Reference                     = CODATA 2018"
      ]
     },
     "execution_count": 60,
     "metadata": {},
     "output_type": "execute_result"
    }
   ],
   "source": [
    "ħ"
   ]
  },
  {
   "cell_type": "code",
   "execution_count": 62,
   "metadata": {},
   "outputs": [
    {
     "data": {
      "text/plain": [
       "Newtonian constant of gravitation (G)\n",
       "Value                         = 6.6743e-11 m^3 kg^-1 s^-2\n",
       "Standard uncertainty          = 1.5e-15 m^3 kg^-1 s^-2\n",
       "Relative standard uncertainty = 2.2e-5\n",
       "Reference                     = CODATA 2018"
      ]
     },
     "execution_count": 62,
     "metadata": {},
     "output_type": "execute_result"
    }
   ],
   "source": [
    "G"
   ]
  },
  {
   "cell_type": "code",
   "execution_count": 63,
   "metadata": {},
   "outputs": [
    {
     "data": {
      "text/plain": [
       "Avogadro constant (N_A)\n",
       "Value                         = 6.02214076e23 mol^-1\n",
       "Standard uncertainty          = (exact)\n",
       "Relative standard uncertainty = (exact)\n",
       "Reference                     = CODATA 2018"
      ]
     },
     "execution_count": 63,
     "metadata": {},
     "output_type": "execute_result"
    }
   ],
   "source": [
    "N_A"
   ]
  },
  {
   "cell_type": "markdown",
   "metadata": {},
   "source": [
    "These are special types called Constants. We can turn them into floats that we can do calculations with using `float`:"
   ]
  },
  {
   "cell_type": "code",
   "execution_count": 64,
   "metadata": {},
   "outputs": [
    {
     "data": {
      "text/plain": [
       "PhysicalConstants.PhysicalConstant{Symbol(\"##NewtonianConstantOfGravitation#453\"),Float64,𝐋^3 𝐌^-1 𝐓^-2,Unitful.FreeUnits{(kg^-1, m^3, s^-2),𝐋^3*𝐌^-1*𝐓^-2,nothing}}"
      ]
     },
     "execution_count": 64,
     "metadata": {},
     "output_type": "execute_result"
    }
   ],
   "source": [
    "typeof(G)"
   ]
  },
  {
   "cell_type": "code",
   "execution_count": 65,
   "metadata": {},
   "outputs": [
    {
     "data": {
      "text/plain": [
       "1.0545718176461565e-34 J s"
      ]
     },
     "execution_count": 65,
     "metadata": {},
     "output_type": "execute_result"
    }
   ],
   "source": [
    "hbar = float(Float64,ħ) # now a number with units provided by Unitful.jl"
   ]
  },
  {
   "cell_type": "code",
   "execution_count": 66,
   "metadata": {},
   "outputs": [
    {
     "data": {
      "text/plain": [
       "6.6743f-11 m^3 kg^-1 s^-2"
      ]
     },
     "execution_count": 66,
     "metadata": {},
     "output_type": "execute_result"
    }
   ],
   "source": [
    "G0 = float(Float32,G) "
   ]
  },
  {
   "cell_type": "markdown",
   "metadata": {},
   "source": [
    "The packages `Unitful` `Measurements` and `PhysicalConstants` work together seamlessly, so we can define a constant that includes the uncertainty in the measured value and its units:"
   ]
  },
  {
   "cell_type": "code",
   "execution_count": 67,
   "metadata": {},
   "outputs": [
    {
     "data": {
      "text/plain": [
       "1.0545718176461565e-34 ± 0.0 J s"
      ]
     },
     "execution_count": 67,
     "metadata": {},
     "output_type": "execute_result"
    }
   ],
   "source": [
    "hbar = measurement(ħ)"
   ]
  },
  {
   "cell_type": "markdown",
   "metadata": {},
   "source": [
    "and this uncertainty will now get propagated through any calculations with other uncertain quantities, according to the rules of error propagation. "
   ]
  },
  {
   "cell_type": "markdown",
   "metadata": {},
   "source": [
    "We can define our own quantities in terms of these units as, e.g."
   ]
  },
  {
   "cell_type": "code",
   "execution_count": 68,
   "metadata": {},
   "outputs": [
    {
     "data": {
      "text/plain": [
       "3.3746e-34 ± 1.1e-37 J s"
      ]
     },
     "execution_count": 68,
     "metadata": {},
     "output_type": "execute_result"
    }
   ],
   "source": [
    "b = (3.2 ± 0.001)*hbar"
   ]
  },
  {
   "cell_type": "markdown",
   "metadata": {},
   "source": [
    "we can try to do a calculation, but"
   ]
  },
  {
   "cell_type": "code",
   "execution_count": 69,
   "metadata": {},
   "outputs": [
    {
     "ename": "Unitful.DimensionError",
     "evalue": "DimensionError: 14.06 ± 0.9 and 3.753e-102 ± 1.1999999999999999e-105 J^3 s^3 are not dimensionally compatible.",
     "output_type": "error",
     "traceback": [
      "DimensionError: 14.06 ± 0.9 and 3.753e-102 ± 1.1999999999999999e-105 J^3 s^3 are not dimensionally compatible.",
      "",
      "Stacktrace:",
      " [1] +(::Unitful.Quantity{Measurement{Float64},NoDims,Unitful.FreeUnits{(),NoDims,nothing}}, ::Unitful.Quantity{Measurement{Float64},𝐋^6*𝐌^3*𝐓^-3,Unitful.FreeUnits{(J^3, s^3),𝐋^6*𝐌^3*𝐓^-3,nothing}}) at /Users/abradley/.julia/packages/Unitful/D0cfL/src/quantities.jl:86",
      " [2] +(::Measurement{Float64}, ::Unitful.Quantity{Measurement{Float64},𝐋^6*𝐌^3*𝐓^-3,Unitful.FreeUnits{(J^3, s^3),𝐋^6*𝐌^3*𝐓^-3,nothing}}) at ./promotion.jl:311",
      " [3] top-level scope at In[69]:1"
     ]
    }
   ],
   "source": [
    "a^2+b*hbar^2"
   ]
  },
  {
   "cell_type": "markdown",
   "metadata": {},
   "source": [
    "and we get a dimensional sanity check for free!! \n",
    "\n",
    "Let's try that again with quantities that are dimensionally compatible:"
   ]
  },
  {
   "cell_type": "code",
   "execution_count": 70,
   "metadata": {},
   "outputs": [
    {
     "data": {
      "text/plain": [
       "1.2500200000000001e-67 ± 7.1e-71 J^2 s^2"
      ]
     },
     "execution_count": 70,
     "metadata": {},
     "output_type": "execute_result"
    }
   ],
   "source": [
    "b^2+hbar^2 # works because b is in units of hbar"
   ]
  },
  {
   "cell_type": "markdown",
   "metadata": {},
   "source": [
    "Let's work out the characteristic energy scale of an electron in an orbital of scale given by the Bohr radius:"
   ]
  },
  {
   "cell_type": "code",
   "execution_count": 71,
   "metadata": {},
   "outputs": [
    {
     "data": {
      "text/plain": [
       "9.1093837015e-31 ± 2.8e-40 kg"
      ]
     },
     "execution_count": 71,
     "metadata": {},
     "output_type": "execute_result"
    }
   ],
   "source": [
    "me = measurement(m_e) # electron mass"
   ]
  },
  {
   "cell_type": "code",
   "execution_count": 72,
   "metadata": {},
   "outputs": [
    {
     "data": {
      "text/plain": [
       "5.29177210903e-11 ± 8.0e-21 m"
      ]
     },
     "execution_count": 72,
     "metadata": {},
     "output_type": "execute_result"
    }
   ],
   "source": [
    "rB = measurement(a_0) # Bohr radius"
   ]
  },
  {
   "cell_type": "code",
   "execution_count": 73,
   "metadata": {},
   "outputs": [
    {
     "data": {
      "text/plain": [
       "4.3597447222e-18 ± 1.9e-27 J^2 s^2 kg^-1 m^-2"
      ]
     },
     "execution_count": 73,
     "metadata": {},
     "output_type": "execute_result"
    }
   ],
   "source": [
    "eB = hbar^2/me/rB^2"
   ]
  },
  {
   "cell_type": "markdown",
   "metadata": {},
   "source": [
    "can we check that this is an energy? We use a little trick, which also gives a sanity check. \n",
    "\n",
    "Useful methods for working with untis are provided by the package `Unitful.jl`."
   ]
  },
  {
   "cell_type": "code",
   "execution_count": 75,
   "metadata": {},
   "outputs": [],
   "source": [
    "using Unitful"
   ]
  },
  {
   "cell_type": "markdown",
   "metadata": {},
   "source": [
    "Let's add zero:"
   ]
  },
  {
   "cell_type": "code",
   "execution_count": 76,
   "metadata": {},
   "outputs": [
    {
     "data": {
      "text/plain": [
       "4.3597447222e-18 ± 1.9e-27 kg m^2 s^-2"
      ]
     },
     "execution_count": 76,
     "metadata": {},
     "output_type": "execute_result"
    }
   ],
   "source": [
    "eB + 0u\"J\" "
   ]
  },
  {
   "cell_type": "markdown",
   "metadata": {},
   "source": [
    "and we see the ultimate units are SI for Joules. If instead I try to add $3\\textrm{kg}$"
   ]
  },
  {
   "cell_type": "code",
   "execution_count": 77,
   "metadata": {},
   "outputs": [
    {
     "ename": "Unitful.DimensionError",
     "evalue": "DimensionError: 4.3597447222e-18 ± 1.9e-27 J^2 s^2 kg^-1 m^-2 and 3 kg are not dimensionally compatible.",
     "output_type": "error",
     "traceback": [
      "DimensionError: 4.3597447222e-18 ± 1.9e-27 J^2 s^2 kg^-1 m^-2 and 3 kg are not dimensionally compatible.",
      "",
      "Stacktrace:",
      " [1] +(::Quantity{Measurement{Float64},𝐋^2*𝐌*𝐓^-2,Unitful.FreeUnits{(kg^-1, J^2, m^-2, s^2),𝐋^2*𝐌*𝐓^-2,nothing}}, ::Quantity{Int64,𝐌,Unitful.FreeUnits{(kg,),𝐌,nothing}}) at /Users/abradley/.julia/packages/Unitful/D0cfL/src/quantities.jl:86",
      " [2] top-level scope at In[77]:1"
     ]
    }
   ],
   "source": [
    "eB + 3u\"kg\""
   ]
  },
  {
   "cell_type": "markdown",
   "metadata": {},
   "source": [
    "You get the idea: the syntax `u\"someunit\"` creates a `Unitful` object that obeys the rules of dimensional analysis. All your favorite units can be used (and abbreviations if you want for micro etc)"
   ]
  },
  {
   "cell_type": "markdown",
   "metadata": {},
   "source": [
    "Let's consder the energy of an atom of $^{87}\\textrm{Rb}$ held in a parabolic trap with potential \n",
    "\n",
    "$$V(x)=\\frac{m\\omega^2 x^2}{2},$$ \n",
    "\n",
    "with angular frequency $\\omega = 2\\pi\\times 15\\textrm{s}^{-1}$. However, we only know the trap frequency to at best one part in $0.01 \\times 2\\pi\\;\\textrm{s}^{-1}$.\n",
    "\n",
    "Let's say the atom is in the motional and internal ground state. Then the ground state energy is\n",
    "\n",
    "$$E_0 = \\frac{\\hbar\\omega}{2}$$"
   ]
  },
  {
   "cell_type": "code",
   "execution_count": 78,
   "metadata": {},
   "outputs": [
    {
     "data": {
      "text/plain": [
       "1.44466898794e-25 ± 4.4e-35 kg"
      ]
     },
     "execution_count": 78,
     "metadata": {},
     "output_type": "execute_result"
    }
   ],
   "source": [
    "mRb = measurement(m_u)*87"
   ]
  },
  {
   "cell_type": "code",
   "execution_count": 79,
   "metadata": {},
   "outputs": [
    {
     "data": {
      "text/plain": [
       "94.248 ± 0.063 s^-1"
      ]
     },
     "execution_count": 79,
     "metadata": {},
     "output_type": "execute_result"
    }
   ],
   "source": [
    "ω = (15 ± 0.01)*2*pi*u\"s^(-1)\""
   ]
  },
  {
   "cell_type": "code",
   "execution_count": 80,
   "metadata": {},
   "outputs": [
    {
     "data": {
      "text/plain": [
       "4.9696e-33 ± 3.3e-36 J"
      ]
     },
     "execution_count": 80,
     "metadata": {},
     "output_type": "execute_result"
    }
   ],
   "source": [
    "E0 = 0.5*hbar*ω"
   ]
  },
  {
   "cell_type": "markdown",
   "metadata": {},
   "source": [
    "Note that this is too small for `Float32`, but will fit into a `Float64` format."
   ]
  },
  {
   "cell_type": "markdown",
   "metadata": {},
   "source": [
    "Let's define a useful reference unit: the harmonic oscillator length characterising the scale of the motional ground state:\n",
    "\n",
    "$$a_0 \\equiv \\sqrt{\\frac{\\hbar}{m\\omega}}$$"
   ]
  },
  {
   "cell_type": "markdown",
   "metadata": {},
   "source": [
    "In these units, the natural unit of energy is \n",
    "\n",
    "$$\\frac{\\hbar^2}{m a_0^2}=\\hbar\\omega$$"
   ]
  },
  {
   "cell_type": "code",
   "execution_count": 81,
   "metadata": {},
   "outputs": [
    {
     "data": {
      "text/plain": [
       "2.78303e-6 ± 9.3e-10 J^1/2 s kg^-1/2"
      ]
     },
     "execution_count": 81,
     "metadata": {},
     "output_type": "execute_result"
    }
   ],
   "source": [
    "a0 = sqrt(hbar/mRb/ω) "
   ]
  },
  {
   "cell_type": "markdown",
   "metadata": {},
   "source": [
    "Once again we can do a quick sanity check that the dimensions are right, while at the same time converting to SI, by adding $0\\textrm{m}$:"
   ]
  },
  {
   "cell_type": "code",
   "execution_count": 82,
   "metadata": {},
   "outputs": [
    {
     "data": {
      "text/plain": [
       "2.78303e-6 ± 9.3e-10 m"
      ]
     },
     "execution_count": 82,
     "metadata": {},
     "output_type": "execute_result"
    }
   ],
   "source": [
    "a0 + 0u\"m\""
   ]
  },
  {
   "cell_type": "code",
   "execution_count": 83,
   "metadata": {},
   "outputs": [
    {
     "data": {
      "text/plain": [
       "9.9391e-33 ± 6.6e-36 J"
      ]
     },
     "execution_count": 83,
     "metadata": {},
     "output_type": "execute_result"
    }
   ],
   "source": [
    "hbar^2/mRb/a0^2"
   ]
  },
  {
   "cell_type": "code",
   "execution_count": 84,
   "metadata": {},
   "outputs": [
    {
     "data": {
      "text/latex": [
       "$0.5000000000000001 \\pm 2.9e-26$"
      ],
      "text/plain": [
       "0.5000000000000001 ± 2.9e-26"
      ]
     },
     "execution_count": 84,
     "metadata": {},
     "output_type": "execute_result"
    }
   ],
   "source": [
    "E0*mRb*a0^2/hbar^2 # ground state energy is just 1/2 in the right units!"
   ]
  },
  {
   "cell_type": "markdown",
   "metadata": {},
   "source": [
    "Let's take a quick look at some more examples of using `Measurements.jl`:"
   ]
  },
  {
   "cell_type": "code",
   "execution_count": 85,
   "metadata": {},
   "outputs": [],
   "source": [
    "using QuadGK"
   ]
  },
  {
   "cell_type": "markdown",
   "metadata": {},
   "source": [
    "I am not going to use units here as they are not as well supported across other packages as errors are (very well supported)"
   ]
  },
  {
   "cell_type": "code",
   "execution_count": 86,
   "metadata": {},
   "outputs": [
    {
     "data": {
      "text/latex": [
       "$3.01 \\pm 0.072$"
      ],
      "text/plain": [
       "3.01 ± 0.072"
      ]
     },
     "execution_count": 86,
     "metadata": {},
     "output_type": "execute_result"
    }
   ],
   "source": [
    "a = (3.01 ± 0.072) "
   ]
  },
  {
   "cell_type": "code",
   "execution_count": 87,
   "metadata": {},
   "outputs": [
    {
     "data": {
      "text/plain": [
       "f (generic function with 1 method)"
      ]
     },
     "execution_count": 87,
     "metadata": {},
     "output_type": "execute_result"
    }
   ],
   "source": [
    "f(x,n) = a*x^n"
   ]
  },
  {
   "cell_type": "code",
   "execution_count": 88,
   "metadata": {},
   "outputs": [
    {
     "data": {
      "text/plain": [
       "(0.602 ± 0.017, 1.11e-16 ± 4.0e-18)"
      ]
     },
     "execution_count": 88,
     "metadata": {},
     "output_type": "execute_result"
    }
   ],
   "source": [
    "quadgk(x->f(x,4),(0.0 ± 0.01),(1 ± 0.003 ))"
   ]
  },
  {
   "cell_type": "markdown",
   "metadata": {},
   "source": [
    "`Plots.jl` has a recipe for creating errorbars from calculations with errors handled by `Measurements.jl`:"
   ]
  },
  {
   "cell_type": "code",
   "execution_count": 90,
   "metadata": {},
   "outputs": [],
   "source": [
    "using Plots"
   ]
  },
  {
   "cell_type": "code",
   "execution_count": 91,
   "metadata": {},
   "outputs": [
    {
     "data": {
      "image/svg+xml": [
       "<?xml version=\"1.0\" encoding=\"utf-8\"?>\n",
       "<svg xmlns=\"http://www.w3.org/2000/svg\" xmlns:xlink=\"http://www.w3.org/1999/xlink\" width=\"600\" height=\"300\" viewBox=\"0 0 2400 1200\">\n",
       "<defs>\n",
       "  <clipPath id=\"clip0800\">\n",
       "    <rect x=\"0\" y=\"0\" width=\"2400\" height=\"1200\"/>\n",
       "  </clipPath>\n",
       "</defs>\n",
       "<path clip-path=\"url(#clip0800)\" d=\"\n",
       "M0 1200 L2400 1200 L2400 0 L0 0  Z\n",
       "  \" fill=\"#ffffff\" fill-rule=\"evenodd\" fill-opacity=\"1\"/>\n",
       "<defs>\n",
       "  <clipPath id=\"clip0801\">\n",
       "    <rect x=\"480\" y=\"0\" width=\"1681\" height=\"1200\"/>\n",
       "  </clipPath>\n",
       "</defs>\n",
       "<path clip-path=\"url(#clip0800)\" d=\"\n",
       "M182.008 1087.47 L2352.76 1087.47 L2352.76 47.2441 L182.008 47.2441  Z\n",
       "  \" fill=\"#ffffff\" fill-rule=\"evenodd\" fill-opacity=\"1\"/>\n",
       "<defs>\n",
       "  <clipPath id=\"clip0802\">\n",
       "    <rect x=\"182\" y=\"47\" width=\"2172\" height=\"1041\"/>\n",
       "  </clipPath>\n",
       "</defs>\n",
       "<polyline clip-path=\"url(#clip0802)\" style=\"stroke:#000000; stroke-width:2; stroke-opacity:0.1; fill:none\" points=\"\n",
       "  488.299,1087.47 488.299,47.2441 \n",
       "  \"/>\n",
       "<polyline clip-path=\"url(#clip0802)\" style=\"stroke:#000000; stroke-width:2; stroke-opacity:0.1; fill:none\" points=\"\n",
       "  933.489,1087.47 933.489,47.2441 \n",
       "  \"/>\n",
       "<polyline clip-path=\"url(#clip0802)\" style=\"stroke:#000000; stroke-width:2; stroke-opacity:0.1; fill:none\" points=\"\n",
       "  1378.68,1087.47 1378.68,47.2441 \n",
       "  \"/>\n",
       "<polyline clip-path=\"url(#clip0802)\" style=\"stroke:#000000; stroke-width:2; stroke-opacity:0.1; fill:none\" points=\"\n",
       "  1823.87,1087.47 1823.87,47.2441 \n",
       "  \"/>\n",
       "<polyline clip-path=\"url(#clip0802)\" style=\"stroke:#000000; stroke-width:2; stroke-opacity:0.1; fill:none\" points=\"\n",
       "  2269.06,1087.47 2269.06,47.2441 \n",
       "  \"/>\n",
       "<polyline clip-path=\"url(#clip0802)\" style=\"stroke:#000000; stroke-width:2; stroke-opacity:0.1; fill:none\" points=\"\n",
       "  182.008,952.207 2352.76,952.207 \n",
       "  \"/>\n",
       "<polyline clip-path=\"url(#clip0802)\" style=\"stroke:#000000; stroke-width:2; stroke-opacity:0.1; fill:none\" points=\"\n",
       "  182.008,759.622 2352.76,759.622 \n",
       "  \"/>\n",
       "<polyline clip-path=\"url(#clip0802)\" style=\"stroke:#000000; stroke-width:2; stroke-opacity:0.1; fill:none\" points=\"\n",
       "  182.008,567.036 2352.76,567.036 \n",
       "  \"/>\n",
       "<polyline clip-path=\"url(#clip0802)\" style=\"stroke:#000000; stroke-width:2; stroke-opacity:0.1; fill:none\" points=\"\n",
       "  182.008,374.45 2352.76,374.45 \n",
       "  \"/>\n",
       "<polyline clip-path=\"url(#clip0802)\" style=\"stroke:#000000; stroke-width:2; stroke-opacity:0.1; fill:none\" points=\"\n",
       "  182.008,181.864 2352.76,181.864 \n",
       "  \"/>\n",
       "<polyline clip-path=\"url(#clip0800)\" style=\"stroke:#000000; stroke-width:4; stroke-opacity:1; fill:none\" points=\"\n",
       "  182.008,1087.47 2352.76,1087.47 \n",
       "  \"/>\n",
       "<polyline clip-path=\"url(#clip0800)\" style=\"stroke:#000000; stroke-width:4; stroke-opacity:1; fill:none\" points=\"\n",
       "  182.008,1087.47 182.008,47.2441 \n",
       "  \"/>\n",
       "<polyline clip-path=\"url(#clip0800)\" style=\"stroke:#000000; stroke-width:4; stroke-opacity:1; fill:none\" points=\"\n",
       "  488.299,1087.47 488.299,1074.99 \n",
       "  \"/>\n",
       "<polyline clip-path=\"url(#clip0800)\" style=\"stroke:#000000; stroke-width:4; stroke-opacity:1; fill:none\" points=\"\n",
       "  933.489,1087.47 933.489,1074.99 \n",
       "  \"/>\n",
       "<polyline clip-path=\"url(#clip0800)\" style=\"stroke:#000000; stroke-width:4; stroke-opacity:1; fill:none\" points=\"\n",
       "  1378.68,1087.47 1378.68,1074.99 \n",
       "  \"/>\n",
       "<polyline clip-path=\"url(#clip0800)\" style=\"stroke:#000000; stroke-width:4; stroke-opacity:1; fill:none\" points=\"\n",
       "  1823.87,1087.47 1823.87,1074.99 \n",
       "  \"/>\n",
       "<polyline clip-path=\"url(#clip0800)\" style=\"stroke:#000000; stroke-width:4; stroke-opacity:1; fill:none\" points=\"\n",
       "  2269.06,1087.47 2269.06,1074.99 \n",
       "  \"/>\n",
       "<polyline clip-path=\"url(#clip0800)\" style=\"stroke:#000000; stroke-width:4; stroke-opacity:1; fill:none\" points=\"\n",
       "  182.008,952.207 208.057,952.207 \n",
       "  \"/>\n",
       "<polyline clip-path=\"url(#clip0800)\" style=\"stroke:#000000; stroke-width:4; stroke-opacity:1; fill:none\" points=\"\n",
       "  182.008,759.622 208.057,759.622 \n",
       "  \"/>\n",
       "<polyline clip-path=\"url(#clip0800)\" style=\"stroke:#000000; stroke-width:4; stroke-opacity:1; fill:none\" points=\"\n",
       "  182.008,567.036 208.057,567.036 \n",
       "  \"/>\n",
       "<polyline clip-path=\"url(#clip0800)\" style=\"stroke:#000000; stroke-width:4; stroke-opacity:1; fill:none\" points=\"\n",
       "  182.008,374.45 208.057,374.45 \n",
       "  \"/>\n",
       "<polyline clip-path=\"url(#clip0800)\" style=\"stroke:#000000; stroke-width:4; stroke-opacity:1; fill:none\" points=\"\n",
       "  182.008,181.864 208.057,181.864 \n",
       "  \"/>\n",
       "<g clip-path=\"url(#clip0800)\">\n",
       "<text style=\"fill:#000000; fill-opacity:1; font-family:Arial,Helvetica Neue,Helvetica,sans-serif; font-size:48px; text-anchor:middle;\" transform=\"rotate(0, 488.299, 1141.47)\" x=\"488.299\" y=\"1141.47\">2</text>\n",
       "</g>\n",
       "<g clip-path=\"url(#clip0800)\">\n",
       "<text style=\"fill:#000000; fill-opacity:1; font-family:Arial,Helvetica Neue,Helvetica,sans-serif; font-size:48px; text-anchor:middle;\" transform=\"rotate(0, 933.489, 1141.47)\" x=\"933.489\" y=\"1141.47\">4</text>\n",
       "</g>\n",
       "<g clip-path=\"url(#clip0800)\">\n",
       "<text style=\"fill:#000000; fill-opacity:1; font-family:Arial,Helvetica Neue,Helvetica,sans-serif; font-size:48px; text-anchor:middle;\" transform=\"rotate(0, 1378.68, 1141.47)\" x=\"1378.68\" y=\"1141.47\">6</text>\n",
       "</g>\n",
       "<g clip-path=\"url(#clip0800)\">\n",
       "<text style=\"fill:#000000; fill-opacity:1; font-family:Arial,Helvetica Neue,Helvetica,sans-serif; font-size:48px; text-anchor:middle;\" transform=\"rotate(0, 1823.87, 1141.47)\" x=\"1823.87\" y=\"1141.47\">8</text>\n",
       "</g>\n",
       "<g clip-path=\"url(#clip0800)\">\n",
       "<text style=\"fill:#000000; fill-opacity:1; font-family:Arial,Helvetica Neue,Helvetica,sans-serif; font-size:48px; text-anchor:middle;\" transform=\"rotate(0, 2269.06, 1141.47)\" x=\"2269.06\" y=\"1141.47\">10</text>\n",
       "</g>\n",
       "<g clip-path=\"url(#clip0800)\">\n",
       "<text style=\"fill:#000000; fill-opacity:1; font-family:Arial,Helvetica Neue,Helvetica,sans-serif; font-size:48px; text-anchor:end;\" transform=\"rotate(0, 158.008, 969.707)\" x=\"158.008\" y=\"969.707\">-0.4</text>\n",
       "</g>\n",
       "<g clip-path=\"url(#clip0800)\">\n",
       "<text style=\"fill:#000000; fill-opacity:1; font-family:Arial,Helvetica Neue,Helvetica,sans-serif; font-size:48px; text-anchor:end;\" transform=\"rotate(0, 158.008, 777.122)\" x=\"158.008\" y=\"777.122\">-0.2</text>\n",
       "</g>\n",
       "<g clip-path=\"url(#clip0800)\">\n",
       "<text style=\"fill:#000000; fill-opacity:1; font-family:Arial,Helvetica Neue,Helvetica,sans-serif; font-size:48px; text-anchor:end;\" transform=\"rotate(0, 158.008, 584.536)\" x=\"158.008\" y=\"584.536\">0.0</text>\n",
       "</g>\n",
       "<g clip-path=\"url(#clip0800)\">\n",
       "<text style=\"fill:#000000; fill-opacity:1; font-family:Arial,Helvetica Neue,Helvetica,sans-serif; font-size:48px; text-anchor:end;\" transform=\"rotate(0, 158.008, 391.95)\" x=\"158.008\" y=\"391.95\">0.2</text>\n",
       "</g>\n",
       "<g clip-path=\"url(#clip0800)\">\n",
       "<text style=\"fill:#000000; fill-opacity:1; font-family:Arial,Helvetica Neue,Helvetica,sans-serif; font-size:48px; text-anchor:end;\" transform=\"rotate(0, 158.008, 199.364)\" x=\"158.008\" y=\"199.364\">0.4</text>\n",
       "</g>\n",
       "<polyline clip-path=\"url(#clip0802)\" style=\"stroke:#009af9; stroke-width:4; stroke-opacity:1; fill:none\" points=\"\n",
       "  265.704,129.242 310.223,241.824 354.742,405.751 399.261,595.141 443.78,780.094 488.299,931.409 532.818,1025.2 577.337,1046.65 621.856,992.388 666.375,870.968 \n",
       "  710.894,701.564 755.413,510.922 799.932,329.138 844.451,184.913 888.97,101.017 933.489,90.6952 978.008,155.577 1022.53,285.419 1067.05,459.722 1111.57,650.968 \n",
       "  1156.08,828.963 1200.6,965.605 1245.12,1039.32 1289.64,1038.47 1334.16,963.198 1378.68,825.377 1423.2,646.768 1467.72,455.572 1512.24,281.974 1556.76,153.38 \n",
       "  1601.27,90.0938 1645.79,102.106 1690.31,187.521 1734.83,332.852 1779.35,515.156 1823.87,705.651 1868.39,874.261 1912.91,994.368 1957.43,1047.01 2001.95,1023.87 \n",
       "  2046.46,928.609 2090.98,776.264 2135.5,590.886 2180.02,401.742 2224.54,238.695 2269.06,127.485 \n",
       "  \"/>\n",
       "<polyline clip-path=\"url(#clip0802)\" style=\"stroke:#009af9; stroke-width:4; stroke-opacity:1; fill:none\" points=\"\n",
       "  243.444,129.242 287.963,129.242 \n",
       "  \"/>\n",
       "<polyline clip-path=\"url(#clip0802)\" style=\"stroke:#009af9; stroke-width:4; stroke-opacity:1; fill:none\" points=\"\n",
       "  287.963,241.824 332.482,241.824 \n",
       "  \"/>\n",
       "<polyline clip-path=\"url(#clip0802)\" style=\"stroke:#009af9; stroke-width:4; stroke-opacity:1; fill:none\" points=\"\n",
       "  332.482,405.751 377.001,405.751 \n",
       "  \"/>\n",
       "<polyline clip-path=\"url(#clip0802)\" style=\"stroke:#009af9; stroke-width:4; stroke-opacity:1; fill:none\" points=\"\n",
       "  377.001,595.141 421.52,595.141 \n",
       "  \"/>\n",
       "<polyline clip-path=\"url(#clip0802)\" style=\"stroke:#009af9; stroke-width:4; stroke-opacity:1; fill:none\" points=\"\n",
       "  421.52,780.094 466.039,780.094 \n",
       "  \"/>\n",
       "<polyline clip-path=\"url(#clip0802)\" style=\"stroke:#009af9; stroke-width:4; stroke-opacity:1; fill:none\" points=\"\n",
       "  466.039,931.409 510.558,931.409 \n",
       "  \"/>\n",
       "<polyline clip-path=\"url(#clip0802)\" style=\"stroke:#009af9; stroke-width:4; stroke-opacity:1; fill:none\" points=\"\n",
       "  510.558,1025.2 555.078,1025.2 \n",
       "  \"/>\n",
       "<polyline clip-path=\"url(#clip0802)\" style=\"stroke:#009af9; stroke-width:4; stroke-opacity:1; fill:none\" points=\"\n",
       "  555.078,1046.65 599.597,1046.65 \n",
       "  \"/>\n",
       "<polyline clip-path=\"url(#clip0802)\" style=\"stroke:#009af9; stroke-width:4; stroke-opacity:1; fill:none\" points=\"\n",
       "  599.597,992.388 644.116,992.388 \n",
       "  \"/>\n",
       "<polyline clip-path=\"url(#clip0802)\" style=\"stroke:#009af9; stroke-width:4; stroke-opacity:1; fill:none\" points=\"\n",
       "  644.116,870.968 688.635,870.968 \n",
       "  \"/>\n",
       "<polyline clip-path=\"url(#clip0802)\" style=\"stroke:#009af9; stroke-width:4; stroke-opacity:1; fill:none\" points=\"\n",
       "  688.635,701.564 733.154,701.564 \n",
       "  \"/>\n",
       "<polyline clip-path=\"url(#clip0802)\" style=\"stroke:#009af9; stroke-width:4; stroke-opacity:1; fill:none\" points=\"\n",
       "  733.154,510.922 777.673,510.922 \n",
       "  \"/>\n",
       "<polyline clip-path=\"url(#clip0802)\" style=\"stroke:#009af9; stroke-width:4; stroke-opacity:1; fill:none\" points=\"\n",
       "  777.673,329.138 822.192,329.138 \n",
       "  \"/>\n",
       "<polyline clip-path=\"url(#clip0802)\" style=\"stroke:#009af9; stroke-width:4; stroke-opacity:1; fill:none\" points=\"\n",
       "  822.192,184.913 866.711,184.913 \n",
       "  \"/>\n",
       "<polyline clip-path=\"url(#clip0802)\" style=\"stroke:#009af9; stroke-width:4; stroke-opacity:1; fill:none\" points=\"\n",
       "  866.711,101.017 911.23,101.017 \n",
       "  \"/>\n",
       "<polyline clip-path=\"url(#clip0802)\" style=\"stroke:#009af9; stroke-width:4; stroke-opacity:1; fill:none\" points=\"\n",
       "  911.23,90.6952 955.749,90.6952 \n",
       "  \"/>\n",
       "<polyline clip-path=\"url(#clip0802)\" style=\"stroke:#009af9; stroke-width:4; stroke-opacity:1; fill:none\" points=\"\n",
       "  955.749,155.577 1000.27,155.577 \n",
       "  \"/>\n",
       "<polyline clip-path=\"url(#clip0802)\" style=\"stroke:#009af9; stroke-width:4; stroke-opacity:1; fill:none\" points=\"\n",
       "  1000.27,285.419 1044.79,285.419 \n",
       "  \"/>\n",
       "<polyline clip-path=\"url(#clip0802)\" style=\"stroke:#009af9; stroke-width:4; stroke-opacity:1; fill:none\" points=\"\n",
       "  1044.79,459.722 1089.31,459.722 \n",
       "  \"/>\n",
       "<polyline clip-path=\"url(#clip0802)\" style=\"stroke:#009af9; stroke-width:4; stroke-opacity:1; fill:none\" points=\"\n",
       "  1089.31,650.968 1133.82,650.968 \n",
       "  \"/>\n",
       "<polyline clip-path=\"url(#clip0802)\" style=\"stroke:#009af9; stroke-width:4; stroke-opacity:1; fill:none\" points=\"\n",
       "  1133.82,828.963 1178.34,828.963 \n",
       "  \"/>\n",
       "<polyline clip-path=\"url(#clip0802)\" style=\"stroke:#009af9; stroke-width:4; stroke-opacity:1; fill:none\" points=\"\n",
       "  1178.34,965.605 1222.86,965.605 \n",
       "  \"/>\n",
       "<polyline clip-path=\"url(#clip0802)\" style=\"stroke:#009af9; stroke-width:4; stroke-opacity:1; fill:none\" points=\"\n",
       "  1222.86,1039.32 1267.38,1039.32 \n",
       "  \"/>\n",
       "<polyline clip-path=\"url(#clip0802)\" style=\"stroke:#009af9; stroke-width:4; stroke-opacity:1; fill:none\" points=\"\n",
       "  1267.38,1038.47 1311.9,1038.47 \n",
       "  \"/>\n",
       "<polyline clip-path=\"url(#clip0802)\" style=\"stroke:#009af9; stroke-width:4; stroke-opacity:1; fill:none\" points=\"\n",
       "  1311.9,963.198 1356.42,963.198 \n",
       "  \"/>\n",
       "<polyline clip-path=\"url(#clip0802)\" style=\"stroke:#009af9; stroke-width:4; stroke-opacity:1; fill:none\" points=\"\n",
       "  1356.42,825.377 1400.94,825.377 \n",
       "  \"/>\n",
       "<polyline clip-path=\"url(#clip0802)\" style=\"stroke:#009af9; stroke-width:4; stroke-opacity:1; fill:none\" points=\"\n",
       "  1400.94,646.768 1445.46,646.768 \n",
       "  \"/>\n",
       "<polyline clip-path=\"url(#clip0802)\" style=\"stroke:#009af9; stroke-width:4; stroke-opacity:1; fill:none\" points=\"\n",
       "  1445.46,455.572 1489.98,455.572 \n",
       "  \"/>\n",
       "<polyline clip-path=\"url(#clip0802)\" style=\"stroke:#009af9; stroke-width:4; stroke-opacity:1; fill:none\" points=\"\n",
       "  1489.98,281.974 1534.5,281.974 \n",
       "  \"/>\n",
       "<polyline clip-path=\"url(#clip0802)\" style=\"stroke:#009af9; stroke-width:4; stroke-opacity:1; fill:none\" points=\"\n",
       "  1534.5,153.38 1579.02,153.38 \n",
       "  \"/>\n",
       "<polyline clip-path=\"url(#clip0802)\" style=\"stroke:#009af9; stroke-width:4; stroke-opacity:1; fill:none\" points=\"\n",
       "  1579.02,90.0938 1623.53,90.0938 \n",
       "  \"/>\n",
       "<polyline clip-path=\"url(#clip0802)\" style=\"stroke:#009af9; stroke-width:4; stroke-opacity:1; fill:none\" points=\"\n",
       "  1623.53,102.106 1668.05,102.106 \n",
       "  \"/>\n",
       "<polyline clip-path=\"url(#clip0802)\" style=\"stroke:#009af9; stroke-width:4; stroke-opacity:1; fill:none\" points=\"\n",
       "  1668.05,187.521 1712.57,187.521 \n",
       "  \"/>\n",
       "<polyline clip-path=\"url(#clip0802)\" style=\"stroke:#009af9; stroke-width:4; stroke-opacity:1; fill:none\" points=\"\n",
       "  1712.57,332.852 1757.09,332.852 \n",
       "  \"/>\n",
       "<polyline clip-path=\"url(#clip0802)\" style=\"stroke:#009af9; stroke-width:4; stroke-opacity:1; fill:none\" points=\"\n",
       "  1757.09,515.156 1801.61,515.156 \n",
       "  \"/>\n",
       "<polyline clip-path=\"url(#clip0802)\" style=\"stroke:#009af9; stroke-width:4; stroke-opacity:1; fill:none\" points=\"\n",
       "  1801.61,705.651 1846.13,705.651 \n",
       "  \"/>\n",
       "<polyline clip-path=\"url(#clip0802)\" style=\"stroke:#009af9; stroke-width:4; stroke-opacity:1; fill:none\" points=\"\n",
       "  1846.13,874.261 1890.65,874.261 \n",
       "  \"/>\n",
       "<polyline clip-path=\"url(#clip0802)\" style=\"stroke:#009af9; stroke-width:4; stroke-opacity:1; fill:none\" points=\"\n",
       "  1890.65,994.368 1935.17,994.368 \n",
       "  \"/>\n",
       "<polyline clip-path=\"url(#clip0802)\" style=\"stroke:#009af9; stroke-width:4; stroke-opacity:1; fill:none\" points=\"\n",
       "  1935.17,1047.01 1979.69,1047.01 \n",
       "  \"/>\n",
       "<polyline clip-path=\"url(#clip0802)\" style=\"stroke:#009af9; stroke-width:4; stroke-opacity:1; fill:none\" points=\"\n",
       "  1979.69,1023.87 2024.21,1023.87 \n",
       "  \"/>\n",
       "<polyline clip-path=\"url(#clip0802)\" style=\"stroke:#009af9; stroke-width:4; stroke-opacity:1; fill:none\" points=\"\n",
       "  2024.21,928.609 2068.72,928.609 \n",
       "  \"/>\n",
       "<polyline clip-path=\"url(#clip0802)\" style=\"stroke:#009af9; stroke-width:4; stroke-opacity:1; fill:none\" points=\"\n",
       "  2068.72,776.264 2113.24,776.264 \n",
       "  \"/>\n",
       "<polyline clip-path=\"url(#clip0802)\" style=\"stroke:#009af9; stroke-width:4; stroke-opacity:1; fill:none\" points=\"\n",
       "  2113.24,590.886 2157.76,590.886 \n",
       "  \"/>\n",
       "<polyline clip-path=\"url(#clip0802)\" style=\"stroke:#009af9; stroke-width:4; stroke-opacity:1; fill:none\" points=\"\n",
       "  2157.76,401.742 2202.28,401.742 \n",
       "  \"/>\n",
       "<polyline clip-path=\"url(#clip0802)\" style=\"stroke:#009af9; stroke-width:4; stroke-opacity:1; fill:none\" points=\"\n",
       "  2202.28,238.695 2246.8,238.695 \n",
       "  \"/>\n",
       "<polyline clip-path=\"url(#clip0802)\" style=\"stroke:#009af9; stroke-width:4; stroke-opacity:1; fill:none\" points=\"\n",
       "  2246.8,127.485 2291.32,127.485 \n",
       "  \"/>\n",
       "<line clip-path=\"url(#clip0802)\" x1=\"243.444\" y1=\"109.242\" x2=\"243.444\" y2=\"149.242\" style=\"stroke:#000000; stroke-width:4; stroke-opacity:1\"/>\n",
       "<line clip-path=\"url(#clip0802)\" x1=\"287.963\" y1=\"109.242\" x2=\"287.963\" y2=\"149.242\" style=\"stroke:#000000; stroke-width:4; stroke-opacity:1\"/>\n",
       "<line clip-path=\"url(#clip0802)\" x1=\"287.963\" y1=\"221.824\" x2=\"287.963\" y2=\"261.824\" style=\"stroke:#000000; stroke-width:4; stroke-opacity:1\"/>\n",
       "<line clip-path=\"url(#clip0802)\" x1=\"332.482\" y1=\"221.824\" x2=\"332.482\" y2=\"261.824\" style=\"stroke:#000000; stroke-width:4; stroke-opacity:1\"/>\n",
       "<line clip-path=\"url(#clip0802)\" x1=\"332.482\" y1=\"385.751\" x2=\"332.482\" y2=\"425.751\" style=\"stroke:#000000; stroke-width:4; stroke-opacity:1\"/>\n",
       "<line clip-path=\"url(#clip0802)\" x1=\"377.001\" y1=\"385.751\" x2=\"377.001\" y2=\"425.751\" style=\"stroke:#000000; stroke-width:4; stroke-opacity:1\"/>\n",
       "<line clip-path=\"url(#clip0802)\" x1=\"377.001\" y1=\"575.141\" x2=\"377.001\" y2=\"615.141\" style=\"stroke:#000000; stroke-width:4; stroke-opacity:1\"/>\n",
       "<line clip-path=\"url(#clip0802)\" x1=\"421.52\" y1=\"575.141\" x2=\"421.52\" y2=\"615.141\" style=\"stroke:#000000; stroke-width:4; stroke-opacity:1\"/>\n",
       "<line clip-path=\"url(#clip0802)\" x1=\"421.52\" y1=\"760.094\" x2=\"421.52\" y2=\"800.094\" style=\"stroke:#000000; stroke-width:4; stroke-opacity:1\"/>\n",
       "<line clip-path=\"url(#clip0802)\" x1=\"466.039\" y1=\"760.094\" x2=\"466.039\" y2=\"800.094\" style=\"stroke:#000000; stroke-width:4; stroke-opacity:1\"/>\n",
       "<line clip-path=\"url(#clip0802)\" x1=\"466.039\" y1=\"911.409\" x2=\"466.039\" y2=\"951.409\" style=\"stroke:#000000; stroke-width:4; stroke-opacity:1\"/>\n",
       "<line clip-path=\"url(#clip0802)\" x1=\"510.558\" y1=\"911.409\" x2=\"510.558\" y2=\"951.409\" style=\"stroke:#000000; stroke-width:4; stroke-opacity:1\"/>\n",
       "<line clip-path=\"url(#clip0802)\" x1=\"510.558\" y1=\"1005.2\" x2=\"510.558\" y2=\"1045.2\" style=\"stroke:#000000; stroke-width:4; stroke-opacity:1\"/>\n",
       "<line clip-path=\"url(#clip0802)\" x1=\"555.078\" y1=\"1005.2\" x2=\"555.078\" y2=\"1045.2\" style=\"stroke:#000000; stroke-width:4; stroke-opacity:1\"/>\n",
       "<line clip-path=\"url(#clip0802)\" x1=\"555.078\" y1=\"1026.65\" x2=\"555.078\" y2=\"1066.65\" style=\"stroke:#000000; stroke-width:4; stroke-opacity:1\"/>\n",
       "<line clip-path=\"url(#clip0802)\" x1=\"599.597\" y1=\"1026.65\" x2=\"599.597\" y2=\"1066.65\" style=\"stroke:#000000; stroke-width:4; stroke-opacity:1\"/>\n",
       "<line clip-path=\"url(#clip0802)\" x1=\"599.597\" y1=\"972.388\" x2=\"599.597\" y2=\"1012.39\" style=\"stroke:#000000; stroke-width:4; stroke-opacity:1\"/>\n",
       "<line clip-path=\"url(#clip0802)\" x1=\"644.116\" y1=\"972.388\" x2=\"644.116\" y2=\"1012.39\" style=\"stroke:#000000; stroke-width:4; stroke-opacity:1\"/>\n",
       "<line clip-path=\"url(#clip0802)\" x1=\"644.116\" y1=\"850.968\" x2=\"644.116\" y2=\"890.968\" style=\"stroke:#000000; stroke-width:4; stroke-opacity:1\"/>\n",
       "<line clip-path=\"url(#clip0802)\" x1=\"688.635\" y1=\"850.968\" x2=\"688.635\" y2=\"890.968\" style=\"stroke:#000000; stroke-width:4; stroke-opacity:1\"/>\n",
       "<line clip-path=\"url(#clip0802)\" x1=\"688.635\" y1=\"681.564\" x2=\"688.635\" y2=\"721.564\" style=\"stroke:#000000; stroke-width:4; stroke-opacity:1\"/>\n",
       "<line clip-path=\"url(#clip0802)\" x1=\"733.154\" y1=\"681.564\" x2=\"733.154\" y2=\"721.564\" style=\"stroke:#000000; stroke-width:4; stroke-opacity:1\"/>\n",
       "<line clip-path=\"url(#clip0802)\" x1=\"733.154\" y1=\"490.922\" x2=\"733.154\" y2=\"530.922\" style=\"stroke:#000000; stroke-width:4; stroke-opacity:1\"/>\n",
       "<line clip-path=\"url(#clip0802)\" x1=\"777.673\" y1=\"490.922\" x2=\"777.673\" y2=\"530.922\" style=\"stroke:#000000; stroke-width:4; stroke-opacity:1\"/>\n",
       "<line clip-path=\"url(#clip0802)\" x1=\"777.673\" y1=\"309.138\" x2=\"777.673\" y2=\"349.138\" style=\"stroke:#000000; stroke-width:4; stroke-opacity:1\"/>\n",
       "<line clip-path=\"url(#clip0802)\" x1=\"822.192\" y1=\"309.138\" x2=\"822.192\" y2=\"349.138\" style=\"stroke:#000000; stroke-width:4; stroke-opacity:1\"/>\n",
       "<line clip-path=\"url(#clip0802)\" x1=\"822.192\" y1=\"164.913\" x2=\"822.192\" y2=\"204.913\" style=\"stroke:#000000; stroke-width:4; stroke-opacity:1\"/>\n",
       "<line clip-path=\"url(#clip0802)\" x1=\"866.711\" y1=\"164.913\" x2=\"866.711\" y2=\"204.913\" style=\"stroke:#000000; stroke-width:4; stroke-opacity:1\"/>\n",
       "<line clip-path=\"url(#clip0802)\" x1=\"866.711\" y1=\"81.0171\" x2=\"866.711\" y2=\"121.017\" style=\"stroke:#000000; stroke-width:4; stroke-opacity:1\"/>\n",
       "<line clip-path=\"url(#clip0802)\" x1=\"911.23\" y1=\"81.0171\" x2=\"911.23\" y2=\"121.017\" style=\"stroke:#000000; stroke-width:4; stroke-opacity:1\"/>\n",
       "<line clip-path=\"url(#clip0802)\" x1=\"911.23\" y1=\"70.6952\" x2=\"911.23\" y2=\"110.695\" style=\"stroke:#000000; stroke-width:4; stroke-opacity:1\"/>\n",
       "<line clip-path=\"url(#clip0802)\" x1=\"955.749\" y1=\"70.6952\" x2=\"955.749\" y2=\"110.695\" style=\"stroke:#000000; stroke-width:4; stroke-opacity:1\"/>\n",
       "<line clip-path=\"url(#clip0802)\" x1=\"955.749\" y1=\"135.577\" x2=\"955.749\" y2=\"175.577\" style=\"stroke:#000000; stroke-width:4; stroke-opacity:1\"/>\n",
       "<line clip-path=\"url(#clip0802)\" x1=\"1000.27\" y1=\"135.577\" x2=\"1000.27\" y2=\"175.577\" style=\"stroke:#000000; stroke-width:4; stroke-opacity:1\"/>\n",
       "<line clip-path=\"url(#clip0802)\" x1=\"1000.27\" y1=\"265.419\" x2=\"1000.27\" y2=\"305.419\" style=\"stroke:#000000; stroke-width:4; stroke-opacity:1\"/>\n",
       "<line clip-path=\"url(#clip0802)\" x1=\"1044.79\" y1=\"265.419\" x2=\"1044.79\" y2=\"305.419\" style=\"stroke:#000000; stroke-width:4; stroke-opacity:1\"/>\n",
       "<line clip-path=\"url(#clip0802)\" x1=\"1044.79\" y1=\"439.722\" x2=\"1044.79\" y2=\"479.722\" style=\"stroke:#000000; stroke-width:4; stroke-opacity:1\"/>\n",
       "<line clip-path=\"url(#clip0802)\" x1=\"1089.31\" y1=\"439.722\" x2=\"1089.31\" y2=\"479.722\" style=\"stroke:#000000; stroke-width:4; stroke-opacity:1\"/>\n",
       "<line clip-path=\"url(#clip0802)\" x1=\"1089.31\" y1=\"630.968\" x2=\"1089.31\" y2=\"670.968\" style=\"stroke:#000000; stroke-width:4; stroke-opacity:1\"/>\n",
       "<line clip-path=\"url(#clip0802)\" x1=\"1133.82\" y1=\"630.968\" x2=\"1133.82\" y2=\"670.968\" style=\"stroke:#000000; stroke-width:4; stroke-opacity:1\"/>\n",
       "<line clip-path=\"url(#clip0802)\" x1=\"1133.82\" y1=\"808.963\" x2=\"1133.82\" y2=\"848.963\" style=\"stroke:#000000; stroke-width:4; stroke-opacity:1\"/>\n",
       "<line clip-path=\"url(#clip0802)\" x1=\"1178.34\" y1=\"808.963\" x2=\"1178.34\" y2=\"848.963\" style=\"stroke:#000000; stroke-width:4; stroke-opacity:1\"/>\n",
       "<line clip-path=\"url(#clip0802)\" x1=\"1178.34\" y1=\"945.605\" x2=\"1178.34\" y2=\"985.605\" style=\"stroke:#000000; stroke-width:4; stroke-opacity:1\"/>\n",
       "<line clip-path=\"url(#clip0802)\" x1=\"1222.86\" y1=\"945.605\" x2=\"1222.86\" y2=\"985.605\" style=\"stroke:#000000; stroke-width:4; stroke-opacity:1\"/>\n",
       "<line clip-path=\"url(#clip0802)\" x1=\"1222.86\" y1=\"1019.32\" x2=\"1222.86\" y2=\"1059.32\" style=\"stroke:#000000; stroke-width:4; stroke-opacity:1\"/>\n",
       "<line clip-path=\"url(#clip0802)\" x1=\"1267.38\" y1=\"1019.32\" x2=\"1267.38\" y2=\"1059.32\" style=\"stroke:#000000; stroke-width:4; stroke-opacity:1\"/>\n",
       "<line clip-path=\"url(#clip0802)\" x1=\"1267.38\" y1=\"1018.47\" x2=\"1267.38\" y2=\"1058.47\" style=\"stroke:#000000; stroke-width:4; stroke-opacity:1\"/>\n",
       "<line clip-path=\"url(#clip0802)\" x1=\"1311.9\" y1=\"1018.47\" x2=\"1311.9\" y2=\"1058.47\" style=\"stroke:#000000; stroke-width:4; stroke-opacity:1\"/>\n",
       "<line clip-path=\"url(#clip0802)\" x1=\"1311.9\" y1=\"943.198\" x2=\"1311.9\" y2=\"983.198\" style=\"stroke:#000000; stroke-width:4; stroke-opacity:1\"/>\n",
       "<line clip-path=\"url(#clip0802)\" x1=\"1356.42\" y1=\"943.198\" x2=\"1356.42\" y2=\"983.198\" style=\"stroke:#000000; stroke-width:4; stroke-opacity:1\"/>\n",
       "<line clip-path=\"url(#clip0802)\" x1=\"1356.42\" y1=\"805.377\" x2=\"1356.42\" y2=\"845.377\" style=\"stroke:#000000; stroke-width:4; stroke-opacity:1\"/>\n",
       "<line clip-path=\"url(#clip0802)\" x1=\"1400.94\" y1=\"805.377\" x2=\"1400.94\" y2=\"845.377\" style=\"stroke:#000000; stroke-width:4; stroke-opacity:1\"/>\n",
       "<line clip-path=\"url(#clip0802)\" x1=\"1400.94\" y1=\"626.768\" x2=\"1400.94\" y2=\"666.768\" style=\"stroke:#000000; stroke-width:4; stroke-opacity:1\"/>\n",
       "<line clip-path=\"url(#clip0802)\" x1=\"1445.46\" y1=\"626.768\" x2=\"1445.46\" y2=\"666.768\" style=\"stroke:#000000; stroke-width:4; stroke-opacity:1\"/>\n",
       "<line clip-path=\"url(#clip0802)\" x1=\"1445.46\" y1=\"435.572\" x2=\"1445.46\" y2=\"475.572\" style=\"stroke:#000000; stroke-width:4; stroke-opacity:1\"/>\n",
       "<line clip-path=\"url(#clip0802)\" x1=\"1489.98\" y1=\"435.572\" x2=\"1489.98\" y2=\"475.572\" style=\"stroke:#000000; stroke-width:4; stroke-opacity:1\"/>\n",
       "<line clip-path=\"url(#clip0802)\" x1=\"1489.98\" y1=\"261.974\" x2=\"1489.98\" y2=\"301.974\" style=\"stroke:#000000; stroke-width:4; stroke-opacity:1\"/>\n",
       "<line clip-path=\"url(#clip0802)\" x1=\"1534.5\" y1=\"261.974\" x2=\"1534.5\" y2=\"301.974\" style=\"stroke:#000000; stroke-width:4; stroke-opacity:1\"/>\n",
       "<line clip-path=\"url(#clip0802)\" x1=\"1534.5\" y1=\"133.38\" x2=\"1534.5\" y2=\"173.38\" style=\"stroke:#000000; stroke-width:4; stroke-opacity:1\"/>\n",
       "<line clip-path=\"url(#clip0802)\" x1=\"1579.02\" y1=\"133.38\" x2=\"1579.02\" y2=\"173.38\" style=\"stroke:#000000; stroke-width:4; stroke-opacity:1\"/>\n",
       "<line clip-path=\"url(#clip0802)\" x1=\"1579.02\" y1=\"70.0938\" x2=\"1579.02\" y2=\"110.094\" style=\"stroke:#000000; stroke-width:4; stroke-opacity:1\"/>\n",
       "<line clip-path=\"url(#clip0802)\" x1=\"1623.53\" y1=\"70.0938\" x2=\"1623.53\" y2=\"110.094\" style=\"stroke:#000000; stroke-width:4; stroke-opacity:1\"/>\n",
       "<line clip-path=\"url(#clip0802)\" x1=\"1623.53\" y1=\"82.1061\" x2=\"1623.53\" y2=\"122.106\" style=\"stroke:#000000; stroke-width:4; stroke-opacity:1\"/>\n",
       "<line clip-path=\"url(#clip0802)\" x1=\"1668.05\" y1=\"82.1061\" x2=\"1668.05\" y2=\"122.106\" style=\"stroke:#000000; stroke-width:4; stroke-opacity:1\"/>\n",
       "<line clip-path=\"url(#clip0802)\" x1=\"1668.05\" y1=\"167.521\" x2=\"1668.05\" y2=\"207.521\" style=\"stroke:#000000; stroke-width:4; stroke-opacity:1\"/>\n",
       "<line clip-path=\"url(#clip0802)\" x1=\"1712.57\" y1=\"167.521\" x2=\"1712.57\" y2=\"207.521\" style=\"stroke:#000000; stroke-width:4; stroke-opacity:1\"/>\n",
       "<line clip-path=\"url(#clip0802)\" x1=\"1712.57\" y1=\"312.852\" x2=\"1712.57\" y2=\"352.852\" style=\"stroke:#000000; stroke-width:4; stroke-opacity:1\"/>\n",
       "<line clip-path=\"url(#clip0802)\" x1=\"1757.09\" y1=\"312.852\" x2=\"1757.09\" y2=\"352.852\" style=\"stroke:#000000; stroke-width:4; stroke-opacity:1\"/>\n",
       "<line clip-path=\"url(#clip0802)\" x1=\"1757.09\" y1=\"495.156\" x2=\"1757.09\" y2=\"535.156\" style=\"stroke:#000000; stroke-width:4; stroke-opacity:1\"/>\n",
       "<line clip-path=\"url(#clip0802)\" x1=\"1801.61\" y1=\"495.156\" x2=\"1801.61\" y2=\"535.156\" style=\"stroke:#000000; stroke-width:4; stroke-opacity:1\"/>\n",
       "<line clip-path=\"url(#clip0802)\" x1=\"1801.61\" y1=\"685.651\" x2=\"1801.61\" y2=\"725.651\" style=\"stroke:#000000; stroke-width:4; stroke-opacity:1\"/>\n",
       "<line clip-path=\"url(#clip0802)\" x1=\"1846.13\" y1=\"685.651\" x2=\"1846.13\" y2=\"725.651\" style=\"stroke:#000000; stroke-width:4; stroke-opacity:1\"/>\n",
       "<line clip-path=\"url(#clip0802)\" x1=\"1846.13\" y1=\"854.261\" x2=\"1846.13\" y2=\"894.261\" style=\"stroke:#000000; stroke-width:4; stroke-opacity:1\"/>\n",
       "<line clip-path=\"url(#clip0802)\" x1=\"1890.65\" y1=\"854.261\" x2=\"1890.65\" y2=\"894.261\" style=\"stroke:#000000; stroke-width:4; stroke-opacity:1\"/>\n",
       "<line clip-path=\"url(#clip0802)\" x1=\"1890.65\" y1=\"974.368\" x2=\"1890.65\" y2=\"1014.37\" style=\"stroke:#000000; stroke-width:4; stroke-opacity:1\"/>\n",
       "<line clip-path=\"url(#clip0802)\" x1=\"1935.17\" y1=\"974.368\" x2=\"1935.17\" y2=\"1014.37\" style=\"stroke:#000000; stroke-width:4; stroke-opacity:1\"/>\n",
       "<line clip-path=\"url(#clip0802)\" x1=\"1935.17\" y1=\"1027.01\" x2=\"1935.17\" y2=\"1067.01\" style=\"stroke:#000000; stroke-width:4; stroke-opacity:1\"/>\n",
       "<line clip-path=\"url(#clip0802)\" x1=\"1979.69\" y1=\"1027.01\" x2=\"1979.69\" y2=\"1067.01\" style=\"stroke:#000000; stroke-width:4; stroke-opacity:1\"/>\n",
       "<line clip-path=\"url(#clip0802)\" x1=\"1979.69\" y1=\"1003.87\" x2=\"1979.69\" y2=\"1043.87\" style=\"stroke:#000000; stroke-width:4; stroke-opacity:1\"/>\n",
       "<line clip-path=\"url(#clip0802)\" x1=\"2024.21\" y1=\"1003.87\" x2=\"2024.21\" y2=\"1043.87\" style=\"stroke:#000000; stroke-width:4; stroke-opacity:1\"/>\n",
       "<line clip-path=\"url(#clip0802)\" x1=\"2024.21\" y1=\"908.609\" x2=\"2024.21\" y2=\"948.609\" style=\"stroke:#000000; stroke-width:4; stroke-opacity:1\"/>\n",
       "<line clip-path=\"url(#clip0802)\" x1=\"2068.72\" y1=\"908.609\" x2=\"2068.72\" y2=\"948.609\" style=\"stroke:#000000; stroke-width:4; stroke-opacity:1\"/>\n",
       "<line clip-path=\"url(#clip0802)\" x1=\"2068.72\" y1=\"756.264\" x2=\"2068.72\" y2=\"796.264\" style=\"stroke:#000000; stroke-width:4; stroke-opacity:1\"/>\n",
       "<line clip-path=\"url(#clip0802)\" x1=\"2113.24\" y1=\"756.264\" x2=\"2113.24\" y2=\"796.264\" style=\"stroke:#000000; stroke-width:4; stroke-opacity:1\"/>\n",
       "<line clip-path=\"url(#clip0802)\" x1=\"2113.24\" y1=\"570.886\" x2=\"2113.24\" y2=\"610.886\" style=\"stroke:#000000; stroke-width:4; stroke-opacity:1\"/>\n",
       "<line clip-path=\"url(#clip0802)\" x1=\"2157.76\" y1=\"570.886\" x2=\"2157.76\" y2=\"610.886\" style=\"stroke:#000000; stroke-width:4; stroke-opacity:1\"/>\n",
       "<line clip-path=\"url(#clip0802)\" x1=\"2157.76\" y1=\"381.742\" x2=\"2157.76\" y2=\"421.742\" style=\"stroke:#000000; stroke-width:4; stroke-opacity:1\"/>\n",
       "<line clip-path=\"url(#clip0802)\" x1=\"2202.28\" y1=\"381.742\" x2=\"2202.28\" y2=\"421.742\" style=\"stroke:#000000; stroke-width:4; stroke-opacity:1\"/>\n",
       "<line clip-path=\"url(#clip0802)\" x1=\"2202.28\" y1=\"218.695\" x2=\"2202.28\" y2=\"258.695\" style=\"stroke:#000000; stroke-width:4; stroke-opacity:1\"/>\n",
       "<line clip-path=\"url(#clip0802)\" x1=\"2246.8\" y1=\"218.695\" x2=\"2246.8\" y2=\"258.695\" style=\"stroke:#000000; stroke-width:4; stroke-opacity:1\"/>\n",
       "<line clip-path=\"url(#clip0802)\" x1=\"2246.8\" y1=\"107.485\" x2=\"2246.8\" y2=\"147.485\" style=\"stroke:#000000; stroke-width:4; stroke-opacity:1\"/>\n",
       "<line clip-path=\"url(#clip0802)\" x1=\"2291.32\" y1=\"107.485\" x2=\"2291.32\" y2=\"147.485\" style=\"stroke:#000000; stroke-width:4; stroke-opacity:1\"/>\n",
       "<polyline clip-path=\"url(#clip0802)\" style=\"stroke:#009af9; stroke-width:4; stroke-opacity:1; fill:none\" points=\"\n",
       "  265.704,169.314 265.704,89.1697 \n",
       "  \"/>\n",
       "<polyline clip-path=\"url(#clip0802)\" style=\"stroke:#009af9; stroke-width:4; stroke-opacity:1; fill:none\" points=\"\n",
       "  310.223,312.83 310.223,170.819 \n",
       "  \"/>\n",
       "<polyline clip-path=\"url(#clip0802)\" style=\"stroke:#009af9; stroke-width:4; stroke-opacity:1; fill:none\" points=\"\n",
       "  354.742,496.48 354.742,315.022 \n",
       "  \"/>\n",
       "<polyline clip-path=\"url(#clip0802)\" style=\"stroke:#009af9; stroke-width:4; stroke-opacity:1; fill:none\" points=\"\n",
       "  399.261,691.27 399.261,499.012 \n",
       "  \"/>\n",
       "<polyline clip-path=\"url(#clip0802)\" style=\"stroke:#009af9; stroke-width:4; stroke-opacity:1; fill:none\" points=\"\n",
       "  443.78,866.445 443.78,693.742 \n",
       "  \"/>\n",
       "<polyline clip-path=\"url(#clip0802)\" style=\"stroke:#009af9; stroke-width:4; stroke-opacity:1; fill:none\" points=\"\n",
       "  488.299,994.35 488.299,868.468 \n",
       "  \"/>\n",
       "<polyline clip-path=\"url(#clip0802)\" style=\"stroke:#009af9; stroke-width:4; stroke-opacity:1; fill:none\" points=\"\n",
       "  532.818,1054.79 532.818,995.604 \n",
       "  \"/>\n",
       "<polyline clip-path=\"url(#clip0802)\" style=\"stroke:#009af9; stroke-width:4; stroke-opacity:1; fill:none\" points=\"\n",
       "  577.337,1055.08 577.337,1038.23 \n",
       "  \"/>\n",
       "<polyline clip-path=\"url(#clip0802)\" style=\"stroke:#009af9; stroke-width:4; stroke-opacity:1; fill:none\" points=\"\n",
       "  621.856,1037.5 621.856,947.273 \n",
       "  \"/>\n",
       "<polyline clip-path=\"url(#clip0802)\" style=\"stroke:#009af9; stroke-width:4; stroke-opacity:1; fill:none\" points=\"\n",
       "  666.375,945.65 666.375,796.287 \n",
       "  \"/>\n",
       "<polyline clip-path=\"url(#clip0802)\" style=\"stroke:#009af9; stroke-width:4; stroke-opacity:1; fill:none\" points=\"\n",
       "  710.894,794.022 710.894,609.107 \n",
       "  \"/>\n",
       "<polyline clip-path=\"url(#clip0802)\" style=\"stroke:#009af9; stroke-width:4; stroke-opacity:1; fill:none\" points=\"\n",
       "  755.413,606.558 755.413,415.285 \n",
       "  \"/>\n",
       "<polyline clip-path=\"url(#clip0802)\" style=\"stroke:#009af9; stroke-width:4; stroke-opacity:1; fill:none\" points=\"\n",
       "  799.932,412.855 799.932,245.421 \n",
       "  \"/>\n",
       "<polyline clip-path=\"url(#clip0802)\" style=\"stroke:#009af9; stroke-width:4; stroke-opacity:1; fill:none\" points=\"\n",
       "  844.451,243.493 844.451,126.333 \n",
       "  \"/>\n",
       "<polyline clip-path=\"url(#clip0802)\" style=\"stroke:#009af9; stroke-width:4; stroke-opacity:1; fill:none\" points=\"\n",
       "  888.97,125.212 888.97,76.8226 \n",
       "  \"/>\n",
       "<polyline clip-path=\"url(#clip0802)\" style=\"stroke:#009af9; stroke-width:4; stroke-opacity:1; fill:none\" points=\"\n",
       "  933.489,104.706 933.489,76.6846 \n",
       "  \"/>\n",
       "<polyline clip-path=\"url(#clip0802)\" style=\"stroke:#009af9; stroke-width:4; stroke-opacity:1; fill:none\" points=\"\n",
       "  978.008,205.581 978.008,105.573 \n",
       "  \"/>\n",
       "<polyline clip-path=\"url(#clip0802)\" style=\"stroke:#009af9; stroke-width:4; stroke-opacity:1; fill:none\" points=\"\n",
       "  1022.53,363.522 1022.53,207.317 \n",
       "  \"/>\n",
       "<polyline clip-path=\"url(#clip0802)\" style=\"stroke:#009af9; stroke-width:4; stroke-opacity:1; fill:none\" points=\"\n",
       "  1067.05,553.593 1067.05,365.852 \n",
       "  \"/>\n",
       "<polyline clip-path=\"url(#clip0802)\" style=\"stroke:#009af9; stroke-width:4; stroke-opacity:1; fill:none\" points=\"\n",
       "  1111.57,745.786 1111.57,556.15 \n",
       "  \"/>\n",
       "<polyline clip-path=\"url(#clip0802)\" style=\"stroke:#009af9; stroke-width:4; stroke-opacity:1; fill:none\" points=\"\n",
       "  1156.08,909.759 1156.08,748.166 \n",
       "  \"/>\n",
       "<polyline clip-path=\"url(#clip0802)\" style=\"stroke:#009af9; stroke-width:4; stroke-opacity:1; fill:none\" points=\"\n",
       "  1200.6,1019.62 1200.6,911.586 \n",
       "  \"/>\n",
       "<polyline clip-path=\"url(#clip0802)\" style=\"stroke:#009af9; stroke-width:4; stroke-opacity:1; fill:none\" points=\"\n",
       "  1245.12,1058.03 1245.12,1020.61 \n",
       "  \"/>\n",
       "<polyline clip-path=\"url(#clip0802)\" style=\"stroke:#009af9; stroke-width:4; stroke-opacity:1; fill:none\" points=\"\n",
       "  1289.64,1058.02 1289.64,1018.93 \n",
       "  \"/>\n",
       "<polyline clip-path=\"url(#clip0802)\" style=\"stroke:#009af9; stroke-width:4; stroke-opacity:1; fill:none\" points=\"\n",
       "  1334.16,1017.92 1334.16,908.476 \n",
       "  \"/>\n",
       "<polyline clip-path=\"url(#clip0802)\" style=\"stroke:#009af9; stroke-width:4; stroke-opacity:1; fill:none\" points=\"\n",
       "  1378.68,906.634 1378.68,744.119 \n",
       "  \"/>\n",
       "<polyline clip-path=\"url(#clip0802)\" style=\"stroke:#009af9; stroke-width:4; stroke-opacity:1; fill:none\" points=\"\n",
       "  1423.2,741.732 1423.2,551.805 \n",
       "  \"/>\n",
       "<polyline clip-path=\"url(#clip0802)\" style=\"stroke:#009af9; stroke-width:4; stroke-opacity:1; fill:none\" points=\"\n",
       "  1467.72,549.249 1467.72,361.895 \n",
       "  \"/>\n",
       "<polyline clip-path=\"url(#clip0802)\" style=\"stroke:#009af9; stroke-width:4; stroke-opacity:1; fill:none\" points=\"\n",
       "  1512.24,359.574 1512.24,204.373 \n",
       "  \"/>\n",
       "<polyline clip-path=\"url(#clip0802)\" style=\"stroke:#009af9; stroke-width:4; stroke-opacity:1; fill:none\" points=\"\n",
       "  1556.76,202.654 1556.76,104.107 \n",
       "  \"/>\n",
       "<polyline clip-path=\"url(#clip0802)\" style=\"stroke:#009af9; stroke-width:4; stroke-opacity:1; fill:none\" points=\"\n",
       "  1601.27,103.261 1601.27,76.927 \n",
       "  \"/>\n",
       "<polyline clip-path=\"url(#clip0802)\" style=\"stroke:#009af9; stroke-width:4; stroke-opacity:1; fill:none\" points=\"\n",
       "  1645.79,127.125 1645.79,77.0876 \n",
       "  \"/>\n",
       "<polyline clip-path=\"url(#clip0802)\" style=\"stroke:#009af9; stroke-width:4; stroke-opacity:1; fill:none\" points=\"\n",
       "  1690.31,246.775 1690.31,128.267 \n",
       "  \"/>\n",
       "<polyline clip-path=\"url(#clip0802)\" style=\"stroke:#009af9; stroke-width:4; stroke-opacity:1; fill:none\" points=\"\n",
       "  1734.83,416.987 1734.83,248.718 \n",
       "  \"/>\n",
       "<polyline clip-path=\"url(#clip0802)\" style=\"stroke:#009af9; stroke-width:4; stroke-opacity:1; fill:none\" points=\"\n",
       "  1779.35,610.889 1779.35,419.424 \n",
       "  \"/>\n",
       "<polyline clip-path=\"url(#clip0802)\" style=\"stroke:#009af9; stroke-width:4; stroke-opacity:1; fill:none\" points=\"\n",
       "  1823.87,797.867 1823.87,613.435 \n",
       "  \"/>\n",
       "<polyline clip-path=\"url(#clip0802)\" style=\"stroke:#009af9; stroke-width:4; stroke-opacity:1; fill:none\" points=\"\n",
       "  1868.39,948.402 1868.39,800.121 \n",
       "  \"/>\n",
       "<polyline clip-path=\"url(#clip0802)\" style=\"stroke:#009af9; stroke-width:4; stroke-opacity:1; fill:none\" points=\"\n",
       "  1912.91,1038.73 1912.91,950.008 \n",
       "  \"/>\n",
       "<polyline clip-path=\"url(#clip0802)\" style=\"stroke:#009af9; stroke-width:4; stroke-opacity:1; fill:none\" points=\"\n",
       "  1957.43,1054.58 1957.43,1039.43 \n",
       "  \"/>\n",
       "<polyline clip-path=\"url(#clip0802)\" style=\"stroke:#009af9; stroke-width:4; stroke-opacity:1; fill:none\" points=\"\n",
       "  2001.95,1054.27 2001.95,993.467 \n",
       "  \"/>\n",
       "<polyline clip-path=\"url(#clip0802)\" style=\"stroke:#009af9; stroke-width:4; stroke-opacity:1; fill:none\" points=\"\n",
       "  2046.46,992.193 2046.46,865.026 \n",
       "  \"/>\n",
       "<polyline clip-path=\"url(#clip0802)\" style=\"stroke:#009af9; stroke-width:4; stroke-opacity:1; fill:none\" points=\"\n",
       "  2090.98,862.989 2090.98,689.538 \n",
       "  \"/>\n",
       "<polyline clip-path=\"url(#clip0802)\" style=\"stroke:#009af9; stroke-width:4; stroke-opacity:1; fill:none\" points=\"\n",
       "  2135.5,687.06 2135.5,494.711 \n",
       "  \"/>\n",
       "<polyline clip-path=\"url(#clip0802)\" style=\"stroke:#009af9; stroke-width:4; stroke-opacity:1; fill:none\" points=\"\n",
       "  2180.02,492.182 2180.02,311.302 \n",
       "  \"/>\n",
       "<polyline clip-path=\"url(#clip0802)\" style=\"stroke:#009af9; stroke-width:4; stroke-opacity:1; fill:none\" points=\"\n",
       "  2224.54,309.122 2224.54,168.267 \n",
       "  \"/>\n",
       "<polyline clip-path=\"url(#clip0802)\" style=\"stroke:#009af9; stroke-width:4; stroke-opacity:1; fill:none\" points=\"\n",
       "  2269.06,166.781 2269.06,88.1899 \n",
       "  \"/>\n",
       "<line clip-path=\"url(#clip0802)\" x1=\"285.704\" y1=\"169.314\" x2=\"245.704\" y2=\"169.314\" style=\"stroke:#000000; stroke-width:4; stroke-opacity:1\"/>\n",
       "<line clip-path=\"url(#clip0802)\" x1=\"285.704\" y1=\"89.1697\" x2=\"245.704\" y2=\"89.1697\" style=\"stroke:#000000; stroke-width:4; stroke-opacity:1\"/>\n",
       "<line clip-path=\"url(#clip0802)\" x1=\"330.223\" y1=\"312.83\" x2=\"290.223\" y2=\"312.83\" style=\"stroke:#000000; stroke-width:4; stroke-opacity:1\"/>\n",
       "<line clip-path=\"url(#clip0802)\" x1=\"330.223\" y1=\"170.819\" x2=\"290.223\" y2=\"170.819\" style=\"stroke:#000000; stroke-width:4; stroke-opacity:1\"/>\n",
       "<line clip-path=\"url(#clip0802)\" x1=\"374.742\" y1=\"496.48\" x2=\"334.742\" y2=\"496.48\" style=\"stroke:#000000; stroke-width:4; stroke-opacity:1\"/>\n",
       "<line clip-path=\"url(#clip0802)\" x1=\"374.742\" y1=\"315.022\" x2=\"334.742\" y2=\"315.022\" style=\"stroke:#000000; stroke-width:4; stroke-opacity:1\"/>\n",
       "<line clip-path=\"url(#clip0802)\" x1=\"419.261\" y1=\"691.27\" x2=\"379.261\" y2=\"691.27\" style=\"stroke:#000000; stroke-width:4; stroke-opacity:1\"/>\n",
       "<line clip-path=\"url(#clip0802)\" x1=\"419.261\" y1=\"499.012\" x2=\"379.261\" y2=\"499.012\" style=\"stroke:#000000; stroke-width:4; stroke-opacity:1\"/>\n",
       "<line clip-path=\"url(#clip0802)\" x1=\"463.78\" y1=\"866.445\" x2=\"423.78\" y2=\"866.445\" style=\"stroke:#000000; stroke-width:4; stroke-opacity:1\"/>\n",
       "<line clip-path=\"url(#clip0802)\" x1=\"463.78\" y1=\"693.742\" x2=\"423.78\" y2=\"693.742\" style=\"stroke:#000000; stroke-width:4; stroke-opacity:1\"/>\n",
       "<line clip-path=\"url(#clip0802)\" x1=\"508.299\" y1=\"994.35\" x2=\"468.299\" y2=\"994.35\" style=\"stroke:#000000; stroke-width:4; stroke-opacity:1\"/>\n",
       "<line clip-path=\"url(#clip0802)\" x1=\"508.299\" y1=\"868.468\" x2=\"468.299\" y2=\"868.468\" style=\"stroke:#000000; stroke-width:4; stroke-opacity:1\"/>\n",
       "<line clip-path=\"url(#clip0802)\" x1=\"552.818\" y1=\"1054.79\" x2=\"512.818\" y2=\"1054.79\" style=\"stroke:#000000; stroke-width:4; stroke-opacity:1\"/>\n",
       "<line clip-path=\"url(#clip0802)\" x1=\"552.818\" y1=\"995.604\" x2=\"512.818\" y2=\"995.604\" style=\"stroke:#000000; stroke-width:4; stroke-opacity:1\"/>\n",
       "<line clip-path=\"url(#clip0802)\" x1=\"597.337\" y1=\"1055.08\" x2=\"557.337\" y2=\"1055.08\" style=\"stroke:#000000; stroke-width:4; stroke-opacity:1\"/>\n",
       "<line clip-path=\"url(#clip0802)\" x1=\"597.337\" y1=\"1038.23\" x2=\"557.337\" y2=\"1038.23\" style=\"stroke:#000000; stroke-width:4; stroke-opacity:1\"/>\n",
       "<line clip-path=\"url(#clip0802)\" x1=\"641.856\" y1=\"1037.5\" x2=\"601.856\" y2=\"1037.5\" style=\"stroke:#000000; stroke-width:4; stroke-opacity:1\"/>\n",
       "<line clip-path=\"url(#clip0802)\" x1=\"641.856\" y1=\"947.273\" x2=\"601.856\" y2=\"947.273\" style=\"stroke:#000000; stroke-width:4; stroke-opacity:1\"/>\n",
       "<line clip-path=\"url(#clip0802)\" x1=\"686.375\" y1=\"945.65\" x2=\"646.375\" y2=\"945.65\" style=\"stroke:#000000; stroke-width:4; stroke-opacity:1\"/>\n",
       "<line clip-path=\"url(#clip0802)\" x1=\"686.375\" y1=\"796.287\" x2=\"646.375\" y2=\"796.287\" style=\"stroke:#000000; stroke-width:4; stroke-opacity:1\"/>\n",
       "<line clip-path=\"url(#clip0802)\" x1=\"730.894\" y1=\"794.022\" x2=\"690.894\" y2=\"794.022\" style=\"stroke:#000000; stroke-width:4; stroke-opacity:1\"/>\n",
       "<line clip-path=\"url(#clip0802)\" x1=\"730.894\" y1=\"609.107\" x2=\"690.894\" y2=\"609.107\" style=\"stroke:#000000; stroke-width:4; stroke-opacity:1\"/>\n",
       "<line clip-path=\"url(#clip0802)\" x1=\"775.413\" y1=\"606.558\" x2=\"735.413\" y2=\"606.558\" style=\"stroke:#000000; stroke-width:4; stroke-opacity:1\"/>\n",
       "<line clip-path=\"url(#clip0802)\" x1=\"775.413\" y1=\"415.285\" x2=\"735.413\" y2=\"415.285\" style=\"stroke:#000000; stroke-width:4; stroke-opacity:1\"/>\n",
       "<line clip-path=\"url(#clip0802)\" x1=\"819.932\" y1=\"412.855\" x2=\"779.932\" y2=\"412.855\" style=\"stroke:#000000; stroke-width:4; stroke-opacity:1\"/>\n",
       "<line clip-path=\"url(#clip0802)\" x1=\"819.932\" y1=\"245.421\" x2=\"779.932\" y2=\"245.421\" style=\"stroke:#000000; stroke-width:4; stroke-opacity:1\"/>\n",
       "<line clip-path=\"url(#clip0802)\" x1=\"864.451\" y1=\"243.493\" x2=\"824.451\" y2=\"243.493\" style=\"stroke:#000000; stroke-width:4; stroke-opacity:1\"/>\n",
       "<line clip-path=\"url(#clip0802)\" x1=\"864.451\" y1=\"126.333\" x2=\"824.451\" y2=\"126.333\" style=\"stroke:#000000; stroke-width:4; stroke-opacity:1\"/>\n",
       "<line clip-path=\"url(#clip0802)\" x1=\"908.97\" y1=\"125.212\" x2=\"868.97\" y2=\"125.212\" style=\"stroke:#000000; stroke-width:4; stroke-opacity:1\"/>\n",
       "<line clip-path=\"url(#clip0802)\" x1=\"908.97\" y1=\"76.8226\" x2=\"868.97\" y2=\"76.8226\" style=\"stroke:#000000; stroke-width:4; stroke-opacity:1\"/>\n",
       "<line clip-path=\"url(#clip0802)\" x1=\"953.489\" y1=\"104.706\" x2=\"913.489\" y2=\"104.706\" style=\"stroke:#000000; stroke-width:4; stroke-opacity:1\"/>\n",
       "<line clip-path=\"url(#clip0802)\" x1=\"953.489\" y1=\"76.6846\" x2=\"913.489\" y2=\"76.6846\" style=\"stroke:#000000; stroke-width:4; stroke-opacity:1\"/>\n",
       "<line clip-path=\"url(#clip0802)\" x1=\"998.008\" y1=\"205.581\" x2=\"958.008\" y2=\"205.581\" style=\"stroke:#000000; stroke-width:4; stroke-opacity:1\"/>\n",
       "<line clip-path=\"url(#clip0802)\" x1=\"998.008\" y1=\"105.573\" x2=\"958.008\" y2=\"105.573\" style=\"stroke:#000000; stroke-width:4; stroke-opacity:1\"/>\n",
       "<line clip-path=\"url(#clip0802)\" x1=\"1042.53\" y1=\"363.522\" x2=\"1002.53\" y2=\"363.522\" style=\"stroke:#000000; stroke-width:4; stroke-opacity:1\"/>\n",
       "<line clip-path=\"url(#clip0802)\" x1=\"1042.53\" y1=\"207.317\" x2=\"1002.53\" y2=\"207.317\" style=\"stroke:#000000; stroke-width:4; stroke-opacity:1\"/>\n",
       "<line clip-path=\"url(#clip0802)\" x1=\"1087.05\" y1=\"553.593\" x2=\"1047.05\" y2=\"553.593\" style=\"stroke:#000000; stroke-width:4; stroke-opacity:1\"/>\n",
       "<line clip-path=\"url(#clip0802)\" x1=\"1087.05\" y1=\"365.852\" x2=\"1047.05\" y2=\"365.852\" style=\"stroke:#000000; stroke-width:4; stroke-opacity:1\"/>\n",
       "<line clip-path=\"url(#clip0802)\" x1=\"1131.57\" y1=\"745.786\" x2=\"1091.57\" y2=\"745.786\" style=\"stroke:#000000; stroke-width:4; stroke-opacity:1\"/>\n",
       "<line clip-path=\"url(#clip0802)\" x1=\"1131.57\" y1=\"556.15\" x2=\"1091.57\" y2=\"556.15\" style=\"stroke:#000000; stroke-width:4; stroke-opacity:1\"/>\n",
       "<line clip-path=\"url(#clip0802)\" x1=\"1176.08\" y1=\"909.759\" x2=\"1136.08\" y2=\"909.759\" style=\"stroke:#000000; stroke-width:4; stroke-opacity:1\"/>\n",
       "<line clip-path=\"url(#clip0802)\" x1=\"1176.08\" y1=\"748.166\" x2=\"1136.08\" y2=\"748.166\" style=\"stroke:#000000; stroke-width:4; stroke-opacity:1\"/>\n",
       "<line clip-path=\"url(#clip0802)\" x1=\"1220.6\" y1=\"1019.62\" x2=\"1180.6\" y2=\"1019.62\" style=\"stroke:#000000; stroke-width:4; stroke-opacity:1\"/>\n",
       "<line clip-path=\"url(#clip0802)\" x1=\"1220.6\" y1=\"911.586\" x2=\"1180.6\" y2=\"911.586\" style=\"stroke:#000000; stroke-width:4; stroke-opacity:1\"/>\n",
       "<line clip-path=\"url(#clip0802)\" x1=\"1265.12\" y1=\"1058.03\" x2=\"1225.12\" y2=\"1058.03\" style=\"stroke:#000000; stroke-width:4; stroke-opacity:1\"/>\n",
       "<line clip-path=\"url(#clip0802)\" x1=\"1265.12\" y1=\"1020.61\" x2=\"1225.12\" y2=\"1020.61\" style=\"stroke:#000000; stroke-width:4; stroke-opacity:1\"/>\n",
       "<line clip-path=\"url(#clip0802)\" x1=\"1309.64\" y1=\"1058.02\" x2=\"1269.64\" y2=\"1058.02\" style=\"stroke:#000000; stroke-width:4; stroke-opacity:1\"/>\n",
       "<line clip-path=\"url(#clip0802)\" x1=\"1309.64\" y1=\"1018.93\" x2=\"1269.64\" y2=\"1018.93\" style=\"stroke:#000000; stroke-width:4; stroke-opacity:1\"/>\n",
       "<line clip-path=\"url(#clip0802)\" x1=\"1354.16\" y1=\"1017.92\" x2=\"1314.16\" y2=\"1017.92\" style=\"stroke:#000000; stroke-width:4; stroke-opacity:1\"/>\n",
       "<line clip-path=\"url(#clip0802)\" x1=\"1354.16\" y1=\"908.476\" x2=\"1314.16\" y2=\"908.476\" style=\"stroke:#000000; stroke-width:4; stroke-opacity:1\"/>\n",
       "<line clip-path=\"url(#clip0802)\" x1=\"1398.68\" y1=\"906.634\" x2=\"1358.68\" y2=\"906.634\" style=\"stroke:#000000; stroke-width:4; stroke-opacity:1\"/>\n",
       "<line clip-path=\"url(#clip0802)\" x1=\"1398.68\" y1=\"744.119\" x2=\"1358.68\" y2=\"744.119\" style=\"stroke:#000000; stroke-width:4; stroke-opacity:1\"/>\n",
       "<line clip-path=\"url(#clip0802)\" x1=\"1443.2\" y1=\"741.732\" x2=\"1403.2\" y2=\"741.732\" style=\"stroke:#000000; stroke-width:4; stroke-opacity:1\"/>\n",
       "<line clip-path=\"url(#clip0802)\" x1=\"1443.2\" y1=\"551.805\" x2=\"1403.2\" y2=\"551.805\" style=\"stroke:#000000; stroke-width:4; stroke-opacity:1\"/>\n",
       "<line clip-path=\"url(#clip0802)\" x1=\"1487.72\" y1=\"549.249\" x2=\"1447.72\" y2=\"549.249\" style=\"stroke:#000000; stroke-width:4; stroke-opacity:1\"/>\n",
       "<line clip-path=\"url(#clip0802)\" x1=\"1487.72\" y1=\"361.895\" x2=\"1447.72\" y2=\"361.895\" style=\"stroke:#000000; stroke-width:4; stroke-opacity:1\"/>\n",
       "<line clip-path=\"url(#clip0802)\" x1=\"1532.24\" y1=\"359.574\" x2=\"1492.24\" y2=\"359.574\" style=\"stroke:#000000; stroke-width:4; stroke-opacity:1\"/>\n",
       "<line clip-path=\"url(#clip0802)\" x1=\"1532.24\" y1=\"204.373\" x2=\"1492.24\" y2=\"204.373\" style=\"stroke:#000000; stroke-width:4; stroke-opacity:1\"/>\n",
       "<line clip-path=\"url(#clip0802)\" x1=\"1576.76\" y1=\"202.654\" x2=\"1536.76\" y2=\"202.654\" style=\"stroke:#000000; stroke-width:4; stroke-opacity:1\"/>\n",
       "<line clip-path=\"url(#clip0802)\" x1=\"1576.76\" y1=\"104.107\" x2=\"1536.76\" y2=\"104.107\" style=\"stroke:#000000; stroke-width:4; stroke-opacity:1\"/>\n",
       "<line clip-path=\"url(#clip0802)\" x1=\"1621.27\" y1=\"103.261\" x2=\"1581.27\" y2=\"103.261\" style=\"stroke:#000000; stroke-width:4; stroke-opacity:1\"/>\n",
       "<line clip-path=\"url(#clip0802)\" x1=\"1621.27\" y1=\"76.927\" x2=\"1581.27\" y2=\"76.927\" style=\"stroke:#000000; stroke-width:4; stroke-opacity:1\"/>\n",
       "<line clip-path=\"url(#clip0802)\" x1=\"1665.79\" y1=\"127.125\" x2=\"1625.79\" y2=\"127.125\" style=\"stroke:#000000; stroke-width:4; stroke-opacity:1\"/>\n",
       "<line clip-path=\"url(#clip0802)\" x1=\"1665.79\" y1=\"77.0876\" x2=\"1625.79\" y2=\"77.0876\" style=\"stroke:#000000; stroke-width:4; stroke-opacity:1\"/>\n",
       "<line clip-path=\"url(#clip0802)\" x1=\"1710.31\" y1=\"246.775\" x2=\"1670.31\" y2=\"246.775\" style=\"stroke:#000000; stroke-width:4; stroke-opacity:1\"/>\n",
       "<line clip-path=\"url(#clip0802)\" x1=\"1710.31\" y1=\"128.267\" x2=\"1670.31\" y2=\"128.267\" style=\"stroke:#000000; stroke-width:4; stroke-opacity:1\"/>\n",
       "<line clip-path=\"url(#clip0802)\" x1=\"1754.83\" y1=\"416.987\" x2=\"1714.83\" y2=\"416.987\" style=\"stroke:#000000; stroke-width:4; stroke-opacity:1\"/>\n",
       "<line clip-path=\"url(#clip0802)\" x1=\"1754.83\" y1=\"248.718\" x2=\"1714.83\" y2=\"248.718\" style=\"stroke:#000000; stroke-width:4; stroke-opacity:1\"/>\n",
       "<line clip-path=\"url(#clip0802)\" x1=\"1799.35\" y1=\"610.889\" x2=\"1759.35\" y2=\"610.889\" style=\"stroke:#000000; stroke-width:4; stroke-opacity:1\"/>\n",
       "<line clip-path=\"url(#clip0802)\" x1=\"1799.35\" y1=\"419.424\" x2=\"1759.35\" y2=\"419.424\" style=\"stroke:#000000; stroke-width:4; stroke-opacity:1\"/>\n",
       "<line clip-path=\"url(#clip0802)\" x1=\"1843.87\" y1=\"797.867\" x2=\"1803.87\" y2=\"797.867\" style=\"stroke:#000000; stroke-width:4; stroke-opacity:1\"/>\n",
       "<line clip-path=\"url(#clip0802)\" x1=\"1843.87\" y1=\"613.435\" x2=\"1803.87\" y2=\"613.435\" style=\"stroke:#000000; stroke-width:4; stroke-opacity:1\"/>\n",
       "<line clip-path=\"url(#clip0802)\" x1=\"1888.39\" y1=\"948.402\" x2=\"1848.39\" y2=\"948.402\" style=\"stroke:#000000; stroke-width:4; stroke-opacity:1\"/>\n",
       "<line clip-path=\"url(#clip0802)\" x1=\"1888.39\" y1=\"800.121\" x2=\"1848.39\" y2=\"800.121\" style=\"stroke:#000000; stroke-width:4; stroke-opacity:1\"/>\n",
       "<line clip-path=\"url(#clip0802)\" x1=\"1932.91\" y1=\"1038.73\" x2=\"1892.91\" y2=\"1038.73\" style=\"stroke:#000000; stroke-width:4; stroke-opacity:1\"/>\n",
       "<line clip-path=\"url(#clip0802)\" x1=\"1932.91\" y1=\"950.008\" x2=\"1892.91\" y2=\"950.008\" style=\"stroke:#000000; stroke-width:4; stroke-opacity:1\"/>\n",
       "<line clip-path=\"url(#clip0802)\" x1=\"1977.43\" y1=\"1054.58\" x2=\"1937.43\" y2=\"1054.58\" style=\"stroke:#000000; stroke-width:4; stroke-opacity:1\"/>\n",
       "<line clip-path=\"url(#clip0802)\" x1=\"1977.43\" y1=\"1039.43\" x2=\"1937.43\" y2=\"1039.43\" style=\"stroke:#000000; stroke-width:4; stroke-opacity:1\"/>\n",
       "<line clip-path=\"url(#clip0802)\" x1=\"2021.95\" y1=\"1054.27\" x2=\"1981.95\" y2=\"1054.27\" style=\"stroke:#000000; stroke-width:4; stroke-opacity:1\"/>\n",
       "<line clip-path=\"url(#clip0802)\" x1=\"2021.95\" y1=\"993.467\" x2=\"1981.95\" y2=\"993.467\" style=\"stroke:#000000; stroke-width:4; stroke-opacity:1\"/>\n",
       "<line clip-path=\"url(#clip0802)\" x1=\"2066.46\" y1=\"992.193\" x2=\"2026.46\" y2=\"992.193\" style=\"stroke:#000000; stroke-width:4; stroke-opacity:1\"/>\n",
       "<line clip-path=\"url(#clip0802)\" x1=\"2066.46\" y1=\"865.026\" x2=\"2026.46\" y2=\"865.026\" style=\"stroke:#000000; stroke-width:4; stroke-opacity:1\"/>\n",
       "<line clip-path=\"url(#clip0802)\" x1=\"2110.98\" y1=\"862.989\" x2=\"2070.98\" y2=\"862.989\" style=\"stroke:#000000; stroke-width:4; stroke-opacity:1\"/>\n",
       "<line clip-path=\"url(#clip0802)\" x1=\"2110.98\" y1=\"689.538\" x2=\"2070.98\" y2=\"689.538\" style=\"stroke:#000000; stroke-width:4; stroke-opacity:1\"/>\n",
       "<line clip-path=\"url(#clip0802)\" x1=\"2155.5\" y1=\"687.06\" x2=\"2115.5\" y2=\"687.06\" style=\"stroke:#000000; stroke-width:4; stroke-opacity:1\"/>\n",
       "<line clip-path=\"url(#clip0802)\" x1=\"2155.5\" y1=\"494.711\" x2=\"2115.5\" y2=\"494.711\" style=\"stroke:#000000; stroke-width:4; stroke-opacity:1\"/>\n",
       "<line clip-path=\"url(#clip0802)\" x1=\"2200.02\" y1=\"492.182\" x2=\"2160.02\" y2=\"492.182\" style=\"stroke:#000000; stroke-width:4; stroke-opacity:1\"/>\n",
       "<line clip-path=\"url(#clip0802)\" x1=\"2200.02\" y1=\"311.302\" x2=\"2160.02\" y2=\"311.302\" style=\"stroke:#000000; stroke-width:4; stroke-opacity:1\"/>\n",
       "<line clip-path=\"url(#clip0802)\" x1=\"2244.54\" y1=\"309.122\" x2=\"2204.54\" y2=\"309.122\" style=\"stroke:#000000; stroke-width:4; stroke-opacity:1\"/>\n",
       "<line clip-path=\"url(#clip0802)\" x1=\"2244.54\" y1=\"168.267\" x2=\"2204.54\" y2=\"168.267\" style=\"stroke:#000000; stroke-width:4; stroke-opacity:1\"/>\n",
       "<line clip-path=\"url(#clip0802)\" x1=\"2289.06\" y1=\"166.781\" x2=\"2249.06\" y2=\"166.781\" style=\"stroke:#000000; stroke-width:4; stroke-opacity:1\"/>\n",
       "<line clip-path=\"url(#clip0802)\" x1=\"2289.06\" y1=\"88.1899\" x2=\"2249.06\" y2=\"88.1899\" style=\"stroke:#000000; stroke-width:4; stroke-opacity:1\"/>\n",
       "<path clip-path=\"url(#clip0800)\" d=\"\n",
       "M1989.93 251.724 L2280.76 251.724 L2280.76 130.764 L1989.93 130.764  Z\n",
       "  \" fill=\"#ffffff\" fill-rule=\"evenodd\" fill-opacity=\"1\"/>\n",
       "<polyline clip-path=\"url(#clip0800)\" style=\"stroke:#000000; stroke-width:4; stroke-opacity:1; fill:none\" points=\"\n",
       "  1989.93,251.724 2280.76,251.724 2280.76,130.764 1989.93,130.764 1989.93,251.724 \n",
       "  \"/>\n",
       "<polyline clip-path=\"url(#clip0800)\" style=\"stroke:#009af9; stroke-width:4; stroke-opacity:1; fill:none\" points=\"\n",
       "  2013.93,191.244 2157.93,191.244 \n",
       "  \"/>\n",
       "<g clip-path=\"url(#clip0800)\">\n",
       "<text style=\"fill:#000000; fill-opacity:1; font-family:Arial,Helvetica Neue,Helvetica,sans-serif; font-size:48px; text-anchor:start;\" transform=\"rotate(0, 2181.93, 208.744)\" x=\"2181.93\" y=\"208.744\">y1</text>\n",
       "</g>\n",
       "</svg>\n"
      ]
     },
     "execution_count": 91,
     "metadata": {},
     "output_type": "execute_result"
    }
   ],
   "source": [
    "plot(x->sin(x)*cos(x), [x ± 0.1 for x in 1:0.2:10], size = (600, 300))"
   ]
  },
  {
   "cell_type": "markdown",
   "metadata": {},
   "source": [
    "Do the error bars seem plausible given the uncertainty?"
   ]
  },
  {
   "cell_type": "markdown",
   "metadata": {},
   "source": [
    "# Next time: Dimensional analysis\n",
    "- Revealing universal physics\n",
    "- Taylor\n",
    "- Kolmogorov"
   ]
  },
  {
   "cell_type": "markdown",
   "metadata": {},
   "source": [
    "Packages: Unitful, Measurements, PhysicalConstants"
   ]
  },
  {
   "cell_type": "code",
   "execution_count": null,
   "metadata": {},
   "outputs": [],
   "source": []
  }
 ],
 "metadata": {
  "kernelspec": {
   "display_name": "Julia 1.3.1",
   "language": "julia",
   "name": "julia-1.3"
  },
  "language_info": {
   "file_extension": ".jl",
   "mimetype": "application/julia",
   "name": "julia",
   "version": "1.3.1"
  }
 },
 "nbformat": 4,
 "nbformat_minor": 4
}
