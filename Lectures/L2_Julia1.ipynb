{
 "cells": [
  {
   "cell_type": "markdown",
   "metadata": {},
   "source": [
    "<img src=\"resources/physicsOtago.png\" width=\"600\">\n",
    "\n",
    "$$\n",
    "\\def\\julia{\\texttt{julia}}\n",
    "\\def\\dashint{{\\int\\!\\!\\!\\!\\!\\!-\\,}}\n",
    "\\def\\infdashint{\\dashint_{\\!\\!\\!-\\infty}^{\\,\\infty}}\n",
    "\\def\\D{\\,{\\rm d}}\n",
    "\\def\\E{{\\rm e}}\n",
    "\\def\\dx{\\D x}\n",
    "\\def\\dt{\\D t}\n",
    "\\def\\dz{\\D z}\n",
    "\\def\\C{{\\mathbb C}}\n",
    "\\def\\R{{\\mathbb R}}\n",
    "\\def\\CC{{\\cal C}}\n",
    "\\def\\HH{{\\cal H}}\n",
    "\\def\\I{{\\rm i}}\n",
    "\\def\\Res_#1{\\underset{#1}{\\rm Res}}\\,\n",
    "\\def\\sech{{\\rm sech}\\,}\n",
    "\\def\\vc#1{{\\mathbf #1}}\n",
    "\\def\\qq{\\qquad\\qquad}\n",
    "\\def\\qfor{\\qquad\\hbox{for}\\qquad}\n",
    "\\def\\qwhere{\\qquad\\hbox{where}\\qquad}\n",
    "\\def\\ale#1{\\begin{align}#1\\end{align}}\n",
    "\\def\\em{\\epsilon_m}\n",
    "\\def\\unit#1{{\\rm #1}}\n",
    "$$\n",
    "\n",
    "# PHSI 365: Computational Physics <img align=\"right\" src=\"resources/tmp.gif\" width=\"400\" height=\"400\">\n",
    "\n",
    "University of Otago, 2019\n",
    "\n",
    "Dr. Ashton Bradley (Coordinator)\n",
    "<br>\n",
    "ashton.bradley@otago.ac.nz\n",
    "<br>\n",
    "\n",
    "_Image made with_ [Plots.jl](http://docs.juliaplots.org/latest/)"
   ]
  },
  {
   "cell_type": "markdown",
   "metadata": {},
   "source": [
    "# Course outline (Lectures 1-10)\n",
    "\n",
    "- Introduction to Julia\n",
    "\n",
    "- Dimensional analysis\n",
    "\n",
    "- Dynamical Systems: Ordinary Differential Equations\n",
    "\n",
    "- Systems of coupled ODEs: waves, dispersion, PDEs"
   ]
  },
  {
   "cell_type": "markdown",
   "metadata": {},
   "source": [
    "# Philosophy\n",
    "- Typically, physical problems are fundamentally **nonlinear**. \n",
    "\n",
    "- This is what makes nature interesting, i.e. unpredictable, and often challenging to understand analyticaly. Also gives rise to emergent collective phenomena that make the universe a rich and ever-change tapestry of wonder!\n",
    "\n",
    "- To understand the complexity of Nature, we need tools of *linear* and *nonlinear* dynamics and analysis\n",
    "- Example: [Jupiter's great red spot](https://en.wikipedia.org/wiki/Great_Red_Spot#/media/File:Great_Red_Spot_From_Voyager_1.jpg)"
   ]
  },
  {
   "cell_type": "markdown",
   "metadata": {
    "slideshow": {
     "slide_type": "slide"
    },
    "toc-hr-collapsed": true
   },
   "source": [
    "# Introduction to julia\n",
    "- Key language features\n",
    "- Strategies/troubleshooting\n",
    "- Numerical issues: error, accuracy, stability\n",
    "- Visualising your results\n",
    "\n",
    "$\\julia$ is a high level programming language unlike any of its predecessors. It allows programming in a high level syntax, while still achieving very high performance ($\\sim$C speed). While designed for technical computing, it is also a fully featured general programming language. It has excellent buit in help facilities and a logical structure which allows us to focus more on problem solving rather than programme writing. $\\julia$ also has a very modular and highly extendable design, and these features are straightforwardd to utilise for the general user. \n",
    "- Most of $\\julia$ is written in $\\julia$!\n",
    "\n",
    "To start $\\julia$, open a terminal (black box icon for those not familiar), and type `julia`. This will give you a command prompt known as \"the REPL\" (Read, Rvaluate, Print, Loop):\n",
    "\n",
    "<img src=\"resources/term1.png\" width=\"600\">"
   ]
  },
  {
   "cell_type": "markdown",
   "metadata": {},
   "source": [
    "To get help directly in the REPL, type, for example\n",
    "```julia\n",
    "julia> ?rand\n",
    "``` \n",
    "at the command prompt, giving the result\n",
    "\n",
    "<img src=\"resources/term2.png\" width=\"600\">"
   ]
  },
  {
   "cell_type": "markdown",
   "metadata": {},
   "source": [
    "You have access to all of $\\julia$ from the REPL. In it's simplest form it is just a fancy calculator. In it's most sophisticated form, [julia is the first high-level language to join the petaflop club](https://juliacomputing.com/communication/2017/09/12/julia-joins-petaflop-club.html) ($10^{15}$ floating point operations per second)."
   ]
  },
  {
   "cell_type": "markdown",
   "metadata": {},
   "source": [
    "## Comments\n",
    "First thing first, how do we comment our code so that other people can make sense of it? So that we can make sense of it ourselves when we come back to in 2 months?\n",
    "\n",
    "- Code is read much more than it is written. \n",
    "- Your aim should be to write code the is first and foremost readible.\n",
    "- __Value clear verbose code over short \"clever\" code.__"
   ]
  },
  {
   "cell_type": "code",
   "execution_count": 26,
   "metadata": {},
   "outputs": [],
   "source": [
    "# a comment in julia "
   ]
  },
  {
   "cell_type": "code",
   "execution_count": null,
   "metadata": {},
   "outputs": [],
   "source": [
    "#= \n",
    "a larger \n",
    "(multiline) \n",
    "comment block \n",
    "=#"
   ]
  },
  {
   "cell_type": "code",
   "execution_count": null,
   "metadata": {},
   "outputs": [],
   "source": [
    "# or you can just \n",
    "# select any code\n",
    "# and type [option] /\n",
    "# - very handy when debugging!"
   ]
  },
  {
   "cell_type": "markdown",
   "metadata": {},
   "source": [
    "## Jupyter\n",
    "Some tips about using jupyter effectively. \n",
    "- Kernel menu\n"
   ]
  },
  {
   "cell_type": "markdown",
   "metadata": {
    "slideshow": {
     "slide_type": "slide"
    },
    "toc-hr-collapsed": true
   },
   "source": [
    "## Plotting "
   ]
  },
  {
   "cell_type": "code",
   "execution_count": 15,
   "metadata": {},
   "outputs": [
    {
     "data": {
      "text/plain": [
       "Plots.GRBackend()"
      ]
     },
     "execution_count": 15,
     "metadata": {},
     "output_type": "execute_result"
    }
   ],
   "source": [
    "using Plots, LaTeXStrings # load packages\n",
    "gr(size=(500,250),grid=false,legend=:bottomright) # set defaults"
   ]
  },
  {
   "cell_type": "code",
   "execution_count": 16,
   "metadata": {
    "slideshow": {
     "slide_type": "fragment"
    }
   },
   "outputs": [
    {
     "data": {
      "image/svg+xml": [
       "<?xml version=\"1.0\" encoding=\"utf-8\"?>\n",
       "<svg xmlns=\"http://www.w3.org/2000/svg\" xmlns:xlink=\"http://www.w3.org/1999/xlink\" width=\"500\" height=\"250\" viewBox=\"0 0 2000 1000\">\n",
       "<defs>\n",
       "  <clipPath id=\"clip3400\">\n",
       "    <rect x=\"0\" y=\"0\" width=\"2000\" height=\"1000\"/>\n",
       "  </clipPath>\n",
       "</defs>\n",
       "<path clip-path=\"url(#clip3400)\" d=\"\n",
       "M0 1000 L2000 1000 L2000 0 L0 0  Z\n",
       "  \" fill=\"#ffffff\" fill-rule=\"evenodd\" fill-opacity=\"1\"/>\n",
       "<defs>\n",
       "  <clipPath id=\"clip3401\">\n",
       "    <rect x=\"400\" y=\"0\" width=\"1401\" height=\"1000\"/>\n",
       "  </clipPath>\n",
       "</defs>\n",
       "<path clip-path=\"url(#clip3400)\" d=\"\n",
       "M226.756 862.61 L1952.76 862.61 L1952.76 47.2441 L226.756 47.2441  Z\n",
       "  \" fill=\"#ffffff\" fill-rule=\"evenodd\" fill-opacity=\"1\"/>\n",
       "<defs>\n",
       "  <clipPath id=\"clip3402\">\n",
       "    <rect x=\"226\" y=\"47\" width=\"1727\" height=\"816\"/>\n",
       "  </clipPath>\n",
       "</defs>\n",
       "<polyline clip-path=\"url(#clip3400)\" style=\"stroke:#000000; stroke-width:4; stroke-opacity:1; fill:none\" points=\"\n",
       "  226.756,862.61 1952.76,862.61 \n",
       "  \"/>\n",
       "<polyline clip-path=\"url(#clip3400)\" style=\"stroke:#000000; stroke-width:4; stroke-opacity:1; fill:none\" points=\"\n",
       "  226.756,862.61 226.756,47.2441 \n",
       "  \"/>\n",
       "<polyline clip-path=\"url(#clip3400)\" style=\"stroke:#000000; stroke-width:4; stroke-opacity:1; fill:none\" points=\"\n",
       "  275.605,862.61 275.605,852.826 \n",
       "  \"/>\n",
       "<polyline clip-path=\"url(#clip3400)\" style=\"stroke:#000000; stroke-width:4; stroke-opacity:1; fill:none\" points=\"\n",
       "  534.757,862.61 534.757,852.826 \n",
       "  \"/>\n",
       "<polyline clip-path=\"url(#clip3400)\" style=\"stroke:#000000; stroke-width:4; stroke-opacity:1; fill:none\" points=\"\n",
       "  793.91,862.61 793.91,852.826 \n",
       "  \"/>\n",
       "<polyline clip-path=\"url(#clip3400)\" style=\"stroke:#000000; stroke-width:4; stroke-opacity:1; fill:none\" points=\"\n",
       "  1053.06,862.61 1053.06,852.826 \n",
       "  \"/>\n",
       "<polyline clip-path=\"url(#clip3400)\" style=\"stroke:#000000; stroke-width:4; stroke-opacity:1; fill:none\" points=\"\n",
       "  1312.21,862.61 1312.21,852.826 \n",
       "  \"/>\n",
       "<polyline clip-path=\"url(#clip3400)\" style=\"stroke:#000000; stroke-width:4; stroke-opacity:1; fill:none\" points=\"\n",
       "  1571.37,862.61 1571.37,852.826 \n",
       "  \"/>\n",
       "<polyline clip-path=\"url(#clip3400)\" style=\"stroke:#000000; stroke-width:4; stroke-opacity:1; fill:none\" points=\"\n",
       "  1830.52,862.61 1830.52,852.826 \n",
       "  \"/>\n",
       "<polyline clip-path=\"url(#clip3400)\" style=\"stroke:#000000; stroke-width:4; stroke-opacity:1; fill:none\" points=\"\n",
       "  226.756,839.727 247.468,839.727 \n",
       "  \"/>\n",
       "<polyline clip-path=\"url(#clip3400)\" style=\"stroke:#000000; stroke-width:4; stroke-opacity:1; fill:none\" points=\"\n",
       "  226.756,647.376 247.468,647.376 \n",
       "  \"/>\n",
       "<polyline clip-path=\"url(#clip3400)\" style=\"stroke:#000000; stroke-width:4; stroke-opacity:1; fill:none\" points=\"\n",
       "  226.756,455.024 247.468,455.024 \n",
       "  \"/>\n",
       "<polyline clip-path=\"url(#clip3400)\" style=\"stroke:#000000; stroke-width:4; stroke-opacity:1; fill:none\" points=\"\n",
       "  226.756,262.672 247.468,262.672 \n",
       "  \"/>\n",
       "<polyline clip-path=\"url(#clip3400)\" style=\"stroke:#000000; stroke-width:4; stroke-opacity:1; fill:none\" points=\"\n",
       "  226.756,70.3205 247.468,70.3205 \n",
       "  \"/>\n",
       "<g clip-path=\"url(#clip3400)\">\n",
       "<text style=\"fill:#000000; fill-opacity:1; font-family:Arial,Helvetica Neue,Helvetica,sans-serif; font-size:48px; text-anchor:middle;\" transform=\"rotate(0, 275.605, 914.61)\" x=\"275.605\" y=\"914.61\">0</text>\n",
       "</g>\n",
       "<g clip-path=\"url(#clip3400)\">\n",
       "<text style=\"fill:#000000; fill-opacity:1; font-family:Arial,Helvetica Neue,Helvetica,sans-serif; font-size:48px; text-anchor:middle;\" transform=\"rotate(0, 534.757, 914.61)\" x=\"534.757\" y=\"914.61\">1</text>\n",
       "</g>\n",
       "<g clip-path=\"url(#clip3400)\">\n",
       "<text style=\"fill:#000000; fill-opacity:1; font-family:Arial,Helvetica Neue,Helvetica,sans-serif; font-size:48px; text-anchor:middle;\" transform=\"rotate(0, 793.91, 914.61)\" x=\"793.91\" y=\"914.61\">2</text>\n",
       "</g>\n",
       "<g clip-path=\"url(#clip3400)\">\n",
       "<text style=\"fill:#000000; fill-opacity:1; font-family:Arial,Helvetica Neue,Helvetica,sans-serif; font-size:48px; text-anchor:middle;\" transform=\"rotate(0, 1053.06, 914.61)\" x=\"1053.06\" y=\"914.61\">3</text>\n",
       "</g>\n",
       "<g clip-path=\"url(#clip3400)\">\n",
       "<text style=\"fill:#000000; fill-opacity:1; font-family:Arial,Helvetica Neue,Helvetica,sans-serif; font-size:48px; text-anchor:middle;\" transform=\"rotate(0, 1312.21, 914.61)\" x=\"1312.21\" y=\"914.61\">4</text>\n",
       "</g>\n",
       "<g clip-path=\"url(#clip3400)\">\n",
       "<text style=\"fill:#000000; fill-opacity:1; font-family:Arial,Helvetica Neue,Helvetica,sans-serif; font-size:48px; text-anchor:middle;\" transform=\"rotate(0, 1571.37, 914.61)\" x=\"1571.37\" y=\"914.61\">5</text>\n",
       "</g>\n",
       "<g clip-path=\"url(#clip3400)\">\n",
       "<text style=\"fill:#000000; fill-opacity:1; font-family:Arial,Helvetica Neue,Helvetica,sans-serif; font-size:48px; text-anchor:middle;\" transform=\"rotate(0, 1830.52, 914.61)\" x=\"1830.52\" y=\"914.61\">6</text>\n",
       "</g>\n",
       "<g clip-path=\"url(#clip3400)\">\n",
       "<text style=\"fill:#000000; fill-opacity:1; font-family:Arial,Helvetica Neue,Helvetica,sans-serif; font-size:48px; text-anchor:end;\" transform=\"rotate(0, 206.756, 857.227)\" x=\"206.756\" y=\"857.227\">-1.0</text>\n",
       "</g>\n",
       "<g clip-path=\"url(#clip3400)\">\n",
       "<text style=\"fill:#000000; fill-opacity:1; font-family:Arial,Helvetica Neue,Helvetica,sans-serif; font-size:48px; text-anchor:end;\" transform=\"rotate(0, 206.756, 664.876)\" x=\"206.756\" y=\"664.876\">-0.5</text>\n",
       "</g>\n",
       "<g clip-path=\"url(#clip3400)\">\n",
       "<text style=\"fill:#000000; fill-opacity:1; font-family:Arial,Helvetica Neue,Helvetica,sans-serif; font-size:48px; text-anchor:end;\" transform=\"rotate(0, 206.756, 472.524)\" x=\"206.756\" y=\"472.524\">0.0</text>\n",
       "</g>\n",
       "<g clip-path=\"url(#clip3400)\">\n",
       "<text style=\"fill:#000000; fill-opacity:1; font-family:Arial,Helvetica Neue,Helvetica,sans-serif; font-size:48px; text-anchor:end;\" transform=\"rotate(0, 206.756, 280.172)\" x=\"206.756\" y=\"280.172\">0.5</text>\n",
       "</g>\n",
       "<g clip-path=\"url(#clip3400)\">\n",
       "<text style=\"fill:#000000; fill-opacity:1; font-family:Arial,Helvetica Neue,Helvetica,sans-serif; font-size:48px; text-anchor:end;\" transform=\"rotate(0, 206.756, 87.8205)\" x=\"206.756\" y=\"87.8205\">1.0</text>\n",
       "</g>\n",
       "<g clip-path=\"url(#clip3400)\">\n",
       "<image width=\"28\" height=\"47\" xlink:href=\"data:image/png;base64,\n",
       "iVBORw0KGgoAAAANSUhEUgAAABwAAAAvCAYAAADw46qXAAACzUlEQVRYhbVY7a2rMAw9r7oDpIyQ\n",
       "EWhHyAi0IzACZYS0E9COQDsB6gioE0BHgG7g++MKlC8+QnmRLAFKfGL72E4AEeEbKcuS4jgmzjkB\n",
       "IM45CSGoKApyzV8MVFUVCSEIAAGgKIpISklxHGvfVgHM87xXyhijqqrI3MwQqDdYlmW9sjAMqWka\n",
       "p+uSJOnn5XlOiwBNy4bAuth2cznn/oBFUfQKAAySQnOfY/5sJqqL4zieBCMidMxV18wCVBdOuVKV\n",
       "MAy1dUSEDSbG6XSi9/vdv6dpiu12+29qnTk+nw/atvVzZbfLuaJa2MVx1MLj8ai9p2nqbZX1Piff\n",
       "llhHRGCMaTqyLBu28HK5jFq71EIn4PV61YgCAHEce4G1bUvmt6Zp3ICmdZxz7HY7L2aaGwaAIAhs\n",
       "wPv9/rV1AFCWpfWNc24DSimtiUIIb8Dn82l9Y4zpLFXbCr5gp1mdOinLUmfp4/GwdrWEnW3bWmFx\n",
       "WujaldrLlnaWTrTi7XJnN8lXpJSWHiGEXrxvt5vlgjAMvd0JuAnT6xoqtGtLFxpnd/4f0vXQHwCo\n",
       "69oqQ8BfKfIdUkqrUjHG+h76Awz7fEmjfT6f1ubV1NoAwOv1shbu93tfLAzp0krjUP5lWbZK/pmV\n",
       "agO4Y7VW/bQK/xBD16yf6hw0TWNNCsPQG9ClRz1x9y5dy52uSuVqdRvz3AH8NUrfkee59s4Yw+Fw\n",
       "sNLKaWEQBF5gdV2TmQ4u6wDA2SXMQE+JejXDRNN2Btu8YE6Jef6UUg4DutJi7mWFyD4wu5g5CfhN\n",
       "7k2Fw9kL51poWjfn3ggigvrnwSeGauzm3hs3gJ3ortw0x/l8JnVenufz2llvquM4MCRmKvmc7PoH\n",
       "1a1TsVCJMpYCo4BqPo5RO4oiL5IMApqsS5JEU9Y0Dals9rXMCWiCCiH6/2cdIznn3qVvFLAjRRRF\n",
       "/R9CxhhFUbTo2G/KL5aBhs4rpwJUAAAAAElFTkSuQmCC\n",
       "\" transform=\"translate(1076, 935)\"/>\n",
       "</g>\n",
       "<g clip-path=\"url(#clip3400)\">\n",
       "<image width=\"66\" height=\"113\" xlink:href=\"data:image/png;base64,\n",
       "iVBORw0KGgoAAAANSUhEUgAAAEIAAABxCAYAAABhunXrAAAHn0lEQVR4nO1d4ZGbPBNev/MVIF8J\n",
       "ulSAXYKuA84lKB0wKUFJBcQl4KsAUwJOBUAJwh3s9yNIIzDYYCSMHXZm5wyHAT3srtCzK3mFiOBS\n",
       "yrLEoijAVCklAACcz2eQUsLb2xsAABBC4O3tDQghQCnV+v7+vnJ6kwDwP9snPB6PmCQJJEkCf/78\n",
       "sXVapJQCY0zrer22Cw4ijlIpJQZBgJ7nIQBMpoQQ5JxjmqY4tg2IeD8QURQhY2zSxncppRSFECil\n",
       "vBuU1ZAYUZYlCiFgv9/D+Xy+eqzneTU/p5Rq/1cxoWneZVkiAICUEoqigPP5XIstaZrevC5jDIQQ\n",
       "sNlshrlOX8SCILj6RDjnGEURZllmxVSvuWIcxzfdkTE26F56uQAhpPVCYRg6b3gfjeMYfd9vBSQI\n",
       "gl73dxX55skJIRgEwSwa36VhGF5YCiHkZlBt3ZllGVJKa6YfhuFsG99lJU1ArrXhYkcURTUknw2A\n",
       "pqZpWnuonPPW9tQ2hBD6C77vj+qO5qZm2zzPu2ib/qB6BUIIRlH0MgCYmmWZdhdK6SUQYRjqf845\n",
       "ENpS1Ql4nqfbCnEc6+7wlVzhlioP8H0fERGAUqo3/jVVHUOapn/95tE39EhV7R801nhl+e/RNzAX\n",
       "WYCoZAGikgWIShYgKhlE3pZliYolklLWWGhKaY2FnoJ5tik3gTgej/j19QVRFN2kyRqCjDHwPA+2\n",
       "260b5tmmXHvrMoevNtQ282xTW3d20V62QQmCYDag9AKBUoqe52mllLbymPcqpfThQ//ahhqJQkV6\n",
       "9nlaUkpM0xTDMETf90e50yMZsdqGStiMHYgpyl0IcVcSiBCCQohJAaltqPyE9YsYVjYkNUgpnSyG\n",
       "XNywiyehGmYSPypJ08eVOOfOSaMLi3BB0rQBYaqUEoUQV62FEIJxHDsDo7bBObcSI4YCYWqWZRgE\n",
       "QWev5Kp3qW2kaarRt2mKQ4AwNQzDVtdx4r7NHSrKt3H/UwNhAtK0ENtBvdU0bfvlWCCUmkka25bR\n",
       "utNM+9mI2raAUA/KdBfnFTMq6WPjJccmEErVUKCZsbIORJtl3AuICyAQEVR3a6MnuXmAOf5oAtJ3\n",
       "SO0KCCklEkKsvPv0OqiZWm97FRZCdILiCgjEv+8+hJBpgFB6rY6qaSmmuboEQvUkkwLRxzqaar42\n",
       "uwCCMWYlYN79xa63vj7AcM6tFKI1M9pjdHTu8/fv3/jr1y8oiuLuc3ieB4wxXYtpMuLr9XpVliUq\n",
       "1rwoClAlzuqaWZaNZ81tmWgURZOXIQNcLxCbxDW6NMsyFEJYZ8BdguAEiCYoLgrWXRA1k9ZH5HmO\n",
       "avpCkiQ6W3ZLzCTR5+enkyTRLApFzGAopdRBc8rM2CyAmIMs2fBKFiAqWYCoZAGikv8OhwOqKUT/\n",
       "ouj2q+z2v1R+rNTM42jWus8sl1dSlbZQU50AsU7HPbpOwbVKKfU4yBy+6wNMotZFRnwOGsexThQx\n",
       "xmptrB1ogkEpdZp0ndoKzEqgtgd98aVmAsX3/aeezNJMF3YN3TsRbFa6PBsgQogaALfSlzdPBg0u\n",
       "gDE224Capim2Me19ZgXfPLk5IaypnPOHxxHV+DZGbEhxWu8L3ipA9TwPgyBwOj98SJFa36nQSgfz\n",
       "EYfDAYUQvRbJUCsGmMw0pRQAQK8YoMQkZpp/i6LodT1CCHDO4cePH8NJnXufzq0SnynV9/3RLmrF\n",
       "ZOM4Rs75JMw1VL7PGBu9eMYo17glZVnqNWbSNNULYowRSqlOAjHGnEyBmIyzzPNcrz6kgFFxgBAC\n",
       "AFBbcUStQjIVgbuQt5UsDFUlCxCVLEBUsgBRyQJEJQsQlSxAVLIAUUkrEHme4+fnJ242G/z4+MCf\n",
       "P3++/ltX2wAKWgY6tmqe56q1DSmlHt21gTGU7HgmrbmGEAIAAJIkAcbYhfVYXLF0dlIDQgGw2WxW\n",
       "nPOLg9Uo8ZacTifM8/y54krNT6A+K8ZcwnHIYl2EECuF4g+LEaqgvHnQUBYIqpjy6MbdDYRihkfz\n",
       "f88OhJn7HNNDPCMQFwzV+/s7mgXmJlf48fHRizZbrVZYxZ/5riDSkAsg8jzHb9++dX5BEanb7Vb/\n",
       "bfKKLwEEwN/ujzHWm30mhNSA2e12APBcQHT6jJQSVY3RvTpFGtBZjGhKnue43+/h6+tr1OQUJU23\n",
       "mpKyvyaD6Pw8z1FV1qdpau2Vu0/ccS2j8xqn0wlNYGxYDcBl3PE8z+0iX7Z9TY1goaqfsD1pRU2O\n",
       "sx13nGS62rpP5VbKcvr8IEAfIYQAYwx2u92o1c8mA6JN1Np3JkBjXcvzPOCcw263GwaKi64IRr5i\n",
       "q3WtxrqW7/u9q4lnCUSbZlmGURRhEATIGBtUoNKnItAJEOomXZzb1GZN1S1wrlUDOrnBKIomX1ms\n",
       "CU7XNMtePyLwiiqlxObvBbU9pIff6JRqrnTQDKIPv7lHWIgqRjP3v3TKL89zPBwOeDqd9MvSer1e\n",
       "cc4hTdPasdZ/uW0ucjqdcLvd6m3GGB6PxxXAZbErwAsngff7fW07SRL4/v07qs+qAljJywLRJlEU\n",
       "weFwwCRJNIum5dHBy5V2JbOhyu02j3/4DbvUtvkmXRm7ly84VWtWFEUB2+22c/2J/wOzeI9+knQc\n",
       "JQAAAABJRU5ErkJggg==\n",
       "\" transform=\"translate(24, 398)\"/>\n",
       "</g>\n",
       "<polyline clip-path=\"url(#clip3402)\" style=\"stroke:#009af9; stroke-width:4; stroke-opacity:1; fill:none\" points=\"\n",
       "  275.605,70.3205 292.053,71.095 308.5,73.4155 324.948,77.2726 341.395,82.6507 357.843,89.5283 374.29,97.8776 390.738,107.665 407.185,118.851 423.633,131.391 \n",
       "  440.08,145.234 456.528,160.324 472.975,176.601 489.423,193.999 505.87,212.448 522.318,231.874 538.765,252.198 555.213,273.34 571.66,295.212 588.107,317.729 \n",
       "  604.555,340.798 621.002,364.327 637.45,388.221 653.897,412.384 670.345,436.719 686.792,461.128 703.24,485.512 719.687,509.773 736.135,533.814 752.582,557.537 \n",
       "  769.03,580.848 785.477,603.652 801.925,625.858 818.372,647.376 834.82,668.119 851.267,688.004 867.715,706.951 884.162,724.884 900.61,741.73 917.057,757.421 \n",
       "  933.505,771.895 949.952,785.093 966.4,796.962 982.847,807.454 999.295,816.527 1015.74,824.144 1032.19,830.275 1048.64,834.895 1065.08,837.985 1081.53,839.534 \n",
       "  1097.98,839.534 1114.43,837.985 1130.87,834.895 1147.32,830.275 1163.77,824.144 1180.22,816.527 1196.66,807.454 1213.11,796.962 1229.56,785.093 1246.01,771.895 \n",
       "  1262.45,757.421 1278.9,741.73 1295.35,724.884 1311.8,706.951 1328.24,688.004 1344.69,668.119 1361.14,647.376 1377.59,625.858 1394.03,603.652 1410.48,580.848 \n",
       "  1426.93,557.537 1443.38,533.814 1459.82,509.773 1476.27,485.512 1492.72,461.128 1509.17,436.719 1525.61,412.384 1542.06,388.221 1558.51,364.327 1574.96,340.798 \n",
       "  1591.4,317.729 1607.85,295.212 1624.3,273.34 1640.75,252.198 1657.19,231.874 1673.64,212.448 1690.09,193.999 1706.54,176.601 1722.98,160.324 1739.43,145.234 \n",
       "  1755.88,131.391 1772.33,118.851 1788.77,107.665 1805.22,97.8776 1821.67,89.5283 1838.12,82.6507 1854.56,77.2726 1871.01,73.4155 1887.46,71.095 1903.91,70.3205 \n",
       "  \n",
       "  \"/>\n",
       "<polyline clip-path=\"url(#clip3402)\" style=\"stroke:#e26f46; stroke-width:4; stroke-opacity:1; fill:none\" points=\"\n",
       "  275.605,70.3205 292.053,93.9776 308.5,116.18 324.948,137.017 341.395,156.573 357.843,174.926 374.29,192.15 390.738,208.315 407.185,223.487 423.633,237.725 \n",
       "  440.08,251.088 456.528,263.629 472.975,275.398 489.423,286.444 505.87,296.811 522.318,306.54 538.765,315.671 555.213,324.241 571.66,332.283 588.107,339.831 \n",
       "  604.555,346.915 621.002,353.563 637.45,359.802 653.897,365.658 670.345,371.153 686.792,376.311 703.24,381.151 719.687,385.694 736.135,389.957 752.582,393.959 \n",
       "  769.03,397.714 785.477,401.238 801.925,404.546 818.372,407.65 834.82,410.563 851.267,413.297 867.715,415.863 884.162,418.271 900.61,420.531 917.057,422.652 \n",
       "  933.505,424.643 949.952,426.511 966.4,428.265 982.847,429.91 999.295,431.455 1015.74,432.904 1032.19,434.264 1048.64,435.541 1065.08,436.739 1081.53,437.863 \n",
       "  1097.98,438.919 1114.43,439.909 1130.87,440.838 1147.32,441.711 1163.77,442.529 1180.22,443.298 1196.66,444.019 1213.11,444.696 1229.56,445.331 1246.01,445.927 \n",
       "  1262.45,446.486 1278.9,447.011 1295.35,447.504 1311.8,447.966 1328.24,448.4 1344.69,448.808 1361.14,449.19 1377.59,449.549 1394.03,449.885 1410.48,450.201 \n",
       "  1426.93,450.498 1443.38,450.776 1459.82,451.038 1476.27,451.283 1492.72,451.513 1509.17,451.729 1525.61,451.931 1542.06,452.121 1558.51,452.3 1574.96,452.467 \n",
       "  1591.4,452.625 1607.85,452.772 1624.3,452.911 1640.75,453.041 1657.19,453.163 1673.64,453.277 1690.09,453.384 1706.54,453.485 1722.98,453.58 1739.43,453.669 \n",
       "  1755.88,453.752 1772.33,453.83 1788.77,453.904 1805.22,453.973 1821.67,454.037 1838.12,454.098 1854.56,454.155 1871.01,454.208 1887.46,454.258 1903.91,454.305 \n",
       "  \n",
       "  \"/>\n",
       "<path clip-path=\"url(#clip3400)\" d=\"\n",
       "M286.756 742.61 L657.756 742.61 L657.756 561.17 L286.756 561.17  Z\n",
       "  \" fill=\"#ffffff\" fill-rule=\"evenodd\" fill-opacity=\"1\"/>\n",
       "<polyline clip-path=\"url(#clip3400)\" style=\"stroke:#000000; stroke-width:4; stroke-opacity:0; fill:none\" points=\"\n",
       "  286.756,742.61 657.756,742.61 657.756,561.17 286.756,561.17 286.756,742.61 \n",
       "  \"/>\n",
       "<polyline clip-path=\"url(#clip3400)\" style=\"stroke:#009af9; stroke-width:4; stroke-opacity:1; fill:none\" points=\"\n",
       "  306.756,621.65 426.756,621.65 \n",
       "  \"/>\n",
       "<g clip-path=\"url(#clip3400)\">\n",
       "<image width=\"117\" height=\"47\" xlink:href=\"data:image/png;base64,\n",
       "iVBORw0KGgoAAAANSUhEUgAAAHUAAAAvCAYAAADdEYUtAAAIHklEQVR4nO1c75WqPhMe9rwFwJYA\n",
       "HeAtAbcCtATsALcEsAKwBLQCtATcCpASAh3M++HucMcIIaB79f6Oc86cs64kGedfJk8SABHhxfrs\n",
       "+z4mSYJ/c8yyLNF1XSzLUmvcN3iRFtV1jbPZDJumgdVqZfzNsR3HMZbLJfz69QtOpxMONni05/8L\n",
       "LIRA27bRtu27RGgURei6LgIA2raNQRCgEGKw7yAIEAAGI/bhCvsX2PM8NE1TS/EqLooCbdtG0zQx\n",
       "SRIsyxLzPEfTNLX7d10XbdtWPvtwhT07h2GIAIBZlt1k0CzLEADQNM2rSEuSBAEAPc8bHKMsy8Fn\n",
       "H660Z+Y8z7WVrdMPAGBRFJ19DX3f5QRRFHX39WjFPTPbtq01h6m4KIrWoGEY9vZDY6me6Xq+Kw0/\n",
       "XHHPyhQNQRBMNihXvmmayn6ocHJdV2s8Sue+77+MqsNCCDRN8+YopfkYAAbXtp7ntc/q9k8y5nl+\n",
       "0ebhCnxGJmPcMpfytDsUpYh/IlV3XlXJ+XAFPiNTBNxS8XIj6SBQlKa7Iq+PhRBtG55RHq7AZ2Ne\n",
       "qU7tg0dpXzEjM39+jDN1FVgvmFCi7XYLAACe503u4/Pzs/3b932wLOvHYEXf9wHgj9wA8DKqTPv9\n",
       "HgCmG/V8PuPxeGw/L5fLwTYynmvbtvZ4JGfTNG0/SqPudjucz+foOA4ahoGWZeFsNsPVaoVawLJE\n",
       "dV1jmqadfa7Xazyfz6P7BACgPi3LatlxHFwsFq2cq9UKV6uVsn/+m6YadbPZXHzW6acoiovPpmlq\n",
       "jzefz9ss0DpTV57Osqwt6V3XxSiKMM9zzPMckyRB3/fbqksXD02SpMU4wzDEoihQCIFlWWKWZS3A\n",
       "7fu+dp8kp+u6mOf5RTshBCZJ0gLxoFHNRlF083xKeiPd6bQhoB5GzMFd8yqtWZUD9MFQpDRdoJvW\n",
       "YK7rKp8lpZqmOVjWU0EzBA7QDouOUUlOnSWISibisejQ1LEpyKhtr0GHBIqiqI1mlWJJUUM7C8R8\n",
       "wa4yLI2t86OpGh0yqq7x+1iOON31Jm8zZWyuMyEE/o/ycZqmSBWUbdsQx3FvxXY+n5FXeFmWQZqm\n",
       "V8+t1+u2aEiSRKsKjOPY2O/3WFUVeJ4HVVWh3O50OmHTNNoFxWw2M74NpqSqqgBg3JzGKcuyq8/H\n",
       "41E5Lo1J5Lru6HHf398v+5M9HzQWy3Ka6UoZtEUE31E6xvMId4WeLMC/HxNFqijg8k7BezkQcAvr\n",
       "Ag+cCQeG7zXuGwBAHMfYNE1r7aEyfD6fGzxKeNR2/W9sJcmf3263UNd1r7cPVbREtm0rI5D//imR\n",
       "ypcxAABRFAEiGkMsRyavZnWJy9tGKp+ox0RVnuedgLfstVMOavH2csHGowq+C7BbN7F59lEViH3M\n",
       "5zXQnE9lPU2dyzmCFUURvtV1jTyvj8np8/nccBznyrNkrx2zmCbi3ifPVY7jGISkAAB8fX3BcrkE\n",
       "wzBwPp/jer3Gw+Ewas17a6R+fX1dfJ7NZoMRJ+spCILR48okhIA3eeHLJ92pJPc5hbgcssIAAHa7\n",
       "3VXqAvitqM1mAx8fH62Rxxp4Cgkh2r91nVg26mKxmAQncidsmgbeuIfKD0wluc8pjqIjx+l0Moa8\n",
       "+3g8wsfHB6zX6x81LM92ujUEz0C3RKmcZX4E++Veey/qK5bSNDWEEJAkCfi+3+sMm80G4jjuNazs\n",
       "7WOJt9GZwg6Hw0VxGobh6DGJuL7f39/hTVbClB8kkxyZU4wsy6Fa41qWZaxWK2O32xl1XRtlWUKW\n",
       "ZVcR8/n52XsYmst8q1PqpF/aOAD4vdPSVZvokqyrN1mAe0SZ7KlTHEU1R53PZ0zTtDfqHMcxFouF\n",
       "cTgcjLIsL6KQb1FxujVSOQ1NN3VdI5eja0k4hmRdvTmOc7Hm7CpKxpIcIbdGqtzffr/XVoTjOEZV\n",
       "Va3R+oo4HilT5OU6HIpUbtAgCLQqZRVxXdm2/XtO5cuDqqqUi/0uiuP4osKUHUWu8oZITpFcPiK+\n",
       "fzhElmW1BZUqCklmGbrToTEFZhRFbRv6+xa6ilSA6/DvS1F91BU1XNixRuVVoeu6vSiLvH5VERlM\n",
       "FUX03ZRsxbOJKtLX63VbIG2327uciuCYtWVZRotK8L3EMds/URT1olD82OMYxIfj0F3IDN+i0917\n",
       "JMRHtfvEdTD2aChHdfrQpFvx5T5W7qfSvhx/QMUkZB8Izfcyu+6QdDHfvupzBK58XeXQJrxKBm6Y\n",
       "KbAjOWMfLMoPAtzLoIh/IFWCN68e4IZVKawoivYUg2pAIcTFtT0VJqpjUNmoOgbQiVJZQVMiSXXR\n",
       "iZ8WuadBu+7p9ApHXmfbNoZhiHmeY1EUmGVZe5xlDPDNAW/f9zHLMiyKAvM8R77h7nneIBhORqVn\n",
       "TdNE3/fbIy1CiFZWcihdWfkpjSlK5roRQmCe56NlGMOkVz5lDnoeHVmhhq7rYhiGk+5q0rkhuU+6\n",
       "eKt7UoAci/dLF3m7ZB0zP3LPn3oflc5GkRxBENx0fUPFXQ5z90H+Czw0Nz4L88KLO+Dr3G8H0ZqW\n",
       "Q3nPSPzg+cXS6NHe9ozcd0fl2ZgyijxtvSK1gyzLMgg8kQ9nPwulaYpN04Dv+1cwo4H44/vH/yw5\n",
       "joNVVYEQ4kfvw0whlWyvSFVQkiQAoHcf5m9SHMdYVRVEUdTtbI+eF56d7/V2lnvx6+0sd2JaVz9D\n",
       "0fR6j9KdmL/x7NYXZN3ChFa93nh2R8O6rnt37FaXwzDUzhavQkmTLMsyTqeTYZomqI7S/ATRReai\n",
       "KLTOMv0fzzi1abAvK/YAAAAASUVORK5CYII=\n",
       "\" transform=\"translate(447, 598)\"/>\n",
       "</g>\n",
       "<polyline clip-path=\"url(#clip3400)\" style=\"stroke:#e26f46; stroke-width:4; stroke-opacity:1; fill:none\" points=\"\n",
       "  306.756,682.13 426.756,682.13 \n",
       "  \"/>\n",
       "<g clip-path=\"url(#clip3400)\">\n",
       "<image width=\"171\" height=\"47\" xlink:href=\"data:image/png;base64,\n",
       "iVBORw0KGgoAAAANSUhEUgAAAKsAAAAvCAYAAACcyTrXAAAIvklEQVR4nO1d/3HqPgxXem8A5zuC\n",
       "8yYIjBA6QcgIoRPAGyEwQdoRAhNQRjBMEBghyQb6/tHnPGHywwmBlJTPne7KYWNblmTZkl1ARHjS\n",
       "fcl1XQzDEPvuR98UxzHato1xHGvx4gWeuBvSNMXRaIRZlsFsNjP67k/fsCzL8DwPxuMx7Pd7rK3Q\n",
       "t3b9FEqSBDnnyDnXsiKPSEEQoG3bCADIOUff9zFJktrx+r6PAFBrYXsf4E8hx3GQMaY1eY9GQgjk\n",
       "nCNjDMMwxDiOcbvdImNMe8y2bSPnvLJs7wP9CTSfzxEAMIqi2kl7NIqiCAEAGWMXljEMQwQAdByn\n",
       "dtxxHNeW7X2wQ6ftdqs9YY9GcmwAgEKIwvHVfU9JCncQBMW/1feAh06ccy1/7NFICJEL6nw+Lx2b\n",
       "HH9VmaLyRe5A74MeMklL4fu+1kQ9EkmhYoxVjk1uuGzb1uKBdCtc170o3/ugh0pJkiBjbJBWVfrg\n",
       "AFB7Xuw4Tl5W9/cl37bb7Vmd3gc+VJITOjRflS7/dVYV8Z9l1fVbq3jX++CHStI6DO0EgAqfThRO\n",
       "ugtFlrKMkiTJ69BVqffBD5HoLrnvvnRJ1KqWbYJUouWbKG7RxuwZbr0BPj4+AADAcZyee9It/vz5\n",
       "k//tui6YpnmzkLHrugDwj5cA8BTWW2Cz2QDAsIT1eDzibrfLP3ueV1tHjfdzzrXbk7zLsiz/nVJh\n",
       "3e/3OJvN0LIsNE0TDcNAy7JwOp3ier2uTzq4MdbrNS4WC5xOpziZTHA0GqFlWWgYBqZpirTcZDLJ\n",
       "vzNNE0ejES6Xy7NyXYFO0JCEdbVanX3WGZsQ4uwzY0y7vclkklvtXElUXyGOY5THDTTWmyQJbrfb\n",
       "s0SFot2duluUyRsyTgwV/gutJ+vSetShd133zH8CxZei8eogCHC73aIQAsMwROr0l0VL2lIQBIP0\n",
       "V+nc6Z6ZygQVaODjFvmt8sz1QtBkp4oOZYsERRXYJEkwCAKcz+dIz9goOY5TePZYJoCO4+B8Pi9U\n",
       "jjiOUa1XF7ZTGdnl8RJV9L4FrCuiG0ZoEY1qyw85r7Lu2aQ30Rwp1HWdUAda99tUwHWZQo86qix3\n",
       "VVu61kJ3goZ0vqpaSN3zUtXgNG2XBh+SJMFf0i94fX3N/YUgCGo8iq8yb29vkGUZLBYLXC6XhTvD\n",
       "yWRiRFGE0iE/HA6w3+9xNBoVlk+SBAAAttvtmd9Shb+70txX9H0fptNpbd0oiuC///7L+1U1Dl2c\n",
       "TicAaOaffXdEUXTxebfbVfr7kg8Stm03blfOTf57iOd+lm5yMLXEOiZebaPIf5FxYd3D4zIt1tV8\n",
       "VXvhytAo5clQ8gGKVq021GZOpTzA35USEM+d5yZMpvV0Jpkuu+qyICe67YanrbBSAbtWyHQzkR6J\n",
       "qMA0mR8a6YKWm03qQgZBgC/7/R6zLGtlrsfjcf43PYMrQxRF+VnbbreDxWKRLyWvr6/gui4sFou7\n",
       "3k2yLMug53/qktcE0oUBOF/CHhnq8ZPOkVWapng4HBrVKYLKw1+qkDU5uKV+GRX4MpimaURRhFLI\n",
       "V6sVOI6Dq9UKGGOwXq97uURn23buY8lD6DKfugqUB9f4rJPJBFWf75YIgqDUx6dCBwCgwxdVpnzf\n",
       "v6Z7APBlCH6pTPm70ap0nougK+Sj0cgIwxDf3t7y9hhjFw75PaH2/XQ6wWg06qk3X+3fkx90Raj6\n",
       "TneOVWHV2ewWQTWGv9SOCiG0tOcazGYz43A4oIz7cs5vGmeug7rc9Kk4AADH4/HbXNOmvNBdzqkr\n",
       "dY1VVVeqF3WiqrSsS8hEBYCvpWY2mzW25rdC2yW8qVv0CGi6n/n8/DzbA83n89Ztq3uAF3Vi7sHk\n",
       "NE3R8zzwfT+f4I+PD+gr50BV0LabI1rvXkp/T+i4ATKJB+DLIFmW1XqVUGXxhe7oAe7DZMdxYDwe\n",
       "w/v7u0GXDM/z9F7m6BhdHGADDNOyUtQpcZqmSFP6aEphG6j+8ovq/Kq7v64xm80wyzL4/Pw0AL4i\n",
       "XDRi5nke3CIbqgp0Q8AYa20NaL2hWFZqTessKxVU3/ev3vtQheecf0WwaCJImxi57/taVxzCMCx8\n",
       "DAGxOmCgQ9BRUODaw3yZG9BVrkHfRA/367KmaL5IFy/PqLkBhRPWZLJlOK6ujozuVIXdaJZOU6Gh\n",
       "/W8S2rs2jU2lNrc5vzNRgamKUtJyXd07K826oo1VpQcWdbLOiui+SqLe8WkidLSebshUVdIunqGk\n",
       "ORBDuIJN56TMIN0qJ6Iyn5VaBR3tkEJYNilJkiBVAp3lXY0pt0lH0xV02lZXTKaTO5SbrUXJ70V8\n",
       "bGLkmsypzEe4KEAFtsrSyAQHtYwQojLxukwoipKoqZD7vo/z+bx0mablgyBAxliloNO2uk46uYWV\n",
       "6ZOqHliTfOw6f7foHa3Szkltsm0bwzBEIQQKIVC+wckYK7RecmBlV1PK0glpdk9Z3SpLq1pj+eSi\n",
       "7/sohMAkSTCO47NrLZzzm1g/qahD2WRRoQyC4OKKU9dXgxD/uaVUXkoLJ0mCYRiifFdUVpTC+93e\n",
       "GS1zHYIgOBsD5xxd173pEk2twnfj0zVEFV0aglv55UWK0DsDuqK2pxm3ojo/70nlRDdsVNmf7wbc\n",
       "CDKBg4Yfn9ADfSTkLMGpby3qiuCbWday95qeVE9yVVLn8WlZbwTTNPMwsvpAxBPleH9/xyzLwHXd\n",
       "i3Ct8dcqPTwMw8gHco+cXF1YloWn0wmSJOk1Z/dRUMWvQVjW4/F4pnF9J09ThGEIAHpvQ/10LJdL\n",
       "PJ1OEARBoWI/rGVdr9e5Bm42mzMBZYyB53nAOQfGWO//IG2xWOBqtYIoilpf8Rg6jscj/v79GxzH\n",
       "yTPyLtC3M92WaASqKojwXf5JmjzrfW62iknn/2A9rGV9NKRpmt/qFUI8/VeC6XSKm80G4jiuzCUe\n",
       "hM/6CDBN0xBC5C7KE19YLBa42+1qBRXgKax3hWmaxn6/Nxhj8P7+/uOXNPlAsRBC63bG/3NnopKt\n",
       "gZIdAAAAAElFTkSuQmCC\n",
       "\" transform=\"translate(447, 659)\"/>\n",
       "</g>\n",
       "</svg>\n"
      ]
     },
     "execution_count": 16,
     "metadata": {},
     "output_type": "execute_result"
    }
   ],
   "source": [
    "x = LinRange(0,2*pi,100)\n",
    "plot(x,cos.(x),label=L\"\\cos(\\theta)\",fg_legend=:transparent,legend=:bottomleft)\n",
    "xlabel!(L\"\\theta\");ylabel!(L\"f(\\theta)\")\n",
    "plot!(x,exp.(-x),label=L\"\\exp{(-\\theta)}\")"
   ]
  },
  {
   "cell_type": "code",
   "execution_count": 17,
   "metadata": {},
   "outputs": [
    {
     "name": "stdout",
     "output_type": "stream",
     "text": [
      "3\n"
     ]
    }
   ],
   "source": [
    "x=3; y=6.2; println(x) # ; is used to separate more than one command on the same line"
   ]
  },
  {
   "cell_type": "markdown",
   "metadata": {},
   "source": [
    "### codequiz:\n",
    "What does this do:"
   ]
  },
  {
   "cell_type": "code",
   "execution_count": 18,
   "metadata": {},
   "outputs": [
    {
     "data": {
      "text/plain": [
       "(3, 29)"
      ]
     },
     "execution_count": 18,
     "metadata": {},
     "output_type": "execute_result"
    }
   ],
   "source": [
    "a,b = 1+2,30-1"
   ]
  },
  {
   "cell_type": "markdown",
   "metadata": {
    "toc-hr-collapsed": true
   },
   "source": [
    "## Strings and Unicode input"
   ]
  },
  {
   "cell_type": "code",
   "execution_count": 19,
   "metadata": {},
   "outputs": [
    {
     "name": "stdout",
     "output_type": "stream",
     "text": [
      "Hello world, it is I ... Julia!\n"
     ]
    }
   ],
   "source": [
    "println(\"Hello world, it is I ... Julia!\")"
   ]
  },
  {
   "cell_type": "code",
   "execution_count": 20,
   "metadata": {},
   "outputs": [
    {
     "name": "stdout",
     "output_type": "stream",
     "text": [
      "println let's you splice strings together with numbers, e.g. a constant like π, or variables e.g. x = 3, or y = 6.2\n"
     ]
    }
   ],
   "source": [
    "println(\"println let's you splice strings together with numbers, e.g. a constant like \",\n",
    "    pi,\", or variables e.g. x = \",x,\", or y = $y\" )"
   ]
  },
  {
   "cell_type": "markdown",
   "metadata": {},
   "source": [
    "- We see `$y` splices the value of y as a string object into the string (this is called string interpolation)\n",
    "- Also note that `println` allows you to pass in variables and strings as a comma separated list, generating a sensible result."
   ]
  },
  {
   "cell_type": "markdown",
   "metadata": {},
   "source": [
    "### codequiz:"
   ]
  },
  {
   "cell_type": "code",
   "execution_count": 21,
   "metadata": {},
   "outputs": [
    {
     "data": {
      "text/plain": [
       "\"hello juila\""
      ]
     },
     "execution_count": 21,
     "metadata": {},
     "output_type": "execute_result"
    }
   ],
   "source": [
    "\"hello\"*\" \"*\"juila\""
   ]
  },
  {
   "cell_type": "code",
   "execution_count": null,
   "metadata": {},
   "outputs": [],
   "source": [
    "# another kind of input (unicode): typing the sequence\n",
    "# i\\hbar<\\tab>\\psi<\\tab>\\dot<\\tab>=H\\hat<\\tab>\\psi<\\tab> will format as\n",
    "# iħψ̇=Ĥψ\n",
    "# There are a lot of supported symbols accessible via tab-completion:"
   ]
  },
  {
   "cell_type": "code",
   "execution_count": 7,
   "metadata": {
    "collapsed": true,
    "jupyter": {
     "outputs_hidden": true
    }
   },
   "outputs": [
    {
     "ename": "UndefVarError",
     "evalue": "UndefVarError: Ĥψ not defined",
     "output_type": "error",
     "traceback": [
      "UndefVarError: Ĥψ not defined",
      "",
      "Stacktrace:",
      " [1] top-level scope at In[7]:1"
     ]
    }
   ],
   "source": [
    "iħψ̇ = Ĥψ # unicode input in code mode - similar to latex input in markdown mode"
   ]
  },
  {
   "cell_type": "code",
   "execution_count": 23,
   "metadata": {},
   "outputs": [
    {
     "data": {
      "text/plain": [
       "3"
      ]
     },
     "execution_count": 23,
     "metadata": {},
     "output_type": "execute_result"
    }
   ],
   "source": [
    "ψ=3"
   ]
  },
  {
   "cell_type": "markdown",
   "metadata": {},
   "source": [
    "We can also enter text in markdown mode, including LaTeX in-line $\\langle x\\rangle=\\pi$, and line equations:\n",
    "$$i\\hbar\\frac{\\partial\\psi}{\\partial t}=\\hat{H}\\psi$$\n",
    "More on **jupyter** input with markdown later..."
   ]
  },
  {
   "cell_type": "markdown",
   "metadata": {},
   "source": [
    "- [Unicode list for julia](https://docs.julialang.org/en/v1/manual/unicode-input/)\n",
    "- Check out the markdown for this cell!\n",
    "- `\\:smiling_imp:<tab>` will invoke "
   ]
  },
  {
   "cell_type": "code",
   "execution_count": null,
   "metadata": {},
   "outputs": [],
   "source": [
    "😈 # let's use this as a variable name"
   ]
  },
  {
   "cell_type": "code",
   "execution_count": 9,
   "metadata": {},
   "outputs": [
    {
     "data": {
      "text/plain": [
       "10"
      ]
     },
     "execution_count": 9,
     "metadata": {},
     "output_type": "execute_result"
    }
   ],
   "source": [
    "😈=10"
   ]
  },
  {
   "cell_type": "markdown",
   "metadata": {},
   "source": [
    "a totally legitimate statement in $\\julia$!"
   ]
  },
  {
   "cell_type": "markdown",
   "metadata": {
    "toc-hr-collapsed": true
   },
   "source": [
    "## Types\n",
    "If this is your first encounter with data types, here is what you need to know\n",
    "- Every piece of data has a type, in any language. \n",
    "- In a __weakly typed language__ the type information is hidden and/or not strictly enforced\n",
    "- In a __strongly typed language__ all types must be excplicitly declared, and operations (i.e. functions) are strictly limited to particular input types.\n",
    "- $\\julia$ is ___optionally typed___: it is possible to get a long way without caring about types. But the more you help the compiler with type information, the better code it can write for you. \n",
    "\n",
    "For now, we will simple mention some obvious points in passing, and we will learn how to address a couple of common problems associated with types."
   ]
  },
  {
   "cell_type": "code",
   "execution_count": 25,
   "metadata": {},
   "outputs": [
    {
     "data": {
      "text/plain": [
       "π = 3.1415926535897..."
      ]
     },
     "execution_count": 25,
     "metadata": {},
     "output_type": "execute_result"
    }
   ],
   "source": [
    "pi"
   ]
  },
  {
   "cell_type": "code",
   "execution_count": 24,
   "metadata": {},
   "outputs": [
    {
     "data": {
      "text/plain": [
       "π = 3.1415926535897..."
      ]
     },
     "execution_count": 24,
     "metadata": {},
     "output_type": "execute_result"
    }
   ],
   "source": [
    "π"
   ]
  },
  {
   "cell_type": "code",
   "execution_count": 26,
   "metadata": {},
   "outputs": [
    {
     "data": {
      "text/plain": [
       "Irrational{:π}"
      ]
     },
     "execution_count": 26,
     "metadata": {},
     "output_type": "execute_result"
    }
   ],
   "source": [
    "typeof(π)"
   ]
  },
  {
   "cell_type": "code",
   "execution_count": 27,
   "metadata": {
    "slideshow": {
     "slide_type": "slide"
    }
   },
   "outputs": [
    {
     "data": {
      "text/plain": [
       "-1 + 0im"
      ]
     },
     "execution_count": 27,
     "metadata": {},
     "output_type": "execute_result"
    }
   ],
   "source": [
    "# julia imaginary unit √-1 ≡ im\n",
    "im^2"
   ]
  },
  {
   "cell_type": "code",
   "execution_count": 28,
   "metadata": {},
   "outputs": [
    {
     "data": {
      "text/plain": [
       "Complex{Int64}"
      ]
     },
     "execution_count": 28,
     "metadata": {},
     "output_type": "execute_result"
    }
   ],
   "source": [
    "typeof(ans)"
   ]
  },
  {
   "cell_type": "markdown",
   "metadata": {},
   "source": [
    "Let's evaluate the famous formula \n",
    "\n",
    "$$ e^{i\\pi} + 1 = 0$$"
   ]
  },
  {
   "cell_type": "code",
   "execution_count": 29,
   "metadata": {},
   "outputs": [
    {
     "data": {
      "text/plain": [
       "0.0 + 1.2246467991473532e-16im"
      ]
     },
     "execution_count": 29,
     "metadata": {},
     "output_type": "execute_result"
    }
   ],
   "source": [
    "exp(im*pi)+1"
   ]
  },
  {
   "cell_type": "markdown",
   "metadata": {},
   "source": [
    "### codequiz: what will this return?"
   ]
  },
  {
   "cell_type": "code",
   "execution_count": 30,
   "metadata": {
    "jupyter": {
     "source_hidden": true
    }
   },
   "outputs": [
    {
     "data": {
      "text/plain": [
       "Complex{Float64}"
      ]
     },
     "execution_count": 30,
     "metadata": {},
     "output_type": "execute_result"
    }
   ],
   "source": [
    "typeof(ans)"
   ]
  },
  {
   "cell_type": "code",
   "execution_count": 31,
   "metadata": {},
   "outputs": [
    {
     "data": {
      "text/plain": [
       "1"
      ]
     },
     "execution_count": 31,
     "metadata": {},
     "output_type": "execute_result"
    }
   ],
   "source": [
    "a=1"
   ]
  },
  {
   "cell_type": "code",
   "execution_count": 32,
   "metadata": {},
   "outputs": [
    {
     "data": {
      "text/plain": [
       "1.0"
      ]
     },
     "execution_count": 32,
     "metadata": {},
     "output_type": "execute_result"
    }
   ],
   "source": [
    "a |> Float64 # type conversion!"
   ]
  },
  {
   "cell_type": "code",
   "execution_count": 33,
   "metadata": {},
   "outputs": [
    {
     "data": {
      "text/plain": [
       "1.0"
      ]
     },
     "execution_count": 33,
     "metadata": {},
     "output_type": "execute_result"
    }
   ],
   "source": [
    "Float64(a)"
   ]
  },
  {
   "cell_type": "markdown",
   "metadata": {},
   "source": [
    "- Float64 is a data type, but also a conversion method\n",
    "- `|>` directs the output of one function to the input of another"
   ]
  },
  {
   "cell_type": "code",
   "execution_count": 35,
   "metadata": {
    "slideshow": {
     "slide_type": "slide"
    }
   },
   "outputs": [
    {
     "data": {
      "text/plain": [
       "3.1415926535897932384626433832795028841971693993751058209749445923078164062862089986280348253421170679821480865132823066470938446095505822317253594081284811174502841027019385211055596446229489549303819644288109756659334461284756482337867831652712019091456485669234603486104543266482133936072602491412737245870066063155881748815209209628292540917153643678925903600113305305488204665213841469519415116094330572703657595919530921861173819326117931051185480744623799627495673518857527248912279381830119491298336733624406566430860213949463952247371907021798609437027705392171762931767523846748184676694051320005681271452635608277857713427577896091736371787214684409012249534301465495853710507922796892589235420199561121290219608640344181598136297747713099605187072113499999983729780499510597317328160963185950244594553469083026425223082533446850352619311881710100031378387528865875332083814206171776691473035988"
      ]
     },
     "execution_count": 35,
     "metadata": {},
     "output_type": "execute_result"
    }
   ],
   "source": [
    "# also supports variable precision arithmetic\n",
    "# let's get π to 3000 digits\n",
    "mypi = BigFloat(pi,3000) # default is \"double-double\" or 128 bit floating point."
   ]
  },
  {
   "cell_type": "code",
   "execution_count": 36,
   "metadata": {},
   "outputs": [
    {
     "data": {
      "text/plain": [
       "0.0 - 5.139657999243271600268924491804683230804890359522076358819175943827622169196671e-904im"
      ]
     },
     "execution_count": 36,
     "metadata": {},
     "output_type": "execute_result"
    }
   ],
   "source": [
    "exp(im*mypi) + 1"
   ]
  },
  {
   "cell_type": "markdown",
   "metadata": {},
   "source": [
    "How is that for zero!"
   ]
  },
  {
   "cell_type": "code",
   "execution_count": 37,
   "metadata": {},
   "outputs": [
    {
     "data": {
      "text/plain": [
       "100-element LinRange{Float64}:\n",
       " 0.0,0.0634665,0.126933,0.1904,0.253866,…,6.09279,6.15625,6.21972,6.28319"
      ]
     },
     "execution_count": 37,
     "metadata": {},
     "output_type": "execute_result"
    }
   ],
   "source": [
    "# julia range object\n",
    "xrange = LinRange(0,2π,100)"
   ]
  },
  {
   "cell_type": "code",
   "execution_count": 38,
   "metadata": {},
   "outputs": [
    {
     "data": {
      "text/plain": [
       "LinRange{Float64}"
      ]
     },
     "execution_count": 38,
     "metadata": {},
     "output_type": "execute_result"
    }
   ],
   "source": [
    "typeof(xrange)"
   ]
  },
  {
   "cell_type": "code",
   "execution_count": 39,
   "metadata": {},
   "outputs": [
    {
     "data": {
      "text/plain": [
       "100-element Array{Float64,1}:\n",
       " 0.0                \n",
       " 0.06346651825433926\n",
       " 0.12693303650867852\n",
       " 0.19039955476301776\n",
       " 0.25386607301735703\n",
       " 0.3173325912716963 \n",
       " 0.3807991095260355 \n",
       " 0.44426562778037476\n",
       " 0.5077321460347141 \n",
       " 0.5711986642890533 \n",
       " 0.6346651825433925 \n",
       " 0.6981317007977318 \n",
       " 0.761598219052071  \n",
       " ⋮                  \n",
       " 5.585053606381854  \n",
       " 5.648520124636193  \n",
       " 5.711986642890532  \n",
       " 5.775453161144872  \n",
       " 5.838919679399211  \n",
       " 5.902386197653551  \n",
       " 5.96585271590789   \n",
       " 6.029319234162229  \n",
       " 6.092785752416568  \n",
       " 6.156252270670907  \n",
       " 6.219718788925247  \n",
       " 6.283185307179586  "
      ]
     },
     "execution_count": 39,
     "metadata": {},
     "output_type": "execute_result"
    }
   ],
   "source": [
    "# Conversion to a familiar vector, such as created by linspace in Matlab \n",
    "x = collect(xrange)"
   ]
  },
  {
   "cell_type": "code",
   "execution_count": 40,
   "metadata": {},
   "outputs": [
    {
     "data": {
      "text/plain": [
       "Array{Float64,1}"
      ]
     },
     "execution_count": 40,
     "metadata": {},
     "output_type": "execute_result"
    }
   ],
   "source": [
    "typeof(x)"
   ]
  },
  {
   "cell_type": "code",
   "execution_count": 41,
   "metadata": {},
   "outputs": [
    {
     "data": {
      "text/plain": [
       "1.967462065884517"
      ]
     },
     "execution_count": 41,
     "metadata": {},
     "output_type": "execute_result"
    }
   ],
   "source": [
    "#pull out element 32 of x. Note the square brackets!\n",
    "x[32]"
   ]
  },
  {
   "cell_type": "markdown",
   "metadata": {},
   "source": [
    "Right now I am a little worried you might be missing your old friend `linspace` from Matlab."
   ]
  },
  {
   "cell_type": "markdown",
   "metadata": {},
   "source": [
    "### codequiz: what does this do?"
   ]
  },
  {
   "cell_type": "code",
   "execution_count": 47,
   "metadata": {},
   "outputs": [
    {
     "data": {
      "text/plain": [
       "linspace (generic function with 1 method)"
      ]
     },
     "execution_count": 47,
     "metadata": {},
     "output_type": "execute_result"
    }
   ],
   "source": [
    "linspace(a,b,n) = LinRange(a,b,n) |> collect"
   ]
  },
  {
   "cell_type": "code",
   "execution_count": 43,
   "metadata": {
    "collapsed": true,
    "jupyter": {
     "outputs_hidden": true
    }
   },
   "outputs": [
    {
     "data": {
      "text/plain": [
       "100-element Array{Float64,1}:\n",
       " 0.0                \n",
       " 0.06346651825433926\n",
       " 0.12693303650867852\n",
       " 0.19039955476301776\n",
       " 0.25386607301735703\n",
       " 0.3173325912716963 \n",
       " 0.3807991095260355 \n",
       " 0.44426562778037476\n",
       " 0.5077321460347141 \n",
       " 0.5711986642890533 \n",
       " 0.6346651825433925 \n",
       " 0.6981317007977318 \n",
       " 0.761598219052071  \n",
       " ⋮                  \n",
       " 5.585053606381854  \n",
       " 5.648520124636193  \n",
       " 5.711986642890532  \n",
       " 5.775453161144872  \n",
       " 5.838919679399211  \n",
       " 5.902386197653551  \n",
       " 5.96585271590789   \n",
       " 6.029319234162229  \n",
       " 6.092785752416568  \n",
       " 6.156252270670907  \n",
       " 6.219718788925247  \n",
       " 6.283185307179586  "
      ]
     },
     "execution_count": 43,
     "metadata": {},
     "output_type": "execute_result"
    }
   ],
   "source": [
    "linspace(0,2π,100)"
   ]
  },
  {
   "cell_type": "markdown",
   "metadata": {},
   "source": [
    "### codequiz: ok, now what about this?"
   ]
  },
  {
   "cell_type": "code",
   "execution_count": 44,
   "metadata": {},
   "outputs": [
    {
     "data": {
      "text/plain": [
       "linspace (generic function with 1 method)"
      ]
     },
     "execution_count": 44,
     "metadata": {},
     "output_type": "execute_result"
    }
   ],
   "source": [
    "linspace(a,b,n) = LinRange(a,b,n) .|> Float64"
   ]
  },
  {
   "cell_type": "code",
   "execution_count": 45,
   "metadata": {
    "collapsed": true,
    "jupyter": {
     "outputs_hidden": true,
     "source_hidden": true
    }
   },
   "outputs": [
    {
     "data": {
      "text/plain": [
       "100-element Array{Float64,1}:\n",
       " 0.0                \n",
       " 0.06346651825433926\n",
       " 0.12693303650867852\n",
       " 0.19039955476301776\n",
       " 0.25386607301735703\n",
       " 0.3173325912716963 \n",
       " 0.3807991095260355 \n",
       " 0.44426562778037476\n",
       " 0.5077321460347141 \n",
       " 0.5711986642890533 \n",
       " 0.6346651825433925 \n",
       " 0.6981317007977318 \n",
       " 0.761598219052071  \n",
       " ⋮                  \n",
       " 5.585053606381854  \n",
       " 5.648520124636193  \n",
       " 5.711986642890532  \n",
       " 5.775453161144872  \n",
       " 5.838919679399211  \n",
       " 5.902386197653551  \n",
       " 5.96585271590789   \n",
       " 6.029319234162229  \n",
       " 6.092785752416568  \n",
       " 6.156252270670907  \n",
       " 6.219718788925247  \n",
       " 6.283185307179586  "
      ]
     },
     "execution_count": 45,
     "metadata": {},
     "output_type": "execute_result"
    }
   ],
   "source": [
    "linspace(0,2π,100)"
   ]
  },
  {
   "cell_type": "markdown",
   "metadata": {},
   "source": [
    "### codequiz: ???"
   ]
  },
  {
   "cell_type": "code",
   "execution_count": 48,
   "metadata": {
    "collapsed": true,
    "jupyter": {
     "outputs_hidden": true
    }
   },
   "outputs": [
    {
     "data": {
      "text/plain": [
       "10-element Array{Complex{Float64},1}:\n",
       "                 -1.0 - 1.0im                \n",
       "  -0.7777777777777777 - 0.33333333333333326im\n",
       "  -0.5555555555555556 + 0.33333333333333337im\n",
       "  -0.3333333333333334 + 0.9999999999999998im \n",
       " -0.11111111111111116 + 1.6666666666666667im \n",
       "  0.11111111111111116 + 2.333333333333333im  \n",
       "  0.33333333333333326 + 2.9999999999999996im \n",
       "   0.5555555555555556 + 3.6666666666666665im \n",
       "   0.7777777777777777 + 4.333333333333334im  \n",
       "                  1.0 + 5.0im                "
      ]
     },
     "execution_count": 48,
     "metadata": {},
     "output_type": "execute_result"
    }
   ],
   "source": [
    "linspace(-1-im,1+5im,10) "
   ]
  },
  {
   "cell_type": "markdown",
   "metadata": {},
   "source": [
    "### Quick Recap \n",
    "- Types can be converted easily using convenient methods\n",
    "- `|>` redirects output to input (target function must allow for one input argument)\n",
    "- `.` works for any data type that is some form of abstract array."
   ]
  },
  {
   "cell_type": "markdown",
   "metadata": {
    "toc-hr-collapsed": true
   },
   "source": [
    "# Arrays"
   ]
  },
  {
   "cell_type": "markdown",
   "metadata": {},
   "source": [
    "## Simple array operations"
   ]
  },
  {
   "cell_type": "code",
   "execution_count": 49,
   "metadata": {},
   "outputs": [
    {
     "data": {
      "text/plain": [
       "5-element Array{Float64,1}:\n",
       " -0.6885451983602543 \n",
       " -0.8779757611659789 \n",
       "  0.2840332408633099 \n",
       " -0.6706986222438188 \n",
       "  0.30858344154446044"
      ]
     },
     "execution_count": 49,
     "metadata": {},
     "output_type": "execute_result"
    }
   ],
   "source": [
    "x=randn(5)"
   ]
  },
  {
   "cell_type": "code",
   "execution_count": 50,
   "metadata": {},
   "outputs": [
    {
     "data": {
      "text/plain": [
       "1×5 LinearAlgebra.Adjoint{Float64,Array{Float64,1}}:\n",
       " -0.688545  -0.877976  0.284033  -0.670699  0.308583"
      ]
     },
     "execution_count": 50,
     "metadata": {},
     "output_type": "execute_result"
    }
   ],
   "source": [
    "x'"
   ]
  },
  {
   "cell_type": "code",
   "execution_count": 51,
   "metadata": {},
   "outputs": [
    {
     "data": {
      "text/plain": [
       "((5,), (1, 5))"
      ]
     },
     "execution_count": 51,
     "metadata": {},
     "output_type": "execute_result"
    }
   ],
   "source": [
    "size(x),size(x')"
   ]
  },
  {
   "cell_type": "code",
   "execution_count": 52,
   "metadata": {},
   "outputs": [
    {
     "data": {
      "text/plain": [
       "1.870671191570437"
      ]
     },
     "execution_count": 52,
     "metadata": {},
     "output_type": "execute_result"
    }
   ],
   "source": [
    "x'*x   # inner product gives a number"
   ]
  },
  {
   "cell_type": "code",
   "execution_count": 53,
   "metadata": {},
   "outputs": [
    {
     "data": {
      "text/plain": [
       "5×5 Array{Float64,2}:\n",
       "  0.474094   0.604526  -0.19557     0.461806  -0.212474 \n",
       "  0.604526   0.770841  -0.249374    0.588857  -0.270929 \n",
       " -0.19557   -0.249374   0.0806749  -0.190501   0.087648 \n",
       "  0.461806   0.588857  -0.190501    0.449837  -0.206966 \n",
       " -0.212474  -0.270929   0.087648   -0.206966   0.0952237"
      ]
     },
     "execution_count": 53,
     "metadata": {},
     "output_type": "execute_result"
    }
   ],
   "source": [
    "X=x*x' # outer product gives 2d array"
   ]
  },
  {
   "cell_type": "code",
   "execution_count": 54,
   "metadata": {},
   "outputs": [
    {
     "data": {
      "text/plain": [
       "2×3 Array{Int64,2}:\n",
       " 1  2  3\n",
       " 4  5  6"
      ]
     },
     "execution_count": 54,
     "metadata": {},
     "output_type": "execute_result"
    }
   ],
   "source": [
    "A = [1 2 3;4 5 6]"
   ]
  },
  {
   "cell_type": "code",
   "execution_count": 55,
   "metadata": {},
   "outputs": [
    {
     "data": {
      "text/plain": [
       "3×3 Array{Float64,2}:\n",
       " 0.0  0.0  0.0\n",
       " 0.0  0.0  0.0\n",
       " 0.0  0.0  0.0"
      ]
     },
     "execution_count": 55,
     "metadata": {},
     "output_type": "execute_result"
    }
   ],
   "source": [
    "B = zeros(3,3)"
   ]
  },
  {
   "cell_type": "code",
   "execution_count": 56,
   "metadata": {},
   "outputs": [
    {
     "data": {
      "text/plain": [
       "2×3 Array{Int64,2}:\n",
       " 1  2  3\n",
       " 4  5  6"
      ]
     },
     "execution_count": 56,
     "metadata": {},
     "output_type": "execute_result"
    }
   ],
   "source": [
    "B[1:2,:]=A # note difference from Matlab: [] for accessing arrays"
   ]
  },
  {
   "cell_type": "code",
   "execution_count": 57,
   "metadata": {},
   "outputs": [
    {
     "data": {
      "text/plain": [
       "3-element Array{Int64,1}:\n",
       "  6\n",
       "  7\n",
       " 10"
      ]
     },
     "execution_count": 57,
     "metadata": {},
     "output_type": "execute_result"
    }
   ],
   "source": [
    "B[3,:]=[6,7,10]"
   ]
  },
  {
   "cell_type": "code",
   "execution_count": 58,
   "metadata": {},
   "outputs": [
    {
     "data": {
      "text/plain": [
       "3×3 Array{Float64,2}:\n",
       " 1.0  2.0   3.0\n",
       " 4.0  5.0   6.0\n",
       " 6.0  7.0  10.0"
      ]
     },
     "execution_count": 58,
     "metadata": {},
     "output_type": "execute_result"
    }
   ],
   "source": [
    "B"
   ]
  },
  {
   "cell_type": "markdown",
   "metadata": {},
   "source": [
    "We can see that the integers we are putting into B are being converted to `Float64`."
   ]
  },
  {
   "cell_type": "markdown",
   "metadata": {},
   "source": [
    "## Array comprehensions\n",
    "Natural language syntax for constructing arbitrarily complex arrays of arbitrary dimension, element by element."
   ]
  },
  {
   "cell_type": "code",
   "execution_count": 59,
   "metadata": {},
   "outputs": [
    {
     "data": {
      "text/plain": [
       "15×7×3 Array{Int64,3}:\n",
       "[:, :, 1] =\n",
       "  1   2   3   4   5   6    7\n",
       "  2   4   6   8  10  12   14\n",
       "  3   6   9  12  15  18   21\n",
       "  4   8  12  16  20  24   28\n",
       "  5  10  15  20  25  30   35\n",
       "  6  12  18  24  30  36   42\n",
       "  7  14  21  28  35  42   49\n",
       "  8  16  24  32  40  48   56\n",
       "  9  18  27  36  45  54   63\n",
       " 10  20  30  40  50  60   70\n",
       " 11  22  33  44  55  66   77\n",
       " 12  24  36  48  60  72   84\n",
       " 13  26  39  52  65  78   91\n",
       " 14  28  42  56  70  84   98\n",
       " 15  30  45  60  75  90  105\n",
       "\n",
       "[:, :, 2] =\n",
       "  1   2   3   4   5   6    7\n",
       "  2   4   6   8  10  12   14\n",
       "  3   6   9  12  15  18   21\n",
       "  4   8  12  16  20  24   28\n",
       "  5  10  15  20  25  30   35\n",
       "  6  12  18  24  30  36   42\n",
       "  7  14  21  28  35  42   49\n",
       "  8  16  24  32  40  48   56\n",
       "  9  18  27  36  45  54   63\n",
       " 10  20  30  40  50  60   70\n",
       " 11  22  33  44  55  66   77\n",
       " 12  24  36  48  60  72   84\n",
       " 13  26  39  52  65  78   91\n",
       " 14  28  42  56  70  84   98\n",
       " 15  30  45  60  75  90  105\n",
       "\n",
       "[:, :, 3] =\n",
       "  1   2   3   4   5   6    7\n",
       "  2   4   6   8  10  12   14\n",
       "  3   6   9  12  15  18   21\n",
       "  4   8  12  16  20  24   28\n",
       "  5  10  15  20  25  30   35\n",
       "  6  12  18  24  30  36   42\n",
       "  7  14  21  28  35  42   49\n",
       "  8  16  24  32  40  48   56\n",
       "  9  18  27  36  45  54   63\n",
       " 10  20  30  40  50  60   70\n",
       " 11  22  33  44  55  66   77\n",
       " 12  24  36  48  60  72   84\n",
       " 13  26  39  52  65  78   91\n",
       " 14  28  42  56  70  84   98\n",
       " 15  30  45  60  75  90  105"
      ]
     },
     "execution_count": 59,
     "metadata": {},
     "output_type": "execute_result"
    }
   ],
   "source": [
    "N = 15\n",
    "M = 7\n",
    "L = 3\n",
    "i = 1:N\n",
    "j = 1:M\n",
    "k = 1:L\n",
    "B = [i*j for i in i, j in j, k in k] "
   ]
  },
  {
   "cell_type": "markdown",
   "metadata": {
    "toc-hr-collapsed": true
   },
   "source": [
    "# Functions I"
   ]
  },
  {
   "cell_type": "markdown",
   "metadata": {},
   "source": [
    "In the simplest way to define a function, we just write mathematics:"
   ]
  },
  {
   "cell_type": "code",
   "execution_count": 60,
   "metadata": {},
   "outputs": [
    {
     "data": {
      "text/plain": [
       "g (generic function with 1 method)"
      ]
     },
     "execution_count": 60,
     "metadata": {},
     "output_type": "execute_result"
    }
   ],
   "source": [
    "# define a function\n",
    "g(x)=x^2"
   ]
  },
  {
   "cell_type": "code",
   "execution_count": 61,
   "metadata": {},
   "outputs": [
    {
     "name": "stdout",
     "output_type": "stream",
     "text": [
      "  0.003437 seconds (1.63 k allocations: 94.828 KiB)\n"
     ]
    },
    {
     "data": {
      "text/plain": [
       "1.0"
      ]
     },
     "execution_count": 61,
     "metadata": {},
     "output_type": "execute_result"
    }
   ],
   "source": [
    "@time g(1.0) #first call is slow as fast code is being compiled"
   ]
  },
  {
   "cell_type": "code",
   "execution_count": 62,
   "metadata": {},
   "outputs": [
    {
     "name": "stdout",
     "output_type": "stream",
     "text": [
      "  0.000003 seconds (5 allocations: 176 bytes)\n"
     ]
    },
    {
     "data": {
      "text/plain": [
       "1.0"
      ]
     },
     "execution_count": 62,
     "metadata": {},
     "output_type": "execute_result"
    }
   ],
   "source": [
    "@time g(1.0) # after that, calls for the same data type (Float64 here) will be very fast"
   ]
  },
  {
   "cell_type": "code",
   "execution_count": 63,
   "metadata": {},
   "outputs": [
    {
     "data": {
      "text/plain": [
       "9.869604401089358"
      ]
     },
     "execution_count": 63,
     "metadata": {},
     "output_type": "execute_result"
    }
   ],
   "source": [
    "g(π)"
   ]
  },
  {
   "cell_type": "code",
   "execution_count": 64,
   "metadata": {},
   "outputs": [
    {
     "data": {
      "text/plain": [
       "(9, 810000, 0.16000000000000003, 1.0e16)"
      ]
     },
     "execution_count": 64,
     "metadata": {},
     "output_type": "execute_result"
    }
   ],
   "source": [
    "g(3),g(900),g(0.4),g(1e8)"
   ]
  },
  {
   "cell_type": "code",
   "execution_count": 65,
   "metadata": {},
   "outputs": [
    {
     "data": {
      "text/plain": [
       "-1 + 0im"
      ]
     },
     "execution_count": 65,
     "metadata": {},
     "output_type": "execute_result"
    }
   ],
   "source": [
    "g(im)"
   ]
  },
  {
   "cell_type": "code",
   "execution_count": 66,
   "metadata": {},
   "outputs": [
    {
     "data": {
      "text/plain": [
       "Complex{Int64}"
      ]
     },
     "execution_count": 66,
     "metadata": {},
     "output_type": "execute_result"
    }
   ],
   "source": [
    "typeof(ans)"
   ]
  },
  {
   "cell_type": "code",
   "execution_count": 67,
   "metadata": {},
   "outputs": [
    {
     "data": {
      "text/plain": [
       "\"ssssssssssssssssssssss\""
      ]
     },
     "execution_count": 67,
     "metadata": {},
     "output_type": "execute_result"
    }
   ],
   "source": [
    "g(\"sssssssssss\") #how can this make sssssssssssense??!"
   ]
  },
  {
   "cell_type": "code",
   "execution_count": 68,
   "metadata": {},
   "outputs": [
    {
     "data": {
      "text/plain": [
       "\"oooooooooooo\""
      ]
     },
     "execution_count": 68,
     "metadata": {},
     "output_type": "execute_result"
    }
   ],
   "source": [
    "g(g(\"ooo\"))"
   ]
  },
  {
   "cell_type": "markdown",
   "metadata": {},
   "source": [
    "This may seem like strange behavior at first, but it is perfectly consistent output in $\\julia$. What is going on here is that $\\julia$ writes compiled functions for each data type you give it. It just so happens that there is a natural way to define `*` for two strings which has already been implemented."
   ]
  },
  {
   "cell_type": "code",
   "execution_count": 69,
   "metadata": {},
   "outputs": [
    {
     "data": {
      "text/plain": [
       "\"feesh-n-cheeps\""
      ]
     },
     "execution_count": 69,
     "metadata": {},
     "output_type": "execute_result"
    }
   ],
   "source": [
    "\"feesh\"*\"-n-\"*\"cheeps\" # what a kiwi hears when an australian orders..."
   ]
  },
  {
   "cell_type": "code",
   "execution_count": 70,
   "metadata": {},
   "outputs": [
    {
     "data": {
      "text/plain": [
       "\"fush-n-chups\""
      ]
     },
     "execution_count": 70,
     "metadata": {},
     "output_type": "execute_result"
    }
   ],
   "source": [
    "\"fush\"*\"-n-\"*\"chups\" # what an aussie hears when kiwi orders!"
   ]
  },
  {
   "cell_type": "code",
   "execution_count": 72,
   "metadata": {},
   "outputs": [
    {
     "data": {
      "text/plain": [
       "5-element Array{Float64,1}:\n",
       " 0.4740944901849619 \n",
       " 0.77084143719498   \n",
       " 0.08067488191531501\n",
       " 0.4498366418797568 \n",
       " 0.09522374039542343"
      ]
     },
     "execution_count": 72,
     "metadata": {},
     "output_type": "execute_result"
    }
   ],
   "source": [
    "g.(x)"
   ]
  },
  {
   "cell_type": "markdown",
   "metadata": {},
   "source": [
    "## Dot-calls "
   ]
  },
  {
   "cell_type": "markdown",
   "metadata": {},
   "source": [
    "What happens if we try to form a more complex expression using the column vector `x`?"
   ]
  },
  {
   "cell_type": "code",
   "execution_count": 73,
   "metadata": {},
   "outputs": [
    {
     "ename": "MethodError",
     "evalue": "MethodError: no method matching ^(::Array{Float64,1}, ::Int64)\nClosest candidates are:\n  ^(!Matched::Float16, ::Integer) at math.jl:862\n  ^(!Matched::Regex, ::Integer) at regex.jl:712\n  ^(!Matched::Missing, ::Integer) at missing.jl:151\n  ...",
     "output_type": "error",
     "traceback": [
      "MethodError: no method matching ^(::Array{Float64,1}, ::Int64)\nClosest candidates are:\n  ^(!Matched::Float16, ::Integer) at math.jl:862\n  ^(!Matched::Regex, ::Integer) at regex.jl:712\n  ^(!Matched::Missing, ::Integer) at missing.jl:151\n  ...",
      "",
      "Stacktrace:",
      " [1] macro expansion at ./none:0 [inlined]",
      " [2] literal_pow(::typeof(^), ::Array{Float64,1}, ::Val{3}) at ./none:0",
      " [3] top-level scope at In[73]:1"
     ]
    }
   ],
   "source": [
    "x^3-x^2"
   ]
  },
  {
   "cell_type": "code",
   "execution_count": 74,
   "metadata": {},
   "outputs": [
    {
     "data": {
      "text/plain": [
       "5-element Array{Float64,1}:\n",
       " -0.8005299749708701 \n",
       " -1.4476215347545196 \n",
       " -0.05776053374864326\n",
       " -0.7515414578232958 \n",
       " -0.06583927086746741"
      ]
     },
     "execution_count": 74,
     "metadata": {},
     "output_type": "execute_result"
    }
   ],
   "source": [
    "#\"local\" operations using the \"dot\" operator. \n",
    "#operate on each element of the array, locally in memory.\n",
    "x.^3 .-x.^2"
   ]
  },
  {
   "cell_type": "code",
   "execution_count": 75,
   "metadata": {},
   "outputs": [
    {
     "data": {
      "text/plain": [
       "5-element Array{Float64,1}:\n",
       " -0.8005299749708701 \n",
       " -1.4476215347545196 \n",
       " -0.05776053374864326\n",
       " -0.7515414578232958 \n",
       " -0.06583927086746741"
      ]
     },
     "execution_count": 75,
     "metadata": {},
     "output_type": "execute_result"
    }
   ],
   "source": [
    "@. x^3-x^2 #same result, using a macro (@)  to \"dot-the-lot\""
   ]
  },
  {
   "cell_type": "markdown",
   "metadata": {},
   "source": [
    "We can also put the scalar code inside a function"
   ]
  },
  {
   "cell_type": "code",
   "execution_count": 76,
   "metadata": {},
   "outputs": [
    {
     "data": {
      "text/plain": [
       "g (generic function with 1 method)"
      ]
     },
     "execution_count": 76,
     "metadata": {},
     "output_type": "execute_result"
    }
   ],
   "source": [
    "g(x) = x^3-x^2"
   ]
  },
  {
   "cell_type": "code",
   "execution_count": 77,
   "metadata": {},
   "outputs": [
    {
     "data": {
      "text/plain": [
       "5-element Array{Float64,1}:\n",
       " -0.8005299749708701 \n",
       " -1.4476215347545196 \n",
       " -0.05776053374864326\n",
       " -0.7515414578232958 \n",
       " -0.06583927086746741"
      ]
     },
     "execution_count": 77,
     "metadata": {},
     "output_type": "execute_result"
    }
   ],
   "source": [
    "# A just \"dot-call\" the function\n",
    "g.(x)"
   ]
  },
  {
   "cell_type": "markdown",
   "metadata": {},
   "source": [
    "There are a couple of things to say here. First, this makes your life easy when writing code. The writing process you should have in your mind is something like writing out an equation on paper. Just write it out, and don't worry about the dots. Simple. Then call it using a dot-call, or the macro, whatever suits. That's it. \n",
    "\n",
    "The second point is that this mode of code development allows us to make heavy use of an operation called ___broadcasting___.\n",
    "\n",
    "First, let's see some more examples dot-calls:"
   ]
  },
  {
   "cell_type": "code",
   "execution_count": 14,
   "metadata": {},
   "outputs": [
    {
     "data": {
      "text/plain": [
       "5-element Array{BigFloat,1}:\n",
       "  0.688576748027257767859055093140341341495513916015625   \n",
       "  1.2926006029614267589522569323889911174774169921875     \n",
       "  0.8660043903072807136567234920221380889415740966796875  \n",
       "  0.96281990910730119725968734201160259544849395751953125 \n",
       " -0.386598087233927800721033918307512067258358001708984375"
      ]
     },
     "execution_count": 14,
     "metadata": {},
     "output_type": "execute_result"
    }
   ],
   "source": [
    "xb = big.(x) # type coversion of each element: Float64 > BigFloat"
   ]
  },
  {
   "cell_type": "code",
   "execution_count": 15,
   "metadata": {},
   "outputs": [
    {
     "data": {
      "text/plain": [
       "5-element Array{BigFloat,1}:\n",
       " 0.0\n",
       " 0.0\n",
       " 0.0\n",
       " 0.0\n",
       " 0.0"
      ]
     },
     "execution_count": 15,
     "metadata": {},
     "output_type": "execute_result"
    }
   ],
   "source": [
    "zero.(xb) # an array \"zero\" for any data type"
   ]
  },
  {
   "cell_type": "code",
   "execution_count": 18,
   "metadata": {},
   "outputs": [
    {
     "data": {
      "text/plain": [
       "5-element Array{BigFloat,1}:\n",
       " 1.0\n",
       " 1.0\n",
       " 1.0\n",
       " 1.0\n",
       " 1.0"
      ]
     },
     "execution_count": 18,
     "metadata": {},
     "output_type": "execute_result"
    }
   ],
   "source": [
    "one.(xb) # array of ones for any data type"
   ]
  },
  {
   "cell_type": "code",
   "execution_count": 22,
   "metadata": {},
   "outputs": [
    {
     "data": {
      "text/plain": [
       "5×5 Array{BigFloat,2}:\n",
       " 1.0  0.0  0.0  0.0  0.0\n",
       " 0.0  1.0  0.0  0.0  0.0\n",
       " 0.0  0.0  1.0  0.0  0.0\n",
       " 0.0  0.0  0.0  1.0  0.0\n",
       " 0.0  0.0  0.0  0.0  1.0"
      ]
     },
     "execution_count": 22,
     "metadata": {},
     "output_type": "execute_result"
    }
   ],
   "source": [
    "one(xb*xb') # an identity matrix for the input data type (no dot call)"
   ]
  },
  {
   "cell_type": "markdown",
   "metadata": {},
   "source": [
    "## Broadcasting\n",
    "Matlab users rejoice: shrug off the chains of `meshgrid` and ___broadcast all the things!___\n",
    "\n",
    "Let's consider a slightly more complicated function"
   ]
  },
  {
   "cell_type": "code",
   "execution_count": 78,
   "metadata": {},
   "outputs": [
    {
     "data": {
      "text/plain": [
       "F (generic function with 1 method)"
      ]
     },
     "execution_count": 78,
     "metadata": {},
     "output_type": "execute_result"
    }
   ],
   "source": [
    "F(x,y)=x^2+sqrt(y)+x*y"
   ]
  },
  {
   "cell_type": "markdown",
   "metadata": {},
   "source": [
    "Notice, once again, we can focus on writing a symbolic expression, replacing $\\sqrt{y}$ with `sqrt(y)` etc. We haven't had to worry about what happens if `x` or `y` are arrays. "
   ]
  },
  {
   "cell_type": "code",
   "execution_count": 79,
   "metadata": {},
   "outputs": [
    {
     "data": {
      "text/plain": [
       "33-element LinRange{Float64}:\n",
       " 1.0,1.03125,1.0625,1.09375,1.125,1.15625,…,1.875,1.90625,1.9375,1.96875,2.0"
      ]
     },
     "execution_count": 79,
     "metadata": {},
     "output_type": "execute_result"
    }
   ],
   "source": [
    "x = LinRange(-2,4,100)\n",
    "y = LinRange(1,2,33) "
   ]
  },
  {
   "cell_type": "markdown",
   "metadata": {},
   "source": [
    "First, some error messages (method error):"
   ]
  },
  {
   "cell_type": "code",
   "execution_count": 80,
   "metadata": {},
   "outputs": [
    {
     "ename": "MethodError",
     "evalue": "MethodError: no method matching ^(::LinRange{Float64}, ::Int64)\nClosest candidates are:\n  ^(!Matched::Float16, ::Integer) at math.jl:862\n  ^(!Matched::Regex, ::Integer) at regex.jl:712\n  ^(!Matched::Missing, ::Integer) at missing.jl:151\n  ...",
     "output_type": "error",
     "traceback": [
      "MethodError: no method matching ^(::LinRange{Float64}, ::Int64)\nClosest candidates are:\n  ^(!Matched::Float16, ::Integer) at math.jl:862\n  ^(!Matched::Regex, ::Integer) at regex.jl:712\n  ^(!Matched::Missing, ::Integer) at missing.jl:151\n  ...",
      "",
      "Stacktrace:",
      " [1] macro expansion at ./none:0 [inlined]",
      " [2] literal_pow at ./none:0 [inlined]",
      " [3] F(::LinRange{Float64}, ::LinRange{Float64}) at ./In[78]:1",
      " [4] top-level scope at In[80]:1"
     ]
    }
   ],
   "source": [
    "F(x,y) # we immediately hit a problem. but..."
   ]
  },
  {
   "cell_type": "code",
   "execution_count": 82,
   "metadata": {},
   "outputs": [
    {
     "ename": "DimensionMismatch",
     "evalue": "DimensionMismatch(\"arrays could not be broadcast to a common size; got a dimension with lengths 100 and 33\")",
     "output_type": "error",
     "traceback": [
      "DimensionMismatch(\"arrays could not be broadcast to a common size; got a dimension with lengths 100 and 33\")",
      "",
      "Stacktrace:",
      " [1] materialize(::Base.Broadcast.Broadcasted{Base.Broadcast.DefaultArrayStyle{1},Nothing,typeof(F),Tuple{LinRange{Float64},LinRange{Float64}}}) at ./broadcast.jl:490",
      " [2] top-level scope at In[82]:1"
     ]
    }
   ],
   "source": [
    "F.(x,y) # trying to broadcast, but we have given it two vectors that are not compatible with broadcast"
   ]
  },
  {
   "cell_type": "code",
   "execution_count": 83,
   "metadata": {},
   "outputs": [
    {
     "ename": "MethodError",
     "evalue": "MethodError: no method matching ^(::LinRange{Float64}, ::Int64)\nClosest candidates are:\n  ^(!Matched::Float16, ::Integer) at math.jl:862\n  ^(!Matched::Regex, ::Integer) at regex.jl:712\n  ^(!Matched::Missing, ::Integer) at missing.jl:151\n  ...",
     "output_type": "error",
     "traceback": [
      "MethodError: no method matching ^(::LinRange{Float64}, ::Int64)\nClosest candidates are:\n  ^(!Matched::Float16, ::Integer) at math.jl:862\n  ^(!Matched::Regex, ::Integer) at regex.jl:712\n  ^(!Matched::Missing, ::Integer) at missing.jl:151\n  ...",
      "",
      "Stacktrace:",
      " [1] macro expansion at ./none:0 [inlined]",
      " [2] literal_pow at ./none:0 [inlined]",
      " [3] F(::LinRange{Float64}, ::LinearAlgebra.Adjoint{Float64,LinRange{Float64}}) at ./In[78]:1",
      " [4] top-level scope at In[83]:1"
     ]
    }
   ],
   "source": [
    "F(x,y') # here we got the array sizes compable, but forgot the dot"
   ]
  },
  {
   "cell_type": "code",
   "execution_count": 84,
   "metadata": {},
   "outputs": [
    {
     "data": {
      "text/plain": [
       "100×33 Array{Float64,2}:\n",
       "  3.0       2.953     2.90578   2.85833  …   1.51694    1.46562    1.41421 \n",
       "  2.82185   2.77675   2.73142   2.68586      1.39561    1.34619    1.29667 \n",
       "  2.65106   2.60785   2.56441   2.52074      1.28163    1.2341     1.18648 \n",
       "  2.4876    2.44629   2.40474   2.36297      1.175      1.12936    1.08364 \n",
       "  2.3315    2.29208   2.25242   2.21255      1.07571    1.03197    0.988135\n",
       "  2.18274   2.14521   2.10745   2.06947  …   0.983768   0.941919   0.89998 \n",
       "  2.04132   2.00569   1.96983   1.93374      0.899172   0.859217   0.819172\n",
       "  1.90725   1.87352   1.83955   1.80535      0.821923   0.783861   0.74571 \n",
       "  1.78053   1.74869   1.71661   1.68431      0.752019   0.715851   0.679595\n",
       "  1.66116   1.63121   1.60102   1.57062      0.689462   0.655188   0.620825\n",
       "  1.54913   1.52107   1.49278   1.46427  …   0.634251   0.60187    0.569402\n",
       "  1.44444   1.41828   1.39189   1.36527      0.586386   0.555899   0.525325\n",
       "  1.34711   1.32284   1.29834   1.27361      0.545867   0.517274   0.488594\n",
       "  ⋮                                      ⋱   ⋮                             \n",
       " 15.4444   15.5641   15.6836   15.8028      18.9614    19.0767    19.192   \n",
       " 15.9128   16.0343   16.1557   16.2768      19.4865    19.6038    19.7209  \n",
       " 16.3884   16.5119   16.6351   16.7581   …  20.019     20.1381    20.2572  \n",
       " 16.8714   16.9968   17.1219   17.2468      20.5588    20.6799    20.8008  \n",
       " 17.3618   17.489    17.6161   17.7429      21.106     21.2289    21.3518  \n",
       " 17.8595   17.9886   18.1176   18.2462      21.6605    21.7854    21.9101  \n",
       " 18.3646   18.4956   18.6264   18.757       22.2224    22.3491    22.4757  \n",
       " 18.877    19.0099   19.1426   19.275    …  22.7916    22.9202    23.0487  \n",
       " 19.3967   19.5315   19.6661   19.8005      23.3682    23.4987    23.6291  \n",
       " 19.9238   20.0605   20.197    20.3332      23.9521    24.0845    24.2168  \n",
       " 20.4582   20.5968   20.7352   20.8734      24.5433    24.6776    24.8118  \n",
       " 21.0      21.1405   21.2808   21.4208      25.1419    25.2781    25.4142  "
      ]
     },
     "execution_count": 84,
     "metadata": {},
     "output_type": "execute_result"
    }
   ],
   "source": [
    "F.(x,y') # yes! compatible sizes for broadcasting, and local operations achieved with a \"dot-call\""
   ]
  },
  {
   "cell_type": "markdown",
   "metadata": {},
   "source": [
    "So, what is going on here? The magic of broadcasting. When `x` and `y` are vectors of different shapes (think of corresonding to the orthogonal $x$ and $y$ cartesian coordinate axes), the dot-call \"broadcasts\" each value of the `x` vector along all of the values of the `y` vector; values of `y` are similarly broadcast down the length of `x`. \n",
    "\n",
    "So if `x` is an `N x 1` vector, and `y` is `1 x M`, then the result of a dot-call will be `N x M`, exactly as we see from `F.(x,y')` above. The reason for passing `y'` is that the transpose takes the `33 x 1` column vector that we created, and turns it into a `1 x 33` row vector. \n",
    "\n",
    "Take the example of multiplying a column and row vector. Consider element `x` of the column and `y` of the row, broadcasting computes the element of the new array:\n",
    "\n",
    "<img src=\"resources/broadcast.png\" width=\"400\">"
   ]
  },
  {
   "cell_type": "markdown",
   "metadata": {},
   "source": [
    "___Exercise:___ Write a function to evaluate `cos(sin(x))` and evaluate it for an 300x200 array of gaussian random numbers."
   ]
  },
  {
   "cell_type": "markdown",
   "metadata": {},
   "source": [
    "___Exercise:___ Open the $\\julia$ manual at [julialang](https://docs.julialang.org/) and look up the help for \"array comprehension\". Use this syntax to make an square array with elements `i+j+3` with indices `i=4:10`, `j=1:20`. Pass this array to your previous function for `cos(sin(x))`."
   ]
  },
  {
   "cell_type": "markdown",
   "metadata": {},
   "source": [
    "## Anonymous functions\n",
    "Another important way to define functions is called an *anonymous* function:"
   ]
  },
  {
   "cell_type": "code",
   "execution_count": 85,
   "metadata": {},
   "outputs": [
    {
     "data": {
      "text/plain": [
       "#5 (generic function with 1 method)"
      ]
     },
     "execution_count": 85,
     "metadata": {},
     "output_type": "execute_result"
    }
   ],
   "source": [
    "x -> x^2+1"
   ]
  },
  {
   "cell_type": "code",
   "execution_count": 96,
   "metadata": {},
   "outputs": [
    {
     "data": {
      "text/plain": [
       "5"
      ]
     },
     "execution_count": 96,
     "metadata": {},
     "output_type": "execute_result"
    }
   ],
   "source": [
    "ans(2) # it is anonymous, but we can still call it"
   ]
  },
  {
   "cell_type": "markdown",
   "metadata": {},
   "source": [
    "- `ans` is always the result of the ___most recent evaluation___\n",
    "- The main use of anonymous functions is passing them to other functions without having to declare a function name. \n",
    "- In $\\julia$ functions are first class objects that can be passed as function arguments, just like variables. \n",
    "\n",
    "Anonymous functions can also have multiple arguments:"
   ]
  },
  {
   "cell_type": "code",
   "execution_count": 86,
   "metadata": {},
   "outputs": [
    {
     "data": {
      "text/plain": [
       "#7 (generic function with 1 method)"
      ]
     },
     "execution_count": 86,
     "metadata": {},
     "output_type": "execute_result"
    }
   ],
   "source": [
    "(x,y)->x^2+y"
   ]
  },
  {
   "cell_type": "code",
   "execution_count": 87,
   "metadata": {},
   "outputs": [
    {
     "data": {
      "text/plain": [
       "3"
      ]
     },
     "execution_count": 87,
     "metadata": {},
     "output_type": "execute_result"
    }
   ],
   "source": [
    "ans(1,2)"
   ]
  },
  {
   "cell_type": "markdown",
   "metadata": {},
   "source": [
    "## Example: numerical integration"
   ]
  },
  {
   "cell_type": "markdown",
   "metadata": {},
   "source": [
    "We can test out some of these ideas while getting familiar with a useful package: [QuadGK](https://github.com/JuliaMath/QuadGK.jl) provides simple realiable numerical inegration in one dimension. Examples speak volumes, so let's take a look."
   ]
  },
  {
   "cell_type": "code",
   "execution_count": 88,
   "metadata": {},
   "outputs": [],
   "source": [
    "using QuadGK"
   ]
  },
  {
   "cell_type": "code",
   "execution_count": 89,
   "metadata": {},
   "outputs": [
    {
     "data": {
      "text/plain": [
       "(0.3333333333333333, 5.551115123125783e-17)"
      ]
     },
     "execution_count": 89,
     "metadata": {},
     "output_type": "execute_result"
    }
   ],
   "source": [
    "quadgk(x->x^2,0,1) # the result, and the error, returned as a \"tuple\""
   ]
  },
  {
   "cell_type": "markdown",
   "metadata": {},
   "source": [
    "Just for fun, let's check the result of numerical integration for any polynomial we care to pass. The simplest way to get this done is to define a function (this is alawys true in $\\julia$):"
   ]
  },
  {
   "cell_type": "code",
   "execution_count": 90,
   "metadata": {},
   "outputs": [
    {
     "data": {
      "text/plain": [
       "intpoly (generic function with 1 method)"
      ]
     },
     "execution_count": 90,
     "metadata": {},
     "output_type": "execute_result"
    }
   ],
   "source": [
    "intpoly(k) = quadgk(x->x^k,0,1)[1]  # anonymous function, and [1] takes the first of 2 outputs"
   ]
  },
  {
   "cell_type": "code",
   "execution_count": 91,
   "metadata": {},
   "outputs": [
    {
     "data": {
      "text/plain": [
       "0.3333333333333333"
      ]
     },
     "execution_count": 91,
     "metadata": {},
     "output_type": "execute_result"
    }
   ],
   "source": [
    "intpoly(2)"
   ]
  },
  {
   "cell_type": "markdown",
   "metadata": {},
   "source": [
    "We can check against the analytic result:\n",
    "\n",
    "$$\\int_0^1 x^k dx = \\frac{x^{k+1}}{k+1}\\Big|_{0}^1=\\frac{1}{k+1}$$"
   ]
  },
  {
   "cell_type": "code",
   "execution_count": 92,
   "metadata": {},
   "outputs": [
    {
     "data": {
      "text/plain": [
       "intpolyexact (generic function with 1 method)"
      ]
     },
     "execution_count": 92,
     "metadata": {},
     "output_type": "execute_result"
    }
   ],
   "source": [
    "intpolyexact(k) = 1/(k+1)"
   ]
  },
  {
   "cell_type": "code",
   "execution_count": 93,
   "metadata": {},
   "outputs": [
    {
     "data": {
      "text/plain": [
       "0.2"
      ]
     },
     "execution_count": 93,
     "metadata": {},
     "output_type": "execute_result"
    }
   ],
   "source": [
    "intpoly(4)"
   ]
  },
  {
   "cell_type": "code",
   "execution_count": 94,
   "metadata": {},
   "outputs": [
    {
     "data": {
      "text/plain": [
       "0.2"
      ]
     },
     "execution_count": 94,
     "metadata": {},
     "output_type": "execute_result"
    }
   ],
   "source": [
    "intpolyexact(4)"
   ]
  },
  {
   "cell_type": "code",
   "execution_count": 95,
   "metadata": {},
   "outputs": [
    {
     "name": "stdout",
     "output_type": "stream",
     "text": [
      "0.5\n",
      "0.03125000000000001\n",
      "0.016129032258064495\n",
      "0.010869565217391314\n",
      "0.008196721311475417\n",
      "0.00657894736842106\n",
      "0.005494505494505504\n",
      "0.004716981132075482\n",
      "0.00413223140495866\n",
      "0.003676470588235276\n"
     ]
    }
   ],
   "source": [
    "powers = 1:30:300\n",
    "for k in powers\n",
    "    intpoly(k) |> println\n",
    "end"
   ]
  },
  {
   "cell_type": "code",
   "execution_count": 96,
   "metadata": {},
   "outputs": [
    {
     "name": "stdout",
     "output_type": "stream",
     "text": [
      "0.5\n",
      "0.03125\n",
      "0.016129032258064516\n",
      "0.010869565217391304\n",
      "0.00819672131147541\n",
      "0.006578947368421052\n",
      "0.005494505494505495\n",
      "0.0047169811320754715\n",
      "0.004132231404958678\n",
      "0.003676470588235294\n"
     ]
    }
   ],
   "source": [
    "for k in powers\n",
    "    intpolyexact(k) |> println\n",
    "end"
   ]
  },
  {
   "cell_type": "markdown",
   "metadata": {},
   "source": [
    "This is a simple way to approach such questions. \n",
    "\n",
    "Is there another way? Let's try a __dot-call:__ (it worked for scalar input, so...)"
   ]
  },
  {
   "cell_type": "code",
   "execution_count": 97,
   "metadata": {},
   "outputs": [
    {
     "data": {
      "text/plain": [
       "10-element Array{Float64,1}:\n",
       " 0.5                 \n",
       " 0.03125000000000001 \n",
       " 0.016129032258064495\n",
       " 0.010869565217391314\n",
       " 0.008196721311475417\n",
       " 0.00657894736842106 \n",
       " 0.005494505494505504\n",
       " 0.004716981132075482\n",
       " 0.00413223140495866 \n",
       " 0.003676470588235276"
      ]
     },
     "execution_count": 97,
     "metadata": {},
     "output_type": "execute_result"
    }
   ],
   "source": [
    "intpoly.(powers)"
   ]
  },
  {
   "cell_type": "code",
   "execution_count": 98,
   "metadata": {},
   "outputs": [
    {
     "data": {
      "text/plain": [
       "10-element Array{Float64,1}:\n",
       " 0.5                  \n",
       " 0.03125              \n",
       " 0.016129032258064516 \n",
       " 0.010869565217391304 \n",
       " 0.00819672131147541  \n",
       " 0.006578947368421052 \n",
       " 0.005494505494505495 \n",
       " 0.0047169811320754715\n",
       " 0.004132231404958678 \n",
       " 0.003676470588235294 "
      ]
     },
     "execution_count": 98,
     "metadata": {},
     "output_type": "execute_result"
    }
   ],
   "source": [
    "intpolyexact.(powers)"
   ]
  },
  {
   "cell_type": "code",
   "execution_count": 99,
   "metadata": {},
   "outputs": [
    {
     "data": {
      "image/svg+xml": [
       "<?xml version=\"1.0\" encoding=\"utf-8\"?>\n",
       "<svg xmlns=\"http://www.w3.org/2000/svg\" xmlns:xlink=\"http://www.w3.org/1999/xlink\" width=\"500\" height=\"200\" viewBox=\"0 0 2000 800\">\n",
       "<defs>\n",
       "  <clipPath id=\"clip3800\">\n",
       "    <rect x=\"0\" y=\"0\" width=\"2000\" height=\"800\"/>\n",
       "  </clipPath>\n",
       "</defs>\n",
       "<path clip-path=\"url(#clip3800)\" d=\"\n",
       "M0 800 L2000 800 L2000 0 L0 0  Z\n",
       "  \" fill=\"#ffffff\" fill-rule=\"evenodd\" fill-opacity=\"1\"/>\n",
       "<defs>\n",
       "  <clipPath id=\"clip3801\">\n",
       "    <rect x=\"400\" y=\"0\" width=\"1401\" height=\"800\"/>\n",
       "  </clipPath>\n",
       "</defs>\n",
       "<path clip-path=\"url(#clip3800)\" d=\"\n",
       "M222.408 671.11 L1952.76 671.11 L1952.76 47.2441 L222.408 47.2441  Z\n",
       "  \" fill=\"#ffffff\" fill-rule=\"evenodd\" fill-opacity=\"1\"/>\n",
       "<defs>\n",
       "  <clipPath id=\"clip3802\">\n",
       "    <rect x=\"222\" y=\"47\" width=\"1731\" height=\"625\"/>\n",
       "  </clipPath>\n",
       "</defs>\n",
       "<polyline clip-path=\"url(#clip3800)\" style=\"stroke:#000000; stroke-width:4; stroke-opacity:1; fill:none\" points=\"\n",
       "  222.408,671.11 1952.76,671.11 \n",
       "  \"/>\n",
       "<polyline clip-path=\"url(#clip3800)\" style=\"stroke:#000000; stroke-width:4; stroke-opacity:1; fill:none\" points=\"\n",
       "  222.408,671.11 222.408,47.2441 \n",
       "  \"/>\n",
       "<polyline clip-path=\"url(#clip3800)\" style=\"stroke:#000000; stroke-width:4; stroke-opacity:1; fill:none\" points=\"\n",
       "  271.38,671.11 271.38,663.624 \n",
       "  \"/>\n",
       "<polyline clip-path=\"url(#clip3800)\" style=\"stroke:#000000; stroke-width:4; stroke-opacity:1; fill:none\" points=\"\n",
       "  679.481,671.11 679.481,663.624 \n",
       "  \"/>\n",
       "<polyline clip-path=\"url(#clip3800)\" style=\"stroke:#000000; stroke-width:4; stroke-opacity:1; fill:none\" points=\"\n",
       "  1087.58,671.11 1087.58,663.624 \n",
       "  \"/>\n",
       "<polyline clip-path=\"url(#clip3800)\" style=\"stroke:#000000; stroke-width:4; stroke-opacity:1; fill:none\" points=\"\n",
       "  1495.68,671.11 1495.68,663.624 \n",
       "  \"/>\n",
       "<polyline clip-path=\"url(#clip3800)\" style=\"stroke:#000000; stroke-width:4; stroke-opacity:1; fill:none\" points=\"\n",
       "  1903.78,671.11 1903.78,663.624 \n",
       "  \"/>\n",
       "<polyline clip-path=\"url(#clip3800)\" style=\"stroke:#000000; stroke-width:4; stroke-opacity:1; fill:none\" points=\"\n",
       "  222.408,653.453 243.173,653.453 \n",
       "  \"/>\n",
       "<polyline clip-path=\"url(#clip3800)\" style=\"stroke:#000000; stroke-width:4; stroke-opacity:1; fill:none\" points=\"\n",
       "  222.408,506.315 243.173,506.315 \n",
       "  \"/>\n",
       "<polyline clip-path=\"url(#clip3800)\" style=\"stroke:#000000; stroke-width:4; stroke-opacity:1; fill:none\" points=\"\n",
       "  222.408,359.177 243.173,359.177 \n",
       "  \"/>\n",
       "<polyline clip-path=\"url(#clip3800)\" style=\"stroke:#000000; stroke-width:4; stroke-opacity:1; fill:none\" points=\"\n",
       "  222.408,212.039 243.173,212.039 \n",
       "  \"/>\n",
       "<polyline clip-path=\"url(#clip3800)\" style=\"stroke:#000000; stroke-width:4; stroke-opacity:1; fill:none\" points=\"\n",
       "  222.408,64.9007 243.173,64.9007 \n",
       "  \"/>\n",
       "<g clip-path=\"url(#clip3800)\">\n",
       "<text style=\"fill:#000000; fill-opacity:1; font-family:Arial,Helvetica Neue,Helvetica,sans-serif; font-size:48px; text-anchor:middle;\" transform=\"rotate(0, 271.38, 723.11)\" x=\"271.38\" y=\"723.11\">0.00</text>\n",
       "</g>\n",
       "<g clip-path=\"url(#clip3800)\">\n",
       "<text style=\"fill:#000000; fill-opacity:1; font-family:Arial,Helvetica Neue,Helvetica,sans-serif; font-size:48px; text-anchor:middle;\" transform=\"rotate(0, 679.481, 723.11)\" x=\"679.481\" y=\"723.11\">0.25</text>\n",
       "</g>\n",
       "<g clip-path=\"url(#clip3800)\">\n",
       "<text style=\"fill:#000000; fill-opacity:1; font-family:Arial,Helvetica Neue,Helvetica,sans-serif; font-size:48px; text-anchor:middle;\" transform=\"rotate(0, 1087.58, 723.11)\" x=\"1087.58\" y=\"723.11\">0.50</text>\n",
       "</g>\n",
       "<g clip-path=\"url(#clip3800)\">\n",
       "<text style=\"fill:#000000; fill-opacity:1; font-family:Arial,Helvetica Neue,Helvetica,sans-serif; font-size:48px; text-anchor:middle;\" transform=\"rotate(0, 1495.68, 723.11)\" x=\"1495.68\" y=\"723.11\">0.75</text>\n",
       "</g>\n",
       "<g clip-path=\"url(#clip3800)\">\n",
       "<text style=\"fill:#000000; fill-opacity:1; font-family:Arial,Helvetica Neue,Helvetica,sans-serif; font-size:48px; text-anchor:middle;\" transform=\"rotate(0, 1903.78, 723.11)\" x=\"1903.78\" y=\"723.11\">1.00</text>\n",
       "</g>\n",
       "<g clip-path=\"url(#clip3800)\">\n",
       "<text style=\"fill:#000000; fill-opacity:1; font-family:Arial,Helvetica Neue,Helvetica,sans-serif; font-size:48px; text-anchor:end;\" transform=\"rotate(0, 202.408, 670.953)\" x=\"202.408\" y=\"670.953\">0.00</text>\n",
       "</g>\n",
       "<g clip-path=\"url(#clip3800)\">\n",
       "<text style=\"fill:#000000; fill-opacity:1; font-family:Arial,Helvetica Neue,Helvetica,sans-serif; font-size:48px; text-anchor:end;\" transform=\"rotate(0, 202.408, 523.815)\" x=\"202.408\" y=\"523.815\">0.25</text>\n",
       "</g>\n",
       "<g clip-path=\"url(#clip3800)\">\n",
       "<text style=\"fill:#000000; fill-opacity:1; font-family:Arial,Helvetica Neue,Helvetica,sans-serif; font-size:48px; text-anchor:end;\" transform=\"rotate(0, 202.408, 376.677)\" x=\"202.408\" y=\"376.677\">0.50</text>\n",
       "</g>\n",
       "<g clip-path=\"url(#clip3800)\">\n",
       "<text style=\"fill:#000000; fill-opacity:1; font-family:Arial,Helvetica Neue,Helvetica,sans-serif; font-size:48px; text-anchor:end;\" transform=\"rotate(0, 202.408, 229.539)\" x=\"202.408\" y=\"229.539\">0.75</text>\n",
       "</g>\n",
       "<g clip-path=\"url(#clip3800)\">\n",
       "<text style=\"fill:#000000; fill-opacity:1; font-family:Arial,Helvetica Neue,Helvetica,sans-serif; font-size:48px; text-anchor:end;\" transform=\"rotate(0, 202.408, 82.4007)\" x=\"202.408\" y=\"82.4007\">1.00</text>\n",
       "</g>\n",
       "<g clip-path=\"url(#clip3800)\">\n",
       "<image width=\"34\" height=\"30\" xlink:href=\"data:image/png;base64,\n",
       "iVBORw0KGgoAAAANSUhEUgAAACIAAAAeCAYAAABJ/8wUAAACUElEQVRYhb1X7Y3jIBCduwomLZAO\n",
       "UEqgBNICJVADJVgpwSVYKcHbgdMCLbz7sRoEmNjY2T2kkWw8M37MBzwIAPXIMAwwxkApBSICM8Na\n",
       "i2masGU3jiOMMWBmEBGUUk27LgDiRGsN5xxCCDDGgIhARDDGIMZYOI4xwlqb7Lz3CCHAOVf4E7tN\n",
       "EM659KN5nlcrH8cxgVFKFWCUUmDmZsRCCMlOa70NRECEEDZDn0fGWot8rgVea530RWKMbeeCeA9E\n",
       "vToiwtYCal2RZVnWjmOMxer2JE+PCDM3bfPo5QKA/lI1nHNERPR4POpPzRFjXM2Jj3oopVZzIYTv\n",
       "hxzxNE0gInjvu6IBgLz3zVC3dPNOUkphGIakVyiKUt2KvcUqP+i1zaV4YWYYYw45kj2BsmL9GIi1\n",
       "ttlymw6qtIzj+DmQozLPc3NPOONr1TVHxvP5LN6ZmS6Xy58zvn4UiDHmvLNPUkNVWvJ2/G810qqP\n",
       "d/vHr9ZIqz6u1+up+iD6oEZqILfb7ayrnwXyUaGeBfL19YV67giQ1+uF+/1e+jhTWC1eccReOEu+\n",
       "+Z0CUh90Qvd6hZlXNulhmiYIjctJbc/+ceSgEyJVn0nFx1zeMbSWbg+l3IpGAiJ3lZ5wt8hv744q\n",
       "JKp1wieO2hNuiYYQKJEeRifs710amzmv7yjAN81j5sTAcoq4x8oExBbpKtpJENcg5nkGM4OZi/Mk\n",
       "755WnSzLkqK3x/zSgxgwc7pWeu93OylPk1wtvffYA/kWiKzcWltctLXWu8U4zzOccwm0cN8QQjdj\n",
       "+wfvqdU61gtR5QAAAABJRU5ErkJggg==\n",
       "\" transform=\"translate(1071, 743)\"/>\n",
       "</g>\n",
       "<g clip-path=\"url(#clip3800)\">\n",
       "<image width=\"60\" height=\"62\" xlink:href=\"data:image/png;base64,\n",
       "iVBORw0KGgoAAAANSUhEUgAAADwAAAA+CAYAAAB3NHh5AAAES0lEQVRoge2a0XHzKhCF17cCkhJI\n",
       "KiAuAacCaqAE1UA6UA0kFcguQXYFskpA6eDch8wqkmNbQrGEJ/Mzs09GmG+Flt0DBIBirCxLGGOg\n",
       "tUaWZRjzjPceVVWN6ju3RcMSUc+01ldBQghtXyklnHMIISSDj+qslIJSCkKIHvQQQAgB3nsYY9pn\n",
       "nHNJoOM6E8F7D+dcO3EhRNTEQwjIsgxEBGPM4tBRnaWUyPMcAKgoCmRZhqIoJk26KAoIIdrx7hLY\n",
       "GHPTt+Kcg5TyfoE5aN0q4nrvQUSLAq8AUEzbbDYgItput6uhvtvtFrvdjuq6JiklrddrEkIQEdHh\n",
       "cCDnHEkpab/fD451sxbroRAChBCw1l59M92IfM2WjtaTHuKlfWmyHIWHTCm1KOxkYOD7+/Pe9ybd\n",
       "TTQumRBidJZ2c+CiKFCW5aQ/5/24uzXled6CWWt7AS6EkDTLAkDUzZq01nDORTmAly8/o7VOllSM\n",
       "ApZSXlx6Yx1grYUQAhzQaES6mQxYKTUqwAghYIxBnudn92EpJXisoYIiKTAvQSHEj6IgxgHdSipV\n",
       "QBoFbK3tRduqquC9h7UW15b7OQek2lujgE+DzqlxaRfrAN5nucC4l2+63U/HTiiEAK6Uxn7/bFJK\n",
       "WGsvxoFFgBniN4OwAzgexKyAqTnAVIsuHsa0/X6P3W5HbNeaEIKaplmseJgF+LTt93uUZdk64PPz\n",
       "s/3tTwKftuPx2JaN1lp6enr628Ap23+pJ7B0+wf819s/4BStaRocj8dFomdS4KZp8PLygsfHR3p+\n",
       "fqbVaoW3t7d5wVMm8pdy8SmnEWPT42SwRVFcLTJixmJJWCn1Q1S8G2BjDIQQvYO5rsWMVVUVWGai\n",
       "gaIkGTCXisDPpf0bAdB734KfOyxIBkwnyohzDlprWGtvIhawsHGqryUDXkKM5zjRhU4GrLVe5KiF\n",
       "oXk1JQNmaWnqgXqMcRQPIaSB7U5ECDG7zFNVVfuWkwKHEFoldG5pV2v9pbmlBO5OhjqninMomlmW\n",
       "fW1XqWHZ+ECgm21Za+G9v+k2lRw0hIAxtwWGzraGjO+YJYeNPc3oOmDs6Sanr9ZaJBXxNpsNhnTr\n",
       "mKaUovV6TVJKEkJQXdf08fFBdV0TEVFZlulUy+12i9fXVyIi0lqT1pqklBRCoLqu6XA4UFmWPQ37\n",
       "N80YQ+/v76tky5m/26FyDvi6RMO5Nk1Y/neRWvI3OOXZGAec5uvJgOmGycYlB5wrM5MBd+vhW5v3\n",
       "vj3KlVL2trFkwEtUSywG8IWbpMB8n2vuwoFvFrFzkwEDvwtcMcYXbvI8TwfbfctLXIK5i9QS+C4a\n",
       "5oa+q2qJoY0xv66MuBhRSvUEwVYOTg3L1tWnsyybDH4q+UopEUL4vnaVGvTc2+mmhLFR/Fy2xSK9\n",
       "MSY95DkrigKsd8WK8tfujpVlmR5uDmedg2XHJZ/gHOa97wkL3RT2T9/iaZoGDw8PvStR/wNWbZ4Q\n",
       "wIotIQAAAABJRU5ErkJggg==\n",
       "\" transform=\"translate(27, 328)\"/>\n",
       "</g>\n",
       "<polyline clip-path=\"url(#clip3802)\" style=\"stroke:#009af9; stroke-width:4; stroke-opacity:1; fill:none\" points=\"\n",
       "  271.38,653.453 276.84,651.485 282.3,649.517 287.759,647.548 293.219,645.58 298.678,643.611 304.138,641.643 309.597,639.675 315.057,637.706 320.516,635.738 \n",
       "  325.976,633.769 331.435,631.801 336.895,629.833 342.355,627.864 347.814,625.896 353.274,623.927 358.733,621.959 364.193,619.991 369.652,618.022 375.112,616.054 \n",
       "  380.571,614.085 386.031,612.117 391.49,610.149 396.95,608.18 402.409,606.212 407.869,604.243 413.329,602.275 418.788,600.306 424.248,598.338 429.707,596.37 \n",
       "  435.167,594.401 440.626,592.433 446.086,590.464 451.545,588.496 457.005,586.528 462.464,584.559 467.924,582.591 473.384,580.622 478.843,578.654 484.303,576.686 \n",
       "  489.762,574.717 495.222,572.749 500.681,570.78 506.141,568.812 511.6,566.844 517.06,564.875 522.519,562.907 527.979,560.938 533.439,558.97 538.898,557.002 \n",
       "  544.358,555.033 549.817,553.065 555.277,551.096 560.736,549.128 566.196,547.16 571.655,545.191 577.115,543.223 582.574,541.254 588.034,539.286 593.493,537.318 \n",
       "  598.953,535.349 604.413,533.381 609.872,531.412 615.332,529.444 620.791,527.476 626.251,525.507 631.71,523.539 637.17,521.57 642.629,519.602 648.089,517.634 \n",
       "  653.548,515.665 659.008,513.697 664.468,511.728 669.927,509.76 675.387,507.792 680.846,505.823 686.306,503.855 691.765,501.886 697.225,499.918 702.684,497.95 \n",
       "  708.144,495.981 713.603,494.013 719.063,492.044 724.523,490.076 729.982,488.107 735.442,486.139 740.901,484.171 746.361,482.202 751.82,480.234 757.28,478.265 \n",
       "  762.739,476.297 768.199,474.329 773.658,472.36 779.118,470.392 784.577,468.423 790.037,466.455 795.497,464.487 800.956,462.518 806.416,460.55 811.875,458.581 \n",
       "  817.335,456.613 822.794,454.645 828.254,452.676 833.713,450.708 839.173,448.739 844.632,446.771 850.092,444.803 855.552,442.834 861.011,440.866 866.471,438.897 \n",
       "  871.93,436.929 877.39,434.961 882.849,432.992 888.309,431.024 893.768,429.055 899.228,427.087 904.687,425.119 910.147,423.15 915.607,421.182 921.066,419.213 \n",
       "  926.526,417.245 931.985,415.277 937.445,413.308 942.904,411.34 948.364,409.371 953.823,407.403 959.283,405.435 964.742,403.466 970.202,401.498 975.661,399.529 \n",
       "  981.121,397.561 986.581,395.593 992.04,393.624 997.5,391.656 1002.96,389.687 1008.42,387.719 1013.88,385.75 1019.34,383.782 1024.8,381.814 1030.26,379.845 \n",
       "  1035.72,377.877 1041.18,375.908 1046.64,373.94 1052.1,371.972 1057.55,370.003 1063.01,368.035 1068.47,366.066 1073.93,364.098 1079.39,362.13 1084.85,360.161 \n",
       "  1090.31,358.193 1095.77,356.224 1101.23,354.256 1106.69,352.288 1112.15,350.319 1117.61,348.351 1123.07,346.382 1128.53,344.414 1133.99,342.446 1139.45,340.477 \n",
       "  1144.91,338.509 1150.37,336.54 1155.83,334.572 1161.29,332.604 1166.75,330.635 1172.21,328.667 1177.66,326.698 1183.12,324.73 1188.58,322.762 1194.04,320.793 \n",
       "  1199.5,318.825 1204.96,316.856 1210.42,314.888 1215.88,312.92 1221.34,310.951 1226.8,308.983 1232.26,307.014 1237.72,305.046 1243.18,303.078 1248.64,301.109 \n",
       "  1254.1,299.141 1259.56,297.172 1265.02,295.204 1270.48,293.236 1275.94,291.267 1281.4,289.299 1286.86,287.33 1292.31,285.362 1297.77,283.393 1303.23,281.425 \n",
       "  1308.69,279.457 1314.15,277.488 1319.61,275.52 1325.07,273.551 1330.53,271.583 1335.99,269.615 1341.45,267.646 1346.91,265.678 1352.37,263.709 1357.83,261.741 \n",
       "  1363.29,259.773 1368.75,257.804 1374.21,255.836 1379.67,253.867 1385.13,251.899 1390.59,249.931 1396.05,247.962 1401.51,245.994 1406.97,244.025 1412.42,242.057 \n",
       "  1417.88,240.089 1423.34,238.12 1428.8,236.152 1434.26,234.183 1439.72,232.215 1445.18,230.247 1450.64,228.278 1456.1,226.31 1461.56,224.341 1467.02,222.373 \n",
       "  1472.48,220.405 1477.94,218.436 1483.4,216.468 1488.86,214.499 1494.32,212.531 1499.78,210.563 1505.24,208.594 1510.7,206.626 1516.16,204.657 1521.62,202.689 \n",
       "  1527.08,200.721 1532.53,198.752 1537.99,196.784 1543.45,194.815 1548.91,192.847 1554.37,190.879 1559.83,188.91 1565.29,186.942 1570.75,184.973 1576.21,183.005 \n",
       "  1581.67,181.036 1587.13,179.068 1592.59,177.1 1598.05,175.131 1603.51,173.163 1608.97,171.194 1614.43,169.226 1619.89,167.258 1625.35,165.289 1630.81,163.321 \n",
       "  1636.27,161.352 1641.73,159.384 1647.19,157.416 1652.64,155.447 1658.1,153.479 1663.56,151.51 1669.02,149.542 1674.48,147.574 1679.94,145.605 1685.4,143.637 \n",
       "  1690.86,141.668 1696.32,139.7 1701.78,137.732 1707.24,135.763 1712.7,133.795 1718.16,131.826 1723.62,129.858 1729.08,127.89 1734.54,125.921 1740,123.953 \n",
       "  1745.46,121.984 1750.92,120.016 1756.38,118.048 1761.84,116.079 1767.3,114.111 1772.75,112.142 1778.21,110.174 1783.67,108.206 1789.13,106.237 1794.59,104.269 \n",
       "  1800.05,102.3 1805.51,100.332 1810.97,98.3635 1816.43,96.3951 1821.89,94.4267 1827.35,92.4583 1832.81,90.4899 1838.27,88.5215 1843.73,86.5531 1849.19,84.5847 \n",
       "  1854.65,82.6163 1860.11,80.6479 1865.57,78.6795 1871.03,76.7111 1876.49,74.7427 1881.95,72.7743 1887.41,70.8059 1892.86,68.8375 1898.32,66.8691 1903.78,64.9007 \n",
       "  \n",
       "  \"/>\n",
       "<polyline clip-path=\"url(#clip3802)\" style=\"stroke:#e26f46; stroke-width:4; stroke-opacity:1; fill:none\" points=\"\n",
       "  271.38,653.453 276.84,653.453 282.3,653.453 287.759,653.453 293.219,653.453 298.678,653.453 304.138,653.453 309.597,653.453 315.057,653.453 320.516,653.453 \n",
       "  325.976,653.453 331.435,653.453 336.895,653.453 342.355,653.453 347.814,653.453 353.274,653.453 358.733,653.453 364.193,653.453 369.652,653.453 375.112,653.453 \n",
       "  380.571,653.453 386.031,653.453 391.49,653.453 396.95,653.453 402.409,653.453 407.869,653.453 413.329,653.453 418.788,653.453 424.248,653.453 429.707,653.453 \n",
       "  435.167,653.453 440.626,653.453 446.086,653.453 451.545,653.453 457.005,653.453 462.464,653.453 467.924,653.453 473.384,653.453 478.843,653.453 484.303,653.453 \n",
       "  489.762,653.453 495.222,653.453 500.681,653.453 506.141,653.453 511.6,653.453 517.06,653.453 522.519,653.453 527.979,653.453 533.439,653.453 538.898,653.453 \n",
       "  544.358,653.453 549.817,653.453 555.277,653.453 560.736,653.453 566.196,653.453 571.655,653.453 577.115,653.453 582.574,653.453 588.034,653.453 593.493,653.453 \n",
       "  598.953,653.453 604.413,653.453 609.872,653.453 615.332,653.453 620.791,653.453 626.251,653.453 631.71,653.453 637.17,653.453 642.629,653.453 648.089,653.453 \n",
       "  653.548,653.453 659.008,653.453 664.468,653.453 669.927,653.453 675.387,653.453 680.846,653.453 686.306,653.453 691.765,653.453 697.225,653.453 702.684,653.453 \n",
       "  708.144,653.453 713.603,653.453 719.063,653.453 724.523,653.453 729.982,653.453 735.442,653.453 740.901,653.453 746.361,653.453 751.82,653.453 757.28,653.453 \n",
       "  762.739,653.453 768.199,653.453 773.658,653.453 779.118,653.453 784.577,653.453 790.037,653.453 795.497,653.453 800.956,653.453 806.416,653.453 811.875,653.453 \n",
       "  817.335,653.453 822.794,653.453 828.254,653.453 833.713,653.453 839.173,653.453 844.632,653.453 850.092,653.453 855.552,653.453 861.011,653.453 866.471,653.453 \n",
       "  871.93,653.453 877.39,653.453 882.849,653.453 888.309,653.453 893.768,653.453 899.228,653.453 904.687,653.453 910.147,653.453 915.607,653.453 921.066,653.453 \n",
       "  926.526,653.453 931.985,653.453 937.445,653.453 942.904,653.453 948.364,653.453 953.823,653.453 959.283,653.453 964.742,653.453 970.202,653.453 975.661,653.453 \n",
       "  981.121,653.453 986.581,653.453 992.04,653.453 997.5,653.453 1002.96,653.453 1008.42,653.453 1013.88,653.453 1019.34,653.453 1024.8,653.453 1030.26,653.453 \n",
       "  1035.72,653.453 1041.18,653.453 1046.64,653.453 1052.1,653.453 1057.55,653.453 1063.01,653.453 1068.47,653.453 1073.93,653.453 1079.39,653.453 1084.85,653.453 \n",
       "  1090.31,653.453 1095.77,653.453 1101.23,653.453 1106.69,653.453 1112.15,653.453 1117.61,653.453 1123.07,653.453 1128.53,653.453 1133.99,653.453 1139.45,653.453 \n",
       "  1144.91,653.453 1150.37,653.453 1155.83,653.453 1161.29,653.453 1166.75,653.453 1172.21,653.453 1177.66,653.453 1183.12,653.453 1188.58,653.453 1194.04,653.453 \n",
       "  1199.5,653.453 1204.96,653.453 1210.42,653.453 1215.88,653.453 1221.34,653.453 1226.8,653.453 1232.26,653.453 1237.72,653.453 1243.18,653.453 1248.64,653.453 \n",
       "  1254.1,653.453 1259.56,653.453 1265.02,653.453 1270.48,653.453 1275.94,653.453 1281.4,653.453 1286.86,653.453 1292.31,653.453 1297.77,653.453 1303.23,653.453 \n",
       "  1308.69,653.453 1314.15,653.453 1319.61,653.453 1325.07,653.453 1330.53,653.453 1335.99,653.452 1341.45,653.452 1346.91,653.452 1352.37,653.452 1357.83,653.451 \n",
       "  1363.29,653.451 1368.75,653.451 1374.21,653.45 1379.67,653.45 1385.13,653.449 1390.59,653.449 1396.05,653.448 1401.51,653.447 1406.97,653.446 1412.42,653.445 \n",
       "  1417.88,653.443 1423.34,653.441 1428.8,653.44 1434.26,653.437 1439.72,653.435 1445.18,653.432 1450.64,653.429 1456.1,653.425 1461.56,653.421 1467.02,653.416 \n",
       "  1472.48,653.41 1477.94,653.403 1483.4,653.396 1488.86,653.387 1494.32,653.377 1499.78,653.366 1505.24,653.353 1510.7,653.338 1516.16,653.322 1521.62,653.302 \n",
       "  1527.08,653.281 1532.53,653.256 1537.99,653.227 1543.45,653.195 1548.91,653.159 1554.37,653.117 1559.83,653.069 1565.29,653.016 1570.75,652.955 1576.21,652.885 \n",
       "  1581.67,652.807 1587.13,652.718 1592.59,652.617 1598.05,652.503 1603.51,652.374 1608.97,652.228 1614.43,652.064 1619.89,651.877 1625.35,651.667 1630.81,651.43 \n",
       "  1636.27,651.162 1641.73,650.86 1647.19,650.52 1652.64,650.137 1658.1,649.705 1663.56,649.22 1669.02,648.674 1674.48,648.059 1679.94,647.369 1685.4,646.594 \n",
       "  1690.86,645.724 1696.32,644.747 1701.78,643.651 1707.24,642.423 1712.7,641.045 1718.16,639.503 1723.62,637.775 1729.08,635.841 1734.54,633.677 1740,631.256 \n",
       "  1745.46,628.55 1750.92,625.526 1756.38,622.148 1761.84,618.377 1767.3,614.167 1772.75,609.47 1778.21,604.231 1783.67,598.391 1789.13,591.884 1794.59,584.634 \n",
       "  1800.05,576.562 1805.51,567.577 1810.97,557.579 1816.43,546.46 1821.89,534.097 1827.35,520.356 1832.81,505.09 1838.27,488.136 1843.73,469.314 1849.19,448.426 \n",
       "  1854.65,425.253 1860.11,399.554 1865.57,371.065 1871.03,339.493 1876.49,304.517 1881.95,265.784 1887.41,222.905 1892.86,175.453 1898.32,122.957 1903.78,64.9007 \n",
       "  \n",
       "  \"/>\n",
       "<polyline clip-path=\"url(#clip3802)\" style=\"stroke:#3da44d; stroke-width:4; stroke-opacity:1; fill:none\" points=\"\n",
       "  271.38,653.453 276.84,653.453 282.3,653.453 287.759,653.453 293.219,653.453 298.678,653.453 304.138,653.453 309.597,653.453 315.057,653.453 320.516,653.453 \n",
       "  325.976,653.453 331.435,653.453 336.895,653.453 342.355,653.453 347.814,653.453 353.274,653.453 358.733,653.453 364.193,653.453 369.652,653.453 375.112,653.453 \n",
       "  380.571,653.453 386.031,653.453 391.49,653.453 396.95,653.453 402.409,653.453 407.869,653.453 413.329,653.453 418.788,653.453 424.248,653.453 429.707,653.453 \n",
       "  435.167,653.453 440.626,653.453 446.086,653.453 451.545,653.453 457.005,653.453 462.464,653.453 467.924,653.453 473.384,653.453 478.843,653.453 484.303,653.453 \n",
       "  489.762,653.453 495.222,653.453 500.681,653.453 506.141,653.453 511.6,653.453 517.06,653.453 522.519,653.453 527.979,653.453 533.439,653.453 538.898,653.453 \n",
       "  544.358,653.453 549.817,653.453 555.277,653.453 560.736,653.453 566.196,653.453 571.655,653.453 577.115,653.453 582.574,653.453 588.034,653.453 593.493,653.453 \n",
       "  598.953,653.453 604.413,653.453 609.872,653.453 615.332,653.453 620.791,653.453 626.251,653.453 631.71,653.453 637.17,653.453 642.629,653.453 648.089,653.453 \n",
       "  653.548,653.453 659.008,653.453 664.468,653.453 669.927,653.453 675.387,653.453 680.846,653.453 686.306,653.453 691.765,653.453 697.225,653.453 702.684,653.453 \n",
       "  708.144,653.453 713.603,653.453 719.063,653.453 724.523,653.453 729.982,653.453 735.442,653.453 740.901,653.453 746.361,653.453 751.82,653.453 757.28,653.453 \n",
       "  762.739,653.453 768.199,653.453 773.658,653.453 779.118,653.453 784.577,653.453 790.037,653.453 795.497,653.453 800.956,653.453 806.416,653.453 811.875,653.453 \n",
       "  817.335,653.453 822.794,653.453 828.254,653.453 833.713,653.453 839.173,653.453 844.632,653.453 850.092,653.453 855.552,653.453 861.011,653.453 866.471,653.453 \n",
       "  871.93,653.453 877.39,653.453 882.849,653.453 888.309,653.453 893.768,653.453 899.228,653.453 904.687,653.453 910.147,653.453 915.607,653.453 921.066,653.453 \n",
       "  926.526,653.453 931.985,653.453 937.445,653.453 942.904,653.453 948.364,653.453 953.823,653.453 959.283,653.453 964.742,653.453 970.202,653.453 975.661,653.453 \n",
       "  981.121,653.453 986.581,653.453 992.04,653.453 997.5,653.453 1002.96,653.453 1008.42,653.453 1013.88,653.453 1019.34,653.453 1024.8,653.453 1030.26,653.453 \n",
       "  1035.72,653.453 1041.18,653.453 1046.64,653.453 1052.1,653.453 1057.55,653.453 1063.01,653.453 1068.47,653.453 1073.93,653.453 1079.39,653.453 1084.85,653.453 \n",
       "  1090.31,653.453 1095.77,653.453 1101.23,653.453 1106.69,653.453 1112.15,653.453 1117.61,653.453 1123.07,653.453 1128.53,653.453 1133.99,653.453 1139.45,653.453 \n",
       "  1144.91,653.453 1150.37,653.453 1155.83,653.453 1161.29,653.453 1166.75,653.453 1172.21,653.453 1177.66,653.453 1183.12,653.453 1188.58,653.453 1194.04,653.453 \n",
       "  1199.5,653.453 1204.96,653.453 1210.42,653.453 1215.88,653.453 1221.34,653.453 1226.8,653.453 1232.26,653.453 1237.72,653.453 1243.18,653.453 1248.64,653.453 \n",
       "  1254.1,653.453 1259.56,653.453 1265.02,653.453 1270.48,653.453 1275.94,653.453 1281.4,653.453 1286.86,653.453 1292.31,653.453 1297.77,653.453 1303.23,653.453 \n",
       "  1308.69,653.453 1314.15,653.453 1319.61,653.453 1325.07,653.453 1330.53,653.453 1335.99,653.453 1341.45,653.453 1346.91,653.453 1352.37,653.453 1357.83,653.453 \n",
       "  1363.29,653.453 1368.75,653.453 1374.21,653.453 1379.67,653.453 1385.13,653.453 1390.59,653.453 1396.05,653.453 1401.51,653.453 1406.97,653.453 1412.42,653.453 \n",
       "  1417.88,653.453 1423.34,653.453 1428.8,653.453 1434.26,653.453 1439.72,653.453 1445.18,653.453 1450.64,653.453 1456.1,653.453 1461.56,653.453 1467.02,653.453 \n",
       "  1472.48,653.453 1477.94,653.453 1483.4,653.453 1488.86,653.453 1494.32,653.453 1499.78,653.453 1505.24,653.453 1510.7,653.453 1516.16,653.453 1521.62,653.453 \n",
       "  1527.08,653.453 1532.53,653.453 1537.99,653.453 1543.45,653.453 1548.91,653.453 1554.37,653.453 1559.83,653.453 1565.29,653.453 1570.75,653.453 1576.21,653.453 \n",
       "  1581.67,653.453 1587.13,653.452 1592.59,653.452 1598.05,653.452 1603.51,653.451 1608.97,653.45 1614.43,653.449 1619.89,653.448 1625.35,653.447 1630.81,653.445 \n",
       "  1636.27,653.443 1641.73,653.44 1647.19,653.436 1652.64,653.431 1658.1,653.425 1663.56,653.418 1669.02,653.408 1674.48,653.396 1679.94,653.381 1685.4,653.361 \n",
       "  1690.86,653.337 1696.32,653.306 1701.78,653.267 1707.24,653.218 1712.7,653.157 1718.16,653.08 1723.62,652.984 1729.08,652.863 1734.54,652.712 1740,652.523 \n",
       "  1745.46,652.287 1750.92,651.991 1756.38,651.623 1761.84,651.164 1767.3,650.592 1772.75,649.88 1778.21,648.994 1783.67,647.893 1789.13,646.526 1794.59,644.83 \n",
       "  1800.05,642.726 1805.51,640.12 1810.97,636.894 1816.43,632.903 1821.89,627.97 1827.35,621.876 1832.81,614.354 1838.27,605.076 1843.73,593.642 1849.19,579.559 \n",
       "  1854.65,562.227 1860.11,540.911 1865.57,514.715 1871.03,482.543 1876.49,443.061 1881.95,394.641 1887.41,335.299 1892.86,262.625 1898.32,173.681 1903.78,64.9007 \n",
       "  \n",
       "  \"/>\n",
       "<polyline clip-path=\"url(#clip3802)\" style=\"stroke:#c271d2; stroke-width:4; stroke-opacity:1; fill:none\" points=\"\n",
       "  271.38,653.453 276.84,653.453 282.3,653.453 287.759,653.453 293.219,653.453 298.678,653.453 304.138,653.453 309.597,653.453 315.057,653.453 320.516,653.453 \n",
       "  325.976,653.453 331.435,653.453 336.895,653.453 342.355,653.453 347.814,653.453 353.274,653.453 358.733,653.453 364.193,653.453 369.652,653.453 375.112,653.453 \n",
       "  380.571,653.453 386.031,653.453 391.49,653.453 396.95,653.453 402.409,653.453 407.869,653.453 413.329,653.453 418.788,653.453 424.248,653.453 429.707,653.453 \n",
       "  435.167,653.453 440.626,653.453 446.086,653.453 451.545,653.453 457.005,653.453 462.464,653.453 467.924,653.453 473.384,653.453 478.843,653.453 484.303,653.453 \n",
       "  489.762,653.453 495.222,653.453 500.681,653.453 506.141,653.453 511.6,653.453 517.06,653.453 522.519,653.453 527.979,653.453 533.439,653.453 538.898,653.453 \n",
       "  544.358,653.453 549.817,653.453 555.277,653.453 560.736,653.453 566.196,653.453 571.655,653.453 577.115,653.453 582.574,653.453 588.034,653.453 593.493,653.453 \n",
       "  598.953,653.453 604.413,653.453 609.872,653.453 615.332,653.453 620.791,653.453 626.251,653.453 631.71,653.453 637.17,653.453 642.629,653.453 648.089,653.453 \n",
       "  653.548,653.453 659.008,653.453 664.468,653.453 669.927,653.453 675.387,653.453 680.846,653.453 686.306,653.453 691.765,653.453 697.225,653.453 702.684,653.453 \n",
       "  708.144,653.453 713.603,653.453 719.063,653.453 724.523,653.453 729.982,653.453 735.442,653.453 740.901,653.453 746.361,653.453 751.82,653.453 757.28,653.453 \n",
       "  762.739,653.453 768.199,653.453 773.658,653.453 779.118,653.453 784.577,653.453 790.037,653.453 795.497,653.453 800.956,653.453 806.416,653.453 811.875,653.453 \n",
       "  817.335,653.453 822.794,653.453 828.254,653.453 833.713,653.453 839.173,653.453 844.632,653.453 850.092,653.453 855.552,653.453 861.011,653.453 866.471,653.453 \n",
       "  871.93,653.453 877.39,653.453 882.849,653.453 888.309,653.453 893.768,653.453 899.228,653.453 904.687,653.453 910.147,653.453 915.607,653.453 921.066,653.453 \n",
       "  926.526,653.453 931.985,653.453 937.445,653.453 942.904,653.453 948.364,653.453 953.823,653.453 959.283,653.453 964.742,653.453 970.202,653.453 975.661,653.453 \n",
       "  981.121,653.453 986.581,653.453 992.04,653.453 997.5,653.453 1002.96,653.453 1008.42,653.453 1013.88,653.453 1019.34,653.453 1024.8,653.453 1030.26,653.453 \n",
       "  1035.72,653.453 1041.18,653.453 1046.64,653.453 1052.1,653.453 1057.55,653.453 1063.01,653.453 1068.47,653.453 1073.93,653.453 1079.39,653.453 1084.85,653.453 \n",
       "  1090.31,653.453 1095.77,653.453 1101.23,653.453 1106.69,653.453 1112.15,653.453 1117.61,653.453 1123.07,653.453 1128.53,653.453 1133.99,653.453 1139.45,653.453 \n",
       "  1144.91,653.453 1150.37,653.453 1155.83,653.453 1161.29,653.453 1166.75,653.453 1172.21,653.453 1177.66,653.453 1183.12,653.453 1188.58,653.453 1194.04,653.453 \n",
       "  1199.5,653.453 1204.96,653.453 1210.42,653.453 1215.88,653.453 1221.34,653.453 1226.8,653.453 1232.26,653.453 1237.72,653.453 1243.18,653.453 1248.64,653.453 \n",
       "  1254.1,653.453 1259.56,653.453 1265.02,653.453 1270.48,653.453 1275.94,653.453 1281.4,653.453 1286.86,653.453 1292.31,653.453 1297.77,653.453 1303.23,653.453 \n",
       "  1308.69,653.453 1314.15,653.453 1319.61,653.453 1325.07,653.453 1330.53,653.453 1335.99,653.453 1341.45,653.453 1346.91,653.453 1352.37,653.453 1357.83,653.453 \n",
       "  1363.29,653.453 1368.75,653.453 1374.21,653.453 1379.67,653.453 1385.13,653.453 1390.59,653.453 1396.05,653.453 1401.51,653.453 1406.97,653.453 1412.42,653.453 \n",
       "  1417.88,653.453 1423.34,653.453 1428.8,653.453 1434.26,653.453 1439.72,653.453 1445.18,653.453 1450.64,653.453 1456.1,653.453 1461.56,653.453 1467.02,653.453 \n",
       "  1472.48,653.453 1477.94,653.453 1483.4,653.453 1488.86,653.453 1494.32,653.453 1499.78,653.453 1505.24,653.453 1510.7,653.453 1516.16,653.453 1521.62,653.453 \n",
       "  1527.08,653.453 1532.53,653.453 1537.99,653.453 1543.45,653.453 1548.91,653.453 1554.37,653.453 1559.83,653.453 1565.29,653.453 1570.75,653.453 1576.21,653.453 \n",
       "  1581.67,653.453 1587.13,653.453 1592.59,653.453 1598.05,653.453 1603.51,653.453 1608.97,653.453 1614.43,653.453 1619.89,653.453 1625.35,653.453 1630.81,653.453 \n",
       "  1636.27,653.453 1641.73,653.453 1647.19,653.453 1652.64,653.453 1658.1,653.453 1663.56,653.453 1669.02,653.453 1674.48,653.453 1679.94,653.453 1685.4,653.452 \n",
       "  1690.86,653.452 1696.32,653.451 1701.78,653.45 1707.24,653.448 1712.7,653.446 1718.16,653.443 1723.62,653.439 1729.08,653.434 1734.54,653.426 1740,653.414 \n",
       "  1745.46,653.399 1750.92,653.377 1756.38,653.346 1761.84,653.304 1767.3,653.245 1772.75,653.163 1778.21,653.049 1783.67,652.892 1789.13,652.674 1794.59,652.373 \n",
       "  1800.05,651.957 1805.51,651.383 1810.97,650.593 1816.43,649.506 1821.89,648.012 1827.35,645.962 1832.81,643.149 1838.27,639.297 1843.73,634.026 1849.19,626.821 \n",
       "  1854.65,616.984 1860.11,603.568 1865.57,585.291 1871.03,560.415 1876.49,526.596 1881.95,480.667 1887.41,418.353 1892.86,333.899 1898.32,219.556 1903.78,64.9007 \n",
       "  \n",
       "  \"/>\n",
       "<polyline clip-path=\"url(#clip3802)\" style=\"stroke:#ac8d18; stroke-width:4; stroke-opacity:1; fill:none\" points=\"\n",
       "  271.38,653.453 276.84,653.453 282.3,653.453 287.759,653.453 293.219,653.453 298.678,653.453 304.138,653.453 309.597,653.453 315.057,653.453 320.516,653.453 \n",
       "  325.976,653.453 331.435,653.453 336.895,653.453 342.355,653.453 347.814,653.453 353.274,653.453 358.733,653.453 364.193,653.453 369.652,653.453 375.112,653.453 \n",
       "  380.571,653.453 386.031,653.453 391.49,653.453 396.95,653.453 402.409,653.453 407.869,653.453 413.329,653.453 418.788,653.453 424.248,653.453 429.707,653.453 \n",
       "  435.167,653.453 440.626,653.453 446.086,653.453 451.545,653.453 457.005,653.453 462.464,653.453 467.924,653.453 473.384,653.453 478.843,653.453 484.303,653.453 \n",
       "  489.762,653.453 495.222,653.453 500.681,653.453 506.141,653.453 511.6,653.453 517.06,653.453 522.519,653.453 527.979,653.453 533.439,653.453 538.898,653.453 \n",
       "  544.358,653.453 549.817,653.453 555.277,653.453 560.736,653.453 566.196,653.453 571.655,653.453 577.115,653.453 582.574,653.453 588.034,653.453 593.493,653.453 \n",
       "  598.953,653.453 604.413,653.453 609.872,653.453 615.332,653.453 620.791,653.453 626.251,653.453 631.71,653.453 637.17,653.453 642.629,653.453 648.089,653.453 \n",
       "  653.548,653.453 659.008,653.453 664.468,653.453 669.927,653.453 675.387,653.453 680.846,653.453 686.306,653.453 691.765,653.453 697.225,653.453 702.684,653.453 \n",
       "  708.144,653.453 713.603,653.453 719.063,653.453 724.523,653.453 729.982,653.453 735.442,653.453 740.901,653.453 746.361,653.453 751.82,653.453 757.28,653.453 \n",
       "  762.739,653.453 768.199,653.453 773.658,653.453 779.118,653.453 784.577,653.453 790.037,653.453 795.497,653.453 800.956,653.453 806.416,653.453 811.875,653.453 \n",
       "  817.335,653.453 822.794,653.453 828.254,653.453 833.713,653.453 839.173,653.453 844.632,653.453 850.092,653.453 855.552,653.453 861.011,653.453 866.471,653.453 \n",
       "  871.93,653.453 877.39,653.453 882.849,653.453 888.309,653.453 893.768,653.453 899.228,653.453 904.687,653.453 910.147,653.453 915.607,653.453 921.066,653.453 \n",
       "  926.526,653.453 931.985,653.453 937.445,653.453 942.904,653.453 948.364,653.453 953.823,653.453 959.283,653.453 964.742,653.453 970.202,653.453 975.661,653.453 \n",
       "  981.121,653.453 986.581,653.453 992.04,653.453 997.5,653.453 1002.96,653.453 1008.42,653.453 1013.88,653.453 1019.34,653.453 1024.8,653.453 1030.26,653.453 \n",
       "  1035.72,653.453 1041.18,653.453 1046.64,653.453 1052.1,653.453 1057.55,653.453 1063.01,653.453 1068.47,653.453 1073.93,653.453 1079.39,653.453 1084.85,653.453 \n",
       "  1090.31,653.453 1095.77,653.453 1101.23,653.453 1106.69,653.453 1112.15,653.453 1117.61,653.453 1123.07,653.453 1128.53,653.453 1133.99,653.453 1139.45,653.453 \n",
       "  1144.91,653.453 1150.37,653.453 1155.83,653.453 1161.29,653.453 1166.75,653.453 1172.21,653.453 1177.66,653.453 1183.12,653.453 1188.58,653.453 1194.04,653.453 \n",
       "  1199.5,653.453 1204.96,653.453 1210.42,653.453 1215.88,653.453 1221.34,653.453 1226.8,653.453 1232.26,653.453 1237.72,653.453 1243.18,653.453 1248.64,653.453 \n",
       "  1254.1,653.453 1259.56,653.453 1265.02,653.453 1270.48,653.453 1275.94,653.453 1281.4,653.453 1286.86,653.453 1292.31,653.453 1297.77,653.453 1303.23,653.453 \n",
       "  1308.69,653.453 1314.15,653.453 1319.61,653.453 1325.07,653.453 1330.53,653.453 1335.99,653.453 1341.45,653.453 1346.91,653.453 1352.37,653.453 1357.83,653.453 \n",
       "  1363.29,653.453 1368.75,653.453 1374.21,653.453 1379.67,653.453 1385.13,653.453 1390.59,653.453 1396.05,653.453 1401.51,653.453 1406.97,653.453 1412.42,653.453 \n",
       "  1417.88,653.453 1423.34,653.453 1428.8,653.453 1434.26,653.453 1439.72,653.453 1445.18,653.453 1450.64,653.453 1456.1,653.453 1461.56,653.453 1467.02,653.453 \n",
       "  1472.48,653.453 1477.94,653.453 1483.4,653.453 1488.86,653.453 1494.32,653.453 1499.78,653.453 1505.24,653.453 1510.7,653.453 1516.16,653.453 1521.62,653.453 \n",
       "  1527.08,653.453 1532.53,653.453 1537.99,653.453 1543.45,653.453 1548.91,653.453 1554.37,653.453 1559.83,653.453 1565.29,653.453 1570.75,653.453 1576.21,653.453 \n",
       "  1581.67,653.453 1587.13,653.453 1592.59,653.453 1598.05,653.453 1603.51,653.453 1608.97,653.453 1614.43,653.453 1619.89,653.453 1625.35,653.453 1630.81,653.453 \n",
       "  1636.27,653.453 1641.73,653.453 1647.19,653.453 1652.64,653.453 1658.1,653.453 1663.56,653.453 1669.02,653.453 1674.48,653.453 1679.94,653.453 1685.4,653.453 \n",
       "  1690.86,653.453 1696.32,653.453 1701.78,653.453 1707.24,653.453 1712.7,653.453 1718.16,653.453 1723.62,653.453 1729.08,653.453 1734.54,653.452 1740,653.452 \n",
       "  1745.46,653.451 1750.92,653.449 1756.38,653.447 1761.84,653.444 1767.3,653.438 1772.75,653.43 1778.21,653.417 1783.67,653.397 1789.13,653.366 1794.59,653.318 \n",
       "  1800.05,653.245 1805.51,653.132 1810.97,652.959 1816.43,652.695 1821.89,652.292 1827.35,651.676 1832.81,650.738 1838.27,649.311 1843.73,647.143 1849.19,643.855 \n",
       "  1854.65,638.874 1860.11,631.342 1865.57,619.965 1871.03,602.806 1876.49,576.964 1881.95,538.099 1887.41,479.726 1892.86,392.176 1898.32,261.044 1903.78,64.9007 \n",
       "  \n",
       "  \"/>\n",
       "<polyline clip-path=\"url(#clip3802)\" style=\"stroke:#00a9ad; stroke-width:4; stroke-opacity:1; fill:none\" points=\"\n",
       "  271.38,653.453 276.84,653.453 282.3,653.453 287.759,653.453 293.219,653.453 298.678,653.453 304.138,653.453 309.597,653.453 315.057,653.453 320.516,653.453 \n",
       "  325.976,653.453 331.435,653.453 336.895,653.453 342.355,653.453 347.814,653.453 353.274,653.453 358.733,653.453 364.193,653.453 369.652,653.453 375.112,653.453 \n",
       "  380.571,653.453 386.031,653.453 391.49,653.453 396.95,653.453 402.409,653.453 407.869,653.453 413.329,653.453 418.788,653.453 424.248,653.453 429.707,653.453 \n",
       "  435.167,653.453 440.626,653.453 446.086,653.453 451.545,653.453 457.005,653.453 462.464,653.453 467.924,653.453 473.384,653.453 478.843,653.453 484.303,653.453 \n",
       "  489.762,653.453 495.222,653.453 500.681,653.453 506.141,653.453 511.6,653.453 517.06,653.453 522.519,653.453 527.979,653.453 533.439,653.453 538.898,653.453 \n",
       "  544.358,653.453 549.817,653.453 555.277,653.453 560.736,653.453 566.196,653.453 571.655,653.453 577.115,653.453 582.574,653.453 588.034,653.453 593.493,653.453 \n",
       "  598.953,653.453 604.413,653.453 609.872,653.453 615.332,653.453 620.791,653.453 626.251,653.453 631.71,653.453 637.17,653.453 642.629,653.453 648.089,653.453 \n",
       "  653.548,653.453 659.008,653.453 664.468,653.453 669.927,653.453 675.387,653.453 680.846,653.453 686.306,653.453 691.765,653.453 697.225,653.453 702.684,653.453 \n",
       "  708.144,653.453 713.603,653.453 719.063,653.453 724.523,653.453 729.982,653.453 735.442,653.453 740.901,653.453 746.361,653.453 751.82,653.453 757.28,653.453 \n",
       "  762.739,653.453 768.199,653.453 773.658,653.453 779.118,653.453 784.577,653.453 790.037,653.453 795.497,653.453 800.956,653.453 806.416,653.453 811.875,653.453 \n",
       "  817.335,653.453 822.794,653.453 828.254,653.453 833.713,653.453 839.173,653.453 844.632,653.453 850.092,653.453 855.552,653.453 861.011,653.453 866.471,653.453 \n",
       "  871.93,653.453 877.39,653.453 882.849,653.453 888.309,653.453 893.768,653.453 899.228,653.453 904.687,653.453 910.147,653.453 915.607,653.453 921.066,653.453 \n",
       "  926.526,653.453 931.985,653.453 937.445,653.453 942.904,653.453 948.364,653.453 953.823,653.453 959.283,653.453 964.742,653.453 970.202,653.453 975.661,653.453 \n",
       "  981.121,653.453 986.581,653.453 992.04,653.453 997.5,653.453 1002.96,653.453 1008.42,653.453 1013.88,653.453 1019.34,653.453 1024.8,653.453 1030.26,653.453 \n",
       "  1035.72,653.453 1041.18,653.453 1046.64,653.453 1052.1,653.453 1057.55,653.453 1063.01,653.453 1068.47,653.453 1073.93,653.453 1079.39,653.453 1084.85,653.453 \n",
       "  1090.31,653.453 1095.77,653.453 1101.23,653.453 1106.69,653.453 1112.15,653.453 1117.61,653.453 1123.07,653.453 1128.53,653.453 1133.99,653.453 1139.45,653.453 \n",
       "  1144.91,653.453 1150.37,653.453 1155.83,653.453 1161.29,653.453 1166.75,653.453 1172.21,653.453 1177.66,653.453 1183.12,653.453 1188.58,653.453 1194.04,653.453 \n",
       "  1199.5,653.453 1204.96,653.453 1210.42,653.453 1215.88,653.453 1221.34,653.453 1226.8,653.453 1232.26,653.453 1237.72,653.453 1243.18,653.453 1248.64,653.453 \n",
       "  1254.1,653.453 1259.56,653.453 1265.02,653.453 1270.48,653.453 1275.94,653.453 1281.4,653.453 1286.86,653.453 1292.31,653.453 1297.77,653.453 1303.23,653.453 \n",
       "  1308.69,653.453 1314.15,653.453 1319.61,653.453 1325.07,653.453 1330.53,653.453 1335.99,653.453 1341.45,653.453 1346.91,653.453 1352.37,653.453 1357.83,653.453 \n",
       "  1363.29,653.453 1368.75,653.453 1374.21,653.453 1379.67,653.453 1385.13,653.453 1390.59,653.453 1396.05,653.453 1401.51,653.453 1406.97,653.453 1412.42,653.453 \n",
       "  1417.88,653.453 1423.34,653.453 1428.8,653.453 1434.26,653.453 1439.72,653.453 1445.18,653.453 1450.64,653.453 1456.1,653.453 1461.56,653.453 1467.02,653.453 \n",
       "  1472.48,653.453 1477.94,653.453 1483.4,653.453 1488.86,653.453 1494.32,653.453 1499.78,653.453 1505.24,653.453 1510.7,653.453 1516.16,653.453 1521.62,653.453 \n",
       "  1527.08,653.453 1532.53,653.453 1537.99,653.453 1543.45,653.453 1548.91,653.453 1554.37,653.453 1559.83,653.453 1565.29,653.453 1570.75,653.453 1576.21,653.453 \n",
       "  1581.67,653.453 1587.13,653.453 1592.59,653.453 1598.05,653.453 1603.51,653.453 1608.97,653.453 1614.43,653.453 1619.89,653.453 1625.35,653.453 1630.81,653.453 \n",
       "  1636.27,653.453 1641.73,653.453 1647.19,653.453 1652.64,653.453 1658.1,653.453 1663.56,653.453 1669.02,653.453 1674.48,653.453 1679.94,653.453 1685.4,653.453 \n",
       "  1690.86,653.453 1696.32,653.453 1701.78,653.453 1707.24,653.453 1712.7,653.453 1718.16,653.453 1723.62,653.453 1729.08,653.453 1734.54,653.453 1740,653.453 \n",
       "  1745.46,653.453 1750.92,653.453 1756.38,653.453 1761.84,653.453 1767.3,653.452 1772.75,653.451 1778.21,653.45 1783.67,653.448 1789.13,653.444 1794.59,653.436 \n",
       "  1800.05,653.424 1805.51,653.404 1810.97,653.368 1816.43,653.308 1821.89,653.205 1827.35,653.032 1832.81,652.738 1838.27,652.241 1843.73,651.404 1849.19,649.994 \n",
       "  1854.65,647.625 1860.11,643.652 1865.57,637 1871.03,625.883 1876.49,607.334 1881.95,576.441 1887.41,525.077 1892.86,439.825 1898.32,298.565 1903.78,64.9007 \n",
       "  \n",
       "  \"/>\n",
       "<polyline clip-path=\"url(#clip3802)\" style=\"stroke:#ed5d92; stroke-width:4; stroke-opacity:1; fill:none\" points=\"\n",
       "  271.38,653.453 276.84,653.453 282.3,653.453 287.759,653.453 293.219,653.453 298.678,653.453 304.138,653.453 309.597,653.453 315.057,653.453 320.516,653.453 \n",
       "  325.976,653.453 331.435,653.453 336.895,653.453 342.355,653.453 347.814,653.453 353.274,653.453 358.733,653.453 364.193,653.453 369.652,653.453 375.112,653.453 \n",
       "  380.571,653.453 386.031,653.453 391.49,653.453 396.95,653.453 402.409,653.453 407.869,653.453 413.329,653.453 418.788,653.453 424.248,653.453 429.707,653.453 \n",
       "  435.167,653.453 440.626,653.453 446.086,653.453 451.545,653.453 457.005,653.453 462.464,653.453 467.924,653.453 473.384,653.453 478.843,653.453 484.303,653.453 \n",
       "  489.762,653.453 495.222,653.453 500.681,653.453 506.141,653.453 511.6,653.453 517.06,653.453 522.519,653.453 527.979,653.453 533.439,653.453 538.898,653.453 \n",
       "  544.358,653.453 549.817,653.453 555.277,653.453 560.736,653.453 566.196,653.453 571.655,653.453 577.115,653.453 582.574,653.453 588.034,653.453 593.493,653.453 \n",
       "  598.953,653.453 604.413,653.453 609.872,653.453 615.332,653.453 620.791,653.453 626.251,653.453 631.71,653.453 637.17,653.453 642.629,653.453 648.089,653.453 \n",
       "  653.548,653.453 659.008,653.453 664.468,653.453 669.927,653.453 675.387,653.453 680.846,653.453 686.306,653.453 691.765,653.453 697.225,653.453 702.684,653.453 \n",
       "  708.144,653.453 713.603,653.453 719.063,653.453 724.523,653.453 729.982,653.453 735.442,653.453 740.901,653.453 746.361,653.453 751.82,653.453 757.28,653.453 \n",
       "  762.739,653.453 768.199,653.453 773.658,653.453 779.118,653.453 784.577,653.453 790.037,653.453 795.497,653.453 800.956,653.453 806.416,653.453 811.875,653.453 \n",
       "  817.335,653.453 822.794,653.453 828.254,653.453 833.713,653.453 839.173,653.453 844.632,653.453 850.092,653.453 855.552,653.453 861.011,653.453 866.471,653.453 \n",
       "  871.93,653.453 877.39,653.453 882.849,653.453 888.309,653.453 893.768,653.453 899.228,653.453 904.687,653.453 910.147,653.453 915.607,653.453 921.066,653.453 \n",
       "  926.526,653.453 931.985,653.453 937.445,653.453 942.904,653.453 948.364,653.453 953.823,653.453 959.283,653.453 964.742,653.453 970.202,653.453 975.661,653.453 \n",
       "  981.121,653.453 986.581,653.453 992.04,653.453 997.5,653.453 1002.96,653.453 1008.42,653.453 1013.88,653.453 1019.34,653.453 1024.8,653.453 1030.26,653.453 \n",
       "  1035.72,653.453 1041.18,653.453 1046.64,653.453 1052.1,653.453 1057.55,653.453 1063.01,653.453 1068.47,653.453 1073.93,653.453 1079.39,653.453 1084.85,653.453 \n",
       "  1090.31,653.453 1095.77,653.453 1101.23,653.453 1106.69,653.453 1112.15,653.453 1117.61,653.453 1123.07,653.453 1128.53,653.453 1133.99,653.453 1139.45,653.453 \n",
       "  1144.91,653.453 1150.37,653.453 1155.83,653.453 1161.29,653.453 1166.75,653.453 1172.21,653.453 1177.66,653.453 1183.12,653.453 1188.58,653.453 1194.04,653.453 \n",
       "  1199.5,653.453 1204.96,653.453 1210.42,653.453 1215.88,653.453 1221.34,653.453 1226.8,653.453 1232.26,653.453 1237.72,653.453 1243.18,653.453 1248.64,653.453 \n",
       "  1254.1,653.453 1259.56,653.453 1265.02,653.453 1270.48,653.453 1275.94,653.453 1281.4,653.453 1286.86,653.453 1292.31,653.453 1297.77,653.453 1303.23,653.453 \n",
       "  1308.69,653.453 1314.15,653.453 1319.61,653.453 1325.07,653.453 1330.53,653.453 1335.99,653.453 1341.45,653.453 1346.91,653.453 1352.37,653.453 1357.83,653.453 \n",
       "  1363.29,653.453 1368.75,653.453 1374.21,653.453 1379.67,653.453 1385.13,653.453 1390.59,653.453 1396.05,653.453 1401.51,653.453 1406.97,653.453 1412.42,653.453 \n",
       "  1417.88,653.453 1423.34,653.453 1428.8,653.453 1434.26,653.453 1439.72,653.453 1445.18,653.453 1450.64,653.453 1456.1,653.453 1461.56,653.453 1467.02,653.453 \n",
       "  1472.48,653.453 1477.94,653.453 1483.4,653.453 1488.86,653.453 1494.32,653.453 1499.78,653.453 1505.24,653.453 1510.7,653.453 1516.16,653.453 1521.62,653.453 \n",
       "  1527.08,653.453 1532.53,653.453 1537.99,653.453 1543.45,653.453 1548.91,653.453 1554.37,653.453 1559.83,653.453 1565.29,653.453 1570.75,653.453 1576.21,653.453 \n",
       "  1581.67,653.453 1587.13,653.453 1592.59,653.453 1598.05,653.453 1603.51,653.453 1608.97,653.453 1614.43,653.453 1619.89,653.453 1625.35,653.453 1630.81,653.453 \n",
       "  1636.27,653.453 1641.73,653.453 1647.19,653.453 1652.64,653.453 1658.1,653.453 1663.56,653.453 1669.02,653.453 1674.48,653.453 1679.94,653.453 1685.4,653.453 \n",
       "  1690.86,653.453 1696.32,653.453 1701.78,653.453 1707.24,653.453 1712.7,653.453 1718.16,653.453 1723.62,653.453 1729.08,653.453 1734.54,653.453 1740,653.453 \n",
       "  1745.46,653.453 1750.92,653.453 1756.38,653.453 1761.84,653.453 1767.3,653.453 1772.75,653.453 1778.21,653.453 1783.67,653.453 1789.13,653.452 1794.59,653.451 \n",
       "  1800.05,653.449 1805.51,653.446 1810.97,653.439 1816.43,653.425 1821.89,653.4 1827.35,653.353 1832.81,653.265 1838.27,653.099 1843.73,652.788 1849.19,652.207 \n",
       "  1854.65,651.123 1860.11,649.109 1865.57,645.37 1871.03,638.445 1876.49,625.646 1881.95,602.039 1887.41,558.59 1892.86,478.784 1898.32,332.498 1903.78,64.9007 \n",
       "  \n",
       "  \"/>\n",
       "<polyline clip-path=\"url(#clip3802)\" style=\"stroke:#c68125; stroke-width:4; stroke-opacity:1; fill:none\" points=\"\n",
       "  271.38,653.453 276.84,653.453 282.3,653.453 287.759,653.453 293.219,653.453 298.678,653.453 304.138,653.453 309.597,653.453 315.057,653.453 320.516,653.453 \n",
       "  325.976,653.453 331.435,653.453 336.895,653.453 342.355,653.453 347.814,653.453 353.274,653.453 358.733,653.453 364.193,653.453 369.652,653.453 375.112,653.453 \n",
       "  380.571,653.453 386.031,653.453 391.49,653.453 396.95,653.453 402.409,653.453 407.869,653.453 413.329,653.453 418.788,653.453 424.248,653.453 429.707,653.453 \n",
       "  435.167,653.453 440.626,653.453 446.086,653.453 451.545,653.453 457.005,653.453 462.464,653.453 467.924,653.453 473.384,653.453 478.843,653.453 484.303,653.453 \n",
       "  489.762,653.453 495.222,653.453 500.681,653.453 506.141,653.453 511.6,653.453 517.06,653.453 522.519,653.453 527.979,653.453 533.439,653.453 538.898,653.453 \n",
       "  544.358,653.453 549.817,653.453 555.277,653.453 560.736,653.453 566.196,653.453 571.655,653.453 577.115,653.453 582.574,653.453 588.034,653.453 593.493,653.453 \n",
       "  598.953,653.453 604.413,653.453 609.872,653.453 615.332,653.453 620.791,653.453 626.251,653.453 631.71,653.453 637.17,653.453 642.629,653.453 648.089,653.453 \n",
       "  653.548,653.453 659.008,653.453 664.468,653.453 669.927,653.453 675.387,653.453 680.846,653.453 686.306,653.453 691.765,653.453 697.225,653.453 702.684,653.453 \n",
       "  708.144,653.453 713.603,653.453 719.063,653.453 724.523,653.453 729.982,653.453 735.442,653.453 740.901,653.453 746.361,653.453 751.82,653.453 757.28,653.453 \n",
       "  762.739,653.453 768.199,653.453 773.658,653.453 779.118,653.453 784.577,653.453 790.037,653.453 795.497,653.453 800.956,653.453 806.416,653.453 811.875,653.453 \n",
       "  817.335,653.453 822.794,653.453 828.254,653.453 833.713,653.453 839.173,653.453 844.632,653.453 850.092,653.453 855.552,653.453 861.011,653.453 866.471,653.453 \n",
       "  871.93,653.453 877.39,653.453 882.849,653.453 888.309,653.453 893.768,653.453 899.228,653.453 904.687,653.453 910.147,653.453 915.607,653.453 921.066,653.453 \n",
       "  926.526,653.453 931.985,653.453 937.445,653.453 942.904,653.453 948.364,653.453 953.823,653.453 959.283,653.453 964.742,653.453 970.202,653.453 975.661,653.453 \n",
       "  981.121,653.453 986.581,653.453 992.04,653.453 997.5,653.453 1002.96,653.453 1008.42,653.453 1013.88,653.453 1019.34,653.453 1024.8,653.453 1030.26,653.453 \n",
       "  1035.72,653.453 1041.18,653.453 1046.64,653.453 1052.1,653.453 1057.55,653.453 1063.01,653.453 1068.47,653.453 1073.93,653.453 1079.39,653.453 1084.85,653.453 \n",
       "  1090.31,653.453 1095.77,653.453 1101.23,653.453 1106.69,653.453 1112.15,653.453 1117.61,653.453 1123.07,653.453 1128.53,653.453 1133.99,653.453 1139.45,653.453 \n",
       "  1144.91,653.453 1150.37,653.453 1155.83,653.453 1161.29,653.453 1166.75,653.453 1172.21,653.453 1177.66,653.453 1183.12,653.453 1188.58,653.453 1194.04,653.453 \n",
       "  1199.5,653.453 1204.96,653.453 1210.42,653.453 1215.88,653.453 1221.34,653.453 1226.8,653.453 1232.26,653.453 1237.72,653.453 1243.18,653.453 1248.64,653.453 \n",
       "  1254.1,653.453 1259.56,653.453 1265.02,653.453 1270.48,653.453 1275.94,653.453 1281.4,653.453 1286.86,653.453 1292.31,653.453 1297.77,653.453 1303.23,653.453 \n",
       "  1308.69,653.453 1314.15,653.453 1319.61,653.453 1325.07,653.453 1330.53,653.453 1335.99,653.453 1341.45,653.453 1346.91,653.453 1352.37,653.453 1357.83,653.453 \n",
       "  1363.29,653.453 1368.75,653.453 1374.21,653.453 1379.67,653.453 1385.13,653.453 1390.59,653.453 1396.05,653.453 1401.51,653.453 1406.97,653.453 1412.42,653.453 \n",
       "  1417.88,653.453 1423.34,653.453 1428.8,653.453 1434.26,653.453 1439.72,653.453 1445.18,653.453 1450.64,653.453 1456.1,653.453 1461.56,653.453 1467.02,653.453 \n",
       "  1472.48,653.453 1477.94,653.453 1483.4,653.453 1488.86,653.453 1494.32,653.453 1499.78,653.453 1505.24,653.453 1510.7,653.453 1516.16,653.453 1521.62,653.453 \n",
       "  1527.08,653.453 1532.53,653.453 1537.99,653.453 1543.45,653.453 1548.91,653.453 1554.37,653.453 1559.83,653.453 1565.29,653.453 1570.75,653.453 1576.21,653.453 \n",
       "  1581.67,653.453 1587.13,653.453 1592.59,653.453 1598.05,653.453 1603.51,653.453 1608.97,653.453 1614.43,653.453 1619.89,653.453 1625.35,653.453 1630.81,653.453 \n",
       "  1636.27,653.453 1641.73,653.453 1647.19,653.453 1652.64,653.453 1658.1,653.453 1663.56,653.453 1669.02,653.453 1674.48,653.453 1679.94,653.453 1685.4,653.453 \n",
       "  1690.86,653.453 1696.32,653.453 1701.78,653.453 1707.24,653.453 1712.7,653.453 1718.16,653.453 1723.62,653.453 1729.08,653.453 1734.54,653.453 1740,653.453 \n",
       "  1745.46,653.453 1750.92,653.453 1756.38,653.453 1761.84,653.453 1767.3,653.453 1772.75,653.453 1778.21,653.453 1783.67,653.453 1789.13,653.453 1794.59,653.453 \n",
       "  1800.05,653.453 1805.51,653.452 1810.97,653.451 1816.43,653.448 1821.89,653.442 1827.35,653.43 1832.81,653.404 1838.27,653.35 1843.73,653.237 1849.19,653.004 \n",
       "  1854.65,652.522 1860.11,651.528 1865.57,649.482 1871.03,645.283 1876.49,636.687 1881.95,619.128 1887.41,583.354 1892.86,510.638 1898.32,363.187 1903.78,64.9007 \n",
       "  \n",
       "  \"/>\n",
       "<polyline clip-path=\"url(#clip3802)\" style=\"stroke:#00a98d; stroke-width:4; stroke-opacity:1; fill:none\" points=\"\n",
       "  271.38,653.453 276.84,653.453 282.3,653.453 287.759,653.453 293.219,653.453 298.678,653.453 304.138,653.453 309.597,653.453 315.057,653.453 320.516,653.453 \n",
       "  325.976,653.453 331.435,653.453 336.895,653.453 342.355,653.453 347.814,653.453 353.274,653.453 358.733,653.453 364.193,653.453 369.652,653.453 375.112,653.453 \n",
       "  380.571,653.453 386.031,653.453 391.49,653.453 396.95,653.453 402.409,653.453 407.869,653.453 413.329,653.453 418.788,653.453 424.248,653.453 429.707,653.453 \n",
       "  435.167,653.453 440.626,653.453 446.086,653.453 451.545,653.453 457.005,653.453 462.464,653.453 467.924,653.453 473.384,653.453 478.843,653.453 484.303,653.453 \n",
       "  489.762,653.453 495.222,653.453 500.681,653.453 506.141,653.453 511.6,653.453 517.06,653.453 522.519,653.453 527.979,653.453 533.439,653.453 538.898,653.453 \n",
       "  544.358,653.453 549.817,653.453 555.277,653.453 560.736,653.453 566.196,653.453 571.655,653.453 577.115,653.453 582.574,653.453 588.034,653.453 593.493,653.453 \n",
       "  598.953,653.453 604.413,653.453 609.872,653.453 615.332,653.453 620.791,653.453 626.251,653.453 631.71,653.453 637.17,653.453 642.629,653.453 648.089,653.453 \n",
       "  653.548,653.453 659.008,653.453 664.468,653.453 669.927,653.453 675.387,653.453 680.846,653.453 686.306,653.453 691.765,653.453 697.225,653.453 702.684,653.453 \n",
       "  708.144,653.453 713.603,653.453 719.063,653.453 724.523,653.453 729.982,653.453 735.442,653.453 740.901,653.453 746.361,653.453 751.82,653.453 757.28,653.453 \n",
       "  762.739,653.453 768.199,653.453 773.658,653.453 779.118,653.453 784.577,653.453 790.037,653.453 795.497,653.453 800.956,653.453 806.416,653.453 811.875,653.453 \n",
       "  817.335,653.453 822.794,653.453 828.254,653.453 833.713,653.453 839.173,653.453 844.632,653.453 850.092,653.453 855.552,653.453 861.011,653.453 866.471,653.453 \n",
       "  871.93,653.453 877.39,653.453 882.849,653.453 888.309,653.453 893.768,653.453 899.228,653.453 904.687,653.453 910.147,653.453 915.607,653.453 921.066,653.453 \n",
       "  926.526,653.453 931.985,653.453 937.445,653.453 942.904,653.453 948.364,653.453 953.823,653.453 959.283,653.453 964.742,653.453 970.202,653.453 975.661,653.453 \n",
       "  981.121,653.453 986.581,653.453 992.04,653.453 997.5,653.453 1002.96,653.453 1008.42,653.453 1013.88,653.453 1019.34,653.453 1024.8,653.453 1030.26,653.453 \n",
       "  1035.72,653.453 1041.18,653.453 1046.64,653.453 1052.1,653.453 1057.55,653.453 1063.01,653.453 1068.47,653.453 1073.93,653.453 1079.39,653.453 1084.85,653.453 \n",
       "  1090.31,653.453 1095.77,653.453 1101.23,653.453 1106.69,653.453 1112.15,653.453 1117.61,653.453 1123.07,653.453 1128.53,653.453 1133.99,653.453 1139.45,653.453 \n",
       "  1144.91,653.453 1150.37,653.453 1155.83,653.453 1161.29,653.453 1166.75,653.453 1172.21,653.453 1177.66,653.453 1183.12,653.453 1188.58,653.453 1194.04,653.453 \n",
       "  1199.5,653.453 1204.96,653.453 1210.42,653.453 1215.88,653.453 1221.34,653.453 1226.8,653.453 1232.26,653.453 1237.72,653.453 1243.18,653.453 1248.64,653.453 \n",
       "  1254.1,653.453 1259.56,653.453 1265.02,653.453 1270.48,653.453 1275.94,653.453 1281.4,653.453 1286.86,653.453 1292.31,653.453 1297.77,653.453 1303.23,653.453 \n",
       "  1308.69,653.453 1314.15,653.453 1319.61,653.453 1325.07,653.453 1330.53,653.453 1335.99,653.453 1341.45,653.453 1346.91,653.453 1352.37,653.453 1357.83,653.453 \n",
       "  1363.29,653.453 1368.75,653.453 1374.21,653.453 1379.67,653.453 1385.13,653.453 1390.59,653.453 1396.05,653.453 1401.51,653.453 1406.97,653.453 1412.42,653.453 \n",
       "  1417.88,653.453 1423.34,653.453 1428.8,653.453 1434.26,653.453 1439.72,653.453 1445.18,653.453 1450.64,653.453 1456.1,653.453 1461.56,653.453 1467.02,653.453 \n",
       "  1472.48,653.453 1477.94,653.453 1483.4,653.453 1488.86,653.453 1494.32,653.453 1499.78,653.453 1505.24,653.453 1510.7,653.453 1516.16,653.453 1521.62,653.453 \n",
       "  1527.08,653.453 1532.53,653.453 1537.99,653.453 1543.45,653.453 1548.91,653.453 1554.37,653.453 1559.83,653.453 1565.29,653.453 1570.75,653.453 1576.21,653.453 \n",
       "  1581.67,653.453 1587.13,653.453 1592.59,653.453 1598.05,653.453 1603.51,653.453 1608.97,653.453 1614.43,653.453 1619.89,653.453 1625.35,653.453 1630.81,653.453 \n",
       "  1636.27,653.453 1641.73,653.453 1647.19,653.453 1652.64,653.453 1658.1,653.453 1663.56,653.453 1669.02,653.453 1674.48,653.453 1679.94,653.453 1685.4,653.453 \n",
       "  1690.86,653.453 1696.32,653.453 1701.78,653.453 1707.24,653.453 1712.7,653.453 1718.16,653.453 1723.62,653.453 1729.08,653.453 1734.54,653.453 1740,653.453 \n",
       "  1745.46,653.453 1750.92,653.453 1756.38,653.453 1761.84,653.453 1767.3,653.453 1772.75,653.453 1778.21,653.453 1783.67,653.453 1789.13,653.453 1794.59,653.453 \n",
       "  1800.05,653.453 1805.51,653.453 1810.97,653.453 1816.43,653.452 1821.89,653.451 1827.35,653.448 1832.81,653.44 1838.27,653.423 1843.73,653.383 1849.19,653.291 \n",
       "  1854.65,653.081 1860.11,652.6 1865.57,651.502 1871.03,649.006 1876.49,643.344 1881.95,630.538 1887.41,601.653 1892.86,536.683 1898.32,390.942 1903.78,64.9007 \n",
       "  \n",
       "  \"/>\n",
       "<polyline clip-path=\"url(#clip3802)\" style=\"stroke:#8e971d; stroke-width:4; stroke-opacity:1; fill:none\" points=\"\n",
       "  271.38,653.453 276.84,653.453 282.3,653.453 287.759,653.453 293.219,653.453 298.678,653.453 304.138,653.453 309.597,653.453 315.057,653.453 320.516,653.453 \n",
       "  325.976,653.453 331.435,653.453 336.895,653.453 342.355,653.453 347.814,653.453 353.274,653.453 358.733,653.453 364.193,653.453 369.652,653.453 375.112,653.453 \n",
       "  380.571,653.453 386.031,653.453 391.49,653.453 396.95,653.453 402.409,653.453 407.869,653.453 413.329,653.453 418.788,653.453 424.248,653.453 429.707,653.453 \n",
       "  435.167,653.453 440.626,653.453 446.086,653.453 451.545,653.453 457.005,653.453 462.464,653.453 467.924,653.453 473.384,653.453 478.843,653.453 484.303,653.453 \n",
       "  489.762,653.453 495.222,653.453 500.681,653.453 506.141,653.453 511.6,653.453 517.06,653.453 522.519,653.453 527.979,653.453 533.439,653.453 538.898,653.453 \n",
       "  544.358,653.453 549.817,653.453 555.277,653.453 560.736,653.453 566.196,653.453 571.655,653.453 577.115,653.453 582.574,653.453 588.034,653.453 593.493,653.453 \n",
       "  598.953,653.453 604.413,653.453 609.872,653.453 615.332,653.453 620.791,653.453 626.251,653.453 631.71,653.453 637.17,653.453 642.629,653.453 648.089,653.453 \n",
       "  653.548,653.453 659.008,653.453 664.468,653.453 669.927,653.453 675.387,653.453 680.846,653.453 686.306,653.453 691.765,653.453 697.225,653.453 702.684,653.453 \n",
       "  708.144,653.453 713.603,653.453 719.063,653.453 724.523,653.453 729.982,653.453 735.442,653.453 740.901,653.453 746.361,653.453 751.82,653.453 757.28,653.453 \n",
       "  762.739,653.453 768.199,653.453 773.658,653.453 779.118,653.453 784.577,653.453 790.037,653.453 795.497,653.453 800.956,653.453 806.416,653.453 811.875,653.453 \n",
       "  817.335,653.453 822.794,653.453 828.254,653.453 833.713,653.453 839.173,653.453 844.632,653.453 850.092,653.453 855.552,653.453 861.011,653.453 866.471,653.453 \n",
       "  871.93,653.453 877.39,653.453 882.849,653.453 888.309,653.453 893.768,653.453 899.228,653.453 904.687,653.453 910.147,653.453 915.607,653.453 921.066,653.453 \n",
       "  926.526,653.453 931.985,653.453 937.445,653.453 942.904,653.453 948.364,653.453 953.823,653.453 959.283,653.453 964.742,653.453 970.202,653.453 975.661,653.453 \n",
       "  981.121,653.453 986.581,653.453 992.04,653.453 997.5,653.453 1002.96,653.453 1008.42,653.453 1013.88,653.453 1019.34,653.453 1024.8,653.453 1030.26,653.453 \n",
       "  1035.72,653.453 1041.18,653.453 1046.64,653.453 1052.1,653.453 1057.55,653.453 1063.01,653.453 1068.47,653.453 1073.93,653.453 1079.39,653.453 1084.85,653.453 \n",
       "  1090.31,653.453 1095.77,653.453 1101.23,653.453 1106.69,653.453 1112.15,653.453 1117.61,653.453 1123.07,653.453 1128.53,653.453 1133.99,653.453 1139.45,653.453 \n",
       "  1144.91,653.453 1150.37,653.453 1155.83,653.453 1161.29,653.453 1166.75,653.453 1172.21,653.453 1177.66,653.453 1183.12,653.453 1188.58,653.453 1194.04,653.453 \n",
       "  1199.5,653.453 1204.96,653.453 1210.42,653.453 1215.88,653.453 1221.34,653.453 1226.8,653.453 1232.26,653.453 1237.72,653.453 1243.18,653.453 1248.64,653.453 \n",
       "  1254.1,653.453 1259.56,653.453 1265.02,653.453 1270.48,653.453 1275.94,653.453 1281.4,653.453 1286.86,653.453 1292.31,653.453 1297.77,653.453 1303.23,653.453 \n",
       "  1308.69,653.453 1314.15,653.453 1319.61,653.453 1325.07,653.453 1330.53,653.453 1335.99,653.453 1341.45,653.453 1346.91,653.453 1352.37,653.453 1357.83,653.453 \n",
       "  1363.29,653.453 1368.75,653.453 1374.21,653.453 1379.67,653.453 1385.13,653.453 1390.59,653.453 1396.05,653.453 1401.51,653.453 1406.97,653.453 1412.42,653.453 \n",
       "  1417.88,653.453 1423.34,653.453 1428.8,653.453 1434.26,653.453 1439.72,653.453 1445.18,653.453 1450.64,653.453 1456.1,653.453 1461.56,653.453 1467.02,653.453 \n",
       "  1472.48,653.453 1477.94,653.453 1483.4,653.453 1488.86,653.453 1494.32,653.453 1499.78,653.453 1505.24,653.453 1510.7,653.453 1516.16,653.453 1521.62,653.453 \n",
       "  1527.08,653.453 1532.53,653.453 1537.99,653.453 1543.45,653.453 1548.91,653.453 1554.37,653.453 1559.83,653.453 1565.29,653.453 1570.75,653.453 1576.21,653.453 \n",
       "  1581.67,653.453 1587.13,653.453 1592.59,653.453 1598.05,653.453 1603.51,653.453 1608.97,653.453 1614.43,653.453 1619.89,653.453 1625.35,653.453 1630.81,653.453 \n",
       "  1636.27,653.453 1641.73,653.453 1647.19,653.453 1652.64,653.453 1658.1,653.453 1663.56,653.453 1669.02,653.453 1674.48,653.453 1679.94,653.453 1685.4,653.453 \n",
       "  1690.86,653.453 1696.32,653.453 1701.78,653.453 1707.24,653.453 1712.7,653.453 1718.16,653.453 1723.62,653.453 1729.08,653.453 1734.54,653.453 1740,653.453 \n",
       "  1745.46,653.453 1750.92,653.453 1756.38,653.453 1761.84,653.453 1767.3,653.453 1772.75,653.453 1778.21,653.453 1783.67,653.453 1789.13,653.453 1794.59,653.453 \n",
       "  1800.05,653.453 1805.51,653.453 1810.97,653.453 1816.43,653.453 1821.89,653.453 1827.35,653.452 1832.81,653.45 1838.27,653.445 1843.73,653.431 1849.19,653.395 \n",
       "  1854.65,653.305 1860.11,653.075 1865.57,652.495 1871.03,651.032 1876.49,647.358 1881.95,638.155 1887.41,615.176 1892.86,557.978 1898.32,416.042 1903.78,64.9007 \n",
       "  \n",
       "  \"/>\n",
       "</svg>\n"
      ]
     },
     "execution_count": 99,
     "metadata": {},
     "output_type": "execute_result"
    }
   ],
   "source": [
    "using Plots, LaTeXStrings\n",
    "gr(size=(500,200),legend=false)\n",
    "\n",
    "x=LinRange(0,1,300) # this behaves like a column vector in what follows\n",
    "\n",
    "plot(x,x.^(powers'));xlabel!(L\"x\");ylabel!(L\"x^k\")"
   ]
  },
  {
   "cell_type": "markdown",
   "metadata": {},
   "source": [
    "Note that `QuadGK` only integrates functions of one variable. \n",
    "\n",
    "___Exercise:___ Define a new function `intpoly2(k,y)` that integrates $x^k$ over the interval $(0,y)$. Evaluate this over both `k=1:10` and `y=1:5` simultaneously using a dot call. "
   ]
  },
  {
   "cell_type": "markdown",
   "metadata": {},
   "source": [
    "# Recap\n",
    "We have seen some new juila syntax\n",
    "- `function!(x,y)` is a convention that says \"function will write over x\"\n",
    "- `.` refers to local operations in arrays\n",
    "- `f.(x)` allows any function that works for scalars to work for arrays of compatible sizes\n",
    "- `x.*y` works if (a) `x` and `y` are the same dimension, or (b) their dimensions allow an outer product to a larger array (e.g. column x row vector).\n",
    "- Create arrays via `M = [a,b;c,d]` \n",
    "- Access elements using square brackets: `M[1,2]` will return `c`."
   ]
  },
  {
   "cell_type": "markdown",
   "metadata": {},
   "source": [
    "# Next time\n",
    "- Functions II\n",
    "- Loops\n",
    "- Flow control"
   ]
  }
 ],
 "metadata": {
  "kernelspec": {
   "display_name": "Julia 1.3.1",
   "language": "julia",
   "name": "julia-1.3"
  },
  "language_info": {
   "file_extension": ".jl",
   "mimetype": "application/julia",
   "name": "julia",
   "version": "1.3.1"
  }
 },
 "nbformat": 4,
 "nbformat_minor": 4
}
