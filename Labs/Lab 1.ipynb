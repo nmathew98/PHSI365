{
 "cells": [
  {
   "cell_type": "markdown",
   "metadata": {
    "toc-hr-collapsed": false
   },
   "source": [
    "$$\n",
    "\\def\\I{{\\rm i}}\n",
    "\\def\\qqqquad{\\qquad\\qquad}\n",
    "\\def\\qfor{\\qquad\\hbox{for}\\qquad}\n",
    "\\def\\qwhere{\\qquad\\hbox{where}\\qquad}\n",
    "\\def\\ale#1{\\begin{align}#1\\end{align}}\n",
    "\\def\\em{\\epsilon_m}\n",
    "\\def\\unit#1{{\\rm #1}}\n",
    "\\def\\com#1{\\color{blue}{\\textrm{#1}}} \n",
    "$$\n",
    "\n",
    "# Lab1: Intro to Julia\n",
    "\n",
    "In this lab you will gain familiarity with using Julia and the Jupyter notebook environment. \n",
    "\n",
    "This laboratory assignment is divided into two parts. \n",
    "\n",
    "**Time management is important in 365 labs. \n",
    "Have a solid attempt yourself. If you get stuck, be bold about requesting help. You should aim to move on to part 2 by ~ 2.30pm**."
   ]
  },
  {
   "cell_type": "markdown",
   "metadata": {},
   "source": [
    "## Instructions for submitting lab assignments\n",
    "- Submit your lab by ___copying___ this notebook with your answers into `dropbox` on `pleiades` (phsi365 Desktop link > dropbox ). \n",
    "\n",
    "- __Rename your notebook to__ `Lab1_userID.ipynb` before submitting it by dragging it onto the dropbox folder. For example, if your login name is `365joe`, make the notebook called `Lab1_joe.ipynb`. \n",
    "- You can confirm submission (and resubmit up to the deadline), by repeating the process. If you are asked whether to replace the file, this confirms it has been successfully submitted to the dropbox. __Please confirm your submission__.\n",
    "\n",
    "- __Due:__ 1pm Wednesday 4th March.\n",
    "\n",
    "$\\com{Grading comments will appear like this}$\n",
    "\n",
    "---"
   ]
  },
  {
   "cell_type": "markdown",
   "metadata": {
    "toc-hr-collapsed": false
   },
   "source": [
    "# Part 1: Julia and Jupyter notebooks\n",
    "\n",
    "In part 1 we want you to get a feel for how do do some basic calculations in julia. "
   ]
  },
  {
   "cell_type": "markdown",
   "metadata": {},
   "source": [
    "## Jupyter\n",
    "\n",
    "- Follow the steps in the notebook and answer the questions by adding new cells below. A simple way to label them is to put a comment in the cell, e.g. # a) . \n",
    "    - To execute the code in the current cell, hit two keys together: `shift+enter`. \n",
    "    - You can write comments (including latex) in markdown by first creating a cell, then typing the sequence `esc-m` to switch to \"markdown mode\" (or use the toolbar). \n",
    "    - To switch the cell back to code mode, type `esc-y`. \n",
    "    - Other useful commands are `esc-a` (make cell above), `esc-b` (below), and `esc-dd` (delete current cell).\n",
    "\n",
    "- To see all keyboard shortcuts, click on the palette button on the left border of the browser window (above the spanner). \n",
    "\n",
    "- Make sure you understand why `Julia` does what it does. \n",
    "\n",
    "Type the following commands (I will neglect the cell numbers) one-by-one into separate cells, and hit `shift+enter` to evaluate each cell. Check that you receive the same result:\n",
    "```julia\n",
    "In : 1\n",
    "Out: 1\n",
    "```\n",
    "```julia\n",
    "In : 1+1\n",
    "Out: 2\n",
    "```\n",
    "```julia\n",
    "In : 1+\n",
    "Out: syntax: incomplete: premature end of input\n",
    "```\n",
    "```julia\n",
    "In : ans\n",
    "Out: 2\n",
    "```\n",
    "```julia \n",
    "In : x=3\n",
    "Out: 3\n",
    "```\n",
    "Based on the first two inputs we may conclude that `Julia` can be used like any calculator. The second to last input shows that if no variable is assigned, it assigns the value of the calculation to `ans`. However, the third input produces an error message, telling us that our command was not a valid input that `Julia` could interpret. `Julia` tells us that the command ended prematurely, which is not suprising since addition is a binary operator and requires two arguments that are added together. \n",
    "\n",
    "As a matter of convenience, we can also see a summary of all defined variables, functions, and modules in the current julia session using the command `varinfo()`\n",
    "    \n",
    "Similarly to what we have just done above, type each command in a separate cell below. "
   ]
  },
  {
   "cell_type": "code",
   "execution_count": 11,
   "metadata": {},
   "outputs": [
    {
     "data": {
      "text/latex": [
       "\\begin{tabular}\n",
       "{l | r | l}\n",
       "name & size & summary \\\\\n",
       "\\hline\n",
       "Base &  & Module \\\\\n",
       "Core &  & Module \\\\\n",
       "Main &  & Module \\\\\n",
       "jlab & 0 bytes & typeof(jlab) \\\\\n",
       "x & 8 bytes & Int64 \\\\\n",
       "\\end{tabular}\n"
      ],
      "text/markdown": [
       "| name |    size | summary      |\n",
       "|:---- | -------:|:------------ |\n",
       "| Base |         | Module       |\n",
       "| Core |         | Module       |\n",
       "| Main |         | Module       |\n",
       "| jlab | 0 bytes | typeof(jlab) |\n",
       "| x    | 8 bytes | Int64        |\n"
      ],
      "text/plain": [
       "  name    size summary     \n",
       "  –––– ––––––– ––––––––––––\n",
       "  Base         Module      \n",
       "  Core         Module      \n",
       "  Main         Module      \n",
       "  jlab 0 bytes typeof(jlab)\n",
       "  x    8 bytes Int64       "
      ]
     },
     "execution_count": 11,
     "metadata": {},
     "output_type": "execute_result"
    }
   ],
   "source": [
    "varinfo()"
   ]
  },
  {
   "cell_type": "markdown",
   "metadata": {},
   "source": [
    "## Julia"
   ]
  },
  {
   "cell_type": "markdown",
   "metadata": {},
   "source": [
    "1) Give a short answer to each question by adding new cells below.\n",
    "\n",
    "```julia\n",
    "a) cos(1) # does Julia use radians or degrees for trig functions?\n",
    "b) ?cos # how many related functions does Julia suggest?\n",
    "c) [1 2 3 4] # is there any difference between [1 2 3 4] and [1,2,3,4]?\n",
    "d) a = 1 # Julia confirms this command by returning the result. How do you suppress the output? (only needed for the last command in a sequence).\n",
    "e) b = [10 11 23 44]; b[3] # how do you pull out the last element of a vector?\n",
    "f) 5:9 # what does the : (colon) operator do?\n",
    "g) M = randn(4,3) # how can you create a random matrix of size 6980x314?\n",
    "h) x=3; # can you write more than one command in a single line? If \"yes\", how?\n",
    "```"
   ]
  },
  {
   "cell_type": "markdown",
   "metadata": {},
   "source": [
    "2) Answer each question using text in a separate cell below each command.\n",
    "\n",
    "```julia\n",
    "a) v=1:4; u = collect(v) # how can we make a column vector [1 2 ... 1000000]^T ?\n",
    "b) w = transpose(v); w = v' # how can we transpose a matrix?\n",
    "c) x = rand(3,3)+im*rand(3,3); transpose(x); x' # what is the difference between transpose and '?\n",
    "d) M = rand(5,5); A=M[2:4,1:3] # what does this command do? \n",
    "e) b = collect(1:12); B=reshape(b,3,4) # what does the second argument of reshape stand for? If you are unsure, use ?\n",
    "```"
   ]
  },
  {
   "cell_type": "markdown",
   "metadata": {},
   "source": [
    "3) Choose \"Kernel\"; \"Restart Kernel and Clear All Outputs\" from the menu above. Enter each command below in a separate cell, evaluate it, and then answer the questions below\n",
    "```julia\n",
    "A = [1 1; -2 6]\n",
    "B = [3 -5;7 2]\n",
    "C = [1 2 3; 2 4 6; 10 11 12]\n",
    "1+A; 1.+A; 1 .+A\n",
    "one(A)+A\n",
    "A+B\n",
    "A-B\n",
    "A*B\n",
    "A.*B\n",
    "@. A*B\n",
    "A/B\n",
    "A./B\n",
    "A^2\n",
    "A.^2\n",
    "A.^B\n",
    "3 .^A; 3.0 .^A\n",
    "A+C\n",
    "```"
   ]
  },
  {
   "cell_type": "markdown",
   "metadata": {},
   "source": [
    "a) What does the second `2` in `2:2:6` mean?\n",
    "\n",
    "b) What is the difference between `*` and `.*`? How about `^` and `.^`?\n",
    "\n",
    "c) What does each element of `A.^B` give in `julia`?\n",
    "\n",
    "d) What is the result of `A+C`? Why?\n",
    "\n",
    "e) Find in the help system what the operator `/` does; give a short explanation.\n",
    "\n",
    "f) Could you exponentiate `A` to `B`, i.e. `A^B`, or just element-wise? If \"no\", then what if the error message? If \"yes\", what is the result?"
   ]
  },
  {
   "cell_type": "markdown",
   "metadata": {
    "toc-hr-collapsed": false
   },
   "source": [
    "# Part 2: Functions and vectorizing\n",
    "This second part of the lab contains 2 problems which you should solve and discuss in this `Jupyter` notebook. The aim of this part of the lab is understand the value of putting hard-working code inside functions and calling the function. You will also learn about broadcasting, and timing code."
   ]
  },
  {
   "cell_type": "markdown",
   "metadata": {},
   "source": [
    "We have seen in lectures that a function can be defined as simply as `f(x)=x^2`. For more complicated functions, the general way to define a function in `julia` is, e.g:\n",
    "\n",
    "```julia \n",
    "function f(x)\n",
    "    a = cos(x)\n",
    "    b = 3\n",
    "    return a,b\n",
    "end\n",
    "```\n",
    "and in this case, would be called for `x=3` with the command `a,b=f(3)`, assigning two numbers to variables `a`, `b` _outside the function_. Let's start working with julia functions."
   ]
  },
  {
   "cell_type": "markdown",
   "metadata": {},
   "source": [
    "## To vectorize or not to vectorize?\n",
    "\n",
    "A common strategy in technical computing is to ___vectorize___ your code. This refers to the process of expressing your problem in terms of vectors or matrices and (hopefully) sparse matrices acting on them. This allows high level languages like Matlab to call efficient compiled C-libraries for linear algebra. In many languages (Matlab for example) vectorizing is essential because `for` loops are slow. \n",
    "\n",
    "Let's find out how what julia has to say about this by investigating a simple example in detail. \n",
    "\n",
    "We will need to know how to time code in julia. You can use the macro `@time` to time any expression, e.g.\n",
    "\n",
    "```julia\n",
    "@time f(x)\n",
    "```\n",
    "\n",
    "will give the evaluation time for `f(x)` with that value of `x`. \n",
    "\n",
    "A longer expression can be timed by using a `begin-end` block:\n",
    "\n",
    "```julia\n",
    "@time begin\n",
    "...\n",
    "end\n",
    "```\n",
    "\n",
    "Let's say we want to calculate the sum of the reciprocals of the first ten thousand cubes, i.e. \n",
    "\n",
    "$$s = 1^{-3}+2^{-3}+3^{-3}+\\dots +10000^{-3},$$\n",
    "\n",
    "an approximation to $\\zeta(3)$, where the [Riemann-zeta function](https://en.wikipedia.org/wiki/Riemann_zeta_function)\n",
    "\n",
    "$$\\boxed{\\quad\\zeta(z)=\\sum_{k=1}^\\infty\\frac{1}{k^z}\\quad}$$\n",
    "\n",
    "is an important function in several branches of Physics. \n",
    "\n",
    "Determine $s$ using `julia` in three different ways.\n",
    "\n",
    "(a) Use a [for loop](https://docs.julialang.org/en/v1/manual/control-flow/#man-loops-1). You will need to initialize the sum outside the loop (`s=0.0`), and then to modify `s` inside the loop, use  `global s = ...`. This is a slight peculiarity of julia loops that it is good to be aware of. Notice also that the statement \n",
    "```julia\n",
    "s=0.0\n",
    "```\n",
    "given directly to julia defines a global variable: ___all variables outside function definitions are global___. This also means they can often lead to slower code (harder for the compiler to reason about). Hence an important lesson in julia is: if speed matters to you always use functions. This is also good practice because ___it makes your code more reusable.___\n",
    "\n",
    "Time this code. \n",
    "\n",
    "(b) Put your for loop inside a [function](https://docs.julialang.org/en/v1/manual/functions/#) `mysum1()`. Time this. __Note:__ the first time you call a function, the compiler does some extra work. So the true timing we are interested in is for any call _after_ the first one where it is defined (redefinitions count as definitions too!).\n",
    "\n",
    "(c) Use only a single-line __vectorised__ `julia` expression to calculate $s$ (no function wrapper). If you haven't done this before, the strategy is to define a vector `n=[1 2 3 ... 10000]` (you can do this with a range object `1:10000`, even though it looks a bit different to a vector, it still behaves like one in most circumstances). Then perform local (dot) operations to achieve the result. You should be able to get this down to one very short expression that easily fits on one line. Time it.\n",
    "\n",
    "(d) Wrap your single-line expression in a function `mysum2()` and time this. \n",
    "\n",
    "(e) Use the package [BenchmarkTools](https://github.com/JuliaCI/BenchmarkTools.jl), and the macro `@btime` to compare more accurate timings for (b),(c),(d) (`@btime` averages over multiple calls, so the garbage collection is triggered. This is a more honest realistic time). What can you conclude about the speed of vectorizing (writing in terms of array operations), as compared with writing a `for` loop? Would you recommend vectorizing code in julia? Why? "
   ]
  }
 ],
 "metadata": {
  "kernelspec": {
   "display_name": "Julia 1.3.1",
   "language": "julia",
   "name": "julia-1.3"
  },
  "language_info": {
   "file_extension": ".jl",
   "mimetype": "application/julia",
   "name": "julia",
   "version": "1.3.1"
  }
 },
 "nbformat": 4,
 "nbformat_minor": 4
}
