{
 "cells": [
  {
   "cell_type": "markdown",
   "metadata": {},
   "source": [
    "$$\n",
    "\\def\\I{{\\rm i}}\n",
    "\\def\\qqqquad{\\qquad\\qquad}\n",
    "\\def\\qfor{\\qquad\\hbox{for}\\qquad}\n",
    "\\def\\qwhere{\\qquad\\hbox{where}\\qquad}\n",
    "\\def\\ale#1{\\begin{align}#1\\end{align}}\n",
    "\\def\\em{\\epsilon_m}\n",
    "\\def\\unit#1{{\\rm #1}}\n",
    "\\def\\com#1{\\color{blue}{\\textrm{#1}}} \n",
    "$$\n",
    "# Lab3: Dynamical Systems\n",
    "\n",
    "- Two weeks. __Due:__ 1pm Wednesday 25th March.\n",
    "\n",
    "- Submit your lab by dropping this notebook with your answers into `dropbox` on `pleiades`. \n",
    "\n",
    "- __Rename your notebook to__ `Lab3_yourLoginName.ipynb` before submitting it by dragging it onto the dropbox folder. You can confirm submission (and resubmit up to the deadline), by repreating the process. If you are asked whether to replace the file, this confirms it has been successfully submitted to the dropbox. __Please confirm your submission__.\n",
    "\n",
    "$\\com{Please leave this command for marker's comments}$\n",
    "\n",
    "---"
   ]
  },
  {
   "cell_type": "code",
   "execution_count": 2,
   "metadata": {},
   "outputs": [
    {
     "name": "stdout",
     "output_type": "stream",
     "text": [
      "\u001b[32m\u001b[1m Resolving\u001b[22m\u001b[39m package versions...\n",
      "\u001b[32m\u001b[1m  Updating\u001b[22m\u001b[39m `~/.julia/environments/v1.3/Project.toml`\n",
      "\u001b[90m [no changes]\u001b[39m\n",
      "\u001b[32m\u001b[1m  Updating\u001b[22m\u001b[39m `~/.julia/environments/v1.3/Manifest.toml`\n",
      "\u001b[90m [no changes]\u001b[39m\n",
      "\u001b[32m\u001b[1m Resolving\u001b[22m\u001b[39m package versions...\n",
      "\u001b[32m\u001b[1m  Updating\u001b[22m\u001b[39m `~/.julia/environments/v1.3/Project.toml`\n",
      "\u001b[90m [no changes]\u001b[39m\n",
      "\u001b[32m\u001b[1m  Updating\u001b[22m\u001b[39m `~/.julia/environments/v1.3/Manifest.toml`\n",
      "\u001b[90m [no changes]\u001b[39m\n",
      "\u001b[32m\u001b[1m Resolving\u001b[22m\u001b[39m package versions...\n",
      "\u001b[32m\u001b[1m  Updating\u001b[22m\u001b[39m `~/.julia/environments/v1.3/Project.toml`\n",
      "\u001b[90m [no changes]\u001b[39m\n",
      "\u001b[32m\u001b[1m  Updating\u001b[22m\u001b[39m `~/.julia/environments/v1.3/Manifest.toml`\n",
      "\u001b[90m [no changes]\u001b[39m\n",
      "\u001b[32m\u001b[1m Resolving\u001b[22m\u001b[39m package versions...\n",
      "\u001b[32m\u001b[1m  Updating\u001b[22m\u001b[39m `~/.julia/environments/v1.3/Project.toml`\n",
      "\u001b[90m [no changes]\u001b[39m\n",
      "\u001b[32m\u001b[1m  Updating\u001b[22m\u001b[39m `~/.julia/environments/v1.3/Manifest.toml`\n",
      "\u001b[90m [no changes]\u001b[39m\n",
      "\u001b[32m\u001b[1m Resolving\u001b[22m\u001b[39m package versions...\n",
      "\u001b[32m\u001b[1m  Updating\u001b[22m\u001b[39m `~/.julia/environments/v1.3/Project.toml`\n",
      "\u001b[90m [no changes]\u001b[39m\n",
      "\u001b[32m\u001b[1m  Updating\u001b[22m\u001b[39m `~/.julia/environments/v1.3/Manifest.toml`\n",
      "\u001b[90m [no changes]\u001b[39m\n",
      "\u001b[32m\u001b[1m Resolving\u001b[22m\u001b[39m package versions...\n",
      "\u001b[32m\u001b[1m  Updating\u001b[22m\u001b[39m `~/.julia/environments/v1.3/Project.toml`\n",
      "\u001b[90m [no changes]\u001b[39m\n",
      "\u001b[32m\u001b[1m  Updating\u001b[22m\u001b[39m `~/.julia/environments/v1.3/Manifest.toml`\n",
      "\u001b[90m [no changes]\u001b[39m\n",
      "\u001b[32m\u001b[1m Resolving\u001b[22m\u001b[39m package versions...\n",
      "\u001b[32m\u001b[1m  Updating\u001b[22m\u001b[39m `~/.julia/environments/v1.3/Project.toml`\n",
      "\u001b[90m [no changes]\u001b[39m\n",
      "\u001b[32m\u001b[1m  Updating\u001b[22m\u001b[39m `~/.julia/environments/v1.3/Manifest.toml`\n",
      "\u001b[90m [no changes]\u001b[39m\n",
      "\u001b[32m\u001b[1m Resolving\u001b[22m\u001b[39m package versions...\n",
      "\u001b[32m\u001b[1m  Updating\u001b[22m\u001b[39m `~/.julia/environments/v1.3/Project.toml`\n",
      "\u001b[90m [no changes]\u001b[39m\n",
      "\u001b[32m\u001b[1m  Updating\u001b[22m\u001b[39m `~/.julia/environments/v1.3/Manifest.toml`\n",
      "\u001b[90m [no changes]\u001b[39m\n",
      "\u001b[32m\u001b[1m Resolving\u001b[22m\u001b[39m package versions...\n",
      "\u001b[32m\u001b[1m Installed\u001b[22m\u001b[39m SteadyStateDiffEq ────── v1.5.0\n",
      "\u001b[32m\u001b[1m Installed\u001b[22m\u001b[39m DimensionalPlotRecipes ─ v1.1.0\n",
      "\u001b[32m\u001b[1m Installed\u001b[22m\u001b[39m MultiScaleArrays ─────── v1.6.0\n",
      "\u001b[32m\u001b[1m Installed\u001b[22m\u001b[39m DiffEqPhysics ────────── v3.5.0\n",
      "\u001b[32m\u001b[1m Installed\u001b[22m\u001b[39m DiffEqCallbacks ──────── v2.12.1\n",
      "\u001b[32m\u001b[1m Installed\u001b[22m\u001b[39m DiffEqNoiseProcess ───── v3.9.0\n",
      "\u001b[32m\u001b[1m Installed\u001b[22m\u001b[39m DifferentialEquations ── v6.11.0\n",
      "\u001b[32m\u001b[1m Installed\u001b[22m\u001b[39m RandomNumbers ────────── v1.4.0\n",
      "\u001b[32m\u001b[1m Installed\u001b[22m\u001b[39m DiffEqFinancial ──────── v2.2.1\n",
      "\u001b[32m\u001b[1m Installed\u001b[22m\u001b[39m Distances ────────────── v0.8.2\n",
      "\u001b[32m\u001b[1m Installed\u001b[22m\u001b[39m DiffEqJump ───────────── v6.5.0\n",
      "\u001b[32m\u001b[1m Installed\u001b[22m\u001b[39m ResettableStacks ─────── v1.0.0\n",
      "\u001b[32m\u001b[1m Installed\u001b[22m\u001b[39m BoundaryValueDiffEq ──── v2.4.0\n",
      "\u001b[32m\u001b[1m Installed\u001b[22m\u001b[39m LineSearches ─────────── v7.0.1\n",
      "\u001b[32m\u001b[1m Installed\u001b[22m\u001b[39m BandedMatrices ───────── v0.14.3\n",
      "\u001b[32m\u001b[1m Installed\u001b[22m\u001b[39m FillArrays ───────────── v0.8.5\n",
      "\u001b[32m\u001b[1m Installed\u001b[22m\u001b[39m PoissonRandom ────────── v0.4.0\n",
      "\u001b[32m\u001b[1m Installed\u001b[22m\u001b[39m ArrayLayouts ─────────── v0.1.5\n",
      "\u001b[32m\u001b[1m Installed\u001b[22m\u001b[39m Sundials ─────────────── v3.8.3\n",
      "\u001b[32m\u001b[1m Installed\u001b[22m\u001b[39m NLSolversBase ────────── v7.6.1\n",
      "\u001b[32m\u001b[1m Installed\u001b[22m\u001b[39m NLsolve ──────────────── v4.3.0\n",
      "\u001b[32m\u001b[1m Installed\u001b[22m\u001b[39m DelayDiffEq ──────────── v5.23.0\n",
      "\u001b[32m\u001b[1m Installed\u001b[22m\u001b[39m StochasticDiffEq ─────── v6.19.1\n",
      "\u001b[32m\u001b[1m  Updating\u001b[22m\u001b[39m `~/.julia/environments/v1.3/Project.toml`\n",
      " \u001b[90m [0c46a032]\u001b[39m\u001b[92m + DifferentialEquations v6.11.0\u001b[39m\n",
      "\u001b[32m\u001b[1m  Updating\u001b[22m\u001b[39m `~/.julia/environments/v1.3/Manifest.toml`\n",
      " \u001b[90m [4c555306]\u001b[39m\u001b[92m + ArrayLayouts v0.1.5\u001b[39m\n",
      " \u001b[90m [aae01518]\u001b[39m\u001b[92m + BandedMatrices v0.14.3\u001b[39m\n",
      " \u001b[90m [764a87c0]\u001b[39m\u001b[92m + BoundaryValueDiffEq v2.4.0\u001b[39m\n",
      " \u001b[90m [bcd4f6db]\u001b[39m\u001b[92m + DelayDiffEq v5.23.0\u001b[39m\n",
      " \u001b[90m [459566f4]\u001b[39m\u001b[92m + DiffEqCallbacks v2.12.1\u001b[39m\n",
      " \u001b[90m [5a0ffddc]\u001b[39m\u001b[92m + DiffEqFinancial v2.2.1\u001b[39m\n",
      " \u001b[90m [c894b116]\u001b[39m\u001b[92m + DiffEqJump v6.5.0\u001b[39m\n",
      " \u001b[90m [77a26b50]\u001b[39m\u001b[92m + DiffEqNoiseProcess v3.9.0\u001b[39m\n",
      " \u001b[90m [055956cb]\u001b[39m\u001b[92m + DiffEqPhysics v3.5.0\u001b[39m\n",
      " \u001b[90m [0c46a032]\u001b[39m\u001b[92m + DifferentialEquations v6.11.0\u001b[39m\n",
      " \u001b[90m [c619ae07]\u001b[39m\u001b[92m + DimensionalPlotRecipes v1.1.0\u001b[39m\n",
      " \u001b[90m [b4f34e82]\u001b[39m\u001b[92m + Distances v0.8.2\u001b[39m\n",
      " \u001b[90m [1a297f60]\u001b[39m\u001b[92m + FillArrays v0.8.5\u001b[39m\n",
      " \u001b[90m [d3d80556]\u001b[39m\u001b[92m + LineSearches v7.0.1\u001b[39m\n",
      " \u001b[90m [f9640e96]\u001b[39m\u001b[92m + MultiScaleArrays v1.6.0\u001b[39m\n",
      " \u001b[90m [d41bc354]\u001b[39m\u001b[92m + NLSolversBase v7.6.1\u001b[39m\n",
      " \u001b[90m [2774e3e8]\u001b[39m\u001b[92m + NLsolve v4.3.0\u001b[39m\n",
      " \u001b[90m [e409e4f3]\u001b[39m\u001b[92m + PoissonRandom v0.4.0\u001b[39m\n",
      " \u001b[90m [e6cf234a]\u001b[39m\u001b[92m + RandomNumbers v1.4.0\u001b[39m\n",
      " \u001b[90m [ae5879a3]\u001b[39m\u001b[92m + ResettableStacks v1.0.0\u001b[39m\n",
      " \u001b[90m [9672c7b4]\u001b[39m\u001b[92m + SteadyStateDiffEq v1.5.0\u001b[39m\n",
      " \u001b[90m [789caeaf]\u001b[39m\u001b[92m + StochasticDiffEq v6.19.1\u001b[39m\n",
      " \u001b[90m [c3572dad]\u001b[39m\u001b[92m + Sundials v3.8.3\u001b[39m\n",
      "\u001b[32m\u001b[1m  Building\u001b[22m\u001b[39m Sundials → `~/.julia/packages/Sundials/SKP8f/deps/build.log`\n"
     ]
    },
    {
     "name": "stderr",
     "output_type": "stream",
     "text": [
      "┌ Info: Precompiling DifferentialEquations [0c46a032-eb83-5123-abaf-570d42b7fbaa]\n",
      "└ @ Base loading.jl:1273\n"
     ]
    }
   ],
   "source": [
    "# Imports\n",
    "import Pkg;\n",
    "Pkg.add(\"Plots\");\n",
    "Pkg.add(\"Measurements\");\n",
    "Pkg.add(\"Roots\");\n",
    "Pkg.add(\"Unitful\");\n",
    "Pkg.add(\"QuadGK\");\n",
    "Pkg.add(\"PhysicalConstants\");\n",
    "Pkg.add(\"ForwardDiff\");\n",
    "Pkg.add(\"LaTeXStrings\");\n",
    "Pkg.add(\"DifferentialEquations\");\n",
    "\n",
    "using Measurements;\n",
    "using Plots;\n",
    "using Roots;\n",
    "using Unitful;\n",
    "using QuadGK;\n",
    "using PhysicalConstants.CODATA2018;\n",
    "using ForwardDiff;\n",
    "using LaTeXStrings;\n",
    "using DifferentialEquations;"
   ]
  },
  {
   "cell_type": "markdown",
   "metadata": {},
   "source": [
    "# A. Steady States\n",
    "1. \n",
    "2. \n",
    "3. \n",
    "\n",
    "# Stability"
   ]
  },
  {
   "cell_type": "code",
   "execution_count": null,
   "metadata": {},
   "outputs": [],
   "source": [
    "# Code for A.1\n",
    "function laserModel!(du, u, p, t)\n",
    "    # Constants\n",
    "    γ = 0;\n",
    "    κ = 0;\n",
    "    λ = 0;\n",
    "    p_c = 0;\n",
    "    \n",
    "    du[1] = γ*n*N - κ*n\n",
    "    du[2] = -γ*n*N - λ*N + p_c \n",
    "end\n",
    "\n"
   ]
  },
  {
   "cell_type": "markdown",
   "metadata": {},
   "source": [
    "# B. Below threshold (Region I)"
   ]
  },
  {
   "cell_type": "markdown",
   "metadata": {},
   "source": [
    "# C. Above threshold (Region II)"
   ]
  }
 ],
 "metadata": {
  "kernelspec": {
   "display_name": "Julia 1.3.1",
   "language": "julia",
   "name": "julia-1.3"
  },
  "language_info": {
   "file_extension": ".jl",
   "mimetype": "application/julia",
   "name": "julia",
   "version": "1.3.1"
  }
 },
 "nbformat": 4,
 "nbformat_minor": 4
}
