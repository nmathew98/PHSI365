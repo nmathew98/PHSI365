{
 "cells": [
  {
   "cell_type": "markdown",
   "metadata": {},
   "source": [
    "$$\n",
    "\\def\\I{{\\rm i}}\n",
    "\\def\\qqqquad{\\qquad\\qquad}\n",
    "\\def\\qfor{\\qquad\\hbox{for}\\qquad}\n",
    "\\def\\qwhere{\\qquad\\hbox{where}\\qquad}\n",
    "\\def\\ale#1{\\begin{align}#1\\end{align}}\n",
    "\\def\\em{\\epsilon_m}\n",
    "\\def\\unit#1{{\\rm #1}}\n",
    "\\def\\com#1{\\color{blue}{\\textrm{#1}}} \n",
    "$$\n",
    "# Lab3: Dynamical Systems\n",
    "\n",
    "- Two weeks. __Due:__ 1pm Wednesday 25th March.\n",
    "\n",
    "- Submit your lab by dropping this notebook with your answers into `dropbox` on `pleiades`. \n",
    "\n",
    "- __Rename your notebook to__ `Lab3_yourLoginName.ipynb` before submitting it by dragging it onto the dropbox folder. You can confirm submission (and resubmit up to the deadline), by repreating the process. If you are asked whether to replace the file, this confirms it has been successfully submitted to the dropbox. __Please confirm your submission__.\n",
    "\n",
    "$\\com{Please leave this command for marker's comments}$\n",
    "\n",
    "---"
   ]
  },
  {
   "cell_type": "code",
   "execution_count": 3,
   "metadata": {},
   "outputs": [
    {
     "name": "stdout",
     "output_type": "stream",
     "text": [
      "\u001b[32m\u001b[1m  Updating\u001b[22m\u001b[39m registry at `~/.julia/registries/General`\n",
      "\u001b[32m\u001b[1m  Updating\u001b[22m\u001b[39m git-repo `https://github.com/JuliaRegistries/General.git`\n",
      "\u001b[2K\u001b[?25h[1mFetching:\u001b[22m\u001b[39m [========================================>]  100.0 %.0 %.1 %\u001b[36m\u001b[1mFetching:\u001b[22m\u001b[39m [========>                                ]  18.2 %                         ]  37.2 %=======================>                 ]  56.4 %]  75.4 %\u001b[36m\u001b[1mFetching:\u001b[22m\u001b[39m [=================================>       ]  82.3 %\u001b[32m\u001b[1m Resolving\u001b[22m\u001b[39m package versions...\n",
      "\u001b[32m\u001b[1m Installed\u001b[22m\u001b[39m ProgressMeter ────────── v1.2.0\n",
      "\u001b[32m\u001b[1m Installed\u001b[22m\u001b[39m ConsoleProgressMonitor ─ v0.1.2\n",
      "\u001b[32m\u001b[1m Installed\u001b[22m\u001b[39m ProgressLogging ──────── v0.1.1\n",
      "\u001b[32m\u001b[1m Installed\u001b[22m\u001b[39m TerminalLoggers ──────── v0.1.1\n",
      "\u001b[32m\u001b[1m Installed\u001b[22m\u001b[39m PlotUtils ────────────── v0.6.4\n",
      "\u001b[32m\u001b[1m Installed\u001b[22m\u001b[39m FileIO ───────────────── v1.2.3\n",
      "\u001b[32m\u001b[1m Installed\u001b[22m\u001b[39m LoggingExtras ────────── v0.4.0\n",
      "\u001b[32m\u001b[1m Installed\u001b[22m\u001b[39m DiffEqBase ───────────── v6.20.0\n",
      "\u001b[32m\u001b[1m  Updating\u001b[22m\u001b[39m `~/.julia/environments/v1.3/Project.toml`\n",
      "\u001b[90m [no changes]\u001b[39m\n",
      "\u001b[32m\u001b[1m  Updating\u001b[22m\u001b[39m `~/.julia/environments/v1.3/Manifest.toml`\n",
      " \u001b[90m [88cd18e8]\u001b[39m\u001b[92m + ConsoleProgressMonitor v0.1.2\u001b[39m\n",
      " \u001b[90m [2b5f629d]\u001b[39m\u001b[93m ↑ DiffEqBase v6.19.0 ⇒ v6.20.0\u001b[39m\n",
      " \u001b[90m [5789e2e9]\u001b[39m\u001b[93m ↑ FileIO v1.2.2 ⇒ v1.2.3\u001b[39m\n",
      " \u001b[90m [e6f89c97]\u001b[39m\u001b[92m + LoggingExtras v0.4.0\u001b[39m\n",
      " \u001b[90m [995b91a9]\u001b[39m\u001b[93m ↑ PlotUtils v0.6.3 ⇒ v0.6.4\u001b[39m\n",
      " \u001b[90m [33c8b6b6]\u001b[39m\u001b[92m + ProgressLogging v0.1.1\u001b[39m\n",
      " \u001b[90m [92933f4c]\u001b[39m\u001b[92m + ProgressMeter v1.2.0\u001b[39m\n",
      " \u001b[90m [5d786b92]\u001b[39m\u001b[92m + TerminalLoggers v0.1.1\u001b[39m\n",
      "\u001b[32m\u001b[1m Resolving\u001b[22m\u001b[39m package versions...\n",
      "\u001b[32m\u001b[1m  Updating\u001b[22m\u001b[39m `~/.julia/environments/v1.3/Project.toml`\n",
      "\u001b[90m [no changes]\u001b[39m\n",
      "\u001b[32m\u001b[1m  Updating\u001b[22m\u001b[39m `~/.julia/environments/v1.3/Manifest.toml`\n",
      "\u001b[90m [no changes]\u001b[39m\n",
      "\u001b[32m\u001b[1m Resolving\u001b[22m\u001b[39m package versions...\n",
      "\u001b[32m\u001b[1m  Updating\u001b[22m\u001b[39m `~/.julia/environments/v1.3/Project.toml`\n",
      "\u001b[90m [no changes]\u001b[39m\n",
      "\u001b[32m\u001b[1m  Updating\u001b[22m\u001b[39m `~/.julia/environments/v1.3/Manifest.toml`\n",
      "\u001b[90m [no changes]\u001b[39m\n",
      "\u001b[32m\u001b[1m Resolving\u001b[22m\u001b[39m package versions...\n",
      "\u001b[32m\u001b[1m  Updating\u001b[22m\u001b[39m `~/.julia/environments/v1.3/Project.toml`\n",
      "\u001b[90m [no changes]\u001b[39m\n",
      "\u001b[32m\u001b[1m  Updating\u001b[22m\u001b[39m `~/.julia/environments/v1.3/Manifest.toml`\n",
      "\u001b[90m [no changes]\u001b[39m\n",
      "\u001b[32m\u001b[1m Resolving\u001b[22m\u001b[39m package versions...\n",
      "\u001b[32m\u001b[1m  Updating\u001b[22m\u001b[39m `~/.julia/environments/v1.3/Project.toml`\n",
      "\u001b[90m [no changes]\u001b[39m\n",
      "\u001b[32m\u001b[1m  Updating\u001b[22m\u001b[39m `~/.julia/environments/v1.3/Manifest.toml`\n",
      "\u001b[90m [no changes]\u001b[39m\n",
      "\u001b[32m\u001b[1m Resolving\u001b[22m\u001b[39m package versions...\n",
      "\u001b[32m\u001b[1m  Updating\u001b[22m\u001b[39m `~/.julia/environments/v1.3/Project.toml`\n",
      "\u001b[90m [no changes]\u001b[39m\n",
      "\u001b[32m\u001b[1m  Updating\u001b[22m\u001b[39m `~/.julia/environments/v1.3/Manifest.toml`\n",
      "\u001b[90m [no changes]\u001b[39m\n",
      "\u001b[32m\u001b[1m Resolving\u001b[22m\u001b[39m package versions...\n",
      "\u001b[32m\u001b[1m  Updating\u001b[22m\u001b[39m `~/.julia/environments/v1.3/Project.toml`\n",
      "\u001b[90m [no changes]\u001b[39m\n",
      "\u001b[32m\u001b[1m  Updating\u001b[22m\u001b[39m `~/.julia/environments/v1.3/Manifest.toml`\n",
      "\u001b[90m [no changes]\u001b[39m\n",
      "\u001b[32m\u001b[1m Resolving\u001b[22m\u001b[39m package versions...\n",
      "\u001b[32m\u001b[1m  Updating\u001b[22m\u001b[39m `~/.julia/environments/v1.3/Project.toml`\n",
      "\u001b[90m [no changes]\u001b[39m\n",
      "\u001b[32m\u001b[1m  Updating\u001b[22m\u001b[39m `~/.julia/environments/v1.3/Manifest.toml`\n",
      "\u001b[90m [no changes]\u001b[39m\n",
      "\u001b[32m\u001b[1m Resolving\u001b[22m\u001b[39m package versions...\n",
      "\u001b[32m\u001b[1m  Updating\u001b[22m\u001b[39m `~/.julia/environments/v1.3/Project.toml`\n",
      "\u001b[90m [no changes]\u001b[39m\n",
      "\u001b[32m\u001b[1m  Updating\u001b[22m\u001b[39m `~/.julia/environments/v1.3/Manifest.toml`\n",
      "\u001b[90m [no changes]\u001b[39m\n"
     ]
    },
    {
     "name": "stderr",
     "output_type": "stream",
     "text": [
      "┌ Info: Precompiling Plots [91a5bcdd-55d7-5caf-9e0b-520d859cae80]\n",
      "└ @ Base loading.jl:1273\n",
      "┌ Info: Precompiling DifferentialEquations [0c46a032-eb83-5123-abaf-570d42b7fbaa]\n",
      "└ @ Base loading.jl:1273\n"
     ]
    }
   ],
   "source": [
    "# Imports\n",
    "import Pkg;\n",
    "Pkg.add(\"Plots\");\n",
    "Pkg.add(\"Measurements\");\n",
    "Pkg.add(\"Roots\");\n",
    "Pkg.add(\"Unitful\");\n",
    "Pkg.add(\"QuadGK\");\n",
    "Pkg.add(\"PhysicalConstants\");\n",
    "Pkg.add(\"ForwardDiff\");\n",
    "Pkg.add(\"LaTeXStrings\");\n",
    "Pkg.add(\"DifferentialEquations\");\n",
    "\n",
    "using Measurements;\n",
    "using Plots;\n",
    "using Roots;\n",
    "using Unitful;\n",
    "using QuadGK;\n",
    "using PhysicalConstants.CODATA2018;\n",
    "using ForwardDiff;\n",
    "using LaTeXStrings;\n",
    "using DifferentialEquations;"
   ]
  },
  {
   "cell_type": "markdown",
   "metadata": {},
   "source": [
    "Our laser model consists of the pair of coupled ordinary differential equations\n",
    "\n",
    "<div class=\"alert alert-block alert-warning\">\n",
    "<font color=blue>\n",
    "$$\\ale{\n",
    "\\frac{dn}{dt}&=\\gamma nN-\\kappa n\\tag{Photons}\\\\\n",
    "\\frac{dN}{dt}&=-\\gamma nN -\\lambda N + p\\tag{Excited atoms}\n",
    "}$$\n",
    "</font>\n",
    "</div>\n",
    "\n",
    "where \n",
    "\n",
    "- $N(t)$ is the number of atoms in the excited state.\n",
    "- $n(t)$ is the number of photons in the laser cavity mode.\n",
    "- $\\gamma$ is the gain rate for **stimulated emission** into the cavity. This is the coherent process that creates laser light.\n",
    "- $\\kappa$ is the decay rate due to loss of photons through the mirror, scattering, etc.\n",
    "- $\\lambda$ is the decay rate due to atoms **spontaneously emitting** a photon.\n",
    "- $p$ is the pump rate constant. "
   ]
  },
  {
   "cell_type": "markdown",
   "metadata": {},
   "source": [
    "# A. Steady states\n",
    "1.   \n",
    "   Solving the pair of coupled ordinary differential equations for our laser model, we get the following solutions: when $n = 0$, $N = \\frac{p}{\\lambda}$ and when $n = \\frac{p}{\\kappa} - \\frac{\\lambda}{\\gamma}$, $N = \\frac{\\kappa}{\\gamma}$\n",
    "   \n",
    "   The laser starts lasing when $n \\geq 0$, hence, the lasing threshold, $p_c$, is:\n",
    "   \n",
    "   $\n",
    "   \\begin{align}\n",
    "   n &= 0\\\\\n",
    "   \\frac{p_c}{\\kappa} &= \\frac{\\lambda}{\\gamma}\\\\\n",
    "   p_c &= \\frac{\\lambda}{\\gamma} \\kappa\\\\\n",
    "   \\end{align}$\n",
    "   \n",
    "   The steady state solutions above the lasing threshold in terms of $p_c$ is: when $n = \\frac{p - p_c}{\\kappa}$, $N = \\frac{\\kappa}{\\gamma}$."
   ]
  },
  {
   "cell_type": "code",
   "execution_count": null,
   "metadata": {},
   "outputs": [],
   "source": []
  },
  {
   "cell_type": "markdown",
   "metadata": {},
   "source": [
    "2."
   ]
  },
  {
   "cell_type": "code",
   "execution_count": null,
   "metadata": {},
   "outputs": [],
   "source": []
  },
  {
   "cell_type": "markdown",
   "metadata": {},
   "source": [
    "3."
   ]
  },
  {
   "cell_type": "code",
   "execution_count": null,
   "metadata": {},
   "outputs": [],
   "source": []
  }
 ],
 "metadata": {
  "kernelspec": {
   "display_name": "Julia 1.3.1",
   "language": "julia",
   "name": "julia-1.3"
  },
  "language_info": {
   "file_extension": ".jl",
   "mimetype": "application/julia",
   "name": "julia",
   "version": "1.3.1"
  }
 },
 "nbformat": 4,
 "nbformat_minor": 4
}
