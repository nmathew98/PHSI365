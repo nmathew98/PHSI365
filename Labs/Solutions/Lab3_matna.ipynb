{
 "cells": [
  {
   "cell_type": "markdown",
   "metadata": {},
   "source": [
    "$$\n",
    "\\def\\I{{\\rm i}}\n",
    "\\def\\qqqquad{\\qquad\\qquad}\n",
    "\\def\\qfor{\\qquad\\hbox{for}\\qquad}\n",
    "\\def\\qwhere{\\qquad\\hbox{where}\\qquad}\n",
    "\\def\\ale#1{\\begin{align}#1\\end{align}}\n",
    "\\def\\em{\\epsilon_m}\n",
    "\\def\\unit#1{{\\rm #1}}\n",
    "\\def\\com#1{\\color{blue}{\\textrm{#1}}} \n",
    "$$\n",
    "# Lab3: Dynamical Systems\n",
    "\n",
    "- Two weeks. __Due:__ 1pm Wednesday 25th March.\n",
    "\n",
    "- Submit your lab by dropping this notebook with your answers into `dropbox` on `pleiades`. \n",
    "\n",
    "- __Rename your notebook to__ `Lab3_yourLoginName.ipynb` before submitting it by dragging it onto the dropbox folder. You can confirm submission (and resubmit up to the deadline), by repreating the process. If you are asked whether to replace the file, this confirms it has been successfully submitted to the dropbox. __Please confirm your submission__.\n",
    "\n",
    "$\\com{Please leave this command for marker's comments}$\n",
    "\n",
    "---"
   ]
  },
  {
   "cell_type": "code",
   "execution_count": 6,
   "metadata": {},
   "outputs": [
    {
     "name": "stdout",
     "output_type": "stream",
     "text": [
      "\u001b[32m\u001b[1m  Updating\u001b[22m\u001b[39m registry at `~/.julia/registries/General`\n",
      "\u001b[32m\u001b[1m  Updating\u001b[22m\u001b[39m git-repo `https://github.com/JuliaRegistries/General.git`\n",
      "\u001b[2K\u001b[?25h[1mFetching:\u001b[22m\u001b[39m [========================================>]  100.0 %.0 %\u001b[36m\u001b[1mFetching:\u001b[22m\u001b[39m [=====>                                   ]  10.1 %13.8 %>                            ]  27.7 %\u001b[36m\u001b[1mFetching:\u001b[22m\u001b[39m [===============>                         ]  37.4 %>                   ]  51.2 %===========================>             ]  65.1 %.9 %     ]  85.8 %\u001b[32m\u001b[1m Resolving\u001b[22m\u001b[39m package versions...\n",
      "\u001b[32m\u001b[1m Installed\u001b[22m\u001b[39m PDMats ─────────────────────── v0.9.12\n",
      "\u001b[32m\u001b[1m Installed\u001b[22m\u001b[39m CompilerSupportLibraries_jll ─ v0.3.0+0\n",
      "\u001b[32m\u001b[1m Installed\u001b[22m\u001b[39m ArrayInterface ─────────────── v2.6.0\n",
      "\u001b[32m\u001b[1m Installed\u001b[22m\u001b[39m ProgressLogging ────────────── v0.1.2\n",
      "\u001b[32m\u001b[1m Installed\u001b[22m\u001b[39m HTTP ───────────────────────── v0.8.13\n",
      "\u001b[32m\u001b[1m Installed\u001b[22m\u001b[39m DiffEqBase ─────────────────── v6.25.0\n",
      "\u001b[32m\u001b[1m Installed\u001b[22m\u001b[39m IterativeSolvers ───────────── v0.8.3\n",
      "\u001b[32m\u001b[1m Installed\u001b[22m\u001b[39m Sundials ───────────────────── v3.9.0\n",
      "\u001b[32m\u001b[1m Installed\u001b[22m\u001b[39m UnPack ─────────────────────── v0.1.0\n",
      "\u001b[32m\u001b[1m Installed\u001b[22m\u001b[39m OpenBLAS_jll ───────────────── v0.3.7+8\n",
      "\u001b[32m\u001b[1m Installed\u001b[22m\u001b[39m FiniteDiff ─────────────────── v2.3.0\n",
      "\u001b[32m\u001b[1m Installed\u001b[22m\u001b[39m OrdinaryDiffEq ─────────────── v5.31.0\n",
      "\u001b[32m\u001b[1m  Updating\u001b[22m\u001b[39m `~/.julia/environments/v1.3/Project.toml`\n",
      "\u001b[90m [no changes]\u001b[39m\n",
      "\u001b[32m\u001b[1m  Updating\u001b[22m\u001b[39m `~/.julia/environments/v1.3/Manifest.toml`\n",
      " \u001b[90m [4fba245c]\u001b[39m\u001b[93m ↑ ArrayInterface v2.5.1 ⇒ v2.6.0\u001b[39m\n",
      " \u001b[90m [e66e0078]\u001b[39m\u001b[93m ↑ CompilerSupportLibraries_jll v0.2.0+1 ⇒ v0.3.0+0\u001b[39m\n",
      " \u001b[90m [2b5f629d]\u001b[39m\u001b[93m ↑ DiffEqBase v6.20.0 ⇒ v6.25.0\u001b[39m\n",
      " \u001b[90m [6a86dc24]\u001b[39m\u001b[93m ↑ FiniteDiff v2.2.1 ⇒ v2.3.0\u001b[39m\n",
      " \u001b[90m [cd3eb016]\u001b[39m\u001b[93m ↑ HTTP v0.8.12 ⇒ v0.8.13\u001b[39m\n",
      " \u001b[90m [42fd0dbc]\u001b[39m\u001b[93m ↑ IterativeSolvers v0.8.1 ⇒ v0.8.3\u001b[39m\n",
      " \u001b[90m [4536629a]\u001b[39m\u001b[93m ↑ OpenBLAS_jll v0.3.7+7 ⇒ v0.3.7+8\u001b[39m\n",
      " \u001b[90m [1dea7af3]\u001b[39m\u001b[93m ↑ OrdinaryDiffEq v5.29.0 ⇒ v5.31.0\u001b[39m\n",
      " \u001b[90m [90014a1f]\u001b[39m\u001b[93m ↑ PDMats v0.9.11 ⇒ v0.9.12\u001b[39m\n",
      " \u001b[90m [33c8b6b6]\u001b[39m\u001b[93m ↑ ProgressLogging v0.1.1 ⇒ v0.1.2\u001b[39m\n",
      " \u001b[90m [c3572dad]\u001b[39m\u001b[93m ↑ Sundials v3.8.3 ⇒ v3.9.0\u001b[39m\n",
      " \u001b[90m [3a884ed6]\u001b[39m\u001b[92m + UnPack v0.1.0\u001b[39m\n",
      "\u001b[32m\u001b[1m  Building\u001b[22m\u001b[39m Sundials → `~/.julia/packages/Sundials/S5Ws7/deps/build.log`\n",
      "\u001b[32m\u001b[1m Resolving\u001b[22m\u001b[39m package versions...\n",
      "\u001b[32m\u001b[1m  Updating\u001b[22m\u001b[39m `~/.julia/environments/v1.3/Project.toml`\n",
      "\u001b[90m [no changes]\u001b[39m\n",
      "\u001b[32m\u001b[1m  Updating\u001b[22m\u001b[39m `~/.julia/environments/v1.3/Manifest.toml`\n",
      "\u001b[90m [no changes]\u001b[39m\n",
      "\u001b[32m\u001b[1m Resolving\u001b[22m\u001b[39m package versions...\n",
      "\u001b[32m\u001b[1m  Updating\u001b[22m\u001b[39m `~/.julia/environments/v1.3/Project.toml`\n",
      "\u001b[90m [no changes]\u001b[39m\n",
      "\u001b[32m\u001b[1m  Updating\u001b[22m\u001b[39m `~/.julia/environments/v1.3/Manifest.toml`\n",
      "\u001b[90m [no changes]\u001b[39m\n",
      "\u001b[32m\u001b[1m Resolving\u001b[22m\u001b[39m package versions...\n",
      "\u001b[32m\u001b[1m  Updating\u001b[22m\u001b[39m `~/.julia/environments/v1.3/Project.toml`\n",
      "\u001b[90m [no changes]\u001b[39m\n",
      "\u001b[32m\u001b[1m  Updating\u001b[22m\u001b[39m `~/.julia/environments/v1.3/Manifest.toml`\n",
      "\u001b[90m [no changes]\u001b[39m\n",
      "\u001b[32m\u001b[1m Resolving\u001b[22m\u001b[39m package versions...\n",
      "\u001b[32m\u001b[1m  Updating\u001b[22m\u001b[39m `~/.julia/environments/v1.3/Project.toml`\n",
      "\u001b[90m [no changes]\u001b[39m\n",
      "\u001b[32m\u001b[1m  Updating\u001b[22m\u001b[39m `~/.julia/environments/v1.3/Manifest.toml`\n",
      "\u001b[90m [no changes]\u001b[39m\n",
      "\u001b[32m\u001b[1m Resolving\u001b[22m\u001b[39m package versions...\n",
      "\u001b[32m\u001b[1m  Updating\u001b[22m\u001b[39m `~/.julia/environments/v1.3/Project.toml`\n",
      "\u001b[90m [no changes]\u001b[39m\n",
      "\u001b[32m\u001b[1m  Updating\u001b[22m\u001b[39m `~/.julia/environments/v1.3/Manifest.toml`\n",
      "\u001b[90m [no changes]\u001b[39m\n",
      "\u001b[32m\u001b[1m Resolving\u001b[22m\u001b[39m package versions...\n",
      "\u001b[32m\u001b[1m  Updating\u001b[22m\u001b[39m `~/.julia/environments/v1.3/Project.toml`\n",
      "\u001b[90m [no changes]\u001b[39m\n",
      "\u001b[32m\u001b[1m  Updating\u001b[22m\u001b[39m `~/.julia/environments/v1.3/Manifest.toml`\n",
      "\u001b[90m [no changes]\u001b[39m\n",
      "\u001b[32m\u001b[1m Resolving\u001b[22m\u001b[39m package versions...\n",
      "\u001b[32m\u001b[1m  Updating\u001b[22m\u001b[39m `~/.julia/environments/v1.3/Project.toml`\n",
      "\u001b[90m [no changes]\u001b[39m\n",
      "\u001b[32m\u001b[1m  Updating\u001b[22m\u001b[39m `~/.julia/environments/v1.3/Manifest.toml`\n",
      "\u001b[90m [no changes]\u001b[39m\n",
      "\u001b[32m\u001b[1m Resolving\u001b[22m\u001b[39m package versions...\n",
      "\u001b[32m\u001b[1m  Updating\u001b[22m\u001b[39m `~/.julia/environments/v1.3/Project.toml`\n",
      "\u001b[90m [no changes]\u001b[39m\n",
      "\u001b[32m\u001b[1m  Updating\u001b[22m\u001b[39m `~/.julia/environments/v1.3/Manifest.toml`\n",
      "\u001b[90m [no changes]\u001b[39m\n"
     ]
    },
    {
     "name": "stderr",
     "output_type": "stream",
     "text": [
      "┌ Info: Precompiling ForwardDiff [f6369f11-7733-5829-9624-2563aa707210]\n",
      "└ @ Base loading.jl:1273\n",
      "┌ Info: Precompiling DifferentialEquations [0c46a032-eb83-5123-abaf-570d42b7fbaa]\n",
      "└ @ Base loading.jl:1273\n"
     ]
    }
   ],
   "source": [
    "# Imports\n",
    "import Pkg;\n",
    "Pkg.add(\"Plots\");\n",
    "Pkg.add(\"Measurements\");\n",
    "Pkg.add(\"Roots\");\n",
    "Pkg.add(\"Unitful\");\n",
    "Pkg.add(\"QuadGK\");\n",
    "Pkg.add(\"PhysicalConstants\");\n",
    "Pkg.add(\"ForwardDiff\");\n",
    "Pkg.add(\"LaTeXStrings\");\n",
    "Pkg.add(\"DifferentialEquations\");\n",
    "\n",
    "using Measurements;\n",
    "using Plots;\n",
    "using Roots;\n",
    "using Unitful;\n",
    "using QuadGK;\n",
    "using PhysicalConstants.CODATA2018;\n",
    "using ForwardDiff;\n",
    "using LaTeXStrings;\n",
    "using DifferentialEquations;"
   ]
  },
  {
   "cell_type": "markdown",
   "metadata": {},
   "source": [
    "Our laser model consists of the pair of coupled ordinary differential equations\n",
    "\n",
    "<div class=\"alert alert-block alert-warning\">\n",
    "<font color=blue>\n",
    "$$\\ale{\n",
    "\\frac{dn}{dt}&=\\gamma nN-\\kappa n\\tag{Photons}\\\\\n",
    "\\frac{dN}{dt}&=-\\gamma nN -\\lambda N + p\\tag{Excited atoms}\n",
    "}$$\n",
    "</font>\n",
    "</div>\n",
    "\n",
    "where \n",
    "\n",
    "- $N(t)$ is the number of atoms in the excited state.\n",
    "- $n(t)$ is the number of photons in the laser cavity mode.\n",
    "- $\\gamma$ is the gain rate for **stimulated emission** into the cavity. This is the coherent process that creates laser light.\n",
    "- $\\kappa$ is the decay rate due to loss of photons through the mirror, scattering, etc.\n",
    "- $\\lambda$ is the decay rate due to atoms **spontaneously emitting** a photon.\n",
    "- $p$ is the pump rate constant. "
   ]
  },
  {
   "cell_type": "markdown",
   "metadata": {},
   "source": [
    "# A. Steady states\n",
    "1.   \n",
    "   Solving the pair of coupled ordinary differential equations for our laser model, we get the following solutions: when $n = 0$, $N = \\frac{p}{\\lambda}$ and when $n = \\frac{p}{\\kappa} - \\frac{\\lambda}{\\gamma}$, $N = \\frac{\\kappa}{\\gamma}$\n",
    "   \n",
    "   The laser starts lasing when $n \\geq 0$, hence, the lasing threshold, $p_c$, is:\n",
    "   \n",
    "   $\n",
    "   \\begin{align}\n",
    "   n &= 0\\\\\n",
    "   \\frac{p_c}{\\kappa} &= \\frac{\\lambda}{\\gamma}\\\\\n",
    "   p_c &= \\frac{\\lambda}{\\gamma} \\kappa\\\\\n",
    "   \\end{align}$\n",
    "   \n",
    "   The steady state solutions above the lasing threshold in terms of $p_c$ is: when $n = \\frac{p - p_c}{\\kappa}$, $N = \\frac{\\kappa}{\\gamma}$."
   ]
  },
  {
   "cell_type": "markdown",
   "metadata": {},
   "source": [
    "2."
   ]
  },
  {
   "cell_type": "code",
   "execution_count": 9,
   "metadata": {},
   "outputs": [],
   "source": [
    "λ = 0.03;\n",
    "κ = 0.01;\n",
    "γ = 10^(-4);\n",
    "p_c = (λ / γ) / κ;\n",
    "#N = [N(p) = p / λ, N(p) = κ / γ];\n",
    "#n = [n(p) = 0, n(p) = (p -1) / κ];\n",
    "\n",
    "n(p) = (8*π)/(λ^5) * (1)/(exp(λ^(-1)) - 1))\n",
    "plot(n, [p for p in collect(0:0.5:3)]);"
   ]
  },
  {
   "cell_type": "markdown",
   "metadata": {},
   "source": [
    "3."
   ]
  },
  {
   "cell_type": "code",
   "execution_count": null,
   "metadata": {},
   "outputs": [],
   "source": []
  }
 ],
 "metadata": {
  "kernelspec": {
   "display_name": "Julia 1.3.1",
   "language": "julia",
   "name": "julia-1.3"
  },
  "language_info": {
   "file_extension": ".jl",
   "mimetype": "application/julia",
   "name": "julia",
   "version": "1.3.1"
  }
 },
 "nbformat": 4,
 "nbformat_minor": 4
}
