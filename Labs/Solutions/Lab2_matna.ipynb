{
 "cells": [
  {
   "cell_type": "markdown",
   "metadata": {},
   "source": [
    "$$\n",
    "\\def\\I{{\\rm i}}\n",
    "\\def\\qqqquad{\\qquad\\qquad}\n",
    "\\def\\qfor{\\qquad\\hbox{for}\\qquad}\n",
    "\\def\\qwhere{\\qquad\\hbox{where}\\qquad}\n",
    "\\def\\ale#1{\\begin{align}#1\\end{align}}\n",
    "\\def\\em{\\epsilon_m}\n",
    "\\def\\unit#1{{\\rm #1}}\n",
    "\\def\\com#1{\\color{blue}{\\textrm{#1}}} \n",
    "$$\n",
    "# Lab 2: Uncertainties and Dimensions\n",
    "\n",
    "- Submit your lab by dropping this notebook with your answers into `dropbox`. \n",
    "\n",
    "- __Rename your notebook to__ `Lab2_yourLoginName.ipynb` before submitting it by dragging it onto the dropbox folder. You can confirm submission (and resubmit up to the deadline), by repreating the process. If you are asked whether to replace the file, this confirms it has been successfully submitted to the dropbox. __Please confirm your submission__.\n",
    "\n",
    "- __Due:__ 1pm Wednesday 11th March.\n",
    "\n",
    "$\\com{Please leave this command for marker's comments}$"
   ]
  },
  {
   "cell_type": "code",
   "execution_count": null,
   "metadata": {
    "jupyter": {
     "source_hidden": true
    }
   },
   "outputs": [],
   "source": [
    "# Imports\n",
    "import Pkg;\n",
    "Pkg.add(\"Plots\");\n",
    "Pkg.add(\"Measurements\");\n",
    "Pkg.add(\"Roots\");\n",
    "Pkg.add(\"Unitful\");\n",
    "Pkg.add(\"QuadGK\");\n",
    "Pkg.add(\"PhysicalConstants\");\n",
    "Pkg.add(\"ForwardDiff\");\n",
    "Pkg.add(\"LaTeXStrings\");\n",
    "\n",
    "using Measurements;\n",
    "using Plots;\n",
    "using Roots;\n",
    "using Unitful;\n",
    "using QuadGK;\n",
    "using PhysicalConstants.CODATA2018;\n",
    "using ForwardDiff;\n",
    "using LaTeXStrings;"
   ]
  },
  {
   "cell_type": "markdown",
   "metadata": {},
   "source": [
    "# A. Vertical motion"
   ]
  },
  {
   "cell_type": "markdown",
   "metadata": {},
   "source": [
    "1. The equation expressing the condition that $y(t) = h$ is $y(t) = - \\frac{1}{2}gt^2 + v_0t  = h$. This condition in the form $F(t)=0$ is $F(t) =  - \\frac{1}{2}gt^2 + v_0t - h = 0$ \n",
    "\n",
    "\n",
    "2. The roots of the equation are given by $\\frac{-v_0 \\ \\pm \\ \\sqrt{v_0^2 - 2gh}}{-g}$. The physical constraints are that the initial velocity has to be greater than or equal to $\\sqrt{2gh}$. This means that if the initial velocity of the ball is less than $\\sqrt{2gh}$, the ball will not reach the given height, $h$.\n",
    "\n",
    "\n",
    "3. The following constants are defined\n",
    "```julia\n",
    "g = 9.8 ± 0.014\n",
    "m = 23 ± 0.0037\n",
    "v_0 = 21 ± 0.1\n",
    "h = 20 ± 0.4\n",
    "y_0 = 0.0 ± 0.018\n",
    "```\n",
    "\n",
    "\n",
    "4. The roots are at approximately 1.5 and 2.8. The following code is used to generate a plot of $y(t)$ with uncertainties over time, $t$, along with a plot of a line of constant height, $h$, including its uncertainty.\n",
    "```julia\n",
    "thyme = collect(0:0.5:10) # Generate a vector with values from 0 to 10 in increments of 0.5\n",
    "y(t) = -1/2*g*t^2 + v_0*t # Equation for y(t)\n",
    "plot(y, [t ± 0.1 for t in thyme], size = (1200, 800), \n",
    "                                  legend=true, title = \"Graph for A.4\",\n",
    "                                  label=L\"y(t) = -0.5(gt^2) + v_0t\") # Plot y(t) against time\n",
    "plot!([h ± 0.4], seriestype=\"hline\", label=L\"y(t) = 20\") # Line of constant height h\n",
    "# Plot attributes\n",
    "xlabel!(latexstring(\"\\\\mathrm{Time,} \\\\ t \\\\ (\\\\mathrm{s})\"))\n",
    "ylabel!(latexstring(\"\\\\mathrm{Height,} \\\\ h \\\\ (\\\\mathrm{m})\"))\n",
    "xlims!(0, 7)\n",
    "ylims!(-20, 60)\n",
    "```\n",
    "\n",
    "\n",
    "5. The roots of $y(t)$ found using the quadratic formula including uncertainties are 1.429 ± 0.061 and 2.857 ± 0.071. The code below was used to determine the roots.\n",
    "```julia\n",
    "discriminant(a, b, c) = b^2 - 4*a*c # Find the discriminant of a quadratic equation\n",
    "findRoots(a, b, c) = ( 1 / (2*a) ) * ( (-b) * [1, 1] + sqrt( discriminant(a, b, c) ) * [1, -1] ) # Find the roots of a quadratic equation\n",
    "findRoots(-1/2*g, v_0, -h) # Find the roots of F(t) = 0\n",
    "```\n",
    "\n",
    "\n",
    "6. The equation of the curve in the form $F(t) = 0$ is $F(t) =  - \\frac{1}{2}gt^2 + v_0t - h = 0$. The code below was used to generate a plot $F(t)$ against time, $t$. This approach is giving consistent results with the previous plot of $y(t)$ as the roots are approximately 1.5 and 2.8.\n",
    "```julia\n",
    "thyme = collect(0:0.5:10) # Generate a vector with values from 0 to 10 in increments of 0.5\n",
    "F(t) = (-1/2) * g * t^2 + v_0 * t - h # Equation for F(t) = 0\n",
    "plot(F, [t ± 0.1 for t in thyme], size = (1200, 800), \n",
    "                                  legend=true, \n",
    "                                  title = \"Graph for A.6\", \n",
    "                                  label = L\"F(t) = -0.5(gt^2) + v_0t - h\") # Plot F(t) = 0\n",
    "# Plot attributes\n",
    "xlabel!(latexstring(\"\\\\mathrm{Time,} \\\\ t \\\\ (\\\\mathrm{s})\"))\n",
    "ylabel!(latexstring(\"\\\\mathrm{Height,} \\\\ h \\\\ (\\\\mathrm{m})\"))\n",
    "xlims!(0, 7)\n",
    "ylims!(-20, 60)\n",
    "```\n",
    "\n",
    "\n",
    "7. The solutions to $F(t) = 0$ found numerically are 1.429 ± 0.061 and 2.857 ± 0.071. The errors reported by the root finding algorithm agree with those found using the quadratic formula, as expected.\n",
    "```julia\n",
    "F(t) = -1/2*g*t^2 + v_0*t - h # Equation for F(t) = 0\n",
    "numericalRoots = find_zero.(F, ((1 ± 0.1, 2 ± 0.1), (2.5 ± 0.1, 3 ± 0.1))) # Find the roots numerically\n",
    "```"
   ]
  },
  {
   "cell_type": "code",
   "execution_count": null,
   "metadata": {
    "jupyter": {
     "source_hidden": true
    }
   },
   "outputs": [],
   "source": [
    "# Code for A.3\n",
    "g = 9.8 ± 0.014;\n",
    "m = 23 ± 0.0037;\n",
    "v_0 = 21 ± 0.1;\n",
    "h = 20 ± 0.4;\n",
    "y_0 = 0.0 ± 0.018;"
   ]
  },
  {
   "cell_type": "code",
   "execution_count": null,
   "metadata": {
    "jupyter": {
     "source_hidden": true
    }
   },
   "outputs": [],
   "source": [
    "# Code for A.4\n",
    "thyme = collect(0:0.5:10) # Generate a vector with values from 0 to 10 in increments of 0.5\n",
    "y(t) = -1/2*g*t^2 + v_0*t # Equation for y(t)\n",
    "plot(y, [t ± 0.1 for t in thyme], size = (1200, 800), \n",
    "                                  legend=true, title = \"Graph for A.4\",\n",
    "                                  label=L\"y(t) = -0.5(gt^2) + v_0t\") # Plot y(t) against time\n",
    "plot!([h ± 0.4], seriestype=\"hline\", label=L\"y(t) = 20\") # Line of constant height h\n",
    "# Plot attributes\n",
    "xlabel!(latexstring(\"\\\\mathrm{Time,} \\\\ t \\\\ (\\\\mathrm{s})\"))\n",
    "ylabel!(latexstring(\"\\\\mathrm{Height,} \\\\ h \\\\ (\\\\mathrm{m})\"))\n",
    "xlims!(0, 7)\n",
    "ylims!(-20, 60)\n",
    "\n",
    "# Code for A.5\n",
    "discriminant(a, b, c) = b^2 - 4*a*c # Find the discriminant of a quadratic equation\n",
    "findRoots(a, b, c) = ( 1 / (2*a) ) * ( (-b) * [1, 1] + sqrt( discriminant(a, b, c) ) * [1, -1] ) # Find the roots of a quadratic equation\n",
    "findRoots(-1/2*g, v_0, -h) # Find the roots of F(t) = 0"
   ]
  },
  {
   "cell_type": "code",
   "execution_count": null,
   "metadata": {
    "jupyter": {
     "source_hidden": true
    }
   },
   "outputs": [],
   "source": [
    "# Code for A.6\n",
    "thyme = collect(0:0.5:10) # Generate a vector with values from 0 to 10 in increments of 0.5\n",
    "F(t) = (-1/2) * g * t^2 + v_0 * t - h # Equation for F(t) = 0\n",
    "plot(F, [t ± 0.1 for t in thyme], size = (1200, 800), \n",
    "                                  legend=true, \n",
    "                                  title = \"Graph for A.6\", \n",
    "                                  label = L\"F(t) = -0.5(gt^2) + v_0t - h\") # Plot F(t) = 0\n",
    "# Plot attributes\n",
    "xlabel!(latexstring(\"\\\\mathrm{Time,} \\\\ t \\\\ (\\\\mathrm{s})\"))\n",
    "ylabel!(latexstring(\"\\\\mathrm{Height,} \\\\ h \\\\ (\\\\mathrm{m})\"))\n",
    "xlims!(0, 7)\n",
    "ylims!(-20, 60)"
   ]
  },
  {
   "cell_type": "markdown",
   "metadata": {},
   "source": [
    "# B. Blackbody radiation\n",
    "1. \n",
    "   Let $\\lambda = \\lambda_0 \\bar{\\lambda}$.  \n",
    "   So, $\\frac{hc}{\\lambda k_B T} = \\frac{hc}{\\lambda_0 \\bar{\\lambda} k_B T}$.   \n",
    "   Then, let $\\lambda_0 = \\frac{k_B T}{hc}$.  \n",
    "   Hence, our resulting dimensionless equation has the form: $\\frac{hc}{\\lambda k_B T} = \\frac{hc}{\\lambda_0 \\bar{\\lambda} k_B T} = \\frac{1}{\\bar{\\lambda}}$.    \n",
    "   \n",
    "   Note: In this part, $\\lambda \\ne \\lambda_0 \\bar{\\lambda}$.  \n",
    "   Also, the units of the wavelength, $\\lambda$, is metres.  \n",
    "   Let $u_0 \\bar{u} = \\frac{8\\pi}{\\lambda^5} hc$.   \n",
    "   Then, let $u_0 = \\frac{1}{hc}$.  \n",
    "   Note: The units of $u_0$, $[u_0] = \\frac{m^5}{[h][c]}$.  \n",
    "   Thus, $\\bar{u} = \\frac{8\\pi}{\\lambda^5}$  \n",
    "   \n",
    "   At long last, the dimensionless equation for blackbody radiation is:\n",
    "   $\\bar{u}(\\bar{\\lambda}) = \\frac{8\\pi}{\\bar{\\lambda^5}} \\frac{1}{ \\mathrm{exp}(\\bar{\\lambda^{-1}}) - 1 }$\n",
    "   \n",
    "   A plot of $\\bar{u}(\\bar{\\lambda})$ against $\\bar{\\lambda}$ was then generated using the code below\n",
    "```julia\n",
    "wavelengths = collect(0:50:300)\n",
    "u(λ) = (8*π)/(λ^5) * (1)/(exp(λ^(-1)) - 1)\n",
    "plot(u, [λ for λ in wavelengths], size = (1200, 800), \n",
    "                                  legend = true, \n",
    "                                  title = \"Graph for B.1\", \n",
    "                                  label=L\"\\bar{u}(\\bar{\\lambda}) = \\frac{8\\pi}{\\bar{\\lambda^5}} \\frac{1}{ \\mathrm{exp}(\\bar{\\lambda^{-1}}) - 1 }\")\n",
    "xlabel!(latexstring(\"\\\\mathrm{Wavelength,} \\\\ \\\\bar{\\\\lambda}\"))\n",
    "ylabel!(latexstring(\"\\\\mathrm{Total \\\\ radiant \\\\ energy \\\\ per \\\\ unit \\\\ volume,} \\\\  \\\\bar{u}(\\\\bar{\\\\lambda})\"))\n",
    "```\n",
    "\n",
    "\n",
    "2. \n",
    "   The wavelength, $\\lambda_{max}$, at which maximum radiation energy density occurs is given by\n",
    "   $\\frac{\\mathrm{d}}{\\mathrm{d\\lambda}} \\left( u(\\lambda) \\right) = \\frac{-10\\lambda \\ + \\ \\coth{\\frac{1}{2\\lambda}} + 1}{\\lambda} = 0$   \n",
    "   \n",
    "   \n",
    "3. \n",
    "   The code below was used to find the maximum radiation energy. The function $u(\\lambda)$ in the code below is the derivative of $\\bar{u}(\\bar{\\lambda})$\n",
    "   ```julia\n",
    "   u(λ) = (-10*λ + coth(1/(2*λ)) + 1)/λ\n",
    "   find_zero(u, (0, 1))\n",
    "   ```\n",
    "   \n",
    "   \n",
    "4. \n",
    "   The total radiant energy per unit volume in dimensionless units to 8 significant figures found by numerically integrating $\\bar{u}(\\bar{\\lambda})$ was determined to be 163.2105 $\\pm$ 1.0$\\mathrm{e^{-7}}$ in the interval $[0, 201]$. The interval was determined by finding the difference between the total radiant energy to 8 significant figures in the interval $[0, n]$ and $[0, n - s]$ where $n = 51, 101, 151, ... , 2001$ and the step size, $s = 50$. The code below shows the implementation of the method. \n",
    "   ```julia\n",
    "   totalEnergy = 0 # Holds the final total radiant energy per unit volume in dimensionless units along with the error\n",
    "   step = 50 # Step size\n",
    "   intervalEnd = 0 # The final interval for which the difference is 0\n",
    "   for n in collect(51:step:2001)\n",
    "       currentStep, error = quadgk(x -> ((8*pi)/x^5)*(1/(exp(1/x) - 1)), 0, n, rtol=1e-8)\n",
    "       oneStepBack = round(quadgk(x -> ((8*pi)/x^5)*(1/(exp(1/x) - 1)), 0, n - step, rtol=1e-8)[1], sigdigits=8)\n",
    "       if (round(currentStep[1], sigdigits=8) - oneStepBack) == 0\n",
    "           totalEnergy = (round(currentStep, sigdigits=8), round(error, sigdigits=1))\n",
    "           intervalEnd = n\n",
    "           break\n",
    "       end\n",
    "   end\n",
    "   ```"
   ]
  },
  {
   "cell_type": "code",
   "execution_count": null,
   "metadata": {
    "jupyter": {
     "source_hidden": true
    }
   },
   "outputs": [],
   "source": [
    "# Code for B.1\n",
    "wavelengths = collect(0:50:300)\n",
    "u(λ) = (8*π)/(λ^5) * (1)/(exp(λ^(-1)) - 1)\n",
    "plot(u, [λ for λ in wavelengths], size = (1200, 800), \n",
    "                                  legend = true, \n",
    "                                  title = \"Graph for B.1\", \n",
    "                                  label=L\"\\bar{u}(\\bar{\\lambda}) = \\frac{8\\pi}{\\bar{\\lambda^5}} \\frac{1}{ \\mathrm{exp}(\\bar{\\lambda^{-1}}) - 1 }\")\n",
    "\n",
    "xlabel!(latexstring(\"\\\\mathrm{Wavelength,} \\\\ \\\\bar{\\\\lambda}\"))\n",
    "ylabel!(latexstring(\"\\\\mathrm{Total \\\\ radiant \\\\ energy \\\\ per \\\\ unit \\\\ volume,} \\\\  \\\\bar{u}(\\\\bar{\\\\lambda})\"))"
   ]
  },
  {
   "cell_type": "code",
   "execution_count": null,
   "metadata": {
    "jupyter": {
     "source_hidden": true
    }
   },
   "outputs": [],
   "source": []
  }
 ],
 "metadata": {
  "kernelspec": {
   "display_name": "Julia 1.3.1",
   "language": "julia",
   "name": "julia-1.3"
  },
  "language_info": {
   "file_extension": ".jl",
   "mimetype": "application/julia",
   "name": "julia",
   "version": "1.3.1"
  }
 },
 "nbformat": 4,
 "nbformat_minor": 4
}
