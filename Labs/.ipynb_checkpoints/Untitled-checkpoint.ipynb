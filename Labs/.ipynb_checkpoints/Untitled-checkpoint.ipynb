{
 "cells": [
  {
   "cell_type": "markdown",
   "metadata": {},
   "source": [
    "$$\n",
    "\\def\\I{{\\rm i}}\n",
    "\\def\\qqqquad{\\qquad\\qquad}\n",
    "\\def\\qfor{\\qquad\\hbox{for}\\qquad}\n",
    "\\def\\qwhere{\\qquad\\hbox{where}\\qquad}\n",
    "\\def\\ale#1{\\begin{align}#1\\end{align}}\n",
    "\\def\\em{\\epsilon_m}\n",
    "\\def\\unit#1{{\\rm #1}}\n",
    "\\def\\com#1{\\color{blue}{\\textrm{#1}}} \n",
    "$$\n",
    "# Lab3: Dynamical Systems\n",
    "\n",
    "- Two weeks. __Due:__ 1pm Wednesday 25th March.\n",
    "\n",
    "- Submit your lab by dropping this notebook with your answers into `dropbox` on `pleiades`. \n",
    "\n",
    "- __Rename your notebook to__ `Lab3_yourLoginName.ipynb` before submitting it by dragging it onto the dropbox folder. You can confirm submission (and resubmit up to the deadline), by repreating the process. If you are asked whether to replace the file, this confirms it has been successfully submitted to the dropbox. __Please confirm your submission__.\n",
    "\n",
    "$\\com{Please leave this command for marker's comments}$\n",
    "\n",
    "---"
   ]
  },
  {
   "cell_type": "code",
   "execution_count": null,
   "metadata": {},
   "outputs": [],
   "source": []
  }
 ],
 "metadata": {
  "kernelspec": {
   "display_name": "Julia 1.3.1",
   "language": "julia",
   "name": "julia-1.3"
  },
  "language_info": {
   "file_extension": ".jl",
   "mimetype": "application/julia",
   "name": "julia",
   "version": "1.3.1"
  }
 },
 "nbformat": 4,
 "nbformat_minor": 4
}
