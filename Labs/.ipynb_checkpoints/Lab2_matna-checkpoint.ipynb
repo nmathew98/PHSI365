{
 "cells": [
  {
   "cell_type": "markdown",
   "metadata": {},
   "source": [
    "$$\n",
    "\\def\\I{{\\rm i}}\n",
    "\\def\\qqqquad{\\qquad\\qquad}\n",
    "\\def\\qfor{\\qquad\\hbox{for}\\qquad}\n",
    "\\def\\qwhere{\\qquad\\hbox{where}\\qquad}\n",
    "\\def\\ale#1{\\begin{align}#1\\end{align}}\n",
    "\\def\\em{\\epsilon_m}\n",
    "\\def\\unit#1{{\\rm #1}}\n",
    "\\def\\com#1{\\color{blue}{\\textrm{#1}}} \n",
    "$$\n",
    "# Lab2: Uncertainties and Dimensions\n",
    "\n",
    "- Submit your lab by dropping this notebook with your answers into `dropbox`. \n",
    "\n",
    "- __Rename your notebook to__ `Lab2_yourLoginName.ipynb` before submitting it by dragging it onto the dropbox folder. You can confirm submission (and resubmit up to the deadline), by repreating the process. If you are asked whether to replace the file, this confirms it has been successfully submitted to the dropbox. __Please confirm your submission__.\n",
    "\n",
    "- __Due:__ 1pm Wednesday 11th March.\n",
    "\n",
    "$\\com{Please leave this command for marker's comments}$"
   ]
  },
  {
   "cell_type": "markdown",
   "metadata": {},
   "source": [
    "# A. Vertical motion\n",
    "A Ball is thrown vertically upwards against gravity with an initial velocity $v_0$. In this problem you will find the time $t$ at which the ball reaches a given height $h$. \n",
    "\n",
    "The equation of motion is (which way is \"up\" here?)\n",
    "\n",
    "$$ \\frac{d^2y}{dt^2}=-g,$$\n",
    "\n",
    "and together with the initial velocity $v_0$, and position $y_0$, this information specifies the solution. Taking the initial time to be $t=0$, we have $v(t)=v_0-gt$, and hence\n",
    "\n",
    "$$y(t)=y_0+v_0t-\\tfrac{1}{2}gt^2.$$\n",
    "\n",
    "Take $y_0=0$ as your reference point from which the mass is launched.\n",
    "\n",
    "1. Find an equation expressing the condition that $y(t)=h$, and write it in the form $F(t)=0$. \n",
    "1. Solve the quadratic equation for the roots of the equation, and determine any constraints (physical or otherwise) on their existence. Find the minimum value of $v_0$ for which solutions exist. What does this mean physically? \n",
    "1. We are going to use the [Measurements](https://github.com/JuliaPhysics/Measurements.jl) package (Lecture 4) to solve this problem for particular parameters and their uncertainties: \n",
    "    - $g=9.81\\pm 0.014\\textrm{ms}^{-2}$\n",
    "    - $m=23\\pm 0.0037 \\textrm{kg}$\n",
    "    - $v_0=21\\pm 0.1 \\textrm{ms}^{-1}$\n",
    "    - $h=20 \\pm 0.4\\textrm{m}$\n",
    "    - $y_0=0.0 \\pm 0.018\\textrm{m}$\n",
    "    \n",
    "    Load the package and define the parameters. You can type `\\pm<tab>` to get the $\\pm$ symbol for entering uncertainties. \n",
    "1. Use the syntax [described on this page](https://juliaphysics.github.io/Measurements.jl/stable/examples/#Integration-with-Plots.jl-1) to plot $y(t)$ with uncertainties over time. Assume your clock recording the times associated with each observed height is only accurate to $\\pm 0.1\\textrm{s}$. Plot the height of the mass as a function of time, together with errorbars that show the estimated uncertainty according to linear error propagation theory. On the same plot, show a line of constant height $h$ for the value shown above including error. Limit your plot axes to the range $0<x<7$, $-20<y<60$ \\[e.g. `xlims!(0,5)` will modify the current plot\\]. Estimate the roots by zooming in on the points where the lines cross (You can just use `xlims!`, `ylims!` for this).\n",
    "1. Evaluate your solutions found using the quadratic formula, and report the values including uncertainties. \n",
    "1. Express the equation for the curve crossing in the form $F(t)=0$, and plot $F(t)$ versus $t$ to get an estimate for where the solutions (roots) lie. You should be able to get quite accurate solutions by enlarging regions of the plot. Is this graphical approach giving results consistent with your previous plot of $y(t)$?\n",
    "1. To find solutions numerically you will need to use a **root finding** algorithm. Use the julia package [Roots](https://github.com/JuliaMath/Roots.jl) (you may need to install it) to find as many solutions for $t$ as roots of $F(t)$ as you can, for the chosen parameters. Do the errors reported by rootfinding agree with those of your exact solution? Is this what you expect?\n",
    "\n",
    "__Hint:__ You will need to \"bracket\" each root, by providing an interval in which the root finder will search.\n",
    "\n",
    "**Notes:** \n",
    "1. You should use the equations in SI units for this part of the lab, but you shouldn't explicitly enter units (i.e. don't worry about using `Unitful`).\n",
    "2. Your notebook should include a clear statement of the equations used, and a concise discussion that interprets your findings. Do your answers make sense? How did you check your results?"
   ]
  },
  {
   "cell_type": "code",
   "execution_count": 21,
   "metadata": {},
   "outputs": [
    {
     "name": "stdout",
     "output_type": "stream",
     "text": [
      "\u001b[32m\u001b[1m Resolving\u001b[22m\u001b[39m package versions...\n",
      "\u001b[32m\u001b[1m  Updating\u001b[22m\u001b[39m `~/.julia/environments/v1.3/Project.toml`\n",
      "\u001b[90m [no changes]\u001b[39m\n",
      "\u001b[32m\u001b[1m  Updating\u001b[22m\u001b[39m `~/.julia/environments/v1.3/Manifest.toml`\n",
      "\u001b[90m [no changes]\u001b[39m\n"
     ]
    },
    {
     "data": {
      "text/latex": [
       "$0.0 \\pm 0.018$"
      ],
      "text/plain": [
       "0.0 ± 0.018"
      ]
     },
     "execution_count": 21,
     "metadata": {},
     "output_type": "execute_result"
    }
   ],
   "source": [
    "# Code for A(2)\n",
    "discriminant(a, b, c) = b^2 - 4*a*c\n",
    "\n",
    "function findMinInitialVelocity(g, v, h) \n",
    "    v_0 = v\n",
    "    \n",
    "    while discriminant(g, v, h) < 0\n",
    "        v_0 = v_0 + 1\n",
    "    end\n",
    "    \n",
    "    return v_0\n",
    "end\n",
    "\n",
    "# Code for A(3)\n",
    "import Pkg; Pkg.add(\"Measurements\")\n",
    "using Measurements\n",
    "g = measurement(9.8, 0.014)\n",
    "m = measurement(23, 0.0037)\n",
    "v_0 = measurement(21, 0.1)\n",
    "h = measurement(20, 0.4)\n",
    "y_0 = measurement(0.0, 0.018)"
   ]
  },
  {
   "cell_type": "markdown",
   "metadata": {},
   "source": [
    "# A. Answers\n",
    "1. The equation expressing the condition that $y(t) = h$ is $y(t) = - \\frac{1}{2}gt^2 + v_0t  = h$. This condition in the form $F(t)=0$ is $F(t) =  - \\frac{1}{2}gt^2 + v_0t - h = 0$ \n",
    "\n",
    "2. The roots of the equation are: $\\frac{-v_0 \\ \\pm \\ \\sqrt{v_0^2 - 2gh}}{-g}$. The physical constraints are that the initial velocity has to be greater than or equal to $\\sqrt{2gh}$."
   ]
  },
  {
   "cell_type": "markdown",
   "metadata": {},
   "source": [
    "# B. Blackbody radiation\n",
    "\n",
    "In this part of the laboratory you will study blackbody radiation. We require root finding package [Roots](https://github.com/JuliaMath/Roots.jl), and numerical integrator [QuadGK](https://github.com/JuliaMath/QuadGK.jl).\n",
    "\n",
    "For blackbody radiation, the radiant energy per unit volume in the wavelength range $\\lambda$ to $\\lambda+d\\lambda$ is\n",
    "$$ \n",
    "u(\\lambda)d\\lambda =\\frac{8\\pi}{\\lambda^5}\\frac{hc}{\\exp{(hc/\\lambda k_B T)}-1}d\\lambda\n",
    "$$\n",
    "where $T$ is the temperature of the body, $c$ is the speed of light, $h$ is Plank's constant, and $k_B$ is Boltzmann's constant. \n",
    "\n",
    "1. Write this equation in an appropriate choice of dimensionless units. Your aim is to introduce units for each dimensional quantity, e.g. $\\lambda = x_0\\bar \\lambda$, and then make a choice of units that simplifies the expression. Show concisely how you arrived at the dimensionless form of the equations. Plot $\\bar u(\\bar\\lambda)$ versus $\\bar\\lambda$ over an interval of $\\bar\\lambda$ that shows the essential features of the function.\n",
    "\n",
    "1. Derive the equation that allows you to determine the wavelength $\\lambda_{\\rm max}$ at which the maximum radiation energy density occurs [__Hint:__ recall you can find the peak of a function by differentiating and finding where that is zero]. \n",
    "\n",
    "1. Find the location of the peak using root-finding.\n",
    "\n",
    "1. Find the total radiant energy per unit volume in dimensionless units to 8 significant figures by numerically integrating $\\bar u(\\bar\\lambda)$ over a suitable interval of wavelengths. What is the interval? [Hint: pay attention to the error in the result]. "
   ]
  },
  {
   "cell_type": "code",
   "execution_count": null,
   "metadata": {},
   "outputs": [],
   "source": []
  }
 ],
 "metadata": {
  "kernelspec": {
   "display_name": "Julia 1.3.1",
   "language": "julia",
   "name": "julia-1.3"
  },
  "language_info": {
   "file_extension": ".jl",
   "mimetype": "application/julia",
   "name": "julia",
   "version": "1.3.1"
  }
 },
 "nbformat": 4,
 "nbformat_minor": 4
}
